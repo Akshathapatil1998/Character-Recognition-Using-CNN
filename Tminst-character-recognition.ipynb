{
 "cells": [
  {
   "cell_type": "markdown",
   "id": "c13adf5f",
   "metadata": {
    "papermill": {
     "duration": 0.014164,
     "end_time": "2023-04-16T20:18:47.637524",
     "exception": false,
     "start_time": "2023-04-16T20:18:47.623360",
     "status": "completed"
    },
    "tags": []
   },
   "source": []
  },
  {
   "cell_type": "markdown",
   "id": "d8e5e3c3",
   "metadata": {
    "papermill": {
     "duration": 0.015298,
     "end_time": "2023-04-16T20:18:47.665833",
     "exception": false,
     "start_time": "2023-04-16T20:18:47.650535",
     "status": "completed"
    },
    "tags": []
   },
   "source": [
    "# What is Handwritten Digit Recognition?\n",
    "Handwritten digit recognition is the ability of computers to recognize human handwritten digits. It is a hard task for the machine because handwritten digits are not perfect and can vary from person to person. Handwritten digit recognition is the solution to this problem which uses the image of a digit and recognizes the digit present in the image."
   ]
  },
  {
   "cell_type": "markdown",
   "id": "0c93cf11",
   "metadata": {
    "papermill": {
     "duration": 0.012979,
     "end_time": "2023-04-16T20:18:47.695350",
     "exception": false,
     "start_time": "2023-04-16T20:18:47.682371",
     "status": "completed"
    },
    "tags": []
   },
   "source": [
    "# About the Dataset\n",
    "\n",
    "This dataset is inspired by the MNIST database for handwritten digits. It consists of images representing digits from 0-9 produced using 2,990 google fonts files.\n",
    "\n",
    "The dataset consists of a single file:\n",
    "\n",
    "TMNIST_Data.csv\n",
    "\n",
    "This file consists of 29,900 examples with labels and font names. Each row contains 786 elements: the first element represents the font name (ex-Chivo-Italic, Sen-Bold), the second element represents the label (a number from 0-9) and the remaining 784 elements represent the grayscale pixel values (from 0-255) for the 28x28 pixel image.\n",
    "\n"
   ]
  },
  {
   "cell_type": "markdown",
   "id": "b14ac3f1",
   "metadata": {
    "papermill": {
     "duration": 0.013704,
     "end_time": "2023-04-16T20:18:47.729023",
     "exception": false,
     "start_time": "2023-04-16T20:18:47.715319",
     "status": "completed"
    },
    "tags": []
   },
   "source": [
    "# What is Convolutional Neural Network\n",
    "\n",
    "A Convolutional Neural Network (ConvNet/CNN) is a Deep Learning algorithm that can take in an input image, assign importance (learnable weights and biases) to various aspects/objects in the image, and be able to differentiate one from the other. The pre-processing required in a ConvNet is much lower as compared to other classification algorithms. While in primitive methods filters are hand-engineered, with enough training, ConvNets have the ability to learn these filters/characteristics.\n",
    "\n",
    "A ConvNet's architecture is influenced by how the Visual Cortex is organised and is similar to the connectivity network of neurons in the human brain. While there are many complex CNN architectures like Resnet, Inception V3 and so on designed to achieve state-of-the-art performance on real world images, in this tutorial, we will create a custom Convolutional Neural Network Architecture using Pytorch.\n",
    "\n",
    "We will be training and testing our model on the Typeface MNIST Dataset, which consists of over 29,000 samples of images of 0-9 digits in various fonts along with their labels."
   ]
  },
  {
   "cell_type": "markdown",
   "id": "fcd2db8a",
   "metadata": {
    "papermill": {
     "duration": 0.017203,
     "end_time": "2023-04-16T20:18:47.762387",
     "exception": false,
     "start_time": "2023-04-16T20:18:47.745184",
     "status": "completed"
    },
    "tags": []
   },
   "source": [
    "#                          Architecture of Neural Network\n",
    "\n",
    "<img src= \"https://upload.wikimedia.org/wikipedia/commons/b/b6/Artificial_neural_network.png\" alt =\"Titanic\" style='width: 700px;'>\n",
    "\n"
   ]
  },
  {
   "cell_type": "markdown",
   "id": "f13fa3ba",
   "metadata": {
    "papermill": {
     "duration": 0.012388,
     "end_time": "2023-04-16T20:18:47.787545",
     "exception": false,
     "start_time": "2023-04-16T20:18:47.775157",
     "status": "completed"
    },
    "tags": []
   },
   "source": []
  },
  {
   "cell_type": "markdown",
   "id": "06ed6f07",
   "metadata": {
    "papermill": {
     "duration": 0.012355,
     "end_time": "2023-04-16T20:18:47.812698",
     "exception": false,
     "start_time": "2023-04-16T20:18:47.800343",
     "status": "completed"
    },
    "tags": []
   },
   "source": [
    "This notebook is further divided into the following sections.\n",
    "\n",
    "- Importing required Libraries\n",
    "- Loading the dataset\n",
    "- Creating a CNN Model\n",
    "- Training our model\n",
    "- Evaluating our model"
   ]
  },
  {
   "cell_type": "markdown",
   "id": "32b3a889",
   "metadata": {
    "papermill": {
     "duration": 0.012702,
     "end_time": "2023-04-16T20:18:47.838089",
     "exception": false,
     "start_time": "2023-04-16T20:18:47.825387",
     "status": "completed"
    },
    "tags": []
   },
   "source": [
    "# Importing All necessary librarirs"
   ]
  },
  {
   "cell_type": "markdown",
   "id": "e10f418c",
   "metadata": {
    "papermill": {
     "duration": 0.012698,
     "end_time": "2023-04-16T20:18:47.863514",
     "exception": false,
     "start_time": "2023-04-16T20:18:47.850816",
     "status": "completed"
    },
    "tags": []
   },
   "source": []
  },
  {
   "cell_type": "code",
   "execution_count": 1,
   "id": "bfa392db",
   "metadata": {
    "execution": {
     "iopub.execute_input": "2023-04-16T20:18:47.892299Z",
     "iopub.status.busy": "2023-04-16T20:18:47.891190Z",
     "iopub.status.idle": "2023-04-16T20:18:50.090367Z",
     "shell.execute_reply": "2023-04-16T20:18:50.089089Z"
    },
    "papermill": {
     "duration": 2.21731,
     "end_time": "2023-04-16T20:18:50.093538",
     "exception": false,
     "start_time": "2023-04-16T20:18:47.876228",
     "status": "completed"
    },
    "tags": []
   },
   "outputs": [],
   "source": [
    "\n",
    "#import pytorch\n",
    "import torch\n",
    "\n",
    "# torch functionalities used for building our CNN Model\n",
    "import torch.optim as optim\n",
    "import torch.nn as nn\n",
    "import torch.nn.functional as F\n",
    "\n",
    "import torch.utils.data as data_utils"
   ]
  },
  {
   "cell_type": "code",
   "execution_count": 2,
   "id": "ee53f768",
   "metadata": {
    "execution": {
     "iopub.execute_input": "2023-04-16T20:18:50.121259Z",
     "iopub.status.busy": "2023-04-16T20:18:50.120682Z",
     "iopub.status.idle": "2023-04-16T20:18:51.140071Z",
     "shell.execute_reply": "2023-04-16T20:18:51.138774Z"
    },
    "papermill": {
     "duration": 1.036895,
     "end_time": "2023-04-16T20:18:51.143235",
     "exception": false,
     "start_time": "2023-04-16T20:18:50.106340",
     "status": "completed"
    },
    "tags": []
   },
   "outputs": [],
   "source": [
    "import pandas as pd\n",
    "import numpy as np\n",
    "\n",
    "import matplotlib.pyplot as plt\n",
    "\n",
    "from sklearn.model_selection import train_test_split"
   ]
  },
  {
   "cell_type": "markdown",
   "id": "5ea59953",
   "metadata": {
    "papermill": {
     "duration": 0.012997,
     "end_time": "2023-04-16T20:18:51.169199",
     "exception": false,
     "start_time": "2023-04-16T20:18:51.156202",
     "status": "completed"
    },
    "tags": []
   },
   "source": [
    "# How to train your neural net faster?\n",
    "We saw that the computationally intensive part of neural network is made up of multiple matrix multiplications. So how can we make it faster?"
   ]
  },
  {
   "cell_type": "markdown",
   "id": "3fb9779f",
   "metadata": {
    "papermill": {
     "duration": 0.012395,
     "end_time": "2023-04-16T20:18:51.194478",
     "exception": false,
     "start_time": "2023-04-16T20:18:51.182083",
     "status": "completed"
    },
    "tags": []
   },
   "source": [
    "Since we will be building a CNN model, a GPU is required to speed up the training process. Before starting with the implementation, we verify the presence of an active GPU and set the device accordingly."
   ]
  },
  {
   "cell_type": "code",
   "execution_count": 3,
   "id": "a4dd59ef",
   "metadata": {
    "execution": {
     "iopub.execute_input": "2023-04-16T20:18:51.222064Z",
     "iopub.status.busy": "2023-04-16T20:18:51.221384Z",
     "iopub.status.idle": "2023-04-16T20:18:51.226669Z",
     "shell.execute_reply": "2023-04-16T20:18:51.225566Z"
    },
    "papermill": {
     "duration": 0.021878,
     "end_time": "2023-04-16T20:18:51.229178",
     "exception": false,
     "start_time": "2023-04-16T20:18:51.207300",
     "status": "completed"
    },
    "tags": []
   },
   "outputs": [],
   "source": [
    "if torch.cuda.is_available():\n",
    "    device = 'cuda'\n",
    "else:\n",
    "    device = 'cpu'"
   ]
  },
  {
   "cell_type": "code",
   "execution_count": 4,
   "id": "eacbcd0d",
   "metadata": {
    "execution": {
     "iopub.execute_input": "2023-04-16T20:18:51.258081Z",
     "iopub.status.busy": "2023-04-16T20:18:51.257629Z",
     "iopub.status.idle": "2023-04-16T20:18:53.944275Z",
     "shell.execute_reply": "2023-04-16T20:18:53.943195Z"
    },
    "papermill": {
     "duration": 2.704231,
     "end_time": "2023-04-16T20:18:53.947038",
     "exception": false,
     "start_time": "2023-04-16T20:18:51.242807",
     "status": "completed"
    },
    "tags": []
   },
   "outputs": [],
   "source": [
    "\n",
    "#Reading data into pandas dataframe.\n",
    "#data_path = \"/kaggle/input/94-character-tmnist/94_character_TMNIST.csv\"\n",
    "data_path = \"/kaggle/input/tmnist-typeface-mnist/TMNIST_Data.csv\"\n",
    "data = pd.read_csv(data_path)\n"
   ]
  },
  {
   "cell_type": "markdown",
   "id": "b3a50db4",
   "metadata": {
    "papermill": {
     "duration": 0.012913,
     "end_time": "2023-04-16T20:18:53.972940",
     "exception": false,
     "start_time": "2023-04-16T20:18:53.960027",
     "status": "completed"
    },
    "tags": []
   },
   "source": [
    "# Performing EDA"
   ]
  },
  {
   "cell_type": "code",
   "execution_count": 5,
   "id": "4426fa80",
   "metadata": {
    "execution": {
     "iopub.execute_input": "2023-04-16T20:18:54.000833Z",
     "iopub.status.busy": "2023-04-16T20:18:54.000367Z",
     "iopub.status.idle": "2023-04-16T20:18:54.035609Z",
     "shell.execute_reply": "2023-04-16T20:18:54.034437Z"
    },
    "papermill": {
     "duration": 0.051855,
     "end_time": "2023-04-16T20:18:54.038110",
     "exception": false,
     "start_time": "2023-04-16T20:18:53.986255",
     "status": "completed"
    },
    "tags": []
   },
   "outputs": [
    {
     "data": {
      "text/html": [
       "<div>\n",
       "<style scoped>\n",
       "    .dataframe tbody tr th:only-of-type {\n",
       "        vertical-align: middle;\n",
       "    }\n",
       "\n",
       "    .dataframe tbody tr th {\n",
       "        vertical-align: top;\n",
       "    }\n",
       "\n",
       "    .dataframe thead th {\n",
       "        text-align: right;\n",
       "    }\n",
       "</style>\n",
       "<table border=\"1\" class=\"dataframe\">\n",
       "  <thead>\n",
       "    <tr style=\"text-align: right;\">\n",
       "      <th></th>\n",
       "      <th>names</th>\n",
       "      <th>labels</th>\n",
       "      <th>1</th>\n",
       "      <th>2</th>\n",
       "      <th>3</th>\n",
       "      <th>4</th>\n",
       "      <th>5</th>\n",
       "      <th>6</th>\n",
       "      <th>7</th>\n",
       "      <th>8</th>\n",
       "      <th>...</th>\n",
       "      <th>775</th>\n",
       "      <th>776</th>\n",
       "      <th>777</th>\n",
       "      <th>778</th>\n",
       "      <th>779</th>\n",
       "      <th>780</th>\n",
       "      <th>781</th>\n",
       "      <th>782</th>\n",
       "      <th>783</th>\n",
       "      <th>784</th>\n",
       "    </tr>\n",
       "  </thead>\n",
       "  <tbody>\n",
       "    <tr>\n",
       "      <th>0</th>\n",
       "      <td>GrandHotel-Regular</td>\n",
       "      <td>2</td>\n",
       "      <td>0</td>\n",
       "      <td>0</td>\n",
       "      <td>0</td>\n",
       "      <td>0</td>\n",
       "      <td>0</td>\n",
       "      <td>0</td>\n",
       "      <td>0</td>\n",
       "      <td>0</td>\n",
       "      <td>...</td>\n",
       "      <td>0</td>\n",
       "      <td>0</td>\n",
       "      <td>0</td>\n",
       "      <td>0</td>\n",
       "      <td>0</td>\n",
       "      <td>0</td>\n",
       "      <td>0</td>\n",
       "      <td>0</td>\n",
       "      <td>0</td>\n",
       "      <td>0</td>\n",
       "    </tr>\n",
       "    <tr>\n",
       "      <th>1</th>\n",
       "      <td>EncodeSansCondensed-Medium</td>\n",
       "      <td>8</td>\n",
       "      <td>0</td>\n",
       "      <td>0</td>\n",
       "      <td>0</td>\n",
       "      <td>0</td>\n",
       "      <td>0</td>\n",
       "      <td>0</td>\n",
       "      <td>0</td>\n",
       "      <td>0</td>\n",
       "      <td>...</td>\n",
       "      <td>0</td>\n",
       "      <td>0</td>\n",
       "      <td>0</td>\n",
       "      <td>0</td>\n",
       "      <td>0</td>\n",
       "      <td>0</td>\n",
       "      <td>0</td>\n",
       "      <td>0</td>\n",
       "      <td>0</td>\n",
       "      <td>0</td>\n",
       "    </tr>\n",
       "    <tr>\n",
       "      <th>2</th>\n",
       "      <td>Varela-Regular</td>\n",
       "      <td>4</td>\n",
       "      <td>0</td>\n",
       "      <td>0</td>\n",
       "      <td>0</td>\n",
       "      <td>0</td>\n",
       "      <td>0</td>\n",
       "      <td>0</td>\n",
       "      <td>0</td>\n",
       "      <td>0</td>\n",
       "      <td>...</td>\n",
       "      <td>0</td>\n",
       "      <td>0</td>\n",
       "      <td>0</td>\n",
       "      <td>0</td>\n",
       "      <td>0</td>\n",
       "      <td>0</td>\n",
       "      <td>0</td>\n",
       "      <td>0</td>\n",
       "      <td>0</td>\n",
       "      <td>0</td>\n",
       "    </tr>\n",
       "    <tr>\n",
       "      <th>3</th>\n",
       "      <td>ArefRuqaa-Bold</td>\n",
       "      <td>3</td>\n",
       "      <td>0</td>\n",
       "      <td>0</td>\n",
       "      <td>0</td>\n",
       "      <td>0</td>\n",
       "      <td>0</td>\n",
       "      <td>0</td>\n",
       "      <td>0</td>\n",
       "      <td>0</td>\n",
       "      <td>...</td>\n",
       "      <td>0</td>\n",
       "      <td>0</td>\n",
       "      <td>0</td>\n",
       "      <td>0</td>\n",
       "      <td>0</td>\n",
       "      <td>0</td>\n",
       "      <td>0</td>\n",
       "      <td>0</td>\n",
       "      <td>0</td>\n",
       "      <td>0</td>\n",
       "    </tr>\n",
       "    <tr>\n",
       "      <th>4</th>\n",
       "      <td>KulimPark-Regular</td>\n",
       "      <td>1</td>\n",
       "      <td>0</td>\n",
       "      <td>0</td>\n",
       "      <td>0</td>\n",
       "      <td>0</td>\n",
       "      <td>0</td>\n",
       "      <td>0</td>\n",
       "      <td>0</td>\n",
       "      <td>0</td>\n",
       "      <td>...</td>\n",
       "      <td>0</td>\n",
       "      <td>0</td>\n",
       "      <td>0</td>\n",
       "      <td>0</td>\n",
       "      <td>0</td>\n",
       "      <td>0</td>\n",
       "      <td>0</td>\n",
       "      <td>0</td>\n",
       "      <td>0</td>\n",
       "      <td>0</td>\n",
       "    </tr>\n",
       "  </tbody>\n",
       "</table>\n",
       "<p>5 rows × 786 columns</p>\n",
       "</div>"
      ],
      "text/plain": [
       "                        names  labels  1  2  3  4  5  6  7  8  ...  775  776  \\\n",
       "0          GrandHotel-Regular       2  0  0  0  0  0  0  0  0  ...    0    0   \n",
       "1  EncodeSansCondensed-Medium       8  0  0  0  0  0  0  0  0  ...    0    0   \n",
       "2              Varela-Regular       4  0  0  0  0  0  0  0  0  ...    0    0   \n",
       "3              ArefRuqaa-Bold       3  0  0  0  0  0  0  0  0  ...    0    0   \n",
       "4           KulimPark-Regular       1  0  0  0  0  0  0  0  0  ...    0    0   \n",
       "\n",
       "   777  778  779  780  781  782  783  784  \n",
       "0    0    0    0    0    0    0    0    0  \n",
       "1    0    0    0    0    0    0    0    0  \n",
       "2    0    0    0    0    0    0    0    0  \n",
       "3    0    0    0    0    0    0    0    0  \n",
       "4    0    0    0    0    0    0    0    0  \n",
       "\n",
       "[5 rows x 786 columns]"
      ]
     },
     "execution_count": 5,
     "metadata": {},
     "output_type": "execute_result"
    }
   ],
   "source": [
    "#A view of dataset.\n",
    "data.head()"
   ]
  },
  {
   "cell_type": "code",
   "execution_count": 6,
   "id": "a57d7e37",
   "metadata": {
    "execution": {
     "iopub.execute_input": "2023-04-16T20:18:54.067286Z",
     "iopub.status.busy": "2023-04-16T20:18:54.065903Z",
     "iopub.status.idle": "2023-04-16T20:18:54.073907Z",
     "shell.execute_reply": "2023-04-16T20:18:54.072459Z"
    },
    "papermill": {
     "duration": 0.024898,
     "end_time": "2023-04-16T20:18:54.076310",
     "exception": false,
     "start_time": "2023-04-16T20:18:54.051412",
     "status": "completed"
    },
    "tags": []
   },
   "outputs": [
    {
     "name": "stdout",
     "output_type": "stream",
     "text": [
      "The Shape of the Dataframe is: (29900, 786)\n",
      "Number of Samples: 29900\n"
     ]
    }
   ],
   "source": [
    "#Determining Shape and Number of Sample in the Dataset\n",
    "print(f\"The Shape of the Dataframe is: {data.shape}\") #Number of Samples, Number of Pixels(Features)\n",
    "print(f\"Number of Samples: {data.shape[0]}\")"
   ]
  },
  {
   "cell_type": "code",
   "execution_count": 7,
   "id": "6c77f492",
   "metadata": {
    "execution": {
     "iopub.execute_input": "2023-04-16T20:18:54.104610Z",
     "iopub.status.busy": "2023-04-16T20:18:54.104230Z",
     "iopub.status.idle": "2023-04-16T20:18:54.115560Z",
     "shell.execute_reply": "2023-04-16T20:18:54.114161Z"
    },
    "papermill": {
     "duration": 0.028801,
     "end_time": "2023-04-16T20:18:54.118291",
     "exception": false,
     "start_time": "2023-04-16T20:18:54.089490",
     "status": "completed"
    },
    "tags": []
   },
   "outputs": [
    {
     "name": "stdout",
     "output_type": "stream",
     "text": [
      "Number of unique character present in the Dataset: 10\n"
     ]
    }
   ],
   "source": [
    "# Number of unique character in the Dataframe\n",
    "print(f\"Number of unique character present in the Dataset: {len(data.labels.unique())}\") #Number of Classes\n"
   ]
  },
  {
   "cell_type": "code",
   "execution_count": 8,
   "id": "0008a560",
   "metadata": {
    "execution": {
     "iopub.execute_input": "2023-04-16T20:18:54.146586Z",
     "iopub.status.busy": "2023-04-16T20:18:54.146166Z",
     "iopub.status.idle": "2023-04-16T20:18:54.157113Z",
     "shell.execute_reply": "2023-04-16T20:18:54.156150Z"
    },
    "papermill": {
     "duration": 0.028033,
     "end_time": "2023-04-16T20:18:54.159512",
     "exception": false,
     "start_time": "2023-04-16T20:18:54.131479",
     "status": "completed"
    },
    "tags": []
   },
   "outputs": [
    {
     "data": {
      "text/plain": [
       "2    2990\n",
       "8    2990\n",
       "4    2990\n",
       "3    2990\n",
       "1    2990\n",
       "6    2990\n",
       "5    2990\n",
       "9    2990\n",
       "7    2990\n",
       "0    2990\n",
       "Name: labels, dtype: int64"
      ]
     },
     "execution_count": 8,
     "metadata": {},
     "output_type": "execute_result"
    }
   ],
   "source": [
    "# Label distribution\n",
    "data.labels.value_counts()"
   ]
  },
  {
   "cell_type": "markdown",
   "id": "fd060ca5",
   "metadata": {
    "papermill": {
     "duration": 0.012951,
     "end_time": "2023-04-16T20:18:54.185888",
     "exception": false,
     "start_time": "2023-04-16T20:18:54.172937",
     "status": "completed"
    },
    "tags": []
   },
   "source": [
    "We observe that the labels are equally distributed with 2990 instances of each class. Hence, our dataset is balanced.\n",
    "\n",
    "Now, let us reshape and modify our data so that it can be used as an input for our model. We normalise the data and reshape it into a 4 dimensional array such that it represents images stacked on to each other. We also reshape our labels into a 1 dimensional array."
   ]
  },
  {
   "cell_type": "code",
   "execution_count": 9,
   "id": "49bd59c3",
   "metadata": {
    "execution": {
     "iopub.execute_input": "2023-04-16T20:18:54.215079Z",
     "iopub.status.busy": "2023-04-16T20:18:54.214232Z",
     "iopub.status.idle": "2023-04-16T20:18:54.349661Z",
     "shell.execute_reply": "2023-04-16T20:18:54.348782Z"
    },
    "papermill": {
     "duration": 0.153144,
     "end_time": "2023-04-16T20:18:54.352407",
     "exception": false,
     "start_time": "2023-04-16T20:18:54.199263",
     "status": "completed"
    },
    "tags": []
   },
   "outputs": [],
   "source": [
    "#Dropping redundant coloums like names and labels from the training frames and keeping only pixel values\n",
    "X = data.drop(columns = {'names', 'labels'})/255\n",
    "X = X.values.reshape(X.shape[0], 1, 28, 28)\n",
    "y = data[['labels']].values.reshape((-1,))"
   ]
  },
  {
   "cell_type": "markdown",
   "id": "5dff2ea2",
   "metadata": {
    "papermill": {
     "duration": 0.013046,
     "end_time": "2023-04-16T20:18:54.379559",
     "exception": false,
     "start_time": "2023-04-16T20:18:54.366513",
     "status": "completed"
    },
    "tags": []
   },
   "source": [
    "Before proceeding, we split our data into training and testing sets using an 80:20 proportion."
   ]
  },
  {
   "cell_type": "code",
   "execution_count": 10,
   "id": "a9e2a135",
   "metadata": {
    "execution": {
     "iopub.execute_input": "2023-04-16T20:18:54.407768Z",
     "iopub.status.busy": "2023-04-16T20:18:54.407326Z",
     "iopub.status.idle": "2023-04-16T20:18:54.692127Z",
     "shell.execute_reply": "2023-04-16T20:18:54.690991Z"
    },
    "papermill": {
     "duration": 0.302346,
     "end_time": "2023-04-16T20:18:54.695245",
     "exception": false,
     "start_time": "2023-04-16T20:18:54.392899",
     "status": "completed"
    },
    "tags": []
   },
   "outputs": [],
   "source": [
    "#split data into training and testing sets using the train_test_split\n",
    "X_train, X_test, y_train, y_test = train_test_split(X, y, test_size = 0.2, random_state = 42)"
   ]
  },
  {
   "cell_type": "markdown",
   "id": "0dbe1bd6",
   "metadata": {
    "papermill": {
     "duration": 0.012915,
     "end_time": "2023-04-16T20:18:54.721452",
     "exception": false,
     "start_time": "2023-04-16T20:18:54.708537",
     "status": "completed"
    },
    "tags": []
   },
   "source": [
    "We now convert them to numpy arrays so that they can be further worked with."
   ]
  },
  {
   "cell_type": "code",
   "execution_count": 11,
   "id": "0eb67543",
   "metadata": {
    "execution": {
     "iopub.execute_input": "2023-04-16T20:18:54.749926Z",
     "iopub.status.busy": "2023-04-16T20:18:54.749458Z",
     "iopub.status.idle": "2023-04-16T20:18:54.763109Z",
     "shell.execute_reply": "2023-04-16T20:18:54.762018Z"
    },
    "papermill": {
     "duration": 0.030927,
     "end_time": "2023-04-16T20:18:54.765559",
     "exception": false,
     "start_time": "2023-04-16T20:18:54.734632",
     "status": "completed"
    },
    "tags": []
   },
   "outputs": [],
   "source": [
    "# Convert X_train, X_test, y_train, and y_test to PyTorch tensors\n",
    "X_train = torch.from_numpy(X_train)\n",
    "X_test = torch.from_numpy(X_test)\n",
    "y_train = torch.from_numpy(y_train)\n",
    "y_test = torch.from_numpy(y_test)"
   ]
  },
  {
   "cell_type": "markdown",
   "id": "54c72787",
   "metadata": {
    "papermill": {
     "duration": 0.012821,
     "end_time": "2023-04-16T20:18:54.791743",
     "exception": false,
     "start_time": "2023-04-16T20:18:54.778922",
     "status": "completed"
    },
    "tags": []
   },
   "source": [
    "Before proceeding, we split our data into training and testing sets using an 80:20 proportion."
   ]
  },
  {
   "cell_type": "code",
   "execution_count": 12,
   "id": "4f0f740d",
   "metadata": {
    "execution": {
     "iopub.execute_input": "2023-04-16T20:18:54.820401Z",
     "iopub.status.busy": "2023-04-16T20:18:54.819486Z",
     "iopub.status.idle": "2023-04-16T20:18:54.825023Z",
     "shell.execute_reply": "2023-04-16T20:18:54.823899Z"
    },
    "papermill": {
     "duration": 0.023175,
     "end_time": "2023-04-16T20:18:54.828139",
     "exception": false,
     "start_time": "2023-04-16T20:18:54.804964",
     "status": "completed"
    },
    "tags": []
   },
   "outputs": [
    {
     "name": "stdout",
     "output_type": "stream",
     "text": [
      "torch.Size([23920, 1, 28, 28]) torch.Size([23920])\n"
     ]
    }
   ],
   "source": [
    "#printing shape\n",
    "print(X_train.shape, y_train.shape)"
   ]
  },
  {
   "cell_type": "markdown",
   "id": "4bb57bf4",
   "metadata": {
    "papermill": {
     "duration": 0.013048,
     "end_time": "2023-04-16T20:18:54.854584",
     "exception": false,
     "start_time": "2023-04-16T20:18:54.841536",
     "status": "completed"
    },
    "tags": []
   },
   "source": [
    "We verify our steps by checking the shape of our newly created torch tensors.\n",
    "\n",
    "Now, let us visualise a sample image from our processed data."
   ]
  },
  {
   "cell_type": "code",
   "execution_count": 13,
   "id": "8a87dab9",
   "metadata": {
    "execution": {
     "iopub.execute_input": "2023-04-16T20:18:54.882868Z",
     "iopub.status.busy": "2023-04-16T20:18:54.882448Z",
     "iopub.status.idle": "2023-04-16T20:18:55.008840Z",
     "shell.execute_reply": "2023-04-16T20:18:55.007542Z"
    },
    "papermill": {
     "duration": 0.145036,
     "end_time": "2023-04-16T20:18:55.012941",
     "exception": false,
     "start_time": "2023-04-16T20:18:54.867905",
     "status": "completed"
    },
    "tags": []
   },
   "outputs": [
    {
     "data": {
      "image/png": "[encoded data removed]",
      "text/plain": [
       "<Figure size 640x480 with 1 Axes>"
      ]
     },
     "metadata": {},
     "output_type": "display_data"
    }
   ],
   "source": [
    "\n",
    "def visualize_image(data):\n",
    "    # Display the image using matplotlib's imshow() function\n",
    "    plt.imshow(data[0], cmap='gray_r')\n",
    "    # Turn off the axis display in the plot\n",
    "    plt.axis(\"off\")\n",
    "    # Show the plot with the displayed image\n",
    "    plt.show()\n",
    "\n",
    "# Call the visualize_image() function with the first image in X_train dataset\n",
    "visualize_image(X_train[0])\n"
   ]
  },
  {
   "cell_type": "markdown",
   "id": "0d3012ec",
   "metadata": {
    "papermill": {
     "duration": 0.026755,
     "end_time": "2023-04-16T20:18:55.075890",
     "exception": false,
     "start_time": "2023-04-16T20:18:55.049135",
     "status": "completed"
    },
    "tags": []
   },
   "source": [
    "#  Create a CNN Model\n",
    "Create Data Loader\n",
    "Dataloaders are utilized to feed our input data to our model for training, based on different parameters such as the batch size, if they should be suffled while being fed, and so on.\n",
    "\n",
    "Here, we define our tensordatasets for the dataloader and then input our required parameters to prepare the data loaders."
   ]
  },
  {
   "cell_type": "code",
   "execution_count": 14,
   "id": "3f2bba4d",
   "metadata": {
    "execution": {
     "iopub.execute_input": "2023-04-16T20:18:55.105678Z",
     "iopub.status.busy": "2023-04-16T20:18:55.104566Z",
     "iopub.status.idle": "2023-04-16T20:18:55.111636Z",
     "shell.execute_reply": "2023-04-16T20:18:55.110253Z"
    },
    "papermill": {
     "duration": 0.02434,
     "end_time": "2023-04-16T20:18:55.113832",
     "exception": false,
     "start_time": "2023-04-16T20:18:55.089492",
     "status": "completed"
    },
    "tags": []
   },
   "outputs": [
    {
     "name": "stdout",
     "output_type": "stream",
     "text": [
      "<class 'torch.Tensor'>\n",
      "<class 'torch.Tensor'>\n"
     ]
    }
   ],
   "source": [
    "print(type(X_train))\n",
    "print(type(y_train))\n"
   ]
  },
  {
   "cell_type": "code",
   "execution_count": 15,
   "id": "2ad2db5c",
   "metadata": {
    "execution": {
     "iopub.execute_input": "2023-04-16T20:18:55.143671Z",
     "iopub.status.busy": "2023-04-16T20:18:55.142836Z",
     "iopub.status.idle": "2023-04-16T20:18:55.149828Z",
     "shell.execute_reply": "2023-04-16T20:18:55.148656Z"
    },
    "papermill": {
     "duration": 0.024667,
     "end_time": "2023-04-16T20:18:55.152292",
     "exception": false,
     "start_time": "2023-04-16T20:18:55.127625",
     "status": "completed"
    },
    "tags": []
   },
   "outputs": [],
   "source": [
    "# Create a training dataset from X_train and y_train\n",
    "train = data_utils.TensorDataset(X_train, y_train)\n",
    "# Create a testing dataset from X_test and y_test\n",
    "test = data_utils.TensorDataset(X_test, y_test)\n"
   ]
  },
  {
   "cell_type": "markdown",
   "id": "9da6e10b",
   "metadata": {
    "papermill": {
     "duration": 0.0134,
     "end_time": "2023-04-16T20:18:55.179389",
     "exception": false,
     "start_time": "2023-04-16T20:18:55.165989",
     "status": "completed"
    },
    "tags": []
   },
   "source": [
    "Once you have created your TensorDataset objects, you can pass them to data loaders in PyTorch to efficiently load and preprocess your data during model training or testing. Data loaders allow you to iterate over your dataset in batches, shuffle the data, and apply other data augmentation techniques as needed"
   ]
  },
  {
   "cell_type": "code",
   "execution_count": 16,
   "id": "d206d94c",
   "metadata": {
    "execution": {
     "iopub.execute_input": "2023-04-16T20:18:55.208463Z",
     "iopub.status.busy": "2023-04-16T20:18:55.208036Z",
     "iopub.status.idle": "2023-04-16T20:18:55.214188Z",
     "shell.execute_reply": "2023-04-16T20:18:55.212975Z"
    },
    "papermill": {
     "duration": 0.023404,
     "end_time": "2023-04-16T20:18:55.216443",
     "exception": false,
     "start_time": "2023-04-16T20:18:55.193039",
     "status": "completed"
    },
    "tags": []
   },
   "outputs": [],
   "source": [
    "\n",
    "# Create a training data loader from the train dataset\n",
    "# with a batch size of 128 and shuffling the data\n",
    "train_loader = data_utils.DataLoader(train, batch_size=128, shuffle=True)\n",
    "\n",
    "# Create a testing data loader from the test dataset\n",
    "# with a batch size of 128 and shuffling the data\n",
    "test_loader = data_utils.DataLoader(test, batch_size=128, shuffle=True)\n"
   ]
  },
  {
   "cell_type": "markdown",
   "id": "2ffd4497",
   "metadata": {
    "papermill": {
     "duration": 0.013344,
     "end_time": "2023-04-16T20:18:55.243524",
     "exception": false,
     "start_time": "2023-04-16T20:18:55.230180",
     "status": "completed"
    },
    "tags": []
   },
   "source": [
    "To verify our data loaders, we print the input size of an iteration of training."
   ]
  },
  {
   "cell_type": "code",
   "execution_count": 17,
   "id": "57bf1960",
   "metadata": {
    "execution": {
     "iopub.execute_input": "2023-04-16T20:18:55.273077Z",
     "iopub.status.busy": "2023-04-16T20:18:55.272135Z",
     "iopub.status.idle": "2023-04-16T20:18:55.514025Z",
     "shell.execute_reply": "2023-04-16T20:18:55.512791Z"
    },
    "papermill": {
     "duration": 0.260176,
     "end_time": "2023-04-16T20:18:55.517329",
     "exception": false,
     "start_time": "2023-04-16T20:18:55.257153",
     "status": "completed"
    },
    "tags": []
   },
   "outputs": [
    {
     "name": "stdout",
     "output_type": "stream",
     "text": [
      "torch.Size([128, 1, 28, 28]) torch.Size([128])\n",
      "torch.Size([128, 1, 28, 28]) torch.Size([128])\n",
      "torch.Size([128, 1, 28, 28]) torch.Size([128])\n",
      "torch.Size([128, 1, 28, 28]) torch.Size([128])\n",
      "torch.Size([128, 1, 28, 28]) torch.Size([128])\n",
      "torch.Size([128, 1, 28, 28]) torch.Size([128])\n",
      "torch.Size([128, 1, 28, 28]) torch.Size([128])\n",
      "torch.Size([128, 1, 28, 28]) torch.Size([128])\n",
      "torch.Size([128, 1, 28, 28]) torch.Size([128])\n",
      "torch.Size([128, 1, 28, 28]) torch.Size([128])\n",
      "torch.Size([128, 1, 28, 28]) torch.Size([128])\n",
      "torch.Size([128, 1, 28, 28]) torch.Size([128])\n",
      "torch.Size([128, 1, 28, 28]) torch.Size([128])\n",
      "torch.Size([128, 1, 28, 28]) torch.Size([128])\n",
      "torch.Size([128, 1, 28, 28]) torch.Size([128])\n",
      "torch.Size([128, 1, 28, 28]) torch.Size([128])\n",
      "torch.Size([128, 1, 28, 28]) torch.Size([128])\n",
      "torch.Size([128, 1, 28, 28]) torch.Size([128])\n",
      "torch.Size([128, 1, 28, 28]) torch.Size([128])\n",
      "torch.Size([128, 1, 28, 28]) torch.Size([128])\n",
      "torch.Size([128, 1, 28, 28]) torch.Size([128])\n",
      "torch.Size([128, 1, 28, 28]) torch.Size([128])\n",
      "torch.Size([128, 1, 28, 28]) torch.Size([128])\n",
      "torch.Size([128, 1, 28, 28]) torch.Size([128])\n",
      "torch.Size([128, 1, 28, 28]) torch.Size([128])\n",
      "torch.Size([128, 1, 28, 28]) torch.Size([128])\n",
      "torch.Size([128, 1, 28, 28]) torch.Size([128])\n",
      "torch.Size([128, 1, 28, 28]) torch.Size([128])\n",
      "torch.Size([128, 1, 28, 28]) torch.Size([128])\n",
      "torch.Size([128, 1, 28, 28]) torch.Size([128])\n",
      "torch.Size([128, 1, 28, 28]) torch.Size([128])\n",
      "torch.Size([128, 1, 28, 28]) torch.Size([128])\n",
      "torch.Size([128, 1, 28, 28]) torch.Size([128])\n",
      "torch.Size([128, 1, 28, 28]) torch.Size([128])\n",
      "torch.Size([128, 1, 28, 28]) torch.Size([128])\n",
      "torch.Size([128, 1, 28, 28]) torch.Size([128])\n",
      "torch.Size([128, 1, 28, 28]) torch.Size([128])\n",
      "torch.Size([128, 1, 28, 28]) torch.Size([128])\n",
      "torch.Size([128, 1, 28, 28]) torch.Size([128])\n",
      "torch.Size([128, 1, 28, 28]) torch.Size([128])\n",
      "torch.Size([128, 1, 28, 28]) torch.Size([128])\n",
      "torch.Size([128, 1, 28, 28]) torch.Size([128])\n",
      "torch.Size([128, 1, 28, 28]) torch.Size([128])\n",
      "torch.Size([128, 1, 28, 28]) torch.Size([128])\n",
      "torch.Size([128, 1, 28, 28]) torch.Size([128])\n",
      "torch.Size([128, 1, 28, 28]) torch.Size([128])\n",
      "torch.Size([128, 1, 28, 28]) torch.Size([128])\n",
      "torch.Size([128, 1, 28, 28]) torch.Size([128])\n",
      "torch.Size([128, 1, 28, 28]) torch.Size([128])\n",
      "torch.Size([128, 1, 28, 28]) torch.Size([128])\n",
      "torch.Size([128, 1, 28, 28]) torch.Size([128])\n",
      "torch.Size([128, 1, 28, 28]) torch.Size([128])\n",
      "torch.Size([128, 1, 28, 28]) torch.Size([128])\n",
      "torch.Size([128, 1, 28, 28]) torch.Size([128])\n",
      "torch.Size([128, 1, 28, 28]) torch.Size([128])\n",
      "torch.Size([128, 1, 28, 28]) torch.Size([128])\n",
      "torch.Size([128, 1, 28, 28]) torch.Size([128])\n",
      "torch.Size([128, 1, 28, 28]) torch.Size([128])\n",
      "torch.Size([128, 1, 28, 28]) torch.Size([128])\n",
      "torch.Size([128, 1, 28, 28]) torch.Size([128])\n",
      "torch.Size([128, 1, 28, 28]) torch.Size([128])\n",
      "torch.Size([128, 1, 28, 28]) torch.Size([128])\n",
      "torch.Size([128, 1, 28, 28]) torch.Size([128])\n",
      "torch.Size([128, 1, 28, 28]) torch.Size([128])\n",
      "torch.Size([128, 1, 28, 28]) torch.Size([128])\n",
      "torch.Size([128, 1, 28, 28]) torch.Size([128])\n",
      "torch.Size([128, 1, 28, 28]) torch.Size([128])\n",
      "torch.Size([128, 1, 28, 28]) torch.Size([128])\n",
      "torch.Size([128, 1, 28, 28]) torch.Size([128])\n",
      "torch.Size([128, 1, 28, 28]) torch.Size([128])\n",
      "torch.Size([128, 1, 28, 28]) torch.Size([128])\n",
      "torch.Size([128, 1, 28, 28]) torch.Size([128])\n",
      "torch.Size([128, 1, 28, 28]) torch.Size([128])\n",
      "torch.Size([128, 1, 28, 28]) torch.Size([128])\n",
      "torch.Size([128, 1, 28, 28]) torch.Size([128])\n",
      "torch.Size([128, 1, 28, 28]) torch.Size([128])\n",
      "torch.Size([128, 1, 28, 28]) torch.Size([128])\n",
      "torch.Size([128, 1, 28, 28]) torch.Size([128])\n",
      "torch.Size([128, 1, 28, 28]) torch.Size([128])\n",
      "torch.Size([128, 1, 28, 28]) torch.Size([128])\n",
      "torch.Size([128, 1, 28, 28]) torch.Size([128])\n",
      "torch.Size([128, 1, 28, 28]) torch.Size([128])\n",
      "torch.Size([128, 1, 28, 28]) torch.Size([128])\n",
      "torch.Size([128, 1, 28, 28]) torch.Size([128])\n",
      "torch.Size([128, 1, 28, 28]) torch.Size([128])\n",
      "torch.Size([128, 1, 28, 28]) torch.Size([128])\n",
      "torch.Size([128, 1, 28, 28]) torch.Size([128])\n",
      "torch.Size([128, 1, 28, 28]) torch.Size([128])\n",
      "torch.Size([128, 1, 28, 28]) torch.Size([128])\n",
      "torch.Size([128, 1, 28, 28]) torch.Size([128])\n",
      "torch.Size([128, 1, 28, 28]) torch.Size([128])\n",
      "torch.Size([128, 1, 28, 28]) torch.Size([128])\n",
      "torch.Size([128, 1, 28, 28]) torch.Size([128])\n",
      "torch.Size([128, 1, 28, 28]) torch.Size([128])\n",
      "torch.Size([128, 1, 28, 28]) torch.Size([128])\n",
      "torch.Size([128, 1, 28, 28]) torch.Size([128])\n",
      "torch.Size([128, 1, 28, 28]) torch.Size([128])\n",
      "torch.Size([128, 1, 28, 28]) torch.Size([128])\n",
      "torch.Size([128, 1, 28, 28]) torch.Size([128])\n",
      "torch.Size([128, 1, 28, 28]) torch.Size([128])\n",
      "torch.Size([128, 1, 28, 28]) torch.Size([128])\n",
      "torch.Size([128, 1, 28, 28]) torch.Size([128])\n",
      "torch.Size([128, 1, 28, 28]) torch.Size([128])\n",
      "torch.Size([128, 1, 28, 28]) torch.Size([128])\n",
      "torch.Size([128, 1, 28, 28]) torch.Size([128])\n",
      "torch.Size([128, 1, 28, 28]) torch.Size([128])\n",
      "torch.Size([128, 1, 28, 28]) torch.Size([128])\n",
      "torch.Size([128, 1, 28, 28]) torch.Size([128])\n",
      "torch.Size([128, 1, 28, 28]) torch.Size([128])\n",
      "torch.Size([128, 1, 28, 28]) torch.Size([128])\n",
      "torch.Size([128, 1, 28, 28]) torch.Size([128])\n",
      "torch.Size([128, 1, 28, 28]) torch.Size([128])\n",
      "torch.Size([128, 1, 28, 28]) torch.Size([128])\n",
      "torch.Size([128, 1, 28, 28]) torch.Size([128])\n",
      "torch.Size([128, 1, 28, 28]) torch.Size([128])\n",
      "torch.Size([128, 1, 28, 28]) torch.Size([128])\n",
      "torch.Size([128, 1, 28, 28]) torch.Size([128])\n",
      "torch.Size([128, 1, 28, 28]) torch.Size([128])\n",
      "torch.Size([128, 1, 28, 28]) torch.Size([128])\n",
      "torch.Size([128, 1, 28, 28]) torch.Size([128])\n",
      "torch.Size([128, 1, 28, 28]) torch.Size([128])\n",
      "torch.Size([128, 1, 28, 28]) torch.Size([128])\n",
      "torch.Size([128, 1, 28, 28]) torch.Size([128])\n",
      "torch.Size([128, 1, 28, 28]) torch.Size([128])\n",
      "torch.Size([128, 1, 28, 28]) torch.Size([128])\n",
      "torch.Size([128, 1, 28, 28]) torch.Size([128])\n",
      "torch.Size([128, 1, 28, 28]) torch.Size([128])\n",
      "torch.Size([128, 1, 28, 28]) torch.Size([128])\n",
      "torch.Size([128, 1, 28, 28]) torch.Size([128])\n",
      "torch.Size([128, 1, 28, 28]) torch.Size([128])\n",
      "torch.Size([128, 1, 28, 28]) torch.Size([128])\n",
      "torch.Size([128, 1, 28, 28]) torch.Size([128])\n",
      "torch.Size([128, 1, 28, 28]) torch.Size([128])\n",
      "torch.Size([128, 1, 28, 28]) torch.Size([128])\n",
      "torch.Size([128, 1, 28, 28]) torch.Size([128])\n",
      "torch.Size([128, 1, 28, 28]) torch.Size([128])\n",
      "torch.Size([128, 1, 28, 28]) torch.Size([128])\n",
      "torch.Size([128, 1, 28, 28]) torch.Size([128])\n",
      "torch.Size([128, 1, 28, 28]) torch.Size([128])\n",
      "torch.Size([128, 1, 28, 28]) torch.Size([128])\n",
      "torch.Size([128, 1, 28, 28]) torch.Size([128])\n",
      "torch.Size([128, 1, 28, 28]) torch.Size([128])\n",
      "torch.Size([128, 1, 28, 28]) torch.Size([128])\n",
      "torch.Size([128, 1, 28, 28]) torch.Size([128])\n",
      "torch.Size([128, 1, 28, 28]) torch.Size([128])\n",
      "torch.Size([128, 1, 28, 28]) torch.Size([128])\n",
      "torch.Size([128, 1, 28, 28]) torch.Size([128])\n",
      "torch.Size([128, 1, 28, 28]) torch.Size([128])\n",
      "torch.Size([128, 1, 28, 28]) torch.Size([128])\n",
      "torch.Size([128, 1, 28, 28]) torch.Size([128])\n",
      "torch.Size([128, 1, 28, 28]) torch.Size([128])\n",
      "torch.Size([128, 1, 28, 28]) torch.Size([128])\n",
      "torch.Size([128, 1, 28, 28]) torch.Size([128])\n",
      "torch.Size([128, 1, 28, 28]) torch.Size([128])\n",
      "torch.Size([128, 1, 28, 28]) torch.Size([128])\n",
      "torch.Size([128, 1, 28, 28]) torch.Size([128])\n",
      "torch.Size([128, 1, 28, 28]) torch.Size([128])\n",
      "torch.Size([128, 1, 28, 28]) torch.Size([128])\n",
      "torch.Size([128, 1, 28, 28]) torch.Size([128])\n",
      "torch.Size([128, 1, 28, 28]) torch.Size([128])\n",
      "torch.Size([128, 1, 28, 28]) torch.Size([128])\n",
      "torch.Size([128, 1, 28, 28]) torch.Size([128])\n",
      "torch.Size([128, 1, 28, 28]) torch.Size([128])\n",
      "torch.Size([128, 1, 28, 28]) torch.Size([128])\n",
      "torch.Size([128, 1, 28, 28]) torch.Size([128])\n",
      "torch.Size([128, 1, 28, 28]) torch.Size([128])\n",
      "torch.Size([128, 1, 28, 28]) torch.Size([128])\n",
      "torch.Size([128, 1, 28, 28]) torch.Size([128])\n",
      "torch.Size([128, 1, 28, 28]) torch.Size([128])\n",
      "torch.Size([128, 1, 28, 28]) torch.Size([128])\n",
      "torch.Size([128, 1, 28, 28]) torch.Size([128])\n",
      "torch.Size([128, 1, 28, 28]) torch.Size([128])\n",
      "torch.Size([128, 1, 28, 28]) torch.Size([128])\n",
      "torch.Size([128, 1, 28, 28]) torch.Size([128])\n",
      "torch.Size([128, 1, 28, 28]) torch.Size([128])\n",
      "torch.Size([128, 1, 28, 28]) torch.Size([128])\n",
      "torch.Size([128, 1, 28, 28]) torch.Size([128])\n",
      "torch.Size([128, 1, 28, 28]) torch.Size([128])\n",
      "torch.Size([128, 1, 28, 28]) torch.Size([128])\n",
      "torch.Size([128, 1, 28, 28]) torch.Size([128])\n",
      "torch.Size([128, 1, 28, 28]) torch.Size([128])\n",
      "torch.Size([128, 1, 28, 28]) torch.Size([128])\n",
      "torch.Size([128, 1, 28, 28]) torch.Size([128])\n",
      "torch.Size([128, 1, 28, 28]) torch.Size([128])\n",
      "torch.Size([128, 1, 28, 28]) torch.Size([128])\n",
      "torch.Size([128, 1, 28, 28]) torch.Size([128])\n",
      "torch.Size([112, 1, 28, 28]) torch.Size([112])\n",
      "torch.Size([128, 1, 28, 28]) torch.Size([128])\n"
     ]
    }
   ],
   "source": [
    "#printing input size of an iteration of training\n",
    "for images, labels in train_loader:\n",
    "    print(images.shape, labels.shape)\n",
    "\n",
    "data_iter = iter(train_loader)\n",
    "images, labels = next(data_iter)\n",
    "print(images.shape, labels.shape)\n",
    "\n"
   ]
  },
  {
   "cell_type": "code",
   "execution_count": 18,
   "id": "56fa4f49",
   "metadata": {
    "execution": {
     "iopub.execute_input": "2023-04-16T20:18:55.547356Z",
     "iopub.status.busy": "2023-04-16T20:18:55.546571Z",
     "iopub.status.idle": "2023-04-16T20:18:55.575119Z",
     "shell.execute_reply": "2023-04-16T20:18:55.573789Z"
    },
    "papermill": {
     "duration": 0.046247,
     "end_time": "2023-04-16T20:18:55.577552",
     "exception": false,
     "start_time": "2023-04-16T20:18:55.531305",
     "status": "completed"
    },
    "tags": []
   },
   "outputs": [
    {
     "data": {
      "text/plain": [
       "Net(\n",
       "  (conv1): Conv2d(1, 32, kernel_size=(3, 3), stride=(1, 1))\n",
       "  (conv2): Conv2d(32, 64, kernel_size=(3, 3), stride=(1, 1))\n",
       "  (pool): MaxPool2d(kernel_size=2, stride=2, padding=0, dilation=1, ceil_mode=False)\n",
       "  (fc1): Linear(in_features=9216, out_features=128, bias=True)\n",
       "  (fc2): Linear(in_features=128, out_features=10, bias=True)\n",
       ")"
      ]
     },
     "execution_count": 18,
     "metadata": {},
     "output_type": "execute_result"
    }
   ],
   "source": [
    "\n",
    "class Net(nn.Module):\n",
    "    def __init__(self):\n",
    "        super(Net, self).__init__()\n",
    "        self.conv1 = nn.Conv2d(1, 32, 3)     # First convolutional layer with input channels=1, output channels=32, and kernel size=3x3\n",
    "        self.conv2 = nn.Conv2d(32, 64, 3)    # Second convolutional layer with input channels=32, output channels=64, and kernel size=3x3\n",
    "        self.pool = nn.MaxPool2d(2, 2)       # Max pooling layer with kernel size=2x2 and stride=2\n",
    "        self.fc1 = nn.Linear(64 * 12 * 12, 128)  # Fully connected layer with input size of 64x12x12 (output from previous layers) and output size of 128\n",
    "        self.fc2 = nn.Linear(128, 10)        # Fully connected layer with input size of 128 and output size of 10 (for 10 classes)\n",
    "\n",
    "    def forward(self, x):\n",
    "        x = F.relu(self.conv1(x))            # Apply ReLU activation to the output of the first convolutional layer\n",
    "        x = self.pool(F.relu(self.conv2(x))) # Apply ReLU activation to the output of the second convolutional layer, then perform max pooling\n",
    "        x = x.view(-1, 64 * 12 * 12)         # Flatten the tensor to a 1D vector\n",
    "        x = F.relu(self.fc1(x))              # Apply ReLU activation to the output of the first fully connected layer\n",
    "        x = self.fc2(x)                      # Output from the second fully connected layer (logits)\n",
    "        return x\n",
    "\n",
    "net = Net()                               # Create an instance of the neural network model\n",
    "net.to(device)                           # Move the model to the specified device (e.g., GPU or CPU)\n"
   ]
  },
  {
   "cell_type": "markdown",
   "id": "b045eaff",
   "metadata": {
    "papermill": {
     "duration": 0.013911,
     "end_time": "2023-04-16T20:18:55.605654",
     "exception": false,
     "start_time": "2023-04-16T20:18:55.591743",
     "status": "completed"
    },
    "tags": []
   },
   "source": [
    "# Create Model\n",
    "\n",
    "- Convolution layer (CONV)- The convolution layer (CONV) uses filters that perform convolution operations as it is scanning the input I with respect to its dimensions. Its hyperparameters include the filter size F and stride S. The resulting output O is called feature map or activation map.\n",
    "- Pooling (POOL)- The pooling layer (POOL) is a downsampling operation, typically applied after a convolution layer, which does some spatial invariance. In particular, max and average pooling are special kinds of pooling where the maximum and average value is taken, respectively.\n",
    "\n",
    "To create our CNN Model, we utilise the neural network module from pytorch and provide it with our own custom architecture as follows.\n",
    "\n",
    "- Convolutional layer with 32 channels\n",
    "- Convolutional layer with 64 channels\n",
    "- MaxPooling layer to compress information\n",
    "- Dense layer to flatten the information obtained\n",
    "- Dense output layer with relu activation"
   ]
  },
  {
   "cell_type": "markdown",
   "id": "98b792a0",
   "metadata": {
    "papermill": {
     "duration": 0.013842,
     "end_time": "2023-04-16T20:18:55.633652",
     "exception": false,
     "start_time": "2023-04-16T20:18:55.619810",
     "status": "completed"
    },
    "tags": []
   },
   "source": [
    "We use Cross Entropy Loss as the loss function and Adam as the optimizer here. You can also try out other optimizers like SGD here "
   ]
  },
  {
   "cell_type": "code",
   "execution_count": 19,
   "id": "f9f951fd",
   "metadata": {
    "execution": {
     "iopub.execute_input": "2023-04-16T20:18:55.664242Z",
     "iopub.status.busy": "2023-04-16T20:18:55.663815Z",
     "iopub.status.idle": "2023-04-16T20:18:55.671581Z",
     "shell.execute_reply": "2023-04-16T20:18:55.670662Z"
    },
    "papermill": {
     "duration": 0.026406,
     "end_time": "2023-04-16T20:18:55.674085",
     "exception": false,
     "start_time": "2023-04-16T20:18:55.647679",
     "status": "completed"
    },
    "tags": []
   },
   "outputs": [],
   "source": [
    "\n",
    "criterion = nn.CrossEntropyLoss()\n",
    "#optimizer = optim.SGD(net.parameters(), lr = 0.001, momentum = 0.9)\n",
    "optimizer = optim.Adam(net.parameters(), lr = 0.001)"
   ]
  },
  {
   "cell_type": "markdown",
   "id": "93267efb",
   "metadata": {
    "papermill": {
     "duration": 0.013675,
     "end_time": "2023-04-16T20:18:55.702018",
     "exception": false,
     "start_time": "2023-04-16T20:18:55.688343",
     "status": "completed"
    },
    "tags": []
   },
   "source": [
    "Finally, inorder to deal with input data in the float format, we modify the format of our CNN model net to float."
   ]
  },
  {
   "cell_type": "code",
   "execution_count": 20,
   "id": "c35b2c39",
   "metadata": {
    "execution": {
     "iopub.execute_input": "2023-04-16T20:18:55.732244Z",
     "iopub.status.busy": "2023-04-16T20:18:55.731521Z",
     "iopub.status.idle": "2023-04-16T20:18:55.736778Z",
     "shell.execute_reply": "2023-04-16T20:18:55.735985Z"
    },
    "papermill": {
     "duration": 0.022981,
     "end_time": "2023-04-16T20:18:55.738984",
     "exception": false,
     "start_time": "2023-04-16T20:18:55.716003",
     "status": "completed"
    },
    "tags": []
   },
   "outputs": [],
   "source": [
    "net = net.float()"
   ]
  },
  {
   "cell_type": "markdown",
   "id": "fe7ddccb",
   "metadata": {
    "papermill": {
     "duration": 0.013629,
     "end_time": "2023-04-16T20:18:55.766682",
     "exception": false,
     "start_time": "2023-04-16T20:18:55.753053",
     "status": "completed"
    },
    "tags": []
   },
   "source": [
    "# Train Model\n",
    "\n",
    "Definitions:\n",
    "\n",
    "- Epoch- In the context of training a model, epoch is a term used to refer to one iteration where the  model sees the whole training set to update its weights.\n",
    "\n",
    "\n",
    "- Mini batch gradient descent- During the training phase, updating weights is usually not based on the  whole training set at once due to computation complexities or one data point due to noise issues. Instead, the update step is done on mini-batches, where the number of data points in a batch is a hyperparameter that we can tune.\n",
    "\n",
    "\n",
    "- Loss function -In order to quantify how a given model performs, the loss function .L is usually used   to evaluate to what extent the actual outputs y are correctly predicted by the model outputs z.\n",
    "\n",
    "\n",
    "- Cross-entropy lossIn the context of binary classification in neural networks, the cross-entropy loss \n",
    " L(z,y) is commonly used and is defined as follows:\n",
    "\n",
    "\n",
    "We now train the model for 15 epochs and print its loss and test accuracy for each 50 completed mini batches. I used 15 epochs as it provided a satisfactory learning curve for this dataset, but feel free to explore with other number as well."
   ]
  },
  {
   "cell_type": "code",
   "execution_count": 21,
   "id": "c97c2e24",
   "metadata": {
    "execution": {
     "iopub.execute_input": "2023-04-16T20:18:55.796810Z",
     "iopub.status.busy": "2023-04-16T20:18:55.796130Z",
     "iopub.status.idle": "2023-04-16T20:18:55.801124Z",
     "shell.execute_reply": "2023-04-16T20:18:55.800276Z"
    },
    "papermill": {
     "duration": 0.022734,
     "end_time": "2023-04-16T20:18:55.803390",
     "exception": false,
     "start_time": "2023-04-16T20:18:55.780656",
     "status": "completed"
    },
    "tags": []
   },
   "outputs": [],
   "source": [
    "epoch_num = 0\n",
    "actual_loss = 0.0\n",
    "accuracy = 0.0"
   ]
  },
  {
   "cell_type": "code",
   "execution_count": 22,
   "id": "6ac31e2a",
   "metadata": {
    "execution": {
     "iopub.execute_input": "2023-04-16T20:18:55.833724Z",
     "iopub.status.busy": "2023-04-16T20:18:55.833045Z",
     "iopub.status.idle": "2023-04-16T20:27:04.435805Z",
     "shell.execute_reply": "2023-04-16T20:27:04.434458Z"
    },
    "papermill": {
     "duration": 488.638371,
     "end_time": "2023-04-16T20:27:04.455812",
     "exception": false,
     "start_time": "2023-04-16T20:18:55.817441",
     "status": "completed"
    },
    "tags": []
   },
   "outputs": [
    {
     "name": "stdout",
     "output_type": "stream",
     "text": [
      "Starting Epoch: 1...\n",
      "Epoch: 1, Mini-Batches Completed: 50, Loss: 0.654, Test Accuracy: 94.047%\n",
      "Epoch: 1, Mini-Batches Completed: 100, Loss: 0.834, Test Accuracy: 95.886%\n",
      "Epoch: 1, Mini-Batches Completed: 150, Loss: 0.959, Test Accuracy: 97.358%\n",
      "Starting Epoch: 2...\n",
      "Epoch: 2, Mini-Batches Completed: 50, Loss: 0.070, Test Accuracy: 98.161%\n",
      "Epoch: 2, Mini-Batches Completed: 100, Loss: 0.143, Test Accuracy: 98.161%\n",
      "Epoch: 2, Mini-Batches Completed: 150, Loss: 0.201, Test Accuracy: 98.211%\n",
      "Starting Epoch: 3...\n",
      "Epoch: 3, Mini-Batches Completed: 50, Loss: 0.038, Test Accuracy: 98.462%\n",
      "Epoch: 3, Mini-Batches Completed: 100, Loss: 0.079, Test Accuracy: 98.662%\n",
      "Epoch: 3, Mini-Batches Completed: 150, Loss: 0.116, Test Accuracy: 98.746%\n",
      "Starting Epoch: 4...\n",
      "Epoch: 4, Mini-Batches Completed: 50, Loss: 0.029, Test Accuracy: 98.595%\n",
      "Epoch: 4, Mini-Batches Completed: 100, Loss: 0.055, Test Accuracy: 98.880%\n",
      "Epoch: 4, Mini-Batches Completed: 150, Loss: 0.080, Test Accuracy: 98.813%\n",
      "Starting Epoch: 5...\n",
      "Epoch: 5, Mini-Batches Completed: 50, Loss: 0.019, Test Accuracy: 98.946%\n",
      "Epoch: 5, Mini-Batches Completed: 100, Loss: 0.044, Test Accuracy: 98.763%\n",
      "Epoch: 5, Mini-Batches Completed: 150, Loss: 0.062, Test Accuracy: 98.930%\n",
      "Starting Epoch: 6...\n",
      "Epoch: 6, Mini-Batches Completed: 50, Loss: 0.014, Test Accuracy: 99.047%\n",
      "Epoch: 6, Mini-Batches Completed: 100, Loss: 0.030, Test Accuracy: 98.896%\n",
      "Epoch: 6, Mini-Batches Completed: 150, Loss: 0.050, Test Accuracy: 98.913%\n",
      "Starting Epoch: 7...\n",
      "Epoch: 7, Mini-Batches Completed: 50, Loss: 0.013, Test Accuracy: 99.164%\n",
      "Epoch: 7, Mini-Batches Completed: 100, Loss: 0.026, Test Accuracy: 99.013%\n",
      "Epoch: 7, Mini-Batches Completed: 150, Loss: 0.042, Test Accuracy: 98.946%\n",
      "Starting Epoch: 8...\n",
      "Epoch: 8, Mini-Batches Completed: 50, Loss: 0.007, Test Accuracy: 98.930%\n",
      "Epoch: 8, Mini-Batches Completed: 100, Loss: 0.016, Test Accuracy: 99.164%\n",
      "Epoch: 8, Mini-Batches Completed: 150, Loss: 0.023, Test Accuracy: 99.047%\n",
      "Starting Epoch: 9...\n",
      "Epoch: 9, Mini-Batches Completed: 50, Loss: 0.009, Test Accuracy: 99.030%\n",
      "Epoch: 9, Mini-Batches Completed: 100, Loss: 0.016, Test Accuracy: 98.913%\n",
      "Epoch: 9, Mini-Batches Completed: 150, Loss: 0.021, Test Accuracy: 99.013%\n",
      "Starting Epoch: 10...\n",
      "Epoch: 10, Mini-Batches Completed: 50, Loss: 0.007, Test Accuracy: 99.214%\n",
      "Epoch: 10, Mini-Batches Completed: 100, Loss: 0.012, Test Accuracy: 99.197%\n",
      "Epoch: 10, Mini-Batches Completed: 150, Loss: 0.017, Test Accuracy: 98.963%\n",
      "Starting Epoch: 11...\n",
      "Epoch: 11, Mini-Batches Completed: 50, Loss: 0.016, Test Accuracy: 98.896%\n",
      "Epoch: 11, Mini-Batches Completed: 100, Loss: 0.023, Test Accuracy: 99.080%\n",
      "Epoch: 11, Mini-Batches Completed: 150, Loss: 0.033, Test Accuracy: 99.047%\n",
      "Starting Epoch: 12...\n",
      "Epoch: 12, Mini-Batches Completed: 50, Loss: 0.004, Test Accuracy: 99.181%\n",
      "Epoch: 12, Mini-Batches Completed: 100, Loss: 0.010, Test Accuracy: 99.013%\n",
      "Epoch: 12, Mini-Batches Completed: 150, Loss: 0.016, Test Accuracy: 99.231%\n",
      "Starting Epoch: 13...\n",
      "Epoch: 13, Mini-Batches Completed: 50, Loss: 0.002, Test Accuracy: 99.264%\n",
      "Epoch: 13, Mini-Batches Completed: 100, Loss: 0.004, Test Accuracy: 99.264%\n",
      "Epoch: 13, Mini-Batches Completed: 150, Loss: 0.006, Test Accuracy: 99.214%\n",
      "Starting Epoch: 14...\n",
      "Epoch: 14, Mini-Batches Completed: 50, Loss: 0.007, Test Accuracy: 99.114%\n",
      "Epoch: 14, Mini-Batches Completed: 100, Loss: 0.010, Test Accuracy: 99.197%\n",
      "Epoch: 14, Mini-Batches Completed: 150, Loss: 0.014, Test Accuracy: 99.247%\n",
      "Starting Epoch: 15...\n",
      "Epoch: 15, Mini-Batches Completed: 50, Loss: 0.002, Test Accuracy: 99.231%\n",
      "Epoch: 15, Mini-Batches Completed: 100, Loss: 0.003, Test Accuracy: 99.264%\n",
      "Epoch: 15, Mini-Batches Completed: 150, Loss: 0.009, Test Accuracy: 99.214%\n",
      "Training Completed.\n"
     ]
    }
   ],
   "source": [
    "#training model with 15 epochs\n",
    "\n",
    "num_epochs = 15\n",
    "\n",
    "# Create lists to store epoch number, loss, and accuracy for each epoch\n",
    "epoch_log = []\n",
    "loss_log = []\n",
    "accuracy_log = []\n",
    "\n",
    "for epoch in range(num_epochs):\n",
    "    print(f'Starting Epoch: {epoch + 1}...')\n",
    "\n",
    "    running_loss = 0.0   # Initialize running loss to 0 for each epoch\n",
    "\n",
    "    for i, data in enumerate(train_loader, 0):\n",
    "        inputs, labels = data\n",
    "        inputs = inputs.to(device)    # Move inputs to the specified device (e.g., GPU or CPU)\n",
    "        labels = labels.to(device)    # Move labels to the specified device\n",
    "\n",
    "        optimizer.zero_grad()        # Zero the gradients of the optimizer\n",
    "\n",
    "        outputs = net(inputs.float())   # Forward pass to get predicted outputs from the model\n",
    "        loss = criterion(outputs,labels)  # Compute the loss between predicted outputs and ground truth labels\n",
    "        loss.backward()                 # Backward pass to compute gradients\n",
    "        optimizer.step()                # Update model weights using the optimizer\n",
    "\n",
    "        running_loss += loss.item()   # Add the current batch loss to the running loss for this epoch\n",
    "        if i % 50 == 49:\n",
    "            correct = 0\n",
    "            total = 0\n",
    "            \n",
    "            with torch.no_grad():\n",
    "                for data in test_loader:\n",
    "                    images, labels = data\n",
    "                    images = images.to(device)    # Move images to the specified device\n",
    "                    labels = labels.to(device)    # Move labels to the specified device\n",
    "                    outputs = net(images.float())  # Forward pass to get predicted outputs from the model\n",
    "                    \n",
    "                    _, predicted = torch.max(outputs.data, dim = 1)   # Get predicted labels with maximum probability\n",
    "                    total += labels.size(0)   # Update total number of images\n",
    "                    correct += (predicted == labels).sum().item()   # Update correct predictions count\n",
    "                \n",
    "                accuracy = 100 * correct / total   # Calculate accuracy for this epoch\n",
    "                actual_loss = running_loss / 50   # Calculate average loss for this epoch\n",
    "                epoch_num = epoch + 1   # Get current epoch number\n",
    "                print(f'Epoch: {epoch_num}, Mini-Batches Completed: {(i + 1)}, Loss: {actual_loss:.3f}, Test Accuracy: {accuracy:.3f}%')\n",
    "                \n",
    "    epoch_log.append(epoch_num)   # Append epoch number to the epoch log\n",
    "    loss_log.append(actual_loss)   # Append average loss to the loss log\n",
    "    accuracy_log.append(accuracy)   # Append accuracy to the accuracy log\n",
    "\n",
    "\n",
    "print('Training Completed.')"
   ]
  },
  {
   "cell_type": "markdown",
   "id": "3710d5c2",
   "metadata": {
    "papermill": {
     "duration": 0.017571,
     "end_time": "2023-04-16T20:27:04.491043",
     "exception": false,
     "start_time": "2023-04-16T20:27:04.473472",
     "status": "completed"
    },
    "tags": []
   },
   "source": [
    "# Saving Model\n",
    "Let's save our trained model to PATH so that it can be reused."
   ]
  },
  {
   "cell_type": "code",
   "execution_count": 23,
   "id": "0fe5cdf0",
   "metadata": {
    "execution": {
     "iopub.execute_input": "2023-04-16T20:27:04.529545Z",
     "iopub.status.busy": "2023-04-16T20:27:04.529149Z",
     "iopub.status.idle": "2023-04-16T20:27:04.542300Z",
     "shell.execute_reply": "2023-04-16T20:27:04.541281Z"
    },
    "papermill": {
     "duration": 0.035495,
     "end_time": "2023-04-16T20:27:04.544555",
     "exception": false,
     "start_time": "2023-04-16T20:27:04.509060",
     "status": "completed"
    },
    "tags": []
   },
   "outputs": [],
   "source": [
    "PATH = './cnn_net.pth'\n",
    "torch.save(net.state_dict(), PATH)"
   ]
  },
  {
   "cell_type": "markdown",
   "id": "48700ba3",
   "metadata": {
    "papermill": {
     "duration": 0.017383,
     "end_time": "2023-04-16T20:27:04.579868",
     "exception": false,
     "start_time": "2023-04-16T20:27:04.562485",
     "status": "completed"
    },
    "tags": []
   },
   "source": [
    "# Evaluating  Model\n",
    "Reloading Model\n",
    "To evaluate our trained CNN model, we reload our saved model."
   ]
  },
  {
   "cell_type": "code",
   "execution_count": 24,
   "id": "df86baa2",
   "metadata": {
    "execution": {
     "iopub.execute_input": "2023-04-16T20:27:04.618096Z",
     "iopub.status.busy": "2023-04-16T20:27:04.617676Z",
     "iopub.status.idle": "2023-04-16T20:27:04.641267Z",
     "shell.execute_reply": "2023-04-16T20:27:04.640135Z"
    },
    "papermill": {
     "duration": 0.046982,
     "end_time": "2023-04-16T20:27:04.644374",
     "exception": false,
     "start_time": "2023-04-16T20:27:04.597392",
     "status": "completed"
    },
    "tags": []
   },
   "outputs": [
    {
     "data": {
      "text/plain": [
       "<All keys matched successfully>"
      ]
     },
     "execution_count": 24,
     "metadata": {},
     "output_type": "execute_result"
    }
   ],
   "source": [
    "net = Net()\n",
    "net.to(device)\n",
    "net.load_state_dict(torch.load(PATH))"
   ]
  },
  {
   "cell_type": "markdown",
   "id": "7f5ab8da",
   "metadata": {
    "papermill": {
     "duration": 0.017287,
     "end_time": "2023-04-16T20:27:04.679563",
     "exception": false,
     "start_time": "2023-04-16T20:27:04.662276",
     "status": "completed"
    },
    "tags": []
   },
   "source": [
    "# How well our model makes prediction with test data?\n",
    "Now, let us use our test dataset to determine the final accuracy of our trained model."
   ]
  },
  {
   "cell_type": "code",
   "execution_count": 25,
   "id": "cfbb930b",
   "metadata": {
    "execution": {
     "iopub.execute_input": "2023-04-16T20:27:04.717402Z",
     "iopub.status.busy": "2023-04-16T20:27:04.716369Z",
     "iopub.status.idle": "2023-04-16T20:27:06.722334Z",
     "shell.execute_reply": "2023-04-16T20:27:06.720911Z"
    },
    "papermill": {
     "duration": 2.02766,
     "end_time": "2023-04-16T20:27:06.724816",
     "exception": false,
     "start_time": "2023-04-16T20:27:04.697156",
     "status": "completed"
    },
    "tags": []
   },
   "outputs": [
    {
     "name": "stdout",
     "output_type": "stream",
     "text": [
      "Accuracy of the network on test images: 99.3%\n"
     ]
    }
   ],
   "source": [
    "correct = 0   # Initialize count of correct predictions to 0\n",
    "total = 0     # Initialize count of total predictions to 0\n",
    "\n",
    "with torch.no_grad():   # Disable gradient computation for efficiency\n",
    "    for data in test_loader:   # Loop through the test dataset\n",
    "        images, labels = data   # Get images and labels from the test dataset\n",
    "        images = images.to(device)   # Move images to the specified device (e.g., GPU or CPU)\n",
    "        labels = labels.to(device)   # Move labels to the specified device\n",
    "        outputs = net(images.float())   # Forward pass to get predicted outputs from the model\n",
    "        _, predicted = torch.max(outputs.data, 1)   # Get predicted labels with maximum probability\n",
    "        label_size = labels.size(0)   # Get the number of labels in the current batch\n",
    "        total += label_size   # Update total count of predictions\n",
    "        correct += (predicted == labels).sum().item()   # Update count of correct predictions by summing up correct predictions in the current batch\n",
    "\n",
    "accuracy = 100 * correct / total   # Calculate accuracy by dividing correct predictions by total predictions and multiplying by 100 to get percentage\n",
    "\n",
    "print(f'Accuracy of the network on test images: {accuracy:.3}%')"
   ]
  },
  {
   "cell_type": "markdown",
   "id": "e6fc3b9d",
   "metadata": {
    "papermill": {
     "duration": 0.017475,
     "end_time": "2023-04-16T20:27:06.759982",
     "exception": false,
     "start_time": "2023-04-16T20:27:06.742507",
     "status": "completed"
    },
    "tags": []
   },
   "source": [
    "As we observe, our model achieves an accuracy of 99.1% on the test images."
   ]
  },
  {
   "cell_type": "markdown",
   "id": "8686f673",
   "metadata": {
    "papermill": {
     "duration": 0.017423,
     "end_time": "2023-04-16T20:27:06.795313",
     "exception": false,
     "start_time": "2023-04-16T20:27:06.777890",
     "status": "completed"
    },
    "tags": []
   },
   "source": [
    "# Classification Observations\n",
    "Let us also view some of the classifications our model performs on the test data."
   ]
  },
  {
   "cell_type": "code",
   "execution_count": 26,
   "id": "7d51cfd1",
   "metadata": {
    "execution": {
     "iopub.execute_input": "2023-04-16T20:27:06.833179Z",
     "iopub.status.busy": "2023-04-16T20:27:06.832336Z",
     "iopub.status.idle": "2023-04-16T20:27:09.231872Z",
     "shell.execute_reply": "2023-04-16T20:27:09.230772Z"
    },
    "papermill": {
     "duration": 2.421715,
     "end_time": "2023-04-16T20:27:09.234808",
     "exception": false,
     "start_time": "2023-04-16T20:27:06.813093",
     "status": "completed"
    },
    "tags": []
   },
   "outputs": [
    {
     "name": "stdout",
     "output_type": "stream",
     "text": [
      "Actual Label: 6, Predicted Label: 6\n"
     ]
    },
    {
     "data": {
      "image/png": "[encoded data removed]",
      "text/plain": [
       "<Figure size 640x480 with 1 Axes>"
      ]
     },
     "metadata": {},
     "output_type": "display_data"
    },
    {
     "name": "stdout",
     "output_type": "stream",
     "text": [
      "Actual Label: 7, Predicted Label: 7\n"
     ]
    },
    {
     "data": {
      "image/png": "[encoded data removed]",
      "text/plain": [
       "<Figure size 640x480 with 1 Axes>"
      ]
     },
     "metadata": {},
     "output_type": "display_data"
    },
    {
     "name": "stdout",
     "output_type": "stream",
     "text": [
      "Actual Label: 1, Predicted Label: 1\n"
     ]
    },
    {
     "data": {
      "image/png": "[encoded data removed]",
      "text/plain": [
       "<Figure size 640x480 with 1 Axes>"
      ]
     },
     "metadata": {},
     "output_type": "display_data"
    },
    {
     "name": "stdout",
     "output_type": "stream",
     "text": [
      "Actual Label: 6, Predicted Label: 6\n"
     ]
    },
    {
     "data": {
      "image/png": "[encoded data removed]",
      "text/plain": [
       "<Figure size 640x480 with 1 Axes>"
      ]
     },
     "metadata": {},
     "output_type": "display_data"
    },
    {
     "name": "stdout",
     "output_type": "stream",
     "text": [
      "Actual Label: 1, Predicted Label: 1\n"
     ]
    },
    {
     "data": {
      "image/png": "[encoded data removed]",
      "text/plain": [
       "<Figure size 640x480 with 1 Axes>"
      ]
     },
     "metadata": {},
     "output_type": "display_data"
    }
   ],
   "source": [
    "net.eval()   # Set the model to evaluation mode, which disables dropout and batch normalization\n",
    "\n",
    "num_images = 5   # Number of images to visualize\n",
    "\n",
    "with torch.no_grad():   # Disable gradient computation for efficiency\n",
    "    for data in test_loader:   # Loop through the test dataset\n",
    "        images, labels = data   # Get images and labels from the test dataset\n",
    "        images = images.to(device)   # Move images to the specified device (e.g., GPU or CPU)\n",
    "        labels = labels.to(device)   # Move labels to the specified device\n",
    "\n",
    "        outputs = net(images.float())   # Forward pass to get predicted outputs from the model\n",
    "        predictions = torch.argmax(outputs, dim=1)   # Get predicted labels with maximum probability\n",
    "\n",
    "        for i in range(data[0].shape[0]):   # Loop through the images in the current batch\n",
    "            pred = predictions[i].item()   # Get the predicted label for the current image\n",
    "            label = labels[i]   # Get the actual label for the current image\n",
    "            if(num_images > 0):   # Check if the number of images to visualize is greater than 0\n",
    "                print(f'Actual Label: {pred}, Predicted Label: {label}')   # Print the actual and predicted label for the current image\n",
    "                img = np.reshape(images[i].cpu().numpy(),[1,28,28])   # Convert the image tensor to a NumPy array and reshape it to [1, 28, 28] size\n",
    "                visualize_image(img)   # Visualize the image using a custom function (e.g., visualize_image)\n",
    "                num_images -= 1   # Decrement the number of images to visualize by 1\n"
   ]
  },
  {
   "cell_type": "markdown",
   "id": "4cf50ae8",
   "metadata": {
    "papermill": {
     "duration": 0.018591,
     "end_time": "2023-04-16T20:27:09.272619",
     "exception": false,
     "start_time": "2023-04-16T20:27:09.254028",
     "status": "completed"
    },
    "tags": []
   },
   "source": [
    "# Plotting training logs\n",
    "To further understand and analyse the training of our model, let us plot the training logs for loss and accuracy."
   ]
  },
  {
   "cell_type": "code",
   "execution_count": 27,
   "id": "17c7c646",
   "metadata": {
    "execution": {
     "iopub.execute_input": "2023-04-16T20:27:09.313028Z",
     "iopub.status.busy": "2023-04-16T20:27:09.312281Z",
     "iopub.status.idle": "2023-04-16T20:27:09.603273Z",
     "shell.execute_reply": "2023-04-16T20:27:09.602021Z"
    },
    "papermill": {
     "duration": 0.314035,
     "end_time": "2023-04-16T20:27:09.605859",
     "exception": false,
     "start_time": "2023-04-16T20:27:09.291824",
     "status": "completed"
    },
    "tags": []
   },
   "outputs": [
    {
     "data": {
      "image/png": "[encoded data removed]",
      "text/plain": [
       "<Figure size 640x480 with 2 Axes>"
      ]
     },
     "metadata": {},
     "output_type": "display_data"
    }
   ],
   "source": [
    "fig, ax1 = plt.subplots()   # Create a figure with a single subplot and return the figure object and axes object\n",
    "\n",
    "plt.title(\"Accuracy & Loss vs Epoch\")   # Set the title of the plot\n",
    "\n",
    "ax2 = ax1.twinx()   # Create a twin y-axis on the right side of the plot\n",
    "\n",
    "ax1.plot(epoch_log, loss_log, 'g-')   # Plot the epoch vs loss with green color\n",
    "ax2.plot(epoch_log, accuracy_log, 'b-')   # Plot the epoch vs test accuracy with blue color on the twin y-axis\n",
    "\n",
    "ax1.set_xlabel('Epochs')   # Set the x-axis label to 'Epochs'\n",
    "ax1.set_ylabel('Loss', color='g')   # Set the left y-axis label to 'Loss' with green color\n",
    "ax2.set_ylabel('Test Accuracy', color='b')   # Set the right y-axis label to 'Test Accuracy' with blue color\n",
    "\n",
    "plt.show()   # Display the plot\n"
   ]
  },
  {
   "cell_type": "markdown",
   "id": "eea25b52",
   "metadata": {
    "papermill": {
     "duration": 0.019339,
     "end_time": "2023-04-16T20:27:09.645405",
     "exception": false,
     "start_time": "2023-04-16T20:27:09.626066",
     "status": "completed"
    },
    "tags": []
   },
   "source": [
    "Observations: As the Number of Epochs increases i.e number of times you run the dataset through model, test accuracy increases and loss decreases"
   ]
  },
  {
   "cell_type": "markdown",
   "id": "a7399f76",
   "metadata": {
    "papermill": {
     "duration": 0.019229,
     "end_time": "2023-04-16T20:27:09.684813",
     "exception": false,
     "start_time": "2023-04-16T20:27:09.665584",
     "status": "completed"
    },
    "tags": []
   },
   "source": [
    "# Plotting Confusion Matrix\n",
    "Lastly, let us plot the confusion matrix to evaluate the classwise performance of our model and understand where it can do better."
   ]
  },
  {
   "cell_type": "code",
   "execution_count": 28,
   "id": "3a517fc1",
   "metadata": {
    "execution": {
     "iopub.execute_input": "2023-04-16T20:27:09.725833Z",
     "iopub.status.busy": "2023-04-16T20:27:09.725389Z",
     "iopub.status.idle": "2023-04-16T20:27:09.925901Z",
     "shell.execute_reply": "2023-04-16T20:27:09.924941Z"
    },
    "papermill": {
     "duration": 0.22437,
     "end_time": "2023-04-16T20:27:09.928612",
     "exception": false,
     "start_time": "2023-04-16T20:27:09.704242",
     "status": "completed"
    },
    "tags": []
   },
   "outputs": [],
   "source": [
    "from sklearn.metrics import confusion_matrix\n",
    "from sklearn.metrics import classification_report\n",
    "import seaborn as sns"
   ]
  },
  {
   "cell_type": "code",
   "execution_count": 29,
   "id": "24ed2b19",
   "metadata": {
    "execution": {
     "iopub.execute_input": "2023-04-16T20:27:09.969880Z",
     "iopub.status.busy": "2023-04-16T20:27:09.969139Z",
     "iopub.status.idle": "2023-04-16T20:27:11.950191Z",
     "shell.execute_reply": "2023-04-16T20:27:11.948734Z"
    },
    "papermill": {
     "duration": 2.005237,
     "end_time": "2023-04-16T20:27:11.953612",
     "exception": false,
     "start_time": "2023-04-16T20:27:09.948375",
     "status": "completed"
    },
    "tags": []
   },
   "outputs": [],
   "source": [
    "pred_list = torch.zeros(0, dtype=torch.long, device='cpu')   # Create an empty tensor to store predicted labels with dtype long and device CPU\n",
    "label_list = torch.zeros(0, dtype=torch.long, device='cpu')   # Create an empty tensor to store actual labels with dtype long and device CPU\n",
    "\n",
    "with torch.no_grad():   # Turn off gradient computation during inference\n",
    "    for i, (inputs, classes) in enumerate(test_loader):   # Iterate over the test data loader\n",
    "        inputs = inputs.to(device)   # Move inputs to the specified device (e.g., CPU or GPU)\n",
    "        classes = classes.to(device)   # Move actual labels to the specified device\n",
    "        outputs = net(inputs.float())   # Pass inputs through the network to get predicted outputs\n",
    "        _, preds = torch.max(outputs, 1)   # Get the predicted labels by finding the indices of maximum values along the second dimension (class probabilities)\n",
    "\n",
    "        pred_list = torch.cat([pred_list, preds.view(-1).cpu()])   # Concatenate predicted labels to the pred_list tensor, reshaping to 1D and moving to CPU\n",
    "        label_list = torch.cat([label_list, classes.view(-1).cpu()])   # Concatenate actual labels to the label_list tensor, reshaping to 1D and moving to CPU\n"
   ]
  },
  {
   "cell_type": "markdown",
   "id": "bad3fb6c",
   "metadata": {
    "papermill": {
     "duration": 0.019184,
     "end_time": "2023-04-16T20:27:11.994832",
     "exception": false,
     "start_time": "2023-04-16T20:27:11.975648",
     "status": "completed"
    },
    "tags": []
   },
   "source": [
    "\n",
    "\n",
    "Further, let us visualise this confusion matrix."
   ]
  },
  {
   "cell_type": "code",
   "execution_count": 30,
   "id": "3488f5e5",
   "metadata": {
    "execution": {
     "iopub.execute_input": "2023-04-16T20:27:12.036341Z",
     "iopub.status.busy": "2023-04-16T20:27:12.035317Z",
     "iopub.status.idle": "2023-04-16T20:27:12.045612Z",
     "shell.execute_reply": "2023-04-16T20:27:12.044428Z"
    },
    "papermill": {
     "duration": 0.033921,
     "end_time": "2023-04-16T20:27:12.048320",
     "exception": false,
     "start_time": "2023-04-16T20:27:12.014399",
     "status": "completed"
    },
    "tags": []
   },
   "outputs": [],
   "source": [
    "conf_mat = confusion_matrix(label_list.numpy(), pred_list.numpy())   # Compute the confusion matrix using predicted and actual labels converted to NumPy arrays\n",
    "class_names = (0, 1, 2, 3, 4, 5, 6, 7, 8, 9)   # Define the class names as a tuple of integers from 0 to 9\n",
    "dataframe = pd.DataFrame(conf_mat, index=class_names, columns=class_names)   # Create a DataFrame from the confusion matrix, with class names as row and column indices\n"
   ]
  },
  {
   "cell_type": "code",
   "execution_count": 31,
   "id": "9f2dd302",
   "metadata": {
    "execution": {
     "iopub.execute_input": "2023-04-16T20:27:12.090483Z",
     "iopub.status.busy": "2023-04-16T20:27:12.089342Z",
     "iopub.status.idle": "2023-04-16T20:27:12.737005Z",
     "shell.execute_reply": "2023-04-16T20:27:12.735461Z"
    },
    "papermill": {
     "duration": 0.67116,
     "end_time": "2023-04-16T20:27:12.739647",
     "exception": false,
     "start_time": "2023-04-16T20:27:12.068487",
     "status": "completed"
    },
    "tags": []
   },
   "outputs": [
    {
     "data": {
      "image/png": "[encoded data removed]",
      "text/plain": [
       "<Figure size 800x600 with 1 Axes>"
      ]
     },
     "metadata": {},
     "output_type": "display_data"
    }
   ],
   "source": [
    "#plotting confusion matrix\n",
    "plt.figure(figsize=(8, 6))\n",
    "sns.heatmap(dataframe, annot=True, cbar=None,cmap=\"YlGnBu\",fmt=\"d\")\n",
    " \n",
    "plt.title(\"Confusion Matrix\"), plt.tight_layout()\n",
    " \n",
    "plt.ylabel(\"True Class\"), \n",
    "plt.xlabel(\"Predicted Class\")\n",
    "plt.show()"
   ]
  },
  {
   "cell_type": "markdown",
   "id": "7a3ccda5",
   "metadata": {
    "papermill": {
     "duration": 0.019903,
     "end_time": "2023-04-16T20:27:12.780135",
     "exception": false,
     "start_time": "2023-04-16T20:27:12.760232",
     "status": "completed"
    },
    "tags": []
   },
   "source": [
    "## Observations:\n",
    "\n",
    "He we infer that , 558 times the label was 0 and our model predicted it as 0.Similarly 567 times label was 1 and and model predicted 1. Highest value is 4 , which means four times the label was 8 (True class) and our model predicted it 3, which is considered as error. "
   ]
  },
  {
   "cell_type": "markdown",
   "id": "0a28b187",
   "metadata": {
    "papermill": {
     "duration": 0.01948,
     "end_time": "2023-04-16T20:27:12.819809",
     "exception": false,
     "start_time": "2023-04-16T20:27:12.800329",
     "status": "completed"
    },
    "tags": []
   },
   "source": [
    "# Conclusion\n",
    "\n",
    "- The accuracy on test test is 99.1% which is really good for CNN\n",
    "- CNNs, or Convolutional Neural Networks, are specialized neural networks for processing data with a known grid-like topology, such as images or time-series data.\n",
    "- CNNs consist of convolutional layers, pooling layers, and fully connected layers, and are commonly used in computer vision and other areas of deep learning.\n",
    "- Convolutional layers perform convolution on the input data to extract local patterns or features.\n",
    "- Pooling layers downsample the spatial dimensions of the data while preserving important features.\n",
    "- Activation functions, such as ReLU, sigmoid, and tanh, introduce non-linearity into the network.\n",
    "- We have successfully created a  CNN model using Pytorch."
   ]
  },
  {
   "cell_type": "markdown",
   "id": "ce9fe08c",
   "metadata": {
    "papermill": {
     "duration": 0.019765,
     "end_time": "2023-04-16T20:27:12.859550",
     "exception": false,
     "start_time": "2023-04-16T20:27:12.839785",
     "status": "completed"
    },
    "tags": []
   },
   "source": [
    "# References\n",
    "- https://towardsdatascience.com/convolutional-neural-networks-explained-9cc5188c4939\n",
    "- https://www.youtube.com/watch?v=iqQgED9vV7k\n",
    "- https://stanford.edu/~shervine/blog/pytorch-how-to-generate-data-parallel"
   ]
  }
 ],
 "metadata": {
  "kernelspec": {
   "display_name": "Python 3",
   "language": "python",
   "name": "python3"
  },
  "language_info": {
   "codemirror_mode": {
    "name": "ipython",
    "version": 3
   },
   "file_extension": ".py",
   "mimetype": "text/x-python",
   "name": "python",
   "nbconvert_exporter": "python",
   "pygments_lexer": "ipython3",
   "version": "3.7.12"
  },
  "papermill": {
   "default_parameters": {},
   "duration": 516.238329,
   "end_time": "2023-04-16T20:27:13.903943",
   "environment_variables": {},
   "exception": null,
   "input_path": "__notebook__.ipynb",
   "output_path": "__notebook__.ipynb",
   "parameters": {},
   "start_time": "2023-04-16T20:18:37.665614",
   "version": "2.4.0"
  }
 },
 "nbformat": 4,
 "nbformat_minor": 5
}
