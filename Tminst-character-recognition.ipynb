{
 "cells": [
  {
   "cell_type": "markdown",
   "id": "9a111563",
   "metadata": {
    "papermill": {
     "duration": 0.012105,
     "end_time": "2023-04-16T23:47:18.409833",
     "exception": false,
     "start_time": "2023-04-16T23:47:18.397728",
     "status": "completed"
    },
    "tags": []
   },
   "source": []
  },
  {
   "cell_type": "markdown",
   "id": "a5a2e380",
   "metadata": {
    "papermill": {
     "duration": 0.010411,
     "end_time": "2023-04-16T23:47:18.431376",
     "exception": false,
     "start_time": "2023-04-16T23:47:18.420965",
     "status": "completed"
    },
    "tags": []
   },
   "source": [
    "# What is Handwritten Digit Recognition?\n",
    "Handwritten digit recognition is the ability of computers to recognize human handwritten digits. It is a hard task for the machine because handwritten digits are not perfect and can vary from person to person. Handwritten digit recognition is the solution to this problem which uses the image of a digit and recognizes the digit present in the image."
   ]
  },
  {
   "cell_type": "markdown",
   "id": "f9cb4e7a",
   "metadata": {
    "papermill": {
     "duration": 0.010344,
     "end_time": "2023-04-16T23:47:18.452455",
     "exception": false,
     "start_time": "2023-04-16T23:47:18.442111",
     "status": "completed"
    },
    "tags": []
   },
   "source": [
    "# About the Dataset\n",
    "\n",
    "This dataset is inspired by the MNIST database for handwritten digits. It consists of images representing digits from 0-9 produced using 2,990 google fonts files.\n",
    "\n",
    "The dataset consists of a single file:\n",
    "\n",
    "TMNIST_Data.csv\n",
    "\n",
    "This file consists of 29,900 examples with labels and font names. Each row contains 786 elements: the first element represents the font name (ex-Chivo-Italic, Sen-Bold), the second element represents the label (a number from 0-9) and the remaining 784 elements represent the grayscale pixel values (from 0-255) for the 28x28 pixel image.\n",
    "\n"
   ]
  },
  {
   "cell_type": "markdown",
   "id": "fc10dce1",
   "metadata": {
    "papermill": {
     "duration": 0.01168,
     "end_time": "2023-04-16T23:47:18.475160",
     "exception": false,
     "start_time": "2023-04-16T23:47:18.463480",
     "status": "completed"
    },
    "tags": []
   },
   "source": [
    "# What is Convolutional Neural Network\n",
    "\n",
    "A Convolutional Neural Network (ConvNet/CNN) is a Deep Learning algorithm that can take in an input image, assign importance (learnable weights and biases) to various aspects/objects in the image, and be able to differentiate one from the other. The pre-processing required in a ConvNet is much lower as compared to other classification algorithms. While in primitive methods filters are hand-engineered, with enough training, ConvNets have the ability to learn these filters/characteristics.\n",
    "\n",
    "A ConvNet's architecture is influenced by how the Visual Cortex is organised and is similar to the connectivity network of neurons in the human brain. While there are many complex CNN architectures like Resnet, Inception V3 and so on designed to achieve state-of-the-art performance on real world images, in this tutorial, we will create a custom Convolutional Neural Network Architecture using Pytorch.\n",
    "\n",
    "We will be training and testing our model on the Typeface MNIST Dataset, which consists of over 29,000 samples of images of 0-9 digits in various fonts along with their labels."
   ]
  },
  {
   "cell_type": "markdown",
   "id": "9c20515a",
   "metadata": {
    "papermill": {
     "duration": 0.010722,
     "end_time": "2023-04-16T23:47:18.497119",
     "exception": false,
     "start_time": "2023-04-16T23:47:18.486397",
     "status": "completed"
    },
    "tags": []
   },
   "source": [
    "#                          Architecture of Neural Network\n",
    "\n",
    "<img src= \"https://upload.wikimedia.org/wikipedia/commons/b/b6/Artificial_neural_network.png\" alt =\"Titanic\" style='width: 700px;'>\n",
    "\n"
   ]
  },
  {
   "cell_type": "markdown",
   "id": "c47f40fc",
   "metadata": {
    "papermill": {
     "duration": 0.010517,
     "end_time": "2023-04-16T23:47:18.519199",
     "exception": false,
     "start_time": "2023-04-16T23:47:18.508682",
     "status": "completed"
    },
    "tags": []
   },
   "source": []
  },
  {
   "cell_type": "markdown",
   "id": "e3e3cd19",
   "metadata": {
    "papermill": {
     "duration": 0.010706,
     "end_time": "2023-04-16T23:47:18.540709",
     "exception": false,
     "start_time": "2023-04-16T23:47:18.530003",
     "status": "completed"
    },
    "tags": []
   },
   "source": [
    "This notebook is further divided into the following sections.\n",
    "\n",
    "- Importing required Libraries\n",
    "- Loading the dataset\n",
    "- Creating a CNN Model\n",
    "- Training our model\n",
    "- Evaluating our model"
   ]
  },
  {
   "cell_type": "markdown",
   "id": "1e8b09dd",
   "metadata": {
    "papermill": {
     "duration": 0.010329,
     "end_time": "2023-04-16T23:47:18.561592",
     "exception": false,
     "start_time": "2023-04-16T23:47:18.551263",
     "status": "completed"
    },
    "tags": []
   },
   "source": [
    "# Importing All necessary librarirs"
   ]
  },
  {
   "cell_type": "markdown",
   "id": "646ae302",
   "metadata": {
    "papermill": {
     "duration": 0.010309,
     "end_time": "2023-04-16T23:47:18.582506",
     "exception": false,
     "start_time": "2023-04-16T23:47:18.572197",
     "status": "completed"
    },
    "tags": []
   },
   "source": []
  },
  {
   "cell_type": "code",
   "execution_count": 1,
   "id": "6535f21d",
   "metadata": {
    "execution": {
     "iopub.execute_input": "2023-04-16T23:47:18.606726Z",
     "iopub.status.busy": "2023-04-16T23:47:18.605830Z",
     "iopub.status.idle": "2023-04-16T23:47:20.501701Z",
     "shell.execute_reply": "2023-04-16T23:47:20.500637Z"
    },
    "papermill": {
     "duration": 1.911113,
     "end_time": "2023-04-16T23:47:20.504198",
     "exception": false,
     "start_time": "2023-04-16T23:47:18.593085",
     "status": "completed"
    },
    "tags": []
   },
   "outputs": [],
   "source": [
    "\n",
    "#import pytorch\n",
    "import torch\n",
    "\n",
    "# torch functionalities used for building our CNN Model\n",
    "import torch.optim as optim\n",
    "import torch.nn as nn\n",
    "import torch.nn.functional as F\n",
    "\n",
    "import torch.utils.data as data_utils"
   ]
  },
  {
   "cell_type": "code",
   "execution_count": 2,
   "id": "4b5be40b",
   "metadata": {
    "execution": {
     "iopub.execute_input": "2023-04-16T23:47:20.529261Z",
     "iopub.status.busy": "2023-04-16T23:47:20.528401Z",
     "iopub.status.idle": "2023-04-16T23:47:21.405843Z",
     "shell.execute_reply": "2023-04-16T23:47:21.404973Z"
    },
    "papermill": {
     "duration": 0.892759,
     "end_time": "2023-04-16T23:47:21.408263",
     "exception": false,
     "start_time": "2023-04-16T23:47:20.515504",
     "status": "completed"
    },
    "tags": []
   },
   "outputs": [],
   "source": [
    "import pandas as pd\n",
    "import numpy as np\n",
    "\n",
    "import matplotlib.pyplot as plt\n",
    "\n",
    "from sklearn.model_selection import train_test_split"
   ]
  },
  {
   "cell_type": "markdown",
   "id": "dbe5caa0",
   "metadata": {
    "papermill": {
     "duration": 0.010658,
     "end_time": "2023-04-16T23:47:21.429946",
     "exception": false,
     "start_time": "2023-04-16T23:47:21.419288",
     "status": "completed"
    },
    "tags": []
   },
   "source": [
    "# How to train your neural net faster?\n",
    "We saw that the computationally intensive part of neural network is made up of multiple matrix multiplications. So how can we make it faster?"
   ]
  },
  {
   "cell_type": "markdown",
   "id": "5517ec87",
   "metadata": {
    "papermill": {
     "duration": 0.011144,
     "end_time": "2023-04-16T23:47:21.451869",
     "exception": false,
     "start_time": "2023-04-16T23:47:21.440725",
     "status": "completed"
    },
    "tags": []
   },
   "source": [
    "Since we will be building a CNN model, a GPU is required to speed up the training process. Before starting with the implementation, we verify the presence of an active GPU and set the device accordingly."
   ]
  },
  {
   "cell_type": "code",
   "execution_count": 3,
   "id": "0e8b0e1a",
   "metadata": {
    "execution": {
     "iopub.execute_input": "2023-04-16T23:47:21.476645Z",
     "iopub.status.busy": "2023-04-16T23:47:21.476057Z",
     "iopub.status.idle": "2023-04-16T23:47:21.480841Z",
     "shell.execute_reply": "2023-04-16T23:47:21.480070Z"
    },
    "papermill": {
     "duration": 0.019386,
     "end_time": "2023-04-16T23:47:21.482670",
     "exception": false,
     "start_time": "2023-04-16T23:47:21.463284",
     "status": "completed"
    },
    "tags": []
   },
   "outputs": [],
   "source": [
    "if torch.cuda.is_available():\n",
    "    device = 'cuda'\n",
    "else:\n",
    "    device = 'cpu'"
   ]
  },
  {
   "cell_type": "code",
   "execution_count": 4,
   "id": "df3219ba",
   "metadata": {
    "execution": {
     "iopub.execute_input": "2023-04-16T23:47:21.507346Z",
     "iopub.status.busy": "2023-04-16T23:47:21.506240Z",
     "iopub.status.idle": "2023-04-16T23:47:23.814769Z",
     "shell.execute_reply": "2023-04-16T23:47:23.813691Z"
    },
    "papermill": {
     "duration": 2.323463,
     "end_time": "2023-04-16T23:47:23.817288",
     "exception": false,
     "start_time": "2023-04-16T23:47:21.493825",
     "status": "completed"
    },
    "tags": []
   },
   "outputs": [],
   "source": [
    "\n",
    "#Reading data into pandas dataframe.\n",
    "#data_path = \"/kaggle/input/94-character-tmnist/94_character_TMNIST.csv\"\n",
    "data_path = \"/kaggle/input/tmnist-typeface-mnist/TMNIST_Data.csv\"\n",
    "data = pd.read_csv(data_path)\n"
   ]
  },
  {
   "cell_type": "markdown",
   "id": "5aa8d044",
   "metadata": {
    "papermill": {
     "duration": 0.011032,
     "end_time": "2023-04-16T23:47:23.839633",
     "exception": false,
     "start_time": "2023-04-16T23:47:23.828601",
     "status": "completed"
    },
    "tags": []
   },
   "source": [
    "# Performing EDA"
   ]
  },
  {
   "cell_type": "code",
   "execution_count": 5,
   "id": "15fa1241",
   "metadata": {
    "execution": {
     "iopub.execute_input": "2023-04-16T23:47:23.862488Z",
     "iopub.status.busy": "2023-04-16T23:47:23.861746Z",
     "iopub.status.idle": "2023-04-16T23:47:23.890703Z",
     "shell.execute_reply": "2023-04-16T23:47:23.889756Z"
    },
    "papermill": {
     "duration": 0.042389,
     "end_time": "2023-04-16T23:47:23.892622",
     "exception": false,
     "start_time": "2023-04-16T23:47:23.850233",
     "status": "completed"
    },
    "tags": []
   },
   "outputs": [
    {
     "data": {
      "text/html": [
       "<div>\n",
       "<style scoped>\n",
       "    .dataframe tbody tr th:only-of-type {\n",
       "        vertical-align: middle;\n",
       "    }\n",
       "\n",
       "    .dataframe tbody tr th {\n",
       "        vertical-align: top;\n",
       "    }\n",
       "\n",
       "    .dataframe thead th {\n",
       "        text-align: right;\n",
       "    }\n",
       "</style>\n",
       "<table border=\"1\" class=\"dataframe\">\n",
       "  <thead>\n",
       "    <tr style=\"text-align: right;\">\n",
       "      <th></th>\n",
       "      <th>names</th>\n",
       "      <th>labels</th>\n",
       "      <th>1</th>\n",
       "      <th>2</th>\n",
       "      <th>3</th>\n",
       "      <th>4</th>\n",
       "      <th>5</th>\n",
       "      <th>6</th>\n",
       "      <th>7</th>\n",
       "      <th>8</th>\n",
       "      <th>...</th>\n",
       "      <th>775</th>\n",
       "      <th>776</th>\n",
       "      <th>777</th>\n",
       "      <th>778</th>\n",
       "      <th>779</th>\n",
       "      <th>780</th>\n",
       "      <th>781</th>\n",
       "      <th>782</th>\n",
       "      <th>783</th>\n",
       "      <th>784</th>\n",
       "    </tr>\n",
       "  </thead>\n",
       "  <tbody>\n",
       "    <tr>\n",
       "      <th>0</th>\n",
       "      <td>GrandHotel-Regular</td>\n",
       "      <td>2</td>\n",
       "      <td>0</td>\n",
       "      <td>0</td>\n",
       "      <td>0</td>\n",
       "      <td>0</td>\n",
       "      <td>0</td>\n",
       "      <td>0</td>\n",
       "      <td>0</td>\n",
       "      <td>0</td>\n",
       "      <td>...</td>\n",
       "      <td>0</td>\n",
       "      <td>0</td>\n",
       "      <td>0</td>\n",
       "      <td>0</td>\n",
       "      <td>0</td>\n",
       "      <td>0</td>\n",
       "      <td>0</td>\n",
       "      <td>0</td>\n",
       "      <td>0</td>\n",
       "      <td>0</td>\n",
       "    </tr>\n",
       "    <tr>\n",
       "      <th>1</th>\n",
       "      <td>EncodeSansCondensed-Medium</td>\n",
       "      <td>8</td>\n",
       "      <td>0</td>\n",
       "      <td>0</td>\n",
       "      <td>0</td>\n",
       "      <td>0</td>\n",
       "      <td>0</td>\n",
       "      <td>0</td>\n",
       "      <td>0</td>\n",
       "      <td>0</td>\n",
       "      <td>...</td>\n",
       "      <td>0</td>\n",
       "      <td>0</td>\n",
       "      <td>0</td>\n",
       "      <td>0</td>\n",
       "      <td>0</td>\n",
       "      <td>0</td>\n",
       "      <td>0</td>\n",
       "      <td>0</td>\n",
       "      <td>0</td>\n",
       "      <td>0</td>\n",
       "    </tr>\n",
       "    <tr>\n",
       "      <th>2</th>\n",
       "      <td>Varela-Regular</td>\n",
       "      <td>4</td>\n",
       "      <td>0</td>\n",
       "      <td>0</td>\n",
       "      <td>0</td>\n",
       "      <td>0</td>\n",
       "      <td>0</td>\n",
       "      <td>0</td>\n",
       "      <td>0</td>\n",
       "      <td>0</td>\n",
       "      <td>...</td>\n",
       "      <td>0</td>\n",
       "      <td>0</td>\n",
       "      <td>0</td>\n",
       "      <td>0</td>\n",
       "      <td>0</td>\n",
       "      <td>0</td>\n",
       "      <td>0</td>\n",
       "      <td>0</td>\n",
       "      <td>0</td>\n",
       "      <td>0</td>\n",
       "    </tr>\n",
       "    <tr>\n",
       "      <th>3</th>\n",
       "      <td>ArefRuqaa-Bold</td>\n",
       "      <td>3</td>\n",
       "      <td>0</td>\n",
       "      <td>0</td>\n",
       "      <td>0</td>\n",
       "      <td>0</td>\n",
       "      <td>0</td>\n",
       "      <td>0</td>\n",
       "      <td>0</td>\n",
       "      <td>0</td>\n",
       "      <td>...</td>\n",
       "      <td>0</td>\n",
       "      <td>0</td>\n",
       "      <td>0</td>\n",
       "      <td>0</td>\n",
       "      <td>0</td>\n",
       "      <td>0</td>\n",
       "      <td>0</td>\n",
       "      <td>0</td>\n",
       "      <td>0</td>\n",
       "      <td>0</td>\n",
       "    </tr>\n",
       "    <tr>\n",
       "      <th>4</th>\n",
       "      <td>KulimPark-Regular</td>\n",
       "      <td>1</td>\n",
       "      <td>0</td>\n",
       "      <td>0</td>\n",
       "      <td>0</td>\n",
       "      <td>0</td>\n",
       "      <td>0</td>\n",
       "      <td>0</td>\n",
       "      <td>0</td>\n",
       "      <td>0</td>\n",
       "      <td>...</td>\n",
       "      <td>0</td>\n",
       "      <td>0</td>\n",
       "      <td>0</td>\n",
       "      <td>0</td>\n",
       "      <td>0</td>\n",
       "      <td>0</td>\n",
       "      <td>0</td>\n",
       "      <td>0</td>\n",
       "      <td>0</td>\n",
       "      <td>0</td>\n",
       "    </tr>\n",
       "  </tbody>\n",
       "</table>\n",
       "<p>5 rows × 786 columns</p>\n",
       "</div>"
      ],
      "text/plain": [
       "                        names  labels  1  2  3  4  5  6  7  8  ...  775  776  \\\n",
       "0          GrandHotel-Regular       2  0  0  0  0  0  0  0  0  ...    0    0   \n",
       "1  EncodeSansCondensed-Medium       8  0  0  0  0  0  0  0  0  ...    0    0   \n",
       "2              Varela-Regular       4  0  0  0  0  0  0  0  0  ...    0    0   \n",
       "3              ArefRuqaa-Bold       3  0  0  0  0  0  0  0  0  ...    0    0   \n",
       "4           KulimPark-Regular       1  0  0  0  0  0  0  0  0  ...    0    0   \n",
       "\n",
       "   777  778  779  780  781  782  783  784  \n",
       "0    0    0    0    0    0    0    0    0  \n",
       "1    0    0    0    0    0    0    0    0  \n",
       "2    0    0    0    0    0    0    0    0  \n",
       "3    0    0    0    0    0    0    0    0  \n",
       "4    0    0    0    0    0    0    0    0  \n",
       "\n",
       "[5 rows x 786 columns]"
      ]
     },
     "execution_count": 5,
     "metadata": {},
     "output_type": "execute_result"
    }
   ],
   "source": [
    "#A view of dataset.\n",
    "data.head()"
   ]
  },
  {
   "cell_type": "code",
   "execution_count": 6,
   "id": "240c6266",
   "metadata": {
    "execution": {
     "iopub.execute_input": "2023-04-16T23:47:23.915777Z",
     "iopub.status.busy": "2023-04-16T23:47:23.915116Z",
     "iopub.status.idle": "2023-04-16T23:47:23.921736Z",
     "shell.execute_reply": "2023-04-16T23:47:23.920900Z"
    },
    "papermill": {
     "duration": 0.020141,
     "end_time": "2023-04-16T23:47:23.923661",
     "exception": false,
     "start_time": "2023-04-16T23:47:23.903520",
     "status": "completed"
    },
    "tags": []
   },
   "outputs": [
    {
     "name": "stdout",
     "output_type": "stream",
     "text": [
      "The Shape of the Dataframe is: (29900, 786)\n",
      "Number of Samples: 29900\n"
     ]
    }
   ],
   "source": [
    "#Determining Shape and Number of Sample in the Dataset\n",
    "print(f\"The Shape of the Dataframe is: {data.shape}\") #Number of Samples, Number of Pixels(Features)\n",
    "print(f\"Number of Samples: {data.shape[0]}\")"
   ]
  },
  {
   "cell_type": "code",
   "execution_count": 7,
   "id": "4192bee1",
   "metadata": {
    "execution": {
     "iopub.execute_input": "2023-04-16T23:47:23.947340Z",
     "iopub.status.busy": "2023-04-16T23:47:23.946787Z",
     "iopub.status.idle": "2023-04-16T23:47:23.956263Z",
     "shell.execute_reply": "2023-04-16T23:47:23.955374Z"
    },
    "papermill": {
     "duration": 0.023586,
     "end_time": "2023-04-16T23:47:23.958299",
     "exception": false,
     "start_time": "2023-04-16T23:47:23.934713",
     "status": "completed"
    },
    "tags": []
   },
   "outputs": [
    {
     "name": "stdout",
     "output_type": "stream",
     "text": [
      "Number of unique character present in the Dataset: 10\n"
     ]
    }
   ],
   "source": [
    "# Number of unique character in the Dataframe\n",
    "print(f\"Number of unique character present in the Dataset: {len(data.labels.unique())}\") #Number of Classes\n"
   ]
  },
  {
   "cell_type": "code",
   "execution_count": 8,
   "id": "aa24185b",
   "metadata": {
    "execution": {
     "iopub.execute_input": "2023-04-16T23:47:23.983146Z",
     "iopub.status.busy": "2023-04-16T23:47:23.982167Z",
     "iopub.status.idle": "2023-04-16T23:47:23.990375Z",
     "shell.execute_reply": "2023-04-16T23:47:23.989727Z"
    },
    "papermill": {
     "duration": 0.02225,
     "end_time": "2023-04-16T23:47:23.991984",
     "exception": false,
     "start_time": "2023-04-16T23:47:23.969734",
     "status": "completed"
    },
    "tags": []
   },
   "outputs": [
    {
     "data": {
      "text/plain": [
       "2    2990\n",
       "8    2990\n",
       "4    2990\n",
       "3    2990\n",
       "1    2990\n",
       "6    2990\n",
       "5    2990\n",
       "9    2990\n",
       "7    2990\n",
       "0    2990\n",
       "Name: labels, dtype: int64"
      ]
     },
     "execution_count": 8,
     "metadata": {},
     "output_type": "execute_result"
    }
   ],
   "source": [
    "# Label distribution\n",
    "data.labels.value_counts()"
   ]
  },
  {
   "cell_type": "markdown",
   "id": "757b57b4",
   "metadata": {
    "papermill": {
     "duration": 0.01121,
     "end_time": "2023-04-16T23:47:24.014387",
     "exception": false,
     "start_time": "2023-04-16T23:47:24.003177",
     "status": "completed"
    },
    "tags": []
   },
   "source": [
    "We observe that the labels are equally distributed with 2990 instances of each class. Hence, our dataset is balanced.\n",
    "\n",
    "Now, let us reshape and modify our data so that it can be used as an input for our model. We normalise the data and reshape it into a 4 dimensional array such that it represents images stacked on to each other. We also reshape our labels into a 1 dimensional array."
   ]
  },
  {
   "cell_type": "code",
   "execution_count": 9,
   "id": "8eb583fe",
   "metadata": {
    "execution": {
     "iopub.execute_input": "2023-04-16T23:47:24.038507Z",
     "iopub.status.busy": "2023-04-16T23:47:24.037905Z",
     "iopub.status.idle": "2023-04-16T23:47:24.168150Z",
     "shell.execute_reply": "2023-04-16T23:47:24.167191Z"
    },
    "papermill": {
     "duration": 0.144931,
     "end_time": "2023-04-16T23:47:24.170776",
     "exception": false,
     "start_time": "2023-04-16T23:47:24.025845",
     "status": "completed"
    },
    "tags": []
   },
   "outputs": [],
   "source": [
    "#Dropping redundant coloums like names and labels from the training frames and keeping only pixel values\n",
    "X = data.drop(columns = {'names', 'labels'})/255\n",
    "X = X.values.reshape(X.shape[0], 1, 28, 28)\n",
    "y = data[['labels']].values.reshape((-1,))"
   ]
  },
  {
   "cell_type": "markdown",
   "id": "70b6ea44",
   "metadata": {
    "papermill": {
     "duration": 0.011001,
     "end_time": "2023-04-16T23:47:24.193729",
     "exception": false,
     "start_time": "2023-04-16T23:47:24.182728",
     "status": "completed"
    },
    "tags": []
   },
   "source": [
    "Before proceeding, we split our data into training and testing sets using an 80:20 proportion."
   ]
  },
  {
   "cell_type": "code",
   "execution_count": 10,
   "id": "26ef6e5e",
   "metadata": {
    "execution": {
     "iopub.execute_input": "2023-04-16T23:47:24.217459Z",
     "iopub.status.busy": "2023-04-16T23:47:24.217034Z",
     "iopub.status.idle": "2023-04-16T23:47:24.481815Z",
     "shell.execute_reply": "2023-04-16T23:47:24.480917Z"
    },
    "papermill": {
     "duration": 0.279328,
     "end_time": "2023-04-16T23:47:24.484163",
     "exception": false,
     "start_time": "2023-04-16T23:47:24.204835",
     "status": "completed"
    },
    "tags": []
   },
   "outputs": [],
   "source": [
    "#split data into training and testing sets using the train_test_split\n",
    "X_train, X_test, y_train, y_test = train_test_split(X, y, test_size = 0.2, random_state = 42)"
   ]
  },
  {
   "cell_type": "markdown",
   "id": "a7c041d2",
   "metadata": {
    "papermill": {
     "duration": 0.011347,
     "end_time": "2023-04-16T23:47:24.507113",
     "exception": false,
     "start_time": "2023-04-16T23:47:24.495766",
     "status": "completed"
    },
    "tags": []
   },
   "source": [
    "We now convert them to numpy arrays so that they can be further worked with."
   ]
  },
  {
   "cell_type": "code",
   "execution_count": 11,
   "id": "4ff5aa90",
   "metadata": {
    "execution": {
     "iopub.execute_input": "2023-04-16T23:47:24.531672Z",
     "iopub.status.busy": "2023-04-16T23:47:24.530756Z",
     "iopub.status.idle": "2023-04-16T23:47:24.542220Z",
     "shell.execute_reply": "2023-04-16T23:47:24.541464Z"
    },
    "papermill": {
     "duration": 0.025853,
     "end_time": "2023-04-16T23:47:24.544322",
     "exception": false,
     "start_time": "2023-04-16T23:47:24.518469",
     "status": "completed"
    },
    "tags": []
   },
   "outputs": [],
   "source": [
    "# Convert X_train, X_test, y_train, and y_test to PyTorch tensors\n",
    "X_train = torch.from_numpy(X_train)\n",
    "X_test = torch.from_numpy(X_test)\n",
    "y_train = torch.from_numpy(y_train)\n",
    "y_test = torch.from_numpy(y_test)"
   ]
  },
  {
   "cell_type": "markdown",
   "id": "f065d8a6",
   "metadata": {
    "papermill": {
     "duration": 0.010988,
     "end_time": "2023-04-16T23:47:24.566381",
     "exception": false,
     "start_time": "2023-04-16T23:47:24.555393",
     "status": "completed"
    },
    "tags": []
   },
   "source": [
    "Before proceeding, we split our data into training and testing sets using an 80:20 proportion."
   ]
  },
  {
   "cell_type": "code",
   "execution_count": 12,
   "id": "3001c078",
   "metadata": {
    "execution": {
     "iopub.execute_input": "2023-04-16T23:47:24.590155Z",
     "iopub.status.busy": "2023-04-16T23:47:24.589862Z",
     "iopub.status.idle": "2023-04-16T23:47:24.593967Z",
     "shell.execute_reply": "2023-04-16T23:47:24.592996Z"
    },
    "papermill": {
     "duration": 0.019093,
     "end_time": "2023-04-16T23:47:24.596552",
     "exception": false,
     "start_time": "2023-04-16T23:47:24.577459",
     "status": "completed"
    },
    "tags": []
   },
   "outputs": [
    {
     "name": "stdout",
     "output_type": "stream",
     "text": [
      "torch.Size([23920, 1, 28, 28]) torch.Size([23920])\n"
     ]
    }
   ],
   "source": [
    "#printing shape\n",
    "print(X_train.shape, y_train.shape)"
   ]
  },
  {
   "cell_type": "markdown",
   "id": "18d73260",
   "metadata": {
    "papermill": {
     "duration": 0.010978,
     "end_time": "2023-04-16T23:47:24.618855",
     "exception": false,
     "start_time": "2023-04-16T23:47:24.607877",
     "status": "completed"
    },
    "tags": []
   },
   "source": [
    "We verify our steps by checking the shape of our newly created torch tensors.\n",
    "\n",
    "Now, let us visualise a sample image from our processed data."
   ]
  },
  {
   "cell_type": "code",
   "execution_count": 13,
   "id": "85d0a0c8",
   "metadata": {
    "execution": {
     "iopub.execute_input": "2023-04-16T23:47:24.643748Z",
     "iopub.status.busy": "2023-04-16T23:47:24.643443Z",
     "iopub.status.idle": "2023-04-16T23:47:24.752634Z",
     "shell.execute_reply": "2023-04-16T23:47:24.751355Z"
    },
    "papermill": {
     "duration": 0.125892,
     "end_time": "2023-04-16T23:47:24.756059",
     "exception": false,
     "start_time": "2023-04-16T23:47:24.630167",
     "status": "completed"
    },
    "tags": []
   },
   "outputs": [
    {
     "data": {
      "image/png": "[encoded data removed]",
      "text/plain": [
       "<Figure size 640x480 with 1 Axes>"
      ]
     },
     "metadata": {},
     "output_type": "display_data"
    }
   ],
   "source": [
    "\n",
    "def visualize_image(data):\n",
    "    # Display the image using matplotlib's imshow() function\n",
    "    plt.imshow(data[0], cmap='gray_r')\n",
    "    # Turn off the axis display in the plot\n",
    "    plt.axis(\"off\")\n",
    "    # Show the plot with the displayed image\n",
    "    plt.show()\n",
    "\n",
    "# Call the visualize_image() function with the first image in X_train dataset\n",
    "visualize_image(X_train[0])\n"
   ]
  },
  {
   "cell_type": "markdown",
   "id": "c11a2eca",
   "metadata": {
    "papermill": {
     "duration": 0.031865,
     "end_time": "2023-04-16T23:47:24.818696",
     "exception": false,
     "start_time": "2023-04-16T23:47:24.786831",
     "status": "completed"
    },
    "tags": []
   },
   "source": [
    "#  Create a CNN Model\n",
    "Create Data Loader\n",
    "Dataloaders are utilized to feed our input data to our model for training, based on different parameters such as the batch size, if they should be suffled while being fed, and so on.\n",
    "\n",
    "Here, we define our tensordatasets for the dataloader and then input our required parameters to prepare the data loaders."
   ]
  },
  {
   "cell_type": "code",
   "execution_count": 14,
   "id": "1ce7a9c5",
   "metadata": {
    "execution": {
     "iopub.execute_input": "2023-04-16T23:47:24.846920Z",
     "iopub.status.busy": "2023-04-16T23:47:24.846586Z",
     "iopub.status.idle": "2023-04-16T23:47:24.850941Z",
     "shell.execute_reply": "2023-04-16T23:47:24.850253Z"
    },
    "papermill": {
     "duration": 0.019507,
     "end_time": "2023-04-16T23:47:24.853127",
     "exception": false,
     "start_time": "2023-04-16T23:47:24.833620",
     "status": "completed"
    },
    "tags": []
   },
   "outputs": [
    {
     "name": "stdout",
     "output_type": "stream",
     "text": [
      "<class 'torch.Tensor'>\n",
      "<class 'torch.Tensor'>\n"
     ]
    }
   ],
   "source": [
    "print(type(X_train))\n",
    "print(type(y_train))\n"
   ]
  },
  {
   "cell_type": "code",
   "execution_count": 15,
   "id": "169e0967",
   "metadata": {
    "execution": {
     "iopub.execute_input": "2023-04-16T23:47:24.877681Z",
     "iopub.status.busy": "2023-04-16T23:47:24.877359Z",
     "iopub.status.idle": "2023-04-16T23:47:24.882393Z",
     "shell.execute_reply": "2023-04-16T23:47:24.881691Z"
    },
    "papermill": {
     "duration": 0.019415,
     "end_time": "2023-04-16T23:47:24.884204",
     "exception": false,
     "start_time": "2023-04-16T23:47:24.864789",
     "status": "completed"
    },
    "tags": []
   },
   "outputs": [],
   "source": [
    "# Create a training dataset from X_train and y_train\n",
    "train = data_utils.TensorDataset(X_train, y_train)\n",
    "# Create a testing dataset from X_test and y_test\n",
    "test = data_utils.TensorDataset(X_test, y_test)\n"
   ]
  },
  {
   "cell_type": "markdown",
   "id": "fab5234b",
   "metadata": {
    "papermill": {
     "duration": 0.011161,
     "end_time": "2023-04-16T23:47:24.906843",
     "exception": false,
     "start_time": "2023-04-16T23:47:24.895682",
     "status": "completed"
    },
    "tags": []
   },
   "source": [
    "Once you have created your TensorDataset objects, you can pass them to data loaders in PyTorch to efficiently load and preprocess your data during model training or testing. Data loaders allow you to iterate over your dataset in batches, shuffle the data, and apply other data augmentation techniques as needed"
   ]
  },
  {
   "cell_type": "code",
   "execution_count": 16,
   "id": "d09bc1c0",
   "metadata": {
    "execution": {
     "iopub.execute_input": "2023-04-16T23:47:24.931308Z",
     "iopub.status.busy": "2023-04-16T23:47:24.930494Z",
     "iopub.status.idle": "2023-04-16T23:47:24.935448Z",
     "shell.execute_reply": "2023-04-16T23:47:24.934718Z"
    },
    "papermill": {
     "duration": 0.019025,
     "end_time": "2023-04-16T23:47:24.937320",
     "exception": false,
     "start_time": "2023-04-16T23:47:24.918295",
     "status": "completed"
    },
    "tags": []
   },
   "outputs": [],
   "source": [
    "\n",
    "# Create a training data loader from the train dataset\n",
    "# with a batch size of 128 and shuffling the data\n",
    "train_loader = data_utils.DataLoader(train, batch_size=128, shuffle=True)\n",
    "\n",
    "# Create a testing data loader from the test dataset\n",
    "# with a batch size of 128 and shuffling the data\n",
    "test_loader = data_utils.DataLoader(test, batch_size=128, shuffle=True)\n"
   ]
  },
  {
   "cell_type": "markdown",
   "id": "df07045e",
   "metadata": {
    "papermill": {
     "duration": 0.011197,
     "end_time": "2023-04-16T23:47:24.960156",
     "exception": false,
     "start_time": "2023-04-16T23:47:24.948959",
     "status": "completed"
    },
    "tags": []
   },
   "source": [
    "To verify our data loaders, we print the input size of an iteration of training."
   ]
  },
  {
   "cell_type": "code",
   "execution_count": 17,
   "id": "e1d08cd4",
   "metadata": {
    "execution": {
     "iopub.execute_input": "2023-04-16T23:47:24.985045Z",
     "iopub.status.busy": "2023-04-16T23:47:24.984497Z",
     "iopub.status.idle": "2023-04-16T23:47:25.201514Z",
     "shell.execute_reply": "2023-04-16T23:47:25.200267Z"
    },
    "papermill": {
     "duration": 0.232515,
     "end_time": "2023-04-16T23:47:25.204307",
     "exception": false,
     "start_time": "2023-04-16T23:47:24.971792",
     "status": "completed"
    },
    "tags": []
   },
   "outputs": [
    {
     "name": "stdout",
     "output_type": "stream",
     "text": [
      "torch.Size([128, 1, 28, 28]) torch.Size([128])\n",
      "torch.Size([128, 1, 28, 28]) torch.Size([128])\n",
      "torch.Size([128, 1, 28, 28]) torch.Size([128])\n",
      "torch.Size([128, 1, 28, 28]) torch.Size([128])\n",
      "torch.Size([128, 1, 28, 28]) torch.Size([128])\n",
      "torch.Size([128, 1, 28, 28]) torch.Size([128])\n",
      "torch.Size([128, 1, 28, 28]) torch.Size([128])\n",
      "torch.Size([128, 1, 28, 28]) torch.Size([128])\n",
      "torch.Size([128, 1, 28, 28]) torch.Size([128])\n",
      "torch.Size([128, 1, 28, 28]) torch.Size([128])\n",
      "torch.Size([128, 1, 28, 28]) torch.Size([128])\n",
      "torch.Size([128, 1, 28, 28]) torch.Size([128])\n",
      "torch.Size([128, 1, 28, 28]) torch.Size([128])\n",
      "torch.Size([128, 1, 28, 28]) torch.Size([128])\n",
      "torch.Size([128, 1, 28, 28]) torch.Size([128])\n",
      "torch.Size([128, 1, 28, 28]) torch.Size([128])\n",
      "torch.Size([128, 1, 28, 28]) torch.Size([128])\n",
      "torch.Size([128, 1, 28, 28]) torch.Size([128])\n",
      "torch.Size([128, 1, 28, 28]) torch.Size([128])\n",
      "torch.Size([128, 1, 28, 28]) torch.Size([128])\n",
      "torch.Size([128, 1, 28, 28]) torch.Size([128])\n",
      "torch.Size([128, 1, 28, 28]) torch.Size([128])\n",
      "torch.Size([128, 1, 28, 28]) torch.Size([128])\n",
      "torch.Size([128, 1, 28, 28]) torch.Size([128])\n",
      "torch.Size([128, 1, 28, 28]) torch.Size([128])\n",
      "torch.Size([128, 1, 28, 28]) torch.Size([128])\n",
      "torch.Size([128, 1, 28, 28]) torch.Size([128])\n",
      "torch.Size([128, 1, 28, 28]) torch.Size([128])\n",
      "torch.Size([128, 1, 28, 28]) torch.Size([128])\n",
      "torch.Size([128, 1, 28, 28]) torch.Size([128])\n",
      "torch.Size([128, 1, 28, 28]) torch.Size([128])\n",
      "torch.Size([128, 1, 28, 28]) torch.Size([128])\n",
      "torch.Size([128, 1, 28, 28]) torch.Size([128])\n",
      "torch.Size([128, 1, 28, 28]) torch.Size([128])\n",
      "torch.Size([128, 1, 28, 28]) torch.Size([128])\n",
      "torch.Size([128, 1, 28, 28]) torch.Size([128])\n",
      "torch.Size([128, 1, 28, 28]) torch.Size([128])\n",
      "torch.Size([128, 1, 28, 28]) torch.Size([128])\n",
      "torch.Size([128, 1, 28, 28]) torch.Size([128])\n",
      "torch.Size([128, 1, 28, 28]) torch.Size([128])\n",
      "torch.Size([128, 1, 28, 28]) torch.Size([128])\n",
      "torch.Size([128, 1, 28, 28]) torch.Size([128])\n",
      "torch.Size([128, 1, 28, 28]) torch.Size([128])\n",
      "torch.Size([128, 1, 28, 28]) torch.Size([128])\n",
      "torch.Size([128, 1, 28, 28]) torch.Size([128])\n",
      "torch.Size([128, 1, 28, 28]) torch.Size([128])\n",
      "torch.Size([128, 1, 28, 28]) torch.Size([128])\n",
      "torch.Size([128, 1, 28, 28]) torch.Size([128])\n",
      "torch.Size([128, 1, 28, 28]) torch.Size([128])\n",
      "torch.Size([128, 1, 28, 28]) torch.Size([128])\n",
      "torch.Size([128, 1, 28, 28]) torch.Size([128])\n",
      "torch.Size([128, 1, 28, 28]) torch.Size([128])\n",
      "torch.Size([128, 1, 28, 28]) torch.Size([128])\n",
      "torch.Size([128, 1, 28, 28]) torch.Size([128])\n",
      "torch.Size([128, 1, 28, 28]) torch.Size([128])\n",
      "torch.Size([128, 1, 28, 28]) torch.Size([128])\n",
      "torch.Size([128, 1, 28, 28]) torch.Size([128])\n",
      "torch.Size([128, 1, 28, 28]) torch.Size([128])\n",
      "torch.Size([128, 1, 28, 28]) torch.Size([128])\n",
      "torch.Size([128, 1, 28, 28]) torch.Size([128])\n",
      "torch.Size([128, 1, 28, 28]) torch.Size([128])\n",
      "torch.Size([128, 1, 28, 28]) torch.Size([128])\n",
      "torch.Size([128, 1, 28, 28]) torch.Size([128])\n",
      "torch.Size([128, 1, 28, 28]) torch.Size([128])\n",
      "torch.Size([128, 1, 28, 28]) torch.Size([128])\n",
      "torch.Size([128, 1, 28, 28]) torch.Size([128])\n",
      "torch.Size([128, 1, 28, 28]) torch.Size([128])\n",
      "torch.Size([128, 1, 28, 28]) torch.Size([128])\n",
      "torch.Size([128, 1, 28, 28]) torch.Size([128])\n",
      "torch.Size([128, 1, 28, 28]) torch.Size([128])\n",
      "torch.Size([128, 1, 28, 28]) torch.Size([128])\n",
      "torch.Size([128, 1, 28, 28]) torch.Size([128])\n",
      "torch.Size([128, 1, 28, 28]) torch.Size([128])\n",
      "torch.Size([128, 1, 28, 28]) torch.Size([128])\n",
      "torch.Size([128, 1, 28, 28]) torch.Size([128])\n",
      "torch.Size([128, 1, 28, 28]) torch.Size([128])\n",
      "torch.Size([128, 1, 28, 28]) torch.Size([128])\n",
      "torch.Size([128, 1, 28, 28]) torch.Size([128])\n",
      "torch.Size([128, 1, 28, 28]) torch.Size([128])\n",
      "torch.Size([128, 1, 28, 28]) torch.Size([128])\n",
      "torch.Size([128, 1, 28, 28]) torch.Size([128])\n",
      "torch.Size([128, 1, 28, 28]) torch.Size([128])\n",
      "torch.Size([128, 1, 28, 28]) torch.Size([128])\n",
      "torch.Size([128, 1, 28, 28]) torch.Size([128])\n",
      "torch.Size([128, 1, 28, 28]) torch.Size([128])\n",
      "torch.Size([128, 1, 28, 28]) torch.Size([128])\n",
      "torch.Size([128, 1, 28, 28]) torch.Size([128])\n",
      "torch.Size([128, 1, 28, 28]) torch.Size([128])\n",
      "torch.Size([128, 1, 28, 28]) torch.Size([128])\n",
      "torch.Size([128, 1, 28, 28]) torch.Size([128])\n",
      "torch.Size([128, 1, 28, 28]) torch.Size([128])\n",
      "torch.Size([128, 1, 28, 28]) torch.Size([128])\n",
      "torch.Size([128, 1, 28, 28]) torch.Size([128])\n",
      "torch.Size([128, 1, 28, 28]) torch.Size([128])\n",
      "torch.Size([128, 1, 28, 28]) torch.Size([128])\n",
      "torch.Size([128, 1, 28, 28]) torch.Size([128])\n",
      "torch.Size([128, 1, 28, 28]) torch.Size([128])\n",
      "torch.Size([128, 1, 28, 28]) torch.Size([128])\n",
      "torch.Size([128, 1, 28, 28]) torch.Size([128])\n",
      "torch.Size([128, 1, 28, 28]) torch.Size([128])\n",
      "torch.Size([128, 1, 28, 28]) torch.Size([128])\n",
      "torch.Size([128, 1, 28, 28]) torch.Size([128])\n",
      "torch.Size([128, 1, 28, 28]) torch.Size([128])\n",
      "torch.Size([128, 1, 28, 28]) torch.Size([128])\n",
      "torch.Size([128, 1, 28, 28]) torch.Size([128])\n",
      "torch.Size([128, 1, 28, 28]) torch.Size([128])\n",
      "torch.Size([128, 1, 28, 28]) torch.Size([128])\n",
      "torch.Size([128, 1, 28, 28]) torch.Size([128])\n",
      "torch.Size([128, 1, 28, 28]) torch.Size([128])\n",
      "torch.Size([128, 1, 28, 28]) torch.Size([128])\n",
      "torch.Size([128, 1, 28, 28]) torch.Size([128])\n",
      "torch.Size([128, 1, 28, 28]) torch.Size([128])\n",
      "torch.Size([128, 1, 28, 28]) torch.Size([128])\n",
      "torch.Size([128, 1, 28, 28]) torch.Size([128])\n",
      "torch.Size([128, 1, 28, 28]) torch.Size([128])\n",
      "torch.Size([128, 1, 28, 28]) torch.Size([128])\n",
      "torch.Size([128, 1, 28, 28]) torch.Size([128])\n",
      "torch.Size([128, 1, 28, 28]) torch.Size([128])\n",
      "torch.Size([128, 1, 28, 28]) torch.Size([128])\n",
      "torch.Size([128, 1, 28, 28]) torch.Size([128])\n",
      "torch.Size([128, 1, 28, 28]) torch.Size([128])\n",
      "torch.Size([128, 1, 28, 28]) torch.Size([128])\n",
      "torch.Size([128, 1, 28, 28]) torch.Size([128])\n",
      "torch.Size([128, 1, 28, 28]) torch.Size([128])\n",
      "torch.Size([128, 1, 28, 28]) torch.Size([128])\n",
      "torch.Size([128, 1, 28, 28]) torch.Size([128])\n",
      "torch.Size([128, 1, 28, 28]) torch.Size([128])\n",
      "torch.Size([128, 1, 28, 28]) torch.Size([128])\n",
      "torch.Size([128, 1, 28, 28]) torch.Size([128])\n",
      "torch.Size([128, 1, 28, 28]) torch.Size([128])\n",
      "torch.Size([128, 1, 28, 28]) torch.Size([128])\n",
      "torch.Size([128, 1, 28, 28]) torch.Size([128])\n",
      "torch.Size([128, 1, 28, 28]) torch.Size([128])\n",
      "torch.Size([128, 1, 28, 28]) torch.Size([128])\n",
      "torch.Size([128, 1, 28, 28]) torch.Size([128])\n",
      "torch.Size([128, 1, 28, 28]) torch.Size([128])\n",
      "torch.Size([128, 1, 28, 28]) torch.Size([128])\n",
      "torch.Size([128, 1, 28, 28]) torch.Size([128])\n",
      "torch.Size([128, 1, 28, 28]) torch.Size([128])\n",
      "torch.Size([128, 1, 28, 28]) torch.Size([128])\n",
      "torch.Size([128, 1, 28, 28]) torch.Size([128])\n",
      "torch.Size([128, 1, 28, 28]) torch.Size([128])\n",
      "torch.Size([128, 1, 28, 28]) torch.Size([128])\n",
      "torch.Size([128, 1, 28, 28]) torch.Size([128])\n",
      "torch.Size([128, 1, 28, 28]) torch.Size([128])\n",
      "torch.Size([128, 1, 28, 28]) torch.Size([128])\n",
      "torch.Size([128, 1, 28, 28]) torch.Size([128])\n",
      "torch.Size([128, 1, 28, 28]) torch.Size([128])\n",
      "torch.Size([128, 1, 28, 28]) torch.Size([128])\n",
      "torch.Size([128, 1, 28, 28]) torch.Size([128])\n",
      "torch.Size([128, 1, 28, 28]) torch.Size([128])\n",
      "torch.Size([128, 1, 28, 28]) torch.Size([128])\n",
      "torch.Size([128, 1, 28, 28]) torch.Size([128])\n",
      "torch.Size([128, 1, 28, 28]) torch.Size([128])\n",
      "torch.Size([128, 1, 28, 28]) torch.Size([128])\n",
      "torch.Size([128, 1, 28, 28]) torch.Size([128])\n",
      "torch.Size([128, 1, 28, 28]) torch.Size([128])\n",
      "torch.Size([128, 1, 28, 28]) torch.Size([128])\n",
      "torch.Size([128, 1, 28, 28]) torch.Size([128])\n",
      "torch.Size([128, 1, 28, 28]) torch.Size([128])\n",
      "torch.Size([128, 1, 28, 28]) torch.Size([128])\n",
      "torch.Size([128, 1, 28, 28]) torch.Size([128])\n",
      "torch.Size([128, 1, 28, 28]) torch.Size([128])\n",
      "torch.Size([128, 1, 28, 28]) torch.Size([128])\n",
      "torch.Size([128, 1, 28, 28]) torch.Size([128])\n",
      "torch.Size([128, 1, 28, 28]) torch.Size([128])\n",
      "torch.Size([128, 1, 28, 28]) torch.Size([128])\n",
      "torch.Size([128, 1, 28, 28]) torch.Size([128])\n",
      "torch.Size([128, 1, 28, 28]) torch.Size([128])\n",
      "torch.Size([128, 1, 28, 28]) torch.Size([128])\n",
      "torch.Size([128, 1, 28, 28]) torch.Size([128])\n",
      "torch.Size([128, 1, 28, 28]) torch.Size([128])\n",
      "torch.Size([128, 1, 28, 28]) torch.Size([128])\n",
      "torch.Size([128, 1, 28, 28]) torch.Size([128])\n",
      "torch.Size([128, 1, 28, 28]) torch.Size([128])\n",
      "torch.Size([128, 1, 28, 28]) torch.Size([128])\n",
      "torch.Size([128, 1, 28, 28]) torch.Size([128])\n",
      "torch.Size([128, 1, 28, 28]) torch.Size([128])\n",
      "torch.Size([128, 1, 28, 28]) torch.Size([128])\n",
      "torch.Size([128, 1, 28, 28]) torch.Size([128])\n",
      "torch.Size([128, 1, 28, 28]) torch.Size([128])\n",
      "torch.Size([128, 1, 28, 28]) torch.Size([128])\n",
      "torch.Size([128, 1, 28, 28]) torch.Size([128])\n",
      "torch.Size([128, 1, 28, 28]) torch.Size([128])\n",
      "torch.Size([128, 1, 28, 28]) torch.Size([128])\n",
      "torch.Size([128, 1, 28, 28]) torch.Size([128])\n",
      "torch.Size([112, 1, 28, 28]) torch.Size([112])\n",
      "torch.Size([128, 1, 28, 28]) torch.Size([128])\n"
     ]
    }
   ],
   "source": [
    "#printing input size of an iteration of training\n",
    "for images, labels in train_loader:\n",
    "    print(images.shape, labels.shape)\n",
    "\n",
    "data_iter = iter(train_loader)\n",
    "images, labels = next(data_iter)\n",
    "print(images.shape, labels.shape)\n",
    "\n"
   ]
  },
  {
   "cell_type": "code",
   "execution_count": 18,
   "id": "e9103ea2",
   "metadata": {
    "execution": {
     "iopub.execute_input": "2023-04-16T23:47:25.230166Z",
     "iopub.status.busy": "2023-04-16T23:47:25.229344Z",
     "iopub.status.idle": "2023-04-16T23:47:25.253655Z",
     "shell.execute_reply": "2023-04-16T23:47:25.252882Z"
    },
    "papermill": {
     "duration": 0.039058,
     "end_time": "2023-04-16T23:47:25.255471",
     "exception": false,
     "start_time": "2023-04-16T23:47:25.216413",
     "status": "completed"
    },
    "tags": []
   },
   "outputs": [
    {
     "data": {
      "text/plain": [
       "Net(\n",
       "  (conv1): Conv2d(1, 32, kernel_size=(3, 3), stride=(1, 1))\n",
       "  (conv2): Conv2d(32, 64, kernel_size=(3, 3), stride=(1, 1))\n",
       "  (pool): MaxPool2d(kernel_size=2, stride=2, padding=0, dilation=1, ceil_mode=False)\n",
       "  (fc1): Linear(in_features=9216, out_features=128, bias=True)\n",
       "  (fc2): Linear(in_features=128, out_features=10, bias=True)\n",
       ")"
      ]
     },
     "execution_count": 18,
     "metadata": {},
     "output_type": "execute_result"
    }
   ],
   "source": [
    "\n",
    "class Net(nn.Module):\n",
    "    def __init__(self):\n",
    "        super(Net, self).__init__()\n",
    "        self.conv1 = nn.Conv2d(1, 32, 3)     # First convolutional layer with input channels=1, output channels=32, and kernel size=3x3\n",
    "        self.conv2 = nn.Conv2d(32, 64, 3)    # Second convolutional layer with input channels=32, output channels=64, and kernel size=3x3\n",
    "        self.pool = nn.MaxPool2d(2, 2)       # Max pooling layer with kernel size=2x2 and stride=2\n",
    "        self.fc1 = nn.Linear(64 * 12 * 12, 128)  # Fully connected layer with input size of 64x12x12 (output from previous layers) and output size of 128\n",
    "        self.fc2 = nn.Linear(128, 10)        # Fully connected layer with input size of 128 and output size of 10 (for 10 classes)\n",
    "\n",
    "    def forward(self, x):\n",
    "        x = F.relu(self.conv1(x))            # Apply ReLU activation to the output of the first convolutional layer\n",
    "        x = self.pool(F.relu(self.conv2(x))) # Apply ReLU activation to the output of the second convolutional layer, then perform max pooling\n",
    "        x = x.view(-1, 64 * 12 * 12)         # Flatten the tensor to a 1D vector\n",
    "        x = F.relu(self.fc1(x))              # Apply ReLU activation to the output of the first fully connected layer\n",
    "        x = self.fc2(x)                      # Output from the second fully connected layer (logits)\n",
    "        return x\n",
    "\n",
    "net = Net()                               # Create an instance of the neural network model\n",
    "net.to(device)                           # Move the model to the specified device (e.g., GPU or CPU)\n"
   ]
  },
  {
   "cell_type": "markdown",
   "id": "672175e0",
   "metadata": {
    "papermill": {
     "duration": 0.011707,
     "end_time": "2023-04-16T23:47:25.279146",
     "exception": false,
     "start_time": "2023-04-16T23:47:25.267439",
     "status": "completed"
    },
    "tags": []
   },
   "source": [
    "# Create Model\n",
    "\n",
    "- Convolution layer (CONV)- The convolution layer (CONV) uses filters that perform convolution operations as it is scanning the input I with respect to its dimensions. Its hyperparameters include the filter size F and stride S. The resulting output O is called feature map.\n",
    "- Pooling (POOL)- The pooling layer (POOL) is a downsampling operation, typically applied after a convolution layer, which does some spatial invariance. In particular, max and average pooling are special kinds of pooling where the maximum and average value is taken, respectively.\n",
    "\n",
    "To create our CNN Model, we utilise the neural network module from pytorch and provide it with our own custom architecture as follows.\n",
    "\n",
    "- Convolutional layer with 32 channels\n",
    "- Convolutional layer with 64 channels\n",
    "- MaxPooling layer to compress information\n",
    "- Dense layer to flatten the information obtained\n",
    "- Dense output layer with relu activation"
   ]
  },
  {
   "cell_type": "markdown",
   "id": "967bf1aa",
   "metadata": {
    "papermill": {
     "duration": 0.011663,
     "end_time": "2023-04-16T23:47:25.302678",
     "exception": false,
     "start_time": "2023-04-16T23:47:25.291015",
     "status": "completed"
    },
    "tags": []
   },
   "source": [
    "We use Cross Entropy Loss as the loss function and Adam as the optimizer here. You can also try out other optimizers like SGD here "
   ]
  },
  {
   "cell_type": "code",
   "execution_count": 19,
   "id": "00c75dd3",
   "metadata": {
    "execution": {
     "iopub.execute_input": "2023-04-16T23:47:25.327441Z",
     "iopub.status.busy": "2023-04-16T23:47:25.327009Z",
     "iopub.status.idle": "2023-04-16T23:47:25.331656Z",
     "shell.execute_reply": "2023-04-16T23:47:25.330617Z"
    },
    "papermill": {
     "duration": 0.01915,
     "end_time": "2023-04-16T23:47:25.333452",
     "exception": false,
     "start_time": "2023-04-16T23:47:25.314302",
     "status": "completed"
    },
    "tags": []
   },
   "outputs": [],
   "source": [
    "\n",
    "criterion = nn.CrossEntropyLoss()\n",
    "#optimizer = optim.SGD(net.parameters(), lr = 0.001, momentum = 0.9)\n",
    "optimizer = optim.Adam(net.parameters(), lr = 0.001)"
   ]
  },
  {
   "cell_type": "markdown",
   "id": "aee3a6eb",
   "metadata": {
    "papermill": {
     "duration": 0.011884,
     "end_time": "2023-04-16T23:47:25.357032",
     "exception": false,
     "start_time": "2023-04-16T23:47:25.345148",
     "status": "completed"
    },
    "tags": []
   },
   "source": [
    "Finally, inorder to deal with input data in the float format, we modify the format of our CNN model net to float."
   ]
  },
  {
   "cell_type": "code",
   "execution_count": 20,
   "id": "22ced4d1",
   "metadata": {
    "execution": {
     "iopub.execute_input": "2023-04-16T23:47:25.382617Z",
     "iopub.status.busy": "2023-04-16T23:47:25.382074Z",
     "iopub.status.idle": "2023-04-16T23:47:25.386409Z",
     "shell.execute_reply": "2023-04-16T23:47:25.385681Z"
    },
    "papermill": {
     "duration": 0.019248,
     "end_time": "2023-04-16T23:47:25.388393",
     "exception": false,
     "start_time": "2023-04-16T23:47:25.369145",
     "status": "completed"
    },
    "tags": []
   },
   "outputs": [],
   "source": [
    "net = net.float()"
   ]
  },
  {
   "cell_type": "markdown",
   "id": "3e4ab1c5",
   "metadata": {
    "papermill": {
     "duration": 0.011532,
     "end_time": "2023-04-16T23:47:25.411731",
     "exception": false,
     "start_time": "2023-04-16T23:47:25.400199",
     "status": "completed"
    },
    "tags": []
   },
   "source": [
    "# Train Model\n",
    "\n",
    "Definitions:\n",
    "\n",
    "- Epoch- In the context of training a model, epoch is a term used to refer to one iteration where the  model sees the whole training set to update its weights.\n",
    "\n",
    "\n",
    "- Mini batch gradient descent- During the training phase, updating weights is usually not based on the  whole training set at once due to computation complexities or one data point due to noise issues. Instead, the update step is done on mini-batches, where the number of data points in a batch is a hyperparameter that we can tune.\n",
    "\n",
    "\n",
    "- Loss function -In order to quantify how a given model performs, the loss function .L is usually used   to evaluate to what extent the actual outputs y are correctly predicted by the model outputs z.\n",
    "\n",
    "\n",
    "- Cross-entropy lossIn the context of binary classification in neural networks, the cross-entropy loss \n",
    " L(z,y) is commonly used and is defined as follows:\n",
    "\n",
    "\n",
    "We now train the model for 15 epochs and print its loss and test accuracy for each 50 completed mini batches. I used 15 epochs as it provided a satisfactory learning curve for this dataset, but feel free to explore with other number as well."
   ]
  },
  {
   "cell_type": "code",
   "execution_count": 21,
   "id": "9dce5328",
   "metadata": {
    "execution": {
     "iopub.execute_input": "2023-04-16T23:47:25.436650Z",
     "iopub.status.busy": "2023-04-16T23:47:25.436080Z",
     "iopub.status.idle": "2023-04-16T23:47:25.440484Z",
     "shell.execute_reply": "2023-04-16T23:47:25.439570Z"
    },
    "papermill": {
     "duration": 0.018749,
     "end_time": "2023-04-16T23:47:25.442318",
     "exception": false,
     "start_time": "2023-04-16T23:47:25.423569",
     "status": "completed"
    },
    "tags": []
   },
   "outputs": [],
   "source": [
    "epoch_num = 0\n",
    "actual_loss = 0.0\n",
    "accuracy = 0.0"
   ]
  },
  {
   "cell_type": "code",
   "execution_count": 22,
   "id": "67da64f3",
   "metadata": {
    "execution": {
     "iopub.execute_input": "2023-04-16T23:47:25.467425Z",
     "iopub.status.busy": "2023-04-16T23:47:25.466597Z",
     "iopub.status.idle": "2023-04-16T23:53:45.545823Z",
     "shell.execute_reply": "2023-04-16T23:53:45.544916Z"
    },
    "papermill": {
     "duration": 380.094028,
     "end_time": "2023-04-16T23:53:45.547967",
     "exception": false,
     "start_time": "2023-04-16T23:47:25.453939",
     "status": "completed"
    },
    "tags": []
   },
   "outputs": [
    {
     "name": "stdout",
     "output_type": "stream",
     "text": [
      "Starting Epoch: 1...\n",
      "Epoch: 1, Mini-Batches Completed: 50, Loss: 0.635, Test Accuracy: 94.314%\n",
      "Epoch: 1, Mini-Batches Completed: 100, Loss: 0.797, Test Accuracy: 96.438%\n",
      "Epoch: 1, Mini-Batches Completed: 150, Loss: 0.913, Test Accuracy: 97.508%\n",
      "Starting Epoch: 2...\n",
      "Epoch: 2, Mini-Batches Completed: 50, Loss: 0.072, Test Accuracy: 98.194%\n",
      "Epoch: 2, Mini-Batches Completed: 100, Loss: 0.114, Test Accuracy: 98.328%\n",
      "Epoch: 2, Mini-Batches Completed: 150, Loss: 0.163, Test Accuracy: 98.294%\n",
      "Starting Epoch: 3...\n",
      "Epoch: 3, Mini-Batches Completed: 50, Loss: 0.036, Test Accuracy: 98.746%\n",
      "Epoch: 3, Mini-Batches Completed: 100, Loss: 0.071, Test Accuracy: 98.077%\n",
      "Epoch: 3, Mini-Batches Completed: 150, Loss: 0.117, Test Accuracy: 98.696%\n",
      "Starting Epoch: 4...\n",
      "Epoch: 4, Mini-Batches Completed: 50, Loss: 0.017, Test Accuracy: 98.896%\n",
      "Epoch: 4, Mini-Batches Completed: 100, Loss: 0.038, Test Accuracy: 98.662%\n",
      "Epoch: 4, Mini-Batches Completed: 150, Loss: 0.068, Test Accuracy: 99.013%\n",
      "Starting Epoch: 5...\n",
      "Epoch: 5, Mini-Batches Completed: 50, Loss: 0.015, Test Accuracy: 98.813%\n",
      "Epoch: 5, Mini-Batches Completed: 100, Loss: 0.028, Test Accuracy: 98.829%\n",
      "Epoch: 5, Mini-Batches Completed: 150, Loss: 0.048, Test Accuracy: 98.813%\n",
      "Starting Epoch: 6...\n",
      "Epoch: 6, Mini-Batches Completed: 50, Loss: 0.014, Test Accuracy: 98.913%\n",
      "Epoch: 6, Mini-Batches Completed: 100, Loss: 0.023, Test Accuracy: 98.963%\n",
      "Epoch: 6, Mini-Batches Completed: 150, Loss: 0.045, Test Accuracy: 98.829%\n",
      "Starting Epoch: 7...\n",
      "Epoch: 7, Mini-Batches Completed: 50, Loss: 0.007, Test Accuracy: 99.130%\n",
      "Epoch: 7, Mini-Batches Completed: 100, Loss: 0.019, Test Accuracy: 99.080%\n",
      "Epoch: 7, Mini-Batches Completed: 150, Loss: 0.027, Test Accuracy: 99.130%\n",
      "Starting Epoch: 8...\n",
      "Epoch: 8, Mini-Batches Completed: 50, Loss: 0.005, Test Accuracy: 98.729%\n",
      "Epoch: 8, Mini-Batches Completed: 100, Loss: 0.014, Test Accuracy: 99.181%\n",
      "Epoch: 8, Mini-Batches Completed: 150, Loss: 0.022, Test Accuracy: 99.097%\n",
      "Starting Epoch: 9...\n",
      "Epoch: 9, Mini-Batches Completed: 50, Loss: 0.013, Test Accuracy: 99.197%\n",
      "Epoch: 9, Mini-Batches Completed: 100, Loss: 0.019, Test Accuracy: 99.114%\n",
      "Epoch: 9, Mini-Batches Completed: 150, Loss: 0.022, Test Accuracy: 99.281%\n",
      "Starting Epoch: 10...\n",
      "Epoch: 10, Mini-Batches Completed: 50, Loss: 0.002, Test Accuracy: 99.164%\n",
      "Epoch: 10, Mini-Batches Completed: 100, Loss: 0.008, Test Accuracy: 99.247%\n",
      "Epoch: 10, Mini-Batches Completed: 150, Loss: 0.014, Test Accuracy: 99.247%\n",
      "Starting Epoch: 11...\n",
      "Epoch: 11, Mini-Batches Completed: 50, Loss: 0.007, Test Accuracy: 99.181%\n",
      "Epoch: 11, Mini-Batches Completed: 100, Loss: 0.010, Test Accuracy: 99.147%\n",
      "Epoch: 11, Mini-Batches Completed: 150, Loss: 0.019, Test Accuracy: 99.130%\n",
      "Starting Epoch: 12...\n",
      "Epoch: 12, Mini-Batches Completed: 50, Loss: 0.010, Test Accuracy: 99.047%\n",
      "Epoch: 12, Mini-Batches Completed: 100, Loss: 0.015, Test Accuracy: 99.281%\n",
      "Epoch: 12, Mini-Batches Completed: 150, Loss: 0.023, Test Accuracy: 99.181%\n",
      "Starting Epoch: 13...\n",
      "Epoch: 13, Mini-Batches Completed: 50, Loss: 0.004, Test Accuracy: 99.181%\n",
      "Epoch: 13, Mini-Batches Completed: 100, Loss: 0.012, Test Accuracy: 99.298%\n",
      "Epoch: 13, Mini-Batches Completed: 150, Loss: 0.016, Test Accuracy: 99.130%\n",
      "Starting Epoch: 14...\n",
      "Epoch: 14, Mini-Batches Completed: 50, Loss: 0.005, Test Accuracy: 99.197%\n",
      "Epoch: 14, Mini-Batches Completed: 100, Loss: 0.008, Test Accuracy: 98.997%\n",
      "Epoch: 14, Mini-Batches Completed: 150, Loss: 0.015, Test Accuracy: 99.064%\n",
      "Starting Epoch: 15...\n",
      "Epoch: 15, Mini-Batches Completed: 50, Loss: 0.006, Test Accuracy: 99.114%\n",
      "Epoch: 15, Mini-Batches Completed: 100, Loss: 0.008, Test Accuracy: 99.281%\n",
      "Epoch: 15, Mini-Batches Completed: 150, Loss: 0.011, Test Accuracy: 99.415%\n",
      "Training Completed.\n"
     ]
    }
   ],
   "source": [
    "#training model with 15 epochs\n",
    "\n",
    "num_epochs = 15\n",
    "\n",
    "# Create lists to store epoch number, loss, and accuracy for each epoch\n",
    "epoch_log = []\n",
    "loss_log = []\n",
    "accuracy_log = []\n",
    "\n",
    "for epoch in range(num_epochs):\n",
    "    print(f'Starting Epoch: {epoch + 1}...')\n",
    "\n",
    "    running_loss = 0.0   # Initialize running loss to 0 for each epoch\n",
    "\n",
    "    for i, data in enumerate(train_loader, 0):\n",
    "        inputs, labels = data\n",
    "        inputs = inputs.to(device)    # Move inputs to the specified device (e.g., GPU or CPU)\n",
    "        labels = labels.to(device)    # Move labels to the specified device\n",
    "\n",
    "        optimizer.zero_grad()        # Zero the gradients of the optimizer\n",
    "\n",
    "        outputs = net(inputs.float())   # Forward pass to get predicted outputs from the model\n",
    "        loss = criterion(outputs,labels)  # Compute the loss between predicted outputs and ground truth labels\n",
    "        loss.backward()                 # Backward pass to compute gradients\n",
    "        optimizer.step()                # Update model weights using the optimizer\n",
    "\n",
    "        running_loss += loss.item()   # Add the current batch loss to the running loss for this epoch\n",
    "        if i % 50 == 49:\n",
    "            correct = 0\n",
    "            total = 0\n",
    "            \n",
    "            with torch.no_grad():\n",
    "                for data in test_loader:\n",
    "                    images, labels = data\n",
    "                    images = images.to(device)    # Move images to the specified device\n",
    "                    labels = labels.to(device)    # Move labels to the specified device\n",
    "                    outputs = net(images.float())  # Forward pass to get predicted outputs from the model\n",
    "                    \n",
    "                    _, predicted = torch.max(outputs.data, dim = 1)   # Get predicted labels with maximum probability\n",
    "                    total += labels.size(0)   # Update total number of images\n",
    "                    correct += (predicted == labels).sum().item()   # Update correct predictions count\n",
    "                \n",
    "                accuracy = 100 * correct / total   # Calculate accuracy for this epoch\n",
    "                actual_loss = running_loss / 50   # Calculate average loss for this epoch\n",
    "                epoch_num = epoch + 1   # Get current epoch number\n",
    "                print(f'Epoch: {epoch_num}, Mini-Batches Completed: {(i + 1)}, Loss: {actual_loss:.3f}, Test Accuracy: {accuracy:.3f}%')\n",
    "                \n",
    "    epoch_log.append(epoch_num)   # Append epoch number to the epoch log\n",
    "    loss_log.append(actual_loss)   # Append average loss to the loss log\n",
    "    accuracy_log.append(accuracy)   # Append accuracy to the accuracy log\n",
    "\n",
    "\n",
    "print('Training Completed.')"
   ]
  },
  {
   "cell_type": "markdown",
   "id": "1a58de1e",
   "metadata": {
    "papermill": {
     "duration": 0.014577,
     "end_time": "2023-04-16T23:53:45.578624",
     "exception": false,
     "start_time": "2023-04-16T23:53:45.564047",
     "status": "completed"
    },
    "tags": []
   },
   "source": [
    "# Saving Model\n",
    "Let's save our trained model to PATH so that it can be reused."
   ]
  },
  {
   "cell_type": "code",
   "execution_count": 23,
   "id": "1e73b827",
   "metadata": {
    "execution": {
     "iopub.execute_input": "2023-04-16T23:53:45.610703Z",
     "iopub.status.busy": "2023-04-16T23:53:45.609766Z",
     "iopub.status.idle": "2023-04-16T23:53:45.621062Z",
     "shell.execute_reply": "2023-04-16T23:53:45.620361Z"
    },
    "papermill": {
     "duration": 0.029342,
     "end_time": "2023-04-16T23:53:45.623160",
     "exception": false,
     "start_time": "2023-04-16T23:53:45.593818",
     "status": "completed"
    },
    "tags": []
   },
   "outputs": [],
   "source": [
    "PATH = './cnn_net.pth'\n",
    "torch.save(net.state_dict(), PATH)"
   ]
  },
  {
   "cell_type": "markdown",
   "id": "8ea0f8fd",
   "metadata": {
    "papermill": {
     "duration": 0.014909,
     "end_time": "2023-04-16T23:53:45.653171",
     "exception": false,
     "start_time": "2023-04-16T23:53:45.638262",
     "status": "completed"
    },
    "tags": []
   },
   "source": [
    "# Evaluating  Model\n",
    "Reloading Model\n",
    "To evaluate our trained CNN model, we reload our saved model."
   ]
  },
  {
   "cell_type": "code",
   "execution_count": 24,
   "id": "cc004620",
   "metadata": {
    "execution": {
     "iopub.execute_input": "2023-04-16T23:53:45.685090Z",
     "iopub.status.busy": "2023-04-16T23:53:45.684371Z",
     "iopub.status.idle": "2023-04-16T23:53:45.703834Z",
     "shell.execute_reply": "2023-04-16T23:53:45.702916Z"
    },
    "papermill": {
     "duration": 0.037639,
     "end_time": "2023-04-16T23:53:45.705703",
     "exception": false,
     "start_time": "2023-04-16T23:53:45.668064",
     "status": "completed"
    },
    "tags": []
   },
   "outputs": [
    {
     "data": {
      "text/plain": [
       "<All keys matched successfully>"
      ]
     },
     "execution_count": 24,
     "metadata": {},
     "output_type": "execute_result"
    }
   ],
   "source": [
    "net = Net()\n",
    "net.to(device)\n",
    "net.load_state_dict(torch.load(PATH))"
   ]
  },
  {
   "cell_type": "markdown",
   "id": "6dc8021f",
   "metadata": {
    "papermill": {
     "duration": 0.014737,
     "end_time": "2023-04-16T23:53:45.735724",
     "exception": false,
     "start_time": "2023-04-16T23:53:45.720987",
     "status": "completed"
    },
    "tags": []
   },
   "source": [
    "# How well our model makes prediction with test data?\n",
    "Now, let us use our test dataset to determine the final accuracy of our trained model."
   ]
  },
  {
   "cell_type": "code",
   "execution_count": 25,
   "id": "773b72fc",
   "metadata": {
    "execution": {
     "iopub.execute_input": "2023-04-16T23:53:45.768039Z",
     "iopub.status.busy": "2023-04-16T23:53:45.767111Z",
     "iopub.status.idle": "2023-04-16T23:53:47.490072Z",
     "shell.execute_reply": "2023-04-16T23:53:47.489142Z"
    },
    "papermill": {
     "duration": 1.741962,
     "end_time": "2023-04-16T23:53:47.492802",
     "exception": false,
     "start_time": "2023-04-16T23:53:45.750840",
     "status": "completed"
    },
    "tags": []
   },
   "outputs": [
    {
     "name": "stdout",
     "output_type": "stream",
     "text": [
      "Accuracy of the network on test images: 99.1%\n"
     ]
    }
   ],
   "source": [
    "correct = 0   # Initialize count of correct predictions to 0\n",
    "total = 0     # Initialize count of total predictions to 0\n",
    "\n",
    "with torch.no_grad():   # Disable gradient computation for efficiency\n",
    "    for data in test_loader:   # Loop through the test dataset\n",
    "        images, labels = data   # Get images and labels from the test dataset\n",
    "        images = images.to(device)   # Move images to the specified device (e.g., GPU or CPU)\n",
    "        labels = labels.to(device)   # Move labels to the specified device\n",
    "        outputs = net(images.float())   # Forward pass to get predicted outputs from the model\n",
    "        _, predicted = torch.max(outputs.data, 1)   # Get predicted labels with maximum probability\n",
    "        label_size = labels.size(0)   # Get the number of labels in the current batch\n",
    "        total += label_size   # Update total count of predictions\n",
    "        correct += (predicted == labels).sum().item()   # Update count of correct predictions by summing up correct predictions in the current batch\n",
    "\n",
    "accuracy = 100 * correct / total   # Calculate accuracy by dividing correct predictions by total predictions and multiplying by 100 to get percentage\n",
    "\n",
    "print(f'Accuracy of the network on test images: {accuracy:.3}%')"
   ]
  },
  {
   "cell_type": "markdown",
   "id": "3ce0bde1",
   "metadata": {
    "papermill": {
     "duration": 0.015533,
     "end_time": "2023-04-16T23:53:47.525286",
     "exception": false,
     "start_time": "2023-04-16T23:53:47.509753",
     "status": "completed"
    },
    "tags": []
   },
   "source": [
    "As we observe, our model achieves an accuracy of 99.1% on the test images."
   ]
  },
  {
   "cell_type": "markdown",
   "id": "527fef4a",
   "metadata": {
    "papermill": {
     "duration": 0.014911,
     "end_time": "2023-04-16T23:53:47.555297",
     "exception": false,
     "start_time": "2023-04-16T23:53:47.540386",
     "status": "completed"
    },
    "tags": []
   },
   "source": [
    "# Classification Observations\n",
    "Let us also view some of the classifications our model performs on the test data."
   ]
  },
  {
   "cell_type": "code",
   "execution_count": 26,
   "id": "75f55864",
   "metadata": {
    "execution": {
     "iopub.execute_input": "2023-04-16T23:53:47.586811Z",
     "iopub.status.busy": "2023-04-16T23:53:47.586498Z",
     "iopub.status.idle": "2023-04-16T23:53:49.748842Z",
     "shell.execute_reply": "2023-04-16T23:53:49.747576Z"
    },
    "papermill": {
     "duration": 2.181526,
     "end_time": "2023-04-16T23:53:49.751712",
     "exception": false,
     "start_time": "2023-04-16T23:53:47.570186",
     "status": "completed"
    },
    "tags": []
   },
   "outputs": [
    {
     "name": "stdout",
     "output_type": "stream",
     "text": [
      "Actual Label: 1, Predicted Label: 1\n"
     ]
    },
    {
     "data": {
      "image/png": "[encoded data removed]",
      "text/plain": [
       "<Figure size 640x480 with 1 Axes>"
      ]
     },
     "metadata": {},
     "output_type": "display_data"
    },
    {
     "name": "stdout",
     "output_type": "stream",
     "text": [
      "Actual Label: 2, Predicted Label: 2\n"
     ]
    },
    {
     "data": {
      "image/png": "[encoded data removed]",
      "text/plain": [
       "<Figure size 640x480 with 1 Axes>"
      ]
     },
     "metadata": {},
     "output_type": "display_data"
    },
    {
     "name": "stdout",
     "output_type": "stream",
     "text": [
      "Actual Label: 3, Predicted Label: 3\n"
     ]
    },
    {
     "data": {
      "image/png": "[encoded data removed]",
      "text/plain": [
       "<Figure size 640x480 with 1 Axes>"
      ]
     },
     "metadata": {},
     "output_type": "display_data"
    },
    {
     "name": "stdout",
     "output_type": "stream",
     "text": [
      "Actual Label: 9, Predicted Label: 9\n"
     ]
    },
    {
     "data": {
      "image/png": "[encoded data removed]",
      "text/plain": [
       "<Figure size 640x480 with 1 Axes>"
      ]
     },
     "metadata": {},
     "output_type": "display_data"
    },
    {
     "name": "stdout",
     "output_type": "stream",
     "text": [
      "Actual Label: 4, Predicted Label: 4\n"
     ]
    },
    {
     "data": {
      "image/png": "[encoded data removed]",
      "text/plain": [
       "<Figure size 640x480 with 1 Axes>"
      ]
     },
     "metadata": {},
     "output_type": "display_data"
    }
   ],
   "source": [
    "net.eval()   # Set the model to evaluation mode, which disables dropout and batch normalization\n",
    "\n",
    "num_images = 5   # Number of images to visualize\n",
    "\n",
    "with torch.no_grad():   # Disable gradient computation for efficiency\n",
    "    for data in test_loader:   # Loop through the test dataset\n",
    "        images, labels = data   # Get images and labels from the test dataset\n",
    "        images = images.to(device)   # Move images to the specified device (e.g., GPU or CPU)\n",
    "        labels = labels.to(device)   # Move labels to the specified device\n",
    "\n",
    "        outputs = net(images.float())   # Forward pass to get predicted outputs from the model\n",
    "        predictions = torch.argmax(outputs, dim=1)   # Get predicted labels with maximum probability\n",
    "\n",
    "        for i in range(data[0].shape[0]):   # Loop through the images in the current batch\n",
    "            pred = predictions[i].item()   # Get the predicted label for the current image\n",
    "            label = labels[i]   # Get the actual label for the current image\n",
    "            if(num_images > 0):   # Check if the number of images to visualize is greater than 0\n",
    "                print(f'Actual Label: {pred}, Predicted Label: {label}')   # Print the actual and predicted label for the current image\n",
    "                img = np.reshape(images[i].cpu().numpy(),[1,28,28])   # Convert the image tensor to a NumPy array and reshape it to [1, 28, 28] size\n",
    "                visualize_image(img)   # Visualize the image using a custom function (e.g., visualize_image)\n",
    "                num_images -= 1   # Decrement the number of images to visualize by 1\n"
   ]
  },
  {
   "cell_type": "markdown",
   "id": "4475ce45",
   "metadata": {
    "papermill": {
     "duration": 0.016105,
     "end_time": "2023-04-16T23:53:49.786667",
     "exception": false,
     "start_time": "2023-04-16T23:53:49.770562",
     "status": "completed"
    },
    "tags": []
   },
   "source": [
    "# Plotting training logs\n",
    "To further understand and analyse the training of our model, let us plot the training logs for loss and accuracy."
   ]
  },
  {
   "cell_type": "code",
   "execution_count": 27,
   "id": "8b5c0d12",
   "metadata": {
    "execution": {
     "iopub.execute_input": "2023-04-16T23:53:49.819978Z",
     "iopub.status.busy": "2023-04-16T23:53:49.819619Z",
     "iopub.status.idle": "2023-04-16T23:53:50.083167Z",
     "shell.execute_reply": "2023-04-16T23:53:50.082073Z"
    },
    "papermill": {
     "duration": 0.282739,
     "end_time": "2023-04-16T23:53:50.085239",
     "exception": false,
     "start_time": "2023-04-16T23:53:49.802500",
     "status": "completed"
    },
    "tags": []
   },
   "outputs": [
    {
     "data": {
      "image/png": "[encoded data removed]",
      "text/plain": [
       "<Figure size 640x480 with 2 Axes>"
      ]
     },
     "metadata": {},
     "output_type": "display_data"
    }
   ],
   "source": [
    "fig, ax1 = plt.subplots()   # Create a figure with a single subplot and return the figure object and axes object\n",
    "\n",
    "plt.title(\"Accuracy & Loss vs Epoch\")   # Set the title of the plot\n",
    "\n",
    "ax2 = ax1.twinx()   # Create a twin y-axis on the right side of the plot\n",
    "\n",
    "ax1.plot(epoch_log, loss_log, 'g-')   # Plot the epoch vs loss with green color\n",
    "ax2.plot(epoch_log, accuracy_log, 'b-')   # Plot the epoch vs test accuracy with blue color on the twin y-axis\n",
    "\n",
    "ax1.set_xlabel('Epochs')   # Set the x-axis label to 'Epochs'\n",
    "ax1.set_ylabel('Loss', color='g')   # Set the left y-axis label to 'Loss' with green color\n",
    "ax2.set_ylabel('Test Accuracy', color='b')   # Set the right y-axis label to 'Test Accuracy' with blue color\n",
    "\n",
    "plt.show()   # Display the plot\n"
   ]
  },
  {
   "cell_type": "markdown",
   "id": "28943efe",
   "metadata": {
    "papermill": {
     "duration": 0.016795,
     "end_time": "2023-04-16T23:53:50.119876",
     "exception": false,
     "start_time": "2023-04-16T23:53:50.103081",
     "status": "completed"
    },
    "tags": []
   },
   "source": [
    "Observations: As the Number of Epochs increases i.e number of times you run the dataset through model, test accuracy increases and loss decreases"
   ]
  },
  {
   "cell_type": "markdown",
   "id": "36f4ad90",
   "metadata": {
    "papermill": {
     "duration": 0.01737,
     "end_time": "2023-04-16T23:53:50.154473",
     "exception": false,
     "start_time": "2023-04-16T23:53:50.137103",
     "status": "completed"
    },
    "tags": []
   },
   "source": [
    "# Plotting Confusion Matrix\n",
    "Lastly, let us plot the confusion matrix to evaluate the classwise performance of our model and understand where it can do better."
   ]
  },
  {
   "cell_type": "code",
   "execution_count": 28,
   "id": "288e8c82",
   "metadata": {
    "execution": {
     "iopub.execute_input": "2023-04-16T23:53:50.189698Z",
     "iopub.status.busy": "2023-04-16T23:53:50.189334Z",
     "iopub.status.idle": "2023-04-16T23:53:50.353539Z",
     "shell.execute_reply": "2023-04-16T23:53:50.352639Z"
    },
    "papermill": {
     "duration": 0.184634,
     "end_time": "2023-04-16T23:53:50.355872",
     "exception": false,
     "start_time": "2023-04-16T23:53:50.171238",
     "status": "completed"
    },
    "tags": []
   },
   "outputs": [],
   "source": [
    "from sklearn.metrics import confusion_matrix\n",
    "from sklearn.metrics import classification_report\n",
    "import seaborn as sns"
   ]
  },
  {
   "cell_type": "code",
   "execution_count": 29,
   "id": "929b6ba2",
   "metadata": {
    "execution": {
     "iopub.execute_input": "2023-04-16T23:53:50.391429Z",
     "iopub.status.busy": "2023-04-16T23:53:50.390680Z",
     "iopub.status.idle": "2023-04-16T23:53:52.083436Z",
     "shell.execute_reply": "2023-04-16T23:53:52.082082Z"
    },
    "papermill": {
     "duration": 1.712997,
     "end_time": "2023-04-16T23:53:52.086094",
     "exception": false,
     "start_time": "2023-04-16T23:53:50.373097",
     "status": "completed"
    },
    "tags": []
   },
   "outputs": [],
   "source": [
    "pred_list = torch.zeros(0, dtype=torch.long, device='cpu')   # Create an empty tensor to store predicted labels with dtype long and device CPU\n",
    "label_list = torch.zeros(0, dtype=torch.long, device='cpu')   # Create an empty tensor to store actual labels with dtype long and device CPU\n",
    "\n",
    "with torch.no_grad():   # Turn off gradient computation during inference\n",
    "    for i, (inputs, classes) in enumerate(test_loader):   # Iterate over the test data loader\n",
    "        inputs = inputs.to(device)   # Move inputs to the specified device (e.g., CPU or GPU)\n",
    "        classes = classes.to(device)   # Move actual labels to the specified device\n",
    "        outputs = net(inputs.float())   # Pass inputs through the network to get predicted outputs\n",
    "        _, preds = torch.max(outputs, 1)   # Get the predicted labels by finding the indices of maximum values along the second dimension (class probabilities)\n",
    "\n",
    "        pred_list = torch.cat([pred_list, preds.view(-1).cpu()])   # Concatenate predicted labels to the pred_list tensor, reshaping to 1D and moving to CPU\n",
    "        label_list = torch.cat([label_list, classes.view(-1).cpu()])   # Concatenate actual labels to the label_list tensor, reshaping to 1D and moving to CPU\n"
   ]
  },
  {
   "cell_type": "markdown",
   "id": "ebe543dd",
   "metadata": {
    "papermill": {
     "duration": 0.016632,
     "end_time": "2023-04-16T23:53:52.121272",
     "exception": false,
     "start_time": "2023-04-16T23:53:52.104640",
     "status": "completed"
    },
    "tags": []
   },
   "source": [
    "\n",
    "\n",
    "Further, let us visualise this confusion matrix."
   ]
  },
  {
   "cell_type": "code",
   "execution_count": 30,
   "id": "40d88057",
   "metadata": {
    "execution": {
     "iopub.execute_input": "2023-04-16T23:53:52.157821Z",
     "iopub.status.busy": "2023-04-16T23:53:52.157469Z",
     "iopub.status.idle": "2023-04-16T23:53:52.166898Z",
     "shell.execute_reply": "2023-04-16T23:53:52.166142Z"
    },
    "papermill": {
     "duration": 0.030125,
     "end_time": "2023-04-16T23:53:52.168964",
     "exception": false,
     "start_time": "2023-04-16T23:53:52.138839",
     "status": "completed"
    },
    "tags": []
   },
   "outputs": [],
   "source": [
    "conf_mat = confusion_matrix(label_list.numpy(), pred_list.numpy())   # Compute the confusion matrix using predicted and actual labels converted to NumPy arrays\n",
    "class_names = (0, 1, 2, 3, 4, 5, 6, 7, 8, 9)   # Define the class names as a tuple of integers from 0 to 9\n",
    "dataframe = pd.DataFrame(conf_mat, index=class_names, columns=class_names)   # Create a DataFrame from the confusion matrix, with class names as row and column indices\n"
   ]
  },
  {
   "cell_type": "code",
   "execution_count": 31,
   "id": "9f359eec",
   "metadata": {
    "execution": {
     "iopub.execute_input": "2023-04-16T23:53:52.203835Z",
     "iopub.status.busy": "2023-04-16T23:53:52.203090Z",
     "iopub.status.idle": "2023-04-16T23:53:52.778848Z",
     "shell.execute_reply": "2023-04-16T23:53:52.777809Z"
    },
    "papermill": {
     "duration": 0.595271,
     "end_time": "2023-04-16T23:53:52.781198",
     "exception": false,
     "start_time": "2023-04-16T23:53:52.185927",
     "status": "completed"
    },
    "tags": []
   },
   "outputs": [
    {
     "data": {
      "image/png": "[encoded data removed]",
      "text/plain": [
       "<Figure size 800x600 with 1 Axes>"
      ]
     },
     "metadata": {},
     "output_type": "display_data"
    }
   ],
   "source": [
    "#plotting confusion matrix\n",
    "plt.figure(figsize=(8, 6))\n",
    "sns.heatmap(dataframe, annot=True, cbar=None,cmap=\"YlGnBu\",fmt=\"d\")\n",
    " \n",
    "plt.title(\"Confusion Matrix\"), plt.tight_layout()\n",
    " \n",
    "plt.ylabel(\"True Class\"), \n",
    "plt.xlabel(\"Predicted Class\")\n",
    "plt.show()"
   ]
  },
  {
   "cell_type": "markdown",
   "id": "59892c15",
   "metadata": {
    "papermill": {
     "duration": 0.017139,
     "end_time": "2023-04-16T23:53:52.816446",
     "exception": false,
     "start_time": "2023-04-16T23:53:52.799307",
     "status": "completed"
    },
    "tags": []
   },
   "source": [
    "## Observations:\n",
    "\n",
    "He we infer that , 558 times the label was 0 and our model predicted it as 0.Similarly 567 times label was 1 and and model predicted 1. Highest value is 4 , which means four times the label was 8 (True class) and our model predicted it 3, which is considered as error. "
   ]
  },
  {
   "cell_type": "markdown",
   "id": "ea450661",
   "metadata": {
    "papermill": {
     "duration": 0.017139,
     "end_time": "2023-04-16T23:53:52.850723",
     "exception": false,
     "start_time": "2023-04-16T23:53:52.833584",
     "status": "completed"
    },
    "tags": []
   },
   "source": [
    "# Conclusion\n",
    "\n",
    "- The accuracy on test test is 99.1% which is really good for CNN\n",
    "- CNNs, or Convolutional Neural Networks, are specialized neural networks for processing data with a known grid-like topology, such as images or time-series data.\n",
    "- CNNs consist of convolutional layers, pooling layers, and fully connected layers, and are commonly used in computer vision and other areas of deep learning.\n",
    "- Convolutional layers perform convolution on the input data to extract local patterns or features.\n",
    "- Pooling layers downsample the spatial dimensions of the data while preserving important features.\n",
    "- Activation functions, such as ReLU, sigmoid, and tanh, introduce non-linearity into the network.\n",
    "- We have successfully created a  CNN model using Pytorch."
   ]
  },
  {
   "cell_type": "markdown",
   "id": "7863ce68",
   "metadata": {
    "papermill": {
     "duration": 0.016996,
     "end_time": "2023-04-16T23:53:52.884724",
     "exception": false,
     "start_time": "2023-04-16T23:53:52.867728",
     "status": "completed"
    },
    "tags": []
   },
   "source": [
    "# References\n",
    "- https://towardsdatascience.com/convolutional-neural-networks-explained-9cc5188c4939\n",
    "- https://www.youtube.com/watch?v=iqQgED9vV7k\n",
    "- https://stanford.edu/~shervine/blog/pytorch-how-to-generate-data-parallel"
   ]
  },
  {
   "cell_type": "markdown",
   "id": "da440b40",
   "metadata": {
    "papermill": {
     "duration": 0.016673,
     "end_time": "2023-04-16T23:53:52.918099",
     "exception": false,
     "start_time": "2023-04-16T23:53:52.901426",
     "status": "completed"
    },
    "tags": []
   },
   "source": [
    "## Licensing\n",
    "\n",
    "Copyright 2023 Akshatha Patil\n",
    "\n",
    "Permission is hereby granted, free of charge, to any person obtaining a copy of this software and associated documentation files (the \"Software\"), to deal in the Software without restriction, including without limitation the rights to use, copy, modify, merge, publish, distribute, sublicense, and/or sell copies of the Software, and to permit persons to whom the Software is furnished to do so, subject to the following conditions:\n",
    "\n",
    "The above copyright notice and this permission notice shall be included in all copies or substantial portions of the Software.\n",
    "\n",
    "THE SOFTWARE IS PROVIDED \"AS IS\", WITHOUT WARRANTY OF ANY KIND, EXPRESS OR IMPLIED, INCLUDING BUT NOT LIMITED TO THE WARRANTIES OF MERCHANTABILITY, FITNESS FOR A PARTICULAR PURPOSE AND NONINFRINGEMENT. IN NO EVENT SHALL THE AUTHORS OR COPYRIGHT HOLDERS BE LIABLE FOR ANY CLAIM, DAMAGES OR OTHER LIABILITY, WHETHER IN AN ACTION OF CONTRACT, TORT OR OTHERWISE, ARISING FROM, OUT OF OR IN CONNECTION WITH THE SOFTWARE OR THE USE OR OTHER DEALINGS IN THE SOFTWARE."
   ]
  }
 ],
 "metadata": {
  "kernelspec": {
   "display_name": "Python 3",
   "language": "python",
   "name": "python3"
  },
  "language_info": {
   "codemirror_mode": {
    "name": "ipython",
    "version": 3
   },
   "file_extension": ".py",
   "mimetype": "text/x-python",
   "name": "python",
   "nbconvert_exporter": "python",
   "pygments_lexer": "ipython3",
   "version": "3.7.12"
  },
  "papermill": {
   "default_parameters": {},
   "duration": 404.027076,
   "end_time": "2023-04-16T23:53:53.857754",
   "environment_variables": {},
   "exception": null,
   "input_path": "__notebook__.ipynb",
   "output_path": "__notebook__.ipynb",
   "parameters": {},
   "start_time": "2023-04-16T23:47:09.830678",
   "version": "2.4.0"
  }
 },
 "nbformat": 4,
 "nbformat_minor": 5
}
