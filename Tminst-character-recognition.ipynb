{
 "cells": [
  {
   "cell_type": "markdown",
   "id": "814db4e3",
   "metadata": {
    "papermill": {
     "duration": 0.015267,
     "end_time": "2023-04-08T01:10:34.633893",
     "exception": false,
     "start_time": "2023-04-08T01:10:34.618626",
     "status": "completed"
    },
    "tags": []
   },
   "source": []
  },
  {
   "cell_type": "markdown",
   "id": "d3fad6a7",
   "metadata": {
    "papermill": {
     "duration": 0.013036,
     "end_time": "2023-04-08T01:10:34.660925",
     "exception": false,
     "start_time": "2023-04-08T01:10:34.647889",
     "status": "completed"
    },
    "tags": []
   },
   "source": [
    "# What is Handwritten Digit Recognition?\n",
    "Handwritten digit recognition is the ability of computers to recognize human handwritten digits. It is a hard task for the machine because handwritten digits are not perfect and can vary from person to person. Handwritten digit recognition is the solution to this problem which uses the image of a digit and recognizes the digit present in the image."
   ]
  },
  {
   "cell_type": "markdown",
   "id": "62b385bc",
   "metadata": {
    "papermill": {
     "duration": 0.013149,
     "end_time": "2023-04-08T01:10:34.687469",
     "exception": false,
     "start_time": "2023-04-08T01:10:34.674320",
     "status": "completed"
    },
    "tags": []
   },
   "source": [
    "# About the Dataset\n",
    "\n",
    "This dataset is inspired by the MNIST database for handwritten digits. It consists of images representing digits from 0-9 produced using 2,990 google fonts files.\n",
    "\n",
    "The dataset consists of a single file:\n",
    "\n",
    "TMNIST_Data.csv\n",
    "\n",
    "This file consists of 29,900 examples with labels and font names. Each row contains 786 elements: the first element represents the font name (ex-Chivo-Italic, Sen-Bold), the second element represents the label (a number from 0-9) and the remaining 784 elements represent the grayscale pixel values (from 0-255) for the 28x28 pixel image.\n",
    "\n"
   ]
  },
  {
   "cell_type": "markdown",
   "id": "53ffcb66",
   "metadata": {
    "papermill": {
     "duration": 0.014821,
     "end_time": "2023-04-08T01:10:34.715928",
     "exception": false,
     "start_time": "2023-04-08T01:10:34.701107",
     "status": "completed"
    },
    "tags": []
   },
   "source": [
    "# What is Convolutional Neural Network\n",
    "\n",
    "A Convolutional Neural Network (ConvNet/CNN) is a Deep Learning algorithm that can take in an input image, assign importance (learnable weights and biases) to various aspects/objects in the image, and be able to differentiate one from the other. The pre-processing required in a ConvNet is much lower as compared to other classification algorithms. While in primitive methods filters are hand-engineered, with enough training, ConvNets have the ability to learn these filters/characteristics.\n",
    "\n",
    "A ConvNet's architecture is influenced by how the Visual Cortex is organised and is similar to the connectivity network of neurons in the human brain. While there are many complex CNN architectures like Resnet, Inception V3 and so on designed to achieve state-of-the-art performance on real world images, in this tutorial, we will create a custom Convolutional Neural Network Architecture using Pytorch.\n",
    "\n",
    "We will be training and testing our model on the Typeface MNIST Dataset, which consists of over 29,000 samples of images of 0-9 digits in various fonts along with their labels."
   ]
  },
  {
   "cell_type": "markdown",
   "id": "fef3147f",
   "metadata": {
    "papermill": {
     "duration": 0.013061,
     "end_time": "2023-04-08T01:10:34.742528",
     "exception": false,
     "start_time": "2023-04-08T01:10:34.729467",
     "status": "completed"
    },
    "tags": []
   },
   "source": [
    "<img src= \"https://upload.wikimedia.org/wikipedia/commons/b/b6/Artificial_neural_network.png\" alt =\"Titanic\" style='width: 700px;'>"
   ]
  },
  {
   "cell_type": "markdown",
   "id": "8178b97d",
   "metadata": {
    "papermill": {
     "duration": 0.013054,
     "end_time": "2023-04-08T01:10:34.768982",
     "exception": false,
     "start_time": "2023-04-08T01:10:34.755928",
     "status": "completed"
    },
    "tags": []
   },
   "source": [
    "This notebook is further divided into the following sections.\n",
    "\n",
    "- Importing required Libraries\n",
    "- Loading the dataset\n",
    "- Creating a CNN Model\n",
    "- Training our model\n",
    "- Evaluating our model"
   ]
  },
  {
   "cell_type": "markdown",
   "id": "6958dc8f",
   "metadata": {
    "papermill": {
     "duration": 0.012993,
     "end_time": "2023-04-08T01:10:34.795429",
     "exception": false,
     "start_time": "2023-04-08T01:10:34.782436",
     "status": "completed"
    },
    "tags": []
   },
   "source": [
    "# Importing All necessary librarirs"
   ]
  },
  {
   "cell_type": "markdown",
   "id": "ffb28ba2",
   "metadata": {
    "papermill": {
     "duration": 0.012942,
     "end_time": "2023-04-08T01:10:34.821822",
     "exception": false,
     "start_time": "2023-04-08T01:10:34.808880",
     "status": "completed"
    },
    "tags": []
   },
   "source": []
  },
  {
   "cell_type": "code",
   "execution_count": 1,
   "id": "166ee4fc",
   "metadata": {
    "execution": {
     "iopub.execute_input": "2023-04-08T01:10:34.852121Z",
     "iopub.status.busy": "2023-04-08T01:10:34.850682Z",
     "iopub.status.idle": "2023-04-08T01:10:37.597512Z",
     "shell.execute_reply": "2023-04-08T01:10:37.596265Z"
    },
    "papermill": {
     "duration": 2.765478,
     "end_time": "2023-04-08T01:10:37.600704",
     "exception": false,
     "start_time": "2023-04-08T01:10:34.835226",
     "status": "completed"
    },
    "tags": []
   },
   "outputs": [],
   "source": [
    "\n",
    "#import pytorch\n",
    "import torch\n",
    "\n",
    "# torch functionalities used for building our CNN Model\n",
    "import torch.optim as optim\n",
    "import torch.nn as nn\n",
    "import torch.nn.functional as F\n",
    "\n",
    "import torch.utils.data as data_utils"
   ]
  },
  {
   "cell_type": "code",
   "execution_count": 2,
   "id": "41d67958",
   "metadata": {
    "execution": {
     "iopub.execute_input": "2023-04-08T01:10:37.630905Z",
     "iopub.status.busy": "2023-04-08T01:10:37.629234Z",
     "iopub.status.idle": "2023-04-08T01:10:39.003568Z",
     "shell.execute_reply": "2023-04-08T01:10:39.001669Z"
    },
    "papermill": {
     "duration": 1.393183,
     "end_time": "2023-04-08T01:10:39.007340",
     "exception": false,
     "start_time": "2023-04-08T01:10:37.614157",
     "status": "completed"
    },
    "tags": []
   },
   "outputs": [],
   "source": [
    "import pandas as pd\n",
    "import numpy as np\n",
    "\n",
    "import matplotlib.pyplot as plt\n",
    "\n",
    "from sklearn.model_selection import train_test_split"
   ]
  },
  {
   "cell_type": "markdown",
   "id": "742e0d5d",
   "metadata": {
    "papermill": {
     "duration": 0.013073,
     "end_time": "2023-04-08T01:10:39.033926",
     "exception": false,
     "start_time": "2023-04-08T01:10:39.020853",
     "status": "completed"
    },
    "tags": []
   },
   "source": [
    "# How to train your neural net faster?\n",
    "We saw that the computationally intensive part of neural network is made up of multiple matrix multiplications. So how can we make it faster?"
   ]
  },
  {
   "cell_type": "markdown",
   "id": "5bd11760",
   "metadata": {
    "papermill": {
     "duration": 0.012943,
     "end_time": "2023-04-08T01:10:39.060197",
     "exception": false,
     "start_time": "2023-04-08T01:10:39.047254",
     "status": "completed"
    },
    "tags": []
   },
   "source": [
    "Since we will be building a CNN model, a GPU is required to speed up the training process. Before starting with the implementation, we verify the presence of an active GPU and set the device accordingly."
   ]
  },
  {
   "cell_type": "code",
   "execution_count": 3,
   "id": "a19b83c1",
   "metadata": {
    "execution": {
     "iopub.execute_input": "2023-04-08T01:10:39.091492Z",
     "iopub.status.busy": "2023-04-08T01:10:39.090005Z",
     "iopub.status.idle": "2023-04-08T01:10:39.097804Z",
     "shell.execute_reply": "2023-04-08T01:10:39.096069Z"
    },
    "papermill": {
     "duration": 0.02672,
     "end_time": "2023-04-08T01:10:39.100828",
     "exception": false,
     "start_time": "2023-04-08T01:10:39.074108",
     "status": "completed"
    },
    "tags": []
   },
   "outputs": [],
   "source": [
    "if torch.cuda.is_available():\n",
    "    device = 'cuda'\n",
    "else:\n",
    "    device = 'cpu'"
   ]
  },
  {
   "cell_type": "code",
   "execution_count": 4,
   "id": "6aed7f9a",
   "metadata": {
    "execution": {
     "iopub.execute_input": "2023-04-08T01:10:39.130650Z",
     "iopub.status.busy": "2023-04-08T01:10:39.130120Z",
     "iopub.status.idle": "2023-04-08T01:10:42.378352Z",
     "shell.execute_reply": "2023-04-08T01:10:42.376930Z"
    },
    "papermill": {
     "duration": 3.266995,
     "end_time": "2023-04-08T01:10:42.381642",
     "exception": false,
     "start_time": "2023-04-08T01:10:39.114647",
     "status": "completed"
    },
    "tags": []
   },
   "outputs": [],
   "source": [
    "\n",
    "#Reading data into pandas dataframe.\n",
    "#data_path = \"/kaggle/input/94-character-tmnist/94_character_TMNIST.csv\"\n",
    "data_path = \"/kaggle/input/tmnist-typeface-mnist/TMNIST_Data.csv\"\n",
    "data = pd.read_csv(data_path)\n"
   ]
  },
  {
   "cell_type": "markdown",
   "id": "15632e9a",
   "metadata": {
    "papermill": {
     "duration": 0.012986,
     "end_time": "2023-04-08T01:10:42.408270",
     "exception": false,
     "start_time": "2023-04-08T01:10:42.395284",
     "status": "completed"
    },
    "tags": []
   },
   "source": [
    "# Performing EDA"
   ]
  },
  {
   "cell_type": "code",
   "execution_count": 5,
   "id": "70ee68a4",
   "metadata": {
    "execution": {
     "iopub.execute_input": "2023-04-08T01:10:42.437785Z",
     "iopub.status.busy": "2023-04-08T01:10:42.437265Z",
     "iopub.status.idle": "2023-04-08T01:10:42.477424Z",
     "shell.execute_reply": "2023-04-08T01:10:42.475972Z"
    },
    "papermill": {
     "duration": 0.059256,
     "end_time": "2023-04-08T01:10:42.481020",
     "exception": false,
     "start_time": "2023-04-08T01:10:42.421764",
     "status": "completed"
    },
    "tags": []
   },
   "outputs": [
    {
     "data": {
      "text/html": [
       "<div>\n",
       "<style scoped>\n",
       "    .dataframe tbody tr th:only-of-type {\n",
       "        vertical-align: middle;\n",
       "    }\n",
       "\n",
       "    .dataframe tbody tr th {\n",
       "        vertical-align: top;\n",
       "    }\n",
       "\n",
       "    .dataframe thead th {\n",
       "        text-align: right;\n",
       "    }\n",
       "</style>\n",
       "<table border=\"1\" class=\"dataframe\">\n",
       "  <thead>\n",
       "    <tr style=\"text-align: right;\">\n",
       "      <th></th>\n",
       "      <th>names</th>\n",
       "      <th>labels</th>\n",
       "      <th>1</th>\n",
       "      <th>2</th>\n",
       "      <th>3</th>\n",
       "      <th>4</th>\n",
       "      <th>5</th>\n",
       "      <th>6</th>\n",
       "      <th>7</th>\n",
       "      <th>8</th>\n",
       "      <th>...</th>\n",
       "      <th>775</th>\n",
       "      <th>776</th>\n",
       "      <th>777</th>\n",
       "      <th>778</th>\n",
       "      <th>779</th>\n",
       "      <th>780</th>\n",
       "      <th>781</th>\n",
       "      <th>782</th>\n",
       "      <th>783</th>\n",
       "      <th>784</th>\n",
       "    </tr>\n",
       "  </thead>\n",
       "  <tbody>\n",
       "    <tr>\n",
       "      <th>0</th>\n",
       "      <td>GrandHotel-Regular</td>\n",
       "      <td>2</td>\n",
       "      <td>0</td>\n",
       "      <td>0</td>\n",
       "      <td>0</td>\n",
       "      <td>0</td>\n",
       "      <td>0</td>\n",
       "      <td>0</td>\n",
       "      <td>0</td>\n",
       "      <td>0</td>\n",
       "      <td>...</td>\n",
       "      <td>0</td>\n",
       "      <td>0</td>\n",
       "      <td>0</td>\n",
       "      <td>0</td>\n",
       "      <td>0</td>\n",
       "      <td>0</td>\n",
       "      <td>0</td>\n",
       "      <td>0</td>\n",
       "      <td>0</td>\n",
       "      <td>0</td>\n",
       "    </tr>\n",
       "    <tr>\n",
       "      <th>1</th>\n",
       "      <td>EncodeSansCondensed-Medium</td>\n",
       "      <td>8</td>\n",
       "      <td>0</td>\n",
       "      <td>0</td>\n",
       "      <td>0</td>\n",
       "      <td>0</td>\n",
       "      <td>0</td>\n",
       "      <td>0</td>\n",
       "      <td>0</td>\n",
       "      <td>0</td>\n",
       "      <td>...</td>\n",
       "      <td>0</td>\n",
       "      <td>0</td>\n",
       "      <td>0</td>\n",
       "      <td>0</td>\n",
       "      <td>0</td>\n",
       "      <td>0</td>\n",
       "      <td>0</td>\n",
       "      <td>0</td>\n",
       "      <td>0</td>\n",
       "      <td>0</td>\n",
       "    </tr>\n",
       "    <tr>\n",
       "      <th>2</th>\n",
       "      <td>Varela-Regular</td>\n",
       "      <td>4</td>\n",
       "      <td>0</td>\n",
       "      <td>0</td>\n",
       "      <td>0</td>\n",
       "      <td>0</td>\n",
       "      <td>0</td>\n",
       "      <td>0</td>\n",
       "      <td>0</td>\n",
       "      <td>0</td>\n",
       "      <td>...</td>\n",
       "      <td>0</td>\n",
       "      <td>0</td>\n",
       "      <td>0</td>\n",
       "      <td>0</td>\n",
       "      <td>0</td>\n",
       "      <td>0</td>\n",
       "      <td>0</td>\n",
       "      <td>0</td>\n",
       "      <td>0</td>\n",
       "      <td>0</td>\n",
       "    </tr>\n",
       "    <tr>\n",
       "      <th>3</th>\n",
       "      <td>ArefRuqaa-Bold</td>\n",
       "      <td>3</td>\n",
       "      <td>0</td>\n",
       "      <td>0</td>\n",
       "      <td>0</td>\n",
       "      <td>0</td>\n",
       "      <td>0</td>\n",
       "      <td>0</td>\n",
       "      <td>0</td>\n",
       "      <td>0</td>\n",
       "      <td>...</td>\n",
       "      <td>0</td>\n",
       "      <td>0</td>\n",
       "      <td>0</td>\n",
       "      <td>0</td>\n",
       "      <td>0</td>\n",
       "      <td>0</td>\n",
       "      <td>0</td>\n",
       "      <td>0</td>\n",
       "      <td>0</td>\n",
       "      <td>0</td>\n",
       "    </tr>\n",
       "    <tr>\n",
       "      <th>4</th>\n",
       "      <td>KulimPark-Regular</td>\n",
       "      <td>1</td>\n",
       "      <td>0</td>\n",
       "      <td>0</td>\n",
       "      <td>0</td>\n",
       "      <td>0</td>\n",
       "      <td>0</td>\n",
       "      <td>0</td>\n",
       "      <td>0</td>\n",
       "      <td>0</td>\n",
       "      <td>...</td>\n",
       "      <td>0</td>\n",
       "      <td>0</td>\n",
       "      <td>0</td>\n",
       "      <td>0</td>\n",
       "      <td>0</td>\n",
       "      <td>0</td>\n",
       "      <td>0</td>\n",
       "      <td>0</td>\n",
       "      <td>0</td>\n",
       "      <td>0</td>\n",
       "    </tr>\n",
       "  </tbody>\n",
       "</table>\n",
       "<p>5 rows × 786 columns</p>\n",
       "</div>"
      ],
      "text/plain": [
       "                        names  labels  1  2  3  4  5  6  7  8  ...  775  776  \\\n",
       "0          GrandHotel-Regular       2  0  0  0  0  0  0  0  0  ...    0    0   \n",
       "1  EncodeSansCondensed-Medium       8  0  0  0  0  0  0  0  0  ...    0    0   \n",
       "2              Varela-Regular       4  0  0  0  0  0  0  0  0  ...    0    0   \n",
       "3              ArefRuqaa-Bold       3  0  0  0  0  0  0  0  0  ...    0    0   \n",
       "4           KulimPark-Regular       1  0  0  0  0  0  0  0  0  ...    0    0   \n",
       "\n",
       "   777  778  779  780  781  782  783  784  \n",
       "0    0    0    0    0    0    0    0    0  \n",
       "1    0    0    0    0    0    0    0    0  \n",
       "2    0    0    0    0    0    0    0    0  \n",
       "3    0    0    0    0    0    0    0    0  \n",
       "4    0    0    0    0    0    0    0    0  \n",
       "\n",
       "[5 rows x 786 columns]"
      ]
     },
     "execution_count": 5,
     "metadata": {},
     "output_type": "execute_result"
    }
   ],
   "source": [
    "#A view of dataset.\n",
    "data.head()"
   ]
  },
  {
   "cell_type": "code",
   "execution_count": 6,
   "id": "11a01149",
   "metadata": {
    "execution": {
     "iopub.execute_input": "2023-04-08T01:10:42.511373Z",
     "iopub.status.busy": "2023-04-08T01:10:42.510886Z",
     "iopub.status.idle": "2023-04-08T01:10:42.518244Z",
     "shell.execute_reply": "2023-04-08T01:10:42.516772Z"
    },
    "papermill": {
     "duration": 0.026362,
     "end_time": "2023-04-08T01:10:42.521409",
     "exception": false,
     "start_time": "2023-04-08T01:10:42.495047",
     "status": "completed"
    },
    "tags": []
   },
   "outputs": [
    {
     "name": "stdout",
     "output_type": "stream",
     "text": [
      "The Shape of the Dataframe is: (29900, 786)\n",
      "Number of Samples: 29900\n"
     ]
    }
   ],
   "source": [
    "#Determining Shape and Number of Sample in the Dataset\n",
    "print(f\"The Shape of the Dataframe is: {data.shape}\") #Number of Samples, Number of Pixels(Features)\n",
    "print(f\"Number of Samples: {data.shape[0]}\")"
   ]
  },
  {
   "cell_type": "code",
   "execution_count": 7,
   "id": "9e7fb885",
   "metadata": {
    "execution": {
     "iopub.execute_input": "2023-04-08T01:10:42.551794Z",
     "iopub.status.busy": "2023-04-08T01:10:42.551231Z",
     "iopub.status.idle": "2023-04-08T01:10:42.566394Z",
     "shell.execute_reply": "2023-04-08T01:10:42.564781Z"
    },
    "papermill": {
     "duration": 0.033703,
     "end_time": "2023-04-08T01:10:42.569073",
     "exception": false,
     "start_time": "2023-04-08T01:10:42.535370",
     "status": "completed"
    },
    "tags": []
   },
   "outputs": [
    {
     "name": "stdout",
     "output_type": "stream",
     "text": [
      "Number of unique character present in the Dataset: 10\n"
     ]
    }
   ],
   "source": [
    "# Number of unique character in the Dataframe\n",
    "print(f\"Number of unique character present in the Dataset: {len(data.labels.unique())}\") #Number of Classes\n"
   ]
  },
  {
   "cell_type": "code",
   "execution_count": 8,
   "id": "b4e44cc8",
   "metadata": {
    "execution": {
     "iopub.execute_input": "2023-04-08T01:10:42.599415Z",
     "iopub.status.busy": "2023-04-08T01:10:42.598849Z",
     "iopub.status.idle": "2023-04-08T01:10:42.610908Z",
     "shell.execute_reply": "2023-04-08T01:10:42.609607Z"
    },
    "papermill": {
     "duration": 0.030939,
     "end_time": "2023-04-08T01:10:42.614020",
     "exception": false,
     "start_time": "2023-04-08T01:10:42.583081",
     "status": "completed"
    },
    "tags": []
   },
   "outputs": [
    {
     "data": {
      "text/plain": [
       "2    2990\n",
       "8    2990\n",
       "4    2990\n",
       "3    2990\n",
       "1    2990\n",
       "6    2990\n",
       "5    2990\n",
       "9    2990\n",
       "7    2990\n",
       "0    2990\n",
       "Name: labels, dtype: int64"
      ]
     },
     "execution_count": 8,
     "metadata": {},
     "output_type": "execute_result"
    }
   ],
   "source": [
    "# Label distribution\n",
    "data.labels.value_counts()"
   ]
  },
  {
   "cell_type": "markdown",
   "id": "7cdb62e6",
   "metadata": {
    "papermill": {
     "duration": 0.014191,
     "end_time": "2023-04-08T01:10:42.642460",
     "exception": false,
     "start_time": "2023-04-08T01:10:42.628269",
     "status": "completed"
    },
    "tags": []
   },
   "source": [
    "We observe that the labels are equally distributed with 2990 instances of each class. Hence, our dataset is balanced.\n",
    "\n",
    "Now, let us reshape and modify our data so that it can be used as an input for our model. We normalise the data and reshape it into a 4 dimensional array such that it represents images stacked on to each other. We also reshape our labels into a 1 dimensional array."
   ]
  },
  {
   "cell_type": "code",
   "execution_count": 9,
   "id": "a8682ca6",
   "metadata": {
    "execution": {
     "iopub.execute_input": "2023-04-08T01:10:42.673570Z",
     "iopub.status.busy": "2023-04-08T01:10:42.672489Z",
     "iopub.status.idle": "2023-04-08T01:10:42.847881Z",
     "shell.execute_reply": "2023-04-08T01:10:42.846340Z"
    },
    "papermill": {
     "duration": 0.194675,
     "end_time": "2023-04-08T01:10:42.851296",
     "exception": false,
     "start_time": "2023-04-08T01:10:42.656621",
     "status": "completed"
    },
    "tags": []
   },
   "outputs": [],
   "source": [
    "#Dropping redundant coloums like names and labels from the training frames and keeping only pixel values\n",
    "X = data.drop(columns = {'names', 'labels'})/255\n",
    "X = X.values.reshape(X.shape[0], 1, 28, 28)\n",
    "y = data[['labels']].values.reshape((-1,))"
   ]
  },
  {
   "cell_type": "markdown",
   "id": "ac32e350",
   "metadata": {
    "papermill": {
     "duration": 0.013937,
     "end_time": "2023-04-08T01:10:42.879395",
     "exception": false,
     "start_time": "2023-04-08T01:10:42.865458",
     "status": "completed"
    },
    "tags": []
   },
   "source": [
    "Before proceeding, we split our data into training and testing sets using an 80:20 proportion."
   ]
  },
  {
   "cell_type": "code",
   "execution_count": 10,
   "id": "4fb4d0da",
   "metadata": {
    "execution": {
     "iopub.execute_input": "2023-04-08T01:10:42.909938Z",
     "iopub.status.busy": "2023-04-08T01:10:42.909362Z",
     "iopub.status.idle": "2023-04-08T01:10:43.364192Z",
     "shell.execute_reply": "2023-04-08T01:10:43.362967Z"
    },
    "papermill": {
     "duration": 0.473986,
     "end_time": "2023-04-08T01:10:43.367445",
     "exception": false,
     "start_time": "2023-04-08T01:10:42.893459",
     "status": "completed"
    },
    "tags": []
   },
   "outputs": [],
   "source": [
    "X_train, X_test, y_train, y_test = train_test_split(X, y, test_size = 0.2, random_state = 42)"
   ]
  },
  {
   "cell_type": "markdown",
   "id": "f54c0d7f",
   "metadata": {
    "papermill": {
     "duration": 0.014688,
     "end_time": "2023-04-08T01:10:43.396188",
     "exception": false,
     "start_time": "2023-04-08T01:10:43.381500",
     "status": "completed"
    },
    "tags": []
   },
   "source": [
    "We now convert them to numpy arrays so that they can be further worked with."
   ]
  },
  {
   "cell_type": "code",
   "execution_count": 11,
   "id": "47e0254a",
   "metadata": {
    "execution": {
     "iopub.execute_input": "2023-04-08T01:10:43.426814Z",
     "iopub.status.busy": "2023-04-08T01:10:43.426285Z",
     "iopub.status.idle": "2023-04-08T01:10:43.443592Z",
     "shell.execute_reply": "2023-04-08T01:10:43.442050Z"
    },
    "papermill": {
     "duration": 0.036082,
     "end_time": "2023-04-08T01:10:43.446377",
     "exception": false,
     "start_time": "2023-04-08T01:10:43.410295",
     "status": "completed"
    },
    "tags": []
   },
   "outputs": [],
   "source": [
    "X_train = torch.from_numpy(X_train)\n",
    "X_test = torch.from_numpy(X_test)\n",
    "y_train = torch.from_numpy(y_train)\n",
    "y_test = torch.from_numpy(y_test)"
   ]
  },
  {
   "cell_type": "markdown",
   "id": "318b2dee",
   "metadata": {
    "papermill": {
     "duration": 0.013558,
     "end_time": "2023-04-08T01:10:43.473924",
     "exception": false,
     "start_time": "2023-04-08T01:10:43.460366",
     "status": "completed"
    },
    "tags": []
   },
   "source": [
    "Before proceeding, we split our data into training and testing sets using an 80:20 proportion."
   ]
  },
  {
   "cell_type": "code",
   "execution_count": 12,
   "id": "d018bf9a",
   "metadata": {
    "execution": {
     "iopub.execute_input": "2023-04-08T01:10:43.505966Z",
     "iopub.status.busy": "2023-04-08T01:10:43.504299Z",
     "iopub.status.idle": "2023-04-08T01:10:43.512709Z",
     "shell.execute_reply": "2023-04-08T01:10:43.510897Z"
    },
    "papermill": {
     "duration": 0.027745,
     "end_time": "2023-04-08T01:10:43.515810",
     "exception": false,
     "start_time": "2023-04-08T01:10:43.488065",
     "status": "completed"
    },
    "tags": []
   },
   "outputs": [
    {
     "name": "stdout",
     "output_type": "stream",
     "text": [
      "torch.Size([23920, 1, 28, 28]) torch.Size([23920])\n"
     ]
    }
   ],
   "source": [
    "print(X_train.shape, y_train.shape)"
   ]
  },
  {
   "cell_type": "markdown",
   "id": "6df9d979",
   "metadata": {
    "papermill": {
     "duration": 0.013475,
     "end_time": "2023-04-08T01:10:43.543476",
     "exception": false,
     "start_time": "2023-04-08T01:10:43.530001",
     "status": "completed"
    },
    "tags": []
   },
   "source": [
    "We verify our steps by checking the shape of our newly created torch tensors.\n",
    "\n",
    "Now, let us visualise a sample image from our processed data."
   ]
  },
  {
   "cell_type": "code",
   "execution_count": 13,
   "id": "5451e655",
   "metadata": {
    "execution": {
     "iopub.execute_input": "2023-04-08T01:10:43.573777Z",
     "iopub.status.busy": "2023-04-08T01:10:43.573276Z",
     "iopub.status.idle": "2023-04-08T01:10:43.726225Z",
     "shell.execute_reply": "2023-04-08T01:10:43.724253Z"
    },
    "papermill": {
     "duration": 0.175033,
     "end_time": "2023-04-08T01:10:43.732422",
     "exception": false,
     "start_time": "2023-04-08T01:10:43.557389",
     "status": "completed"
    },
    "tags": []
   },
   "outputs": [
    {
     "data": {
      "image/png": "[encoded data removed]",
      "text/plain": [
       "<Figure size 640x480 with 1 Axes>"
      ]
     },
     "metadata": {},
     "output_type": "display_data"
    }
   ],
   "source": [
    "def visualize_image(data):\n",
    "    plt.imshow(data[0], cmap='gray_r')\n",
    "    plt.axis(\"off\")\n",
    "    plt.show()\n",
    "\n",
    "visualize_image(X_train[0])"
   ]
  },
  {
   "cell_type": "markdown",
   "id": "9b2ddb5d",
   "metadata": {
    "papermill": {
     "duration": 0.01645,
     "end_time": "2023-04-08T01:10:43.786319",
     "exception": false,
     "start_time": "2023-04-08T01:10:43.769869",
     "status": "completed"
    },
    "tags": []
   },
   "source": [
    "#  Create a CNN Model\n",
    "Create Data Loader\n",
    "Dataloaders are utilized to feed our input data to our model for training, based on different parameters such as the batch size, if they should be suffled while being fed, and so on.\n",
    "\n",
    "Here, we define our tensordatasets for the dataloader and then input our required parameters to prepare the data loaders."
   ]
  },
  {
   "cell_type": "code",
   "execution_count": 14,
   "id": "6b16db61",
   "metadata": {
    "execution": {
     "iopub.execute_input": "2023-04-08T01:10:43.817551Z",
     "iopub.status.busy": "2023-04-08T01:10:43.816742Z",
     "iopub.status.idle": "2023-04-08T01:10:43.824102Z",
     "shell.execute_reply": "2023-04-08T01:10:43.822555Z"
    },
    "papermill": {
     "duration": 0.026149,
     "end_time": "2023-04-08T01:10:43.826731",
     "exception": false,
     "start_time": "2023-04-08T01:10:43.800582",
     "status": "completed"
    },
    "tags": []
   },
   "outputs": [
    {
     "name": "stdout",
     "output_type": "stream",
     "text": [
      "<class 'torch.Tensor'>\n",
      "<class 'torch.Tensor'>\n"
     ]
    }
   ],
   "source": [
    "print(type(X_train))\n",
    "print(type(y_train))\n"
   ]
  },
  {
   "cell_type": "code",
   "execution_count": 15,
   "id": "cf076104",
   "metadata": {
    "execution": {
     "iopub.execute_input": "2023-04-08T01:10:43.859274Z",
     "iopub.status.busy": "2023-04-08T01:10:43.858030Z",
     "iopub.status.idle": "2023-04-08T01:10:43.867082Z",
     "shell.execute_reply": "2023-04-08T01:10:43.865551Z"
    },
    "papermill": {
     "duration": 0.028864,
     "end_time": "2023-04-08T01:10:43.870199",
     "exception": false,
     "start_time": "2023-04-08T01:10:43.841335",
     "status": "completed"
    },
    "tags": []
   },
   "outputs": [],
   "source": [
    "train = data_utils.TensorDataset(X_train,y_train)\n",
    "test = data_utils.TensorDataset(X_test,y_test)"
   ]
  },
  {
   "cell_type": "markdown",
   "id": "72445098",
   "metadata": {
    "papermill": {
     "duration": 0.013809,
     "end_time": "2023-04-08T01:10:43.898467",
     "exception": false,
     "start_time": "2023-04-08T01:10:43.884658",
     "status": "completed"
    },
    "tags": []
   },
   "source": [
    "Once you have created your TensorDataset objects, you can pass them to data loaders in PyTorch to efficiently load and preprocess your data during model training or testing. Data loaders allow you to iterate over your dataset in batches, shuffle the data, and apply other data augmentation techniques as needed"
   ]
  },
  {
   "cell_type": "code",
   "execution_count": 16,
   "id": "bb1ea361",
   "metadata": {
    "execution": {
     "iopub.execute_input": "2023-04-08T01:10:43.930104Z",
     "iopub.status.busy": "2023-04-08T01:10:43.928766Z",
     "iopub.status.idle": "2023-04-08T01:10:43.936511Z",
     "shell.execute_reply": "2023-04-08T01:10:43.935037Z"
    },
    "papermill": {
     "duration": 0.026776,
     "end_time": "2023-04-08T01:10:43.939375",
     "exception": false,
     "start_time": "2023-04-08T01:10:43.912599",
     "status": "completed"
    },
    "tags": []
   },
   "outputs": [],
   "source": [
    "train_loader = data_utils.DataLoader(train, batch_size = 128, shuffle = True)\n",
    "test_loader = data_utils.DataLoader(test, batch_size = 128, shuffle = True)"
   ]
  },
  {
   "cell_type": "markdown",
   "id": "437ee240",
   "metadata": {
    "papermill": {
     "duration": 0.013793,
     "end_time": "2023-04-08T01:10:43.967850",
     "exception": false,
     "start_time": "2023-04-08T01:10:43.954057",
     "status": "completed"
    },
    "tags": []
   },
   "source": [
    "To verify our data loaders, we print the input size of an iteration of training."
   ]
  },
  {
   "cell_type": "code",
   "execution_count": 17,
   "id": "04aa4bcb",
   "metadata": {
    "execution": {
     "iopub.execute_input": "2023-04-08T01:10:43.998403Z",
     "iopub.status.busy": "2023-04-08T01:10:43.997422Z",
     "iopub.status.idle": "2023-04-08T01:10:44.269073Z",
     "shell.execute_reply": "2023-04-08T01:10:44.267456Z"
    },
    "papermill": {
     "duration": 0.293609,
     "end_time": "2023-04-08T01:10:44.275431",
     "exception": false,
     "start_time": "2023-04-08T01:10:43.981822",
     "status": "completed"
    },
    "tags": []
   },
   "outputs": [
    {
     "name": "stdout",
     "output_type": "stream",
     "text": [
      "torch.Size([128, 1, 28, 28]) torch.Size([128])\n",
      "torch.Size([128, 1, 28, 28]) torch.Size([128])\n",
      "torch.Size([128, 1, 28, 28]) torch.Size([128])\n",
      "torch.Size([128, 1, 28, 28]) torch.Size([128])\n",
      "torch.Size([128, 1, 28, 28]) torch.Size([128])\n",
      "torch.Size([128, 1, 28, 28]) torch.Size([128])\n",
      "torch.Size([128, 1, 28, 28]) torch.Size([128])\n",
      "torch.Size([128, 1, 28, 28]) torch.Size([128])\n",
      "torch.Size([128, 1, 28, 28]) torch.Size([128])\n",
      "torch.Size([128, 1, 28, 28]) torch.Size([128])\n",
      "torch.Size([128, 1, 28, 28]) torch.Size([128])\n",
      "torch.Size([128, 1, 28, 28]) torch.Size([128])\n",
      "torch.Size([128, 1, 28, 28]) torch.Size([128])\n",
      "torch.Size([128, 1, 28, 28]) torch.Size([128])\n",
      "torch.Size([128, 1, 28, 28]) torch.Size([128])\n",
      "torch.Size([128, 1, 28, 28]) torch.Size([128])\n",
      "torch.Size([128, 1, 28, 28]) torch.Size([128])\n",
      "torch.Size([128, 1, 28, 28]) torch.Size([128])\n",
      "torch.Size([128, 1, 28, 28]) torch.Size([128])\n",
      "torch.Size([128, 1, 28, 28]) torch.Size([128])\n",
      "torch.Size([128, 1, 28, 28]) torch.Size([128])\n",
      "torch.Size([128, 1, 28, 28]) torch.Size([128])\n",
      "torch.Size([128, 1, 28, 28]) torch.Size([128])\n",
      "torch.Size([128, 1, 28, 28]) torch.Size([128])\n",
      "torch.Size([128, 1, 28, 28]) torch.Size([128])\n",
      "torch.Size([128, 1, 28, 28]) torch.Size([128])\n",
      "torch.Size([128, 1, 28, 28]) torch.Size([128])\n",
      "torch.Size([128, 1, 28, 28]) torch.Size([128])\n",
      "torch.Size([128, 1, 28, 28]) torch.Size([128])\n",
      "torch.Size([128, 1, 28, 28]) torch.Size([128])\n",
      "torch.Size([128, 1, 28, 28]) torch.Size([128])\n",
      "torch.Size([128, 1, 28, 28]) torch.Size([128])\n",
      "torch.Size([128, 1, 28, 28]) torch.Size([128])\n",
      "torch.Size([128, 1, 28, 28]) torch.Size([128])\n",
      "torch.Size([128, 1, 28, 28]) torch.Size([128])\n",
      "torch.Size([128, 1, 28, 28]) torch.Size([128])\n",
      "torch.Size([128, 1, 28, 28]) torch.Size([128])\n",
      "torch.Size([128, 1, 28, 28]) torch.Size([128])\n",
      "torch.Size([128, 1, 28, 28]) torch.Size([128])\n",
      "torch.Size([128, 1, 28, 28]) torch.Size([128])\n",
      "torch.Size([128, 1, 28, 28]) torch.Size([128])\n",
      "torch.Size([128, 1, 28, 28]) torch.Size([128])\n",
      "torch.Size([128, 1, 28, 28]) torch.Size([128])\n",
      "torch.Size([128, 1, 28, 28]) torch.Size([128])\n",
      "torch.Size([128, 1, 28, 28]) torch.Size([128])\n",
      "torch.Size([128, 1, 28, 28]) torch.Size([128])\n",
      "torch.Size([128, 1, 28, 28]) torch.Size([128])\n",
      "torch.Size([128, 1, 28, 28]) torch.Size([128])\n",
      "torch.Size([128, 1, 28, 28]) torch.Size([128])\n",
      "torch.Size([128, 1, 28, 28]) torch.Size([128])\n",
      "torch.Size([128, 1, 28, 28]) torch.Size([128])\n",
      "torch.Size([128, 1, 28, 28]) torch.Size([128])\n",
      "torch.Size([128, 1, 28, 28]) torch.Size([128])\n",
      "torch.Size([128, 1, 28, 28]) torch.Size([128])\n",
      "torch.Size([128, 1, 28, 28]) torch.Size([128])\n",
      "torch.Size([128, 1, 28, 28]) torch.Size([128])\n",
      "torch.Size([128, 1, 28, 28]) torch.Size([128])\n",
      "torch.Size([128, 1, 28, 28]) torch.Size([128])\n",
      "torch.Size([128, 1, 28, 28]) torch.Size([128])\n",
      "torch.Size([128, 1, 28, 28]) torch.Size([128])\n",
      "torch.Size([128, 1, 28, 28]) torch.Size([128])\n",
      "torch.Size([128, 1, 28, 28]) torch.Size([128])\n",
      "torch.Size([128, 1, 28, 28]) torch.Size([128])\n",
      "torch.Size([128, 1, 28, 28]) torch.Size([128])\n",
      "torch.Size([128, 1, 28, 28]) torch.Size([128])\n",
      "torch.Size([128, 1, 28, 28]) torch.Size([128])\n",
      "torch.Size([128, 1, 28, 28]) torch.Size([128])\n",
      "torch.Size([128, 1, 28, 28]) torch.Size([128])\n",
      "torch.Size([128, 1, 28, 28]) torch.Size([128])\n",
      "torch.Size([128, 1, 28, 28]) torch.Size([128])\n",
      "torch.Size([128, 1, 28, 28]) torch.Size([128])\n",
      "torch.Size([128, 1, 28, 28]) torch.Size([128])\n",
      "torch.Size([128, 1, 28, 28]) torch.Size([128])\n",
      "torch.Size([128, 1, 28, 28]) torch.Size([128])\n",
      "torch.Size([128, 1, 28, 28]) torch.Size([128])\n",
      "torch.Size([128, 1, 28, 28]) torch.Size([128])\n",
      "torch.Size([128, 1, 28, 28]) torch.Size([128])\n",
      "torch.Size([128, 1, 28, 28]) torch.Size([128])\n",
      "torch.Size([128, 1, 28, 28]) torch.Size([128])\n",
      "torch.Size([128, 1, 28, 28]) torch.Size([128])\n",
      "torch.Size([128, 1, 28, 28]) torch.Size([128])\n",
      "torch.Size([128, 1, 28, 28]) torch.Size([128])\n",
      "torch.Size([128, 1, 28, 28]) torch.Size([128])\n",
      "torch.Size([128, 1, 28, 28]) torch.Size([128])\n",
      "torch.Size([128, 1, 28, 28]) torch.Size([128])\n",
      "torch.Size([128, 1, 28, 28]) torch.Size([128])\n",
      "torch.Size([128, 1, 28, 28]) torch.Size([128])\n",
      "torch.Size([128, 1, 28, 28]) torch.Size([128])\n",
      "torch.Size([128, 1, 28, 28]) torch.Size([128])\n",
      "torch.Size([128, 1, 28, 28]) torch.Size([128])\n",
      "torch.Size([128, 1, 28, 28]) torch.Size([128])\n",
      "torch.Size([128, 1, 28, 28]) torch.Size([128])\n",
      "torch.Size([128, 1, 28, 28]) torch.Size([128])\n",
      "torch.Size([128, 1, 28, 28]) torch.Size([128])\n",
      "torch.Size([128, 1, 28, 28]) torch.Size([128])\n",
      "torch.Size([128, 1, 28, 28]) torch.Size([128])\n",
      "torch.Size([128, 1, 28, 28]) torch.Size([128])\n",
      "torch.Size([128, 1, 28, 28]) torch.Size([128])\n",
      "torch.Size([128, 1, 28, 28]) torch.Size([128])\n",
      "torch.Size([128, 1, 28, 28]) torch.Size([128])\n",
      "torch.Size([128, 1, 28, 28]) torch.Size([128])\n",
      "torch.Size([128, 1, 28, 28]) torch.Size([128])\n",
      "torch.Size([128, 1, 28, 28]) torch.Size([128])\n",
      "torch.Size([128, 1, 28, 28]) torch.Size([128])\n",
      "torch.Size([128, 1, 28, 28]) torch.Size([128])\n",
      "torch.Size([128, 1, 28, 28]) torch.Size([128])\n",
      "torch.Size([128, 1, 28, 28]) torch.Size([128])\n",
      "torch.Size([128, 1, 28, 28]) torch.Size([128])\n",
      "torch.Size([128, 1, 28, 28]) torch.Size([128])\n",
      "torch.Size([128, 1, 28, 28]) torch.Size([128])\n",
      "torch.Size([128, 1, 28, 28]) torch.Size([128])\n",
      "torch.Size([128, 1, 28, 28]) torch.Size([128])\n",
      "torch.Size([128, 1, 28, 28]) torch.Size([128])\n",
      "torch.Size([128, 1, 28, 28]) torch.Size([128])\n",
      "torch.Size([128, 1, 28, 28]) torch.Size([128])\n",
      "torch.Size([128, 1, 28, 28]) torch.Size([128])\n",
      "torch.Size([128, 1, 28, 28]) torch.Size([128])\n",
      "torch.Size([128, 1, 28, 28]) torch.Size([128])\n",
      "torch.Size([128, 1, 28, 28]) torch.Size([128])\n",
      "torch.Size([128, 1, 28, 28]) torch.Size([128])\n",
      "torch.Size([128, 1, 28, 28]) torch.Size([128])\n",
      "torch.Size([128, 1, 28, 28]) torch.Size([128])\n",
      "torch.Size([128, 1, 28, 28]) torch.Size([128])\n",
      "torch.Size([128, 1, 28, 28]) torch.Size([128])\n",
      "torch.Size([128, 1, 28, 28]) torch.Size([128])\n",
      "torch.Size([128, 1, 28, 28]) torch.Size([128])\n",
      "torch.Size([128, 1, 28, 28]) torch.Size([128])\n",
      "torch.Size([128, 1, 28, 28]) torch.Size([128])\n",
      "torch.Size([128, 1, 28, 28]) torch.Size([128])\n",
      "torch.Size([128, 1, 28, 28]) torch.Size([128])\n",
      "torch.Size([128, 1, 28, 28]) torch.Size([128])\n",
      "torch.Size([128, 1, 28, 28]) torch.Size([128])\n",
      "torch.Size([128, 1, 28, 28]) torch.Size([128])\n",
      "torch.Size([128, 1, 28, 28]) torch.Size([128])\n",
      "torch.Size([128, 1, 28, 28]) torch.Size([128])\n",
      "torch.Size([128, 1, 28, 28]) torch.Size([128])\n",
      "torch.Size([128, 1, 28, 28]) torch.Size([128])\n",
      "torch.Size([128, 1, 28, 28]) torch.Size([128])\n",
      "torch.Size([128, 1, 28, 28]) torch.Size([128])\n",
      "torch.Size([128, 1, 28, 28]) torch.Size([128])\n",
      "torch.Size([128, 1, 28, 28]) torch.Size([128])\n",
      "torch.Size([128, 1, 28, 28]) torch.Size([128])\n",
      "torch.Size([128, 1, 28, 28]) torch.Size([128])\n",
      "torch.Size([128, 1, 28, 28]) torch.Size([128])\n",
      "torch.Size([128, 1, 28, 28]) torch.Size([128])\n",
      "torch.Size([128, 1, 28, 28]) torch.Size([128])\n",
      "torch.Size([128, 1, 28, 28]) torch.Size([128])\n",
      "torch.Size([128, 1, 28, 28]) torch.Size([128])\n",
      "torch.Size([128, 1, 28, 28]) torch.Size([128])\n",
      "torch.Size([128, 1, 28, 28]) torch.Size([128])\n",
      "torch.Size([128, 1, 28, 28]) torch.Size([128])\n",
      "torch.Size([128, 1, 28, 28]) torch.Size([128])\n",
      "torch.Size([128, 1, 28, 28]) torch.Size([128])\n",
      "torch.Size([128, 1, 28, 28]) torch.Size([128])\n",
      "torch.Size([128, 1, 28, 28]) torch.Size([128])\n",
      "torch.Size([128, 1, 28, 28]) torch.Size([128])\n",
      "torch.Size([128, 1, 28, 28]) torch.Size([128])\n",
      "torch.Size([128, 1, 28, 28]) torch.Size([128])\n",
      "torch.Size([128, 1, 28, 28]) torch.Size([128])\n",
      "torch.Size([128, 1, 28, 28]) torch.Size([128])\n",
      "torch.Size([128, 1, 28, 28]) torch.Size([128])\n",
      "torch.Size([128, 1, 28, 28]) torch.Size([128])\n",
      "torch.Size([128, 1, 28, 28]) torch.Size([128])\n",
      "torch.Size([128, 1, 28, 28]) torch.Size([128])\n",
      "torch.Size([128, 1, 28, 28]) torch.Size([128])\n",
      "torch.Size([128, 1, 28, 28]) torch.Size([128])\n",
      "torch.Size([128, 1, 28, 28]) torch.Size([128])\n",
      "torch.Size([128, 1, 28, 28]) torch.Size([128])\n",
      "torch.Size([128, 1, 28, 28]) torch.Size([128])\n",
      "torch.Size([128, 1, 28, 28]) torch.Size([128])\n",
      "torch.Size([128, 1, 28, 28]) torch.Size([128])\n",
      "torch.Size([128, 1, 28, 28]) torch.Size([128])\n",
      "torch.Size([128, 1, 28, 28]) torch.Size([128])\n",
      "torch.Size([128, 1, 28, 28]) torch.Size([128])\n",
      "torch.Size([128, 1, 28, 28]) torch.Size([128])\n",
      "torch.Size([128, 1, 28, 28]) torch.Size([128])\n",
      "torch.Size([128, 1, 28, 28]) torch.Size([128])\n",
      "torch.Size([128, 1, 28, 28]) torch.Size([128])\n",
      "torch.Size([128, 1, 28, 28]) torch.Size([128])\n",
      "torch.Size([128, 1, 28, 28]) torch.Size([128])\n",
      "torch.Size([128, 1, 28, 28]) torch.Size([128])\n",
      "torch.Size([128, 1, 28, 28]) torch.Size([128])\n",
      "torch.Size([128, 1, 28, 28]) torch.Size([128])\n",
      "torch.Size([128, 1, 28, 28]) torch.Size([128])\n",
      "torch.Size([128, 1, 28, 28]) torch.Size([128])\n",
      "torch.Size([128, 1, 28, 28]) torch.Size([128])\n",
      "torch.Size([112, 1, 28, 28]) torch.Size([112])\n",
      "torch.Size([128, 1, 28, 28]) torch.Size([128])\n"
     ]
    }
   ],
   "source": [
    "#printing input size of an iteration of training\n",
    "for images, labels in train_loader:\n",
    "    print(images.shape, labels.shape)\n",
    "\n",
    "data_iter = iter(train_loader)\n",
    "images, labels = next(data_iter)\n",
    "print(images.shape, labels.shape)\n",
    "\n"
   ]
  },
  {
   "cell_type": "code",
   "execution_count": 18,
   "id": "4bc56fc9",
   "metadata": {
    "execution": {
     "iopub.execute_input": "2023-04-08T01:10:44.308070Z",
     "iopub.status.busy": "2023-04-08T01:10:44.307336Z",
     "iopub.status.idle": "2023-04-08T01:10:44.340274Z",
     "shell.execute_reply": "2023-04-08T01:10:44.338814Z"
    },
    "papermill": {
     "duration": 0.052774,
     "end_time": "2023-04-08T01:10:44.343175",
     "exception": false,
     "start_time": "2023-04-08T01:10:44.290401",
     "status": "completed"
    },
    "tags": []
   },
   "outputs": [
    {
     "data": {
      "text/plain": [
       "Net(\n",
       "  (conv1): Conv2d(1, 32, kernel_size=(3, 3), stride=(1, 1))\n",
       "  (conv2): Conv2d(32, 64, kernel_size=(3, 3), stride=(1, 1))\n",
       "  (pool): MaxPool2d(kernel_size=2, stride=2, padding=0, dilation=1, ceil_mode=False)\n",
       "  (fc1): Linear(in_features=9216, out_features=128, bias=True)\n",
       "  (fc2): Linear(in_features=128, out_features=10, bias=True)\n",
       ")"
      ]
     },
     "execution_count": 18,
     "metadata": {},
     "output_type": "execute_result"
    }
   ],
   "source": [
    "class Net(nn.Module):\n",
    "    def __init__(self):\n",
    "        super(Net, self).__init__()\n",
    "        self.conv1 = nn.Conv2d(1, 32, 3)\n",
    "        self.conv2 = nn.Conv2d(32, 64, 3)\n",
    "        self.pool = nn.MaxPool2d(2, 2)\n",
    "        self.fc1 = nn.Linear(64 * 12 * 12, 128)\n",
    "        self.fc2 = nn.Linear(128, 10)\n",
    "\n",
    "    def forward(self, x):\n",
    "        x = F.relu(self.conv1(x))\n",
    "        x = self.pool(F.relu(self.conv2(x)))\n",
    "        x = x.view(-1, 64 * 12 * 12)\n",
    "        x = F.relu(self.fc1(x))\n",
    "        x = self.fc2(x)\n",
    "        return x\n",
    "\n",
    "net = Net()\n",
    "net.to(device)"
   ]
  },
  {
   "cell_type": "markdown",
   "id": "8d3f1d44",
   "metadata": {
    "papermill": {
     "duration": 0.014696,
     "end_time": "2023-04-08T01:10:44.373652",
     "exception": false,
     "start_time": "2023-04-08T01:10:44.358956",
     "status": "completed"
    },
    "tags": []
   },
   "source": [
    "# Create Model\n",
    "\n",
    "- Convolution layer (CONV)- The convolution layer (CONV) uses filters that perform convolution operations as it is scanning the input I with respect to its dimensions. Its hyperparameters include the filter size F and stride S. The resulting output O is called feature map or activation map.\n",
    "- Pooling (POOL)- The pooling layer (POOL) is a downsampling operation, typically applied after a convolution layer, which does some spatial invariance. In particular, max and average pooling are special kinds of pooling where the maximum and average value is taken, respectively.\n",
    "\n",
    "To create our CNN Model, we utilise the neural network module from pytorch and provide it with our own custom architecture as follows.\n",
    "\n",
    "- Convolutional layer with 32 channels\n",
    "- Convolutional layer with 64 channels\n",
    "- MaxPooling layer to compress information\n",
    "- Dense layer to flatten the information obtained\n",
    "- Dense output layer with relu activation"
   ]
  },
  {
   "cell_type": "markdown",
   "id": "d28844ac",
   "metadata": {
    "papermill": {
     "duration": 0.014356,
     "end_time": "2023-04-08T01:10:44.402881",
     "exception": false,
     "start_time": "2023-04-08T01:10:44.388525",
     "status": "completed"
    },
    "tags": []
   },
   "source": [
    "We use Cross Entropy Loss as the loss function and Adam as the optimizer here. You can also try out other optimizers like SGD here "
   ]
  },
  {
   "cell_type": "code",
   "execution_count": 19,
   "id": "3c35ce97",
   "metadata": {
    "execution": {
     "iopub.execute_input": "2023-04-08T01:10:44.435531Z",
     "iopub.status.busy": "2023-04-08T01:10:44.435002Z",
     "iopub.status.idle": "2023-04-08T01:10:44.441735Z",
     "shell.execute_reply": "2023-04-08T01:10:44.440394Z"
    },
    "papermill": {
     "duration": 0.026236,
     "end_time": "2023-04-08T01:10:44.444551",
     "exception": false,
     "start_time": "2023-04-08T01:10:44.418315",
     "status": "completed"
    },
    "tags": []
   },
   "outputs": [],
   "source": [
    "\n",
    "criterion = nn.CrossEntropyLoss()\n",
    "#optimizer = optim.SGD(net.parameters(), lr = 0.001, momentum = 0.9)\n",
    "optimizer = optim.Adam(net.parameters(), lr = 0.001)"
   ]
  },
  {
   "cell_type": "markdown",
   "id": "1ad2f9cc",
   "metadata": {
    "papermill": {
     "duration": 0.014721,
     "end_time": "2023-04-08T01:10:44.475453",
     "exception": false,
     "start_time": "2023-04-08T01:10:44.460732",
     "status": "completed"
    },
    "tags": []
   },
   "source": [
    "Finally, inorder to deal with input data in the float format, we modify the format of our CNN model net to float."
   ]
  },
  {
   "cell_type": "code",
   "execution_count": 20,
   "id": "0dcbcd7a",
   "metadata": {
    "execution": {
     "iopub.execute_input": "2023-04-08T01:10:44.508634Z",
     "iopub.status.busy": "2023-04-08T01:10:44.508012Z",
     "iopub.status.idle": "2023-04-08T01:10:44.518268Z",
     "shell.execute_reply": "2023-04-08T01:10:44.516425Z"
    },
    "papermill": {
     "duration": 0.031032,
     "end_time": "2023-04-08T01:10:44.521335",
     "exception": false,
     "start_time": "2023-04-08T01:10:44.490303",
     "status": "completed"
    },
    "tags": []
   },
   "outputs": [],
   "source": [
    "net = net.float()"
   ]
  },
  {
   "cell_type": "markdown",
   "id": "57730cf7",
   "metadata": {
    "papermill": {
     "duration": 0.014528,
     "end_time": "2023-04-08T01:10:44.551013",
     "exception": false,
     "start_time": "2023-04-08T01:10:44.536485",
     "status": "completed"
    },
    "tags": []
   },
   "source": [
    "# Train Model\n",
    "\n",
    "Definitions:\n",
    "\n",
    "- Epoch- In the context of training a model, epoch is a term used to refer to one iteration where the  model sees the whole training set to update its weights.\n",
    "\n",
    "\n",
    "- Mini batch gradient descent- During the training phase, updating weights is usually not based on the  whole training set at once due to computation complexities or one data point due to noise issues. Instead, the update step is done on mini-batches, where the number of data points in a batch is a hyperparameter that we can tune.\n",
    "\n",
    "\n",
    "- Loss function -In order to quantify how a given model performs, the loss function .L is usually used   to evaluate to what extent the actual outputs y are correctly predicted by the model outputs z.\n",
    "\n",
    "\n",
    "- Cross-entropy lossIn the context of binary classification in neural networks, the cross-entropy loss \n",
    " L(z,y) is commonly used and is defined as follows:\n",
    "\n",
    "\n",
    "We now train the model for 15 epochs and print its loss and test accuracy for each 50 completed mini batches. I used 15 epochs as it provided a satisfactory learning curve for this dataset, but feel free to explore with other number as well."
   ]
  },
  {
   "cell_type": "code",
   "execution_count": 21,
   "id": "5e87b931",
   "metadata": {
    "execution": {
     "iopub.execute_input": "2023-04-08T01:10:44.583515Z",
     "iopub.status.busy": "2023-04-08T01:10:44.582987Z",
     "iopub.status.idle": "2023-04-08T01:10:44.589239Z",
     "shell.execute_reply": "2023-04-08T01:10:44.587814Z"
    },
    "papermill": {
     "duration": 0.026189,
     "end_time": "2023-04-08T01:10:44.591962",
     "exception": false,
     "start_time": "2023-04-08T01:10:44.565773",
     "status": "completed"
    },
    "tags": []
   },
   "outputs": [],
   "source": [
    "epoch_num = 0\n",
    "actual_loss = 0.0\n",
    "accuracy = 0.0"
   ]
  },
  {
   "cell_type": "code",
   "execution_count": 22,
   "id": "5e5729b6",
   "metadata": {
    "execution": {
     "iopub.execute_input": "2023-04-08T01:10:44.624649Z",
     "iopub.status.busy": "2023-04-08T01:10:44.624138Z",
     "iopub.status.idle": "2023-04-08T01:20:36.468516Z",
     "shell.execute_reply": "2023-04-08T01:20:36.466487Z"
    },
    "papermill": {
     "duration": 591.864899,
     "end_time": "2023-04-08T01:20:36.472221",
     "exception": false,
     "start_time": "2023-04-08T01:10:44.607322",
     "status": "completed"
    },
    "tags": []
   },
   "outputs": [
    {
     "name": "stdout",
     "output_type": "stream",
     "text": [
      "Starting Epoch: 1...\n",
      "Epoch: 1, Mini-Batches Completed: 50, Loss: 0.614, Test Accuracy: 94.047%\n",
      "Epoch: 1, Mini-Batches Completed: 100, Loss: 0.776, Test Accuracy: 96.656%\n",
      "Epoch: 1, Mini-Batches Completed: 150, Loss: 0.902, Test Accuracy: 97.258%\n",
      "Starting Epoch: 2...\n",
      "Epoch: 2, Mini-Batches Completed: 50, Loss: 0.083, Test Accuracy: 97.809%\n",
      "Epoch: 2, Mini-Batches Completed: 100, Loss: 0.150, Test Accuracy: 97.993%\n",
      "Epoch: 2, Mini-Batches Completed: 150, Loss: 0.206, Test Accuracy: 98.395%\n",
      "Starting Epoch: 3...\n",
      "Epoch: 3, Mini-Batches Completed: 50, Loss: 0.041, Test Accuracy: 98.796%\n",
      "Epoch: 3, Mini-Batches Completed: 100, Loss: 0.086, Test Accuracy: 98.796%\n",
      "Epoch: 3, Mini-Batches Completed: 150, Loss: 0.120, Test Accuracy: 98.829%\n",
      "Starting Epoch: 4...\n",
      "Epoch: 4, Mini-Batches Completed: 50, Loss: 0.027, Test Accuracy: 98.896%\n",
      "Epoch: 4, Mini-Batches Completed: 100, Loss: 0.056, Test Accuracy: 99.013%\n",
      "Epoch: 4, Mini-Batches Completed: 150, Loss: 0.079, Test Accuracy: 98.779%\n",
      "Starting Epoch: 5...\n",
      "Epoch: 5, Mini-Batches Completed: 50, Loss: 0.019, Test Accuracy: 98.829%\n",
      "Epoch: 5, Mini-Batches Completed: 100, Loss: 0.040, Test Accuracy: 98.863%\n",
      "Epoch: 5, Mini-Batches Completed: 150, Loss: 0.059, Test Accuracy: 99.047%\n",
      "Starting Epoch: 6...\n",
      "Epoch: 6, Mini-Batches Completed: 50, Loss: 0.014, Test Accuracy: 98.930%\n",
      "Epoch: 6, Mini-Batches Completed: 100, Loss: 0.031, Test Accuracy: 99.064%\n",
      "Epoch: 6, Mini-Batches Completed: 150, Loss: 0.045, Test Accuracy: 98.896%\n",
      "Starting Epoch: 7...\n",
      "Epoch: 7, Mini-Batches Completed: 50, Loss: 0.011, Test Accuracy: 99.064%\n",
      "Epoch: 7, Mini-Batches Completed: 100, Loss: 0.020, Test Accuracy: 99.264%\n",
      "Epoch: 7, Mini-Batches Completed: 150, Loss: 0.033, Test Accuracy: 99.047%\n",
      "Starting Epoch: 8...\n",
      "Epoch: 8, Mini-Batches Completed: 50, Loss: 0.009, Test Accuracy: 99.047%\n",
      "Epoch: 8, Mini-Batches Completed: 100, Loss: 0.020, Test Accuracy: 99.030%\n",
      "Epoch: 8, Mini-Batches Completed: 150, Loss: 0.027, Test Accuracy: 99.197%\n",
      "Starting Epoch: 9...\n",
      "Epoch: 9, Mini-Batches Completed: 50, Loss: 0.006, Test Accuracy: 99.181%\n",
      "Epoch: 9, Mini-Batches Completed: 100, Loss: 0.016, Test Accuracy: 99.197%\n",
      "Epoch: 9, Mini-Batches Completed: 150, Loss: 0.027, Test Accuracy: 99.097%\n",
      "Starting Epoch: 10...\n",
      "Epoch: 10, Mini-Batches Completed: 50, Loss: 0.008, Test Accuracy: 99.114%\n",
      "Epoch: 10, Mini-Batches Completed: 100, Loss: 0.013, Test Accuracy: 99.348%\n",
      "Epoch: 10, Mini-Batches Completed: 150, Loss: 0.017, Test Accuracy: 99.197%\n",
      "Starting Epoch: 11...\n",
      "Epoch: 11, Mini-Batches Completed: 50, Loss: 0.004, Test Accuracy: 99.164%\n",
      "Epoch: 11, Mini-Batches Completed: 100, Loss: 0.015, Test Accuracy: 99.197%\n",
      "Epoch: 11, Mini-Batches Completed: 150, Loss: 0.021, Test Accuracy: 99.130%\n",
      "Starting Epoch: 12...\n",
      "Epoch: 12, Mini-Batches Completed: 50, Loss: 0.003, Test Accuracy: 99.231%\n",
      "Epoch: 12, Mini-Batches Completed: 100, Loss: 0.009, Test Accuracy: 99.214%\n",
      "Epoch: 12, Mini-Batches Completed: 150, Loss: 0.014, Test Accuracy: 99.181%\n",
      "Starting Epoch: 13...\n",
      "Epoch: 13, Mini-Batches Completed: 50, Loss: 0.008, Test Accuracy: 99.214%\n",
      "Epoch: 13, Mini-Batches Completed: 100, Loss: 0.014, Test Accuracy: 99.147%\n",
      "Epoch: 13, Mini-Batches Completed: 150, Loss: 0.023, Test Accuracy: 99.047%\n",
      "Starting Epoch: 14...\n",
      "Epoch: 14, Mini-Batches Completed: 50, Loss: 0.002, Test Accuracy: 99.298%\n",
      "Epoch: 14, Mini-Batches Completed: 100, Loss: 0.005, Test Accuracy: 99.331%\n",
      "Epoch: 14, Mini-Batches Completed: 150, Loss: 0.008, Test Accuracy: 99.231%\n",
      "Starting Epoch: 15...\n",
      "Epoch: 15, Mini-Batches Completed: 50, Loss: 0.003, Test Accuracy: 99.097%\n",
      "Epoch: 15, Mini-Batches Completed: 100, Loss: 0.007, Test Accuracy: 99.231%\n",
      "Epoch: 15, Mini-Batches Completed: 150, Loss: 0.011, Test Accuracy: 99.264%\n",
      "Training Completed.\n"
     ]
    }
   ],
   "source": [
    "#training model with 15 epochs\n",
    "num_epochs = 15\n",
    "\n",
    "epoch_log = []\n",
    "loss_log = []\n",
    "accuracy_log = []\n",
    "\n",
    "for epoch in range(num_epochs):\n",
    "    print(f'Starting Epoch: {epoch + 1}...')\n",
    "\n",
    "    running_loss = 0.0\n",
    "\n",
    "    for i, data in enumerate(train_loader, 0):\n",
    "        inputs, labels = data\n",
    "        inputs = inputs.to(device)\n",
    "        labels = labels.to(device)\n",
    "\n",
    "        optimizer.zero_grad()\n",
    "\n",
    "        outputs = net(inputs.float())\n",
    "        loss = criterion(outputs,labels)\n",
    "        loss.backward()\n",
    "        optimizer.step()\n",
    "\n",
    "        running_loss += loss.item()\n",
    "        if i % 50 == 49:\n",
    "            correct = 0\n",
    "            total = 0\n",
    "            \n",
    "            with torch.no_grad():\n",
    "                for data in test_loader:\n",
    "                    images, labels = data\n",
    "                    images = images.to(device)\n",
    "                    labels = labels.to(device)\n",
    "                    outputs = net(images.float())\n",
    "                    \n",
    "                    _, predicted = torch.max(outputs.data, dim = 1)\n",
    "                    total += labels.size(0)\n",
    "                    correct += (predicted == labels).sum().item()\n",
    "                \n",
    "                accuracy = 100 * correct / total\n",
    "                actual_loss = running_loss / 50\n",
    "                epoch_num = epoch + 1\n",
    "                print(f'Epoch: {epoch_num}, Mini-Batches Completed: {(i + 1)}, Loss: {actual_loss:.3f}, Test Accuracy: {accuracy:.3f}%')\n",
    "                \n",
    "    epoch_log.append(epoch_num)\n",
    "    loss_log.append(actual_loss)\n",
    "    accuracy_log.append(accuracy)\n",
    "\n",
    "print('Training Completed.')"
   ]
  },
  {
   "cell_type": "markdown",
   "id": "9adb9280",
   "metadata": {
    "papermill": {
     "duration": 0.020623,
     "end_time": "2023-04-08T01:20:36.512110",
     "exception": false,
     "start_time": "2023-04-08T01:20:36.491487",
     "status": "completed"
    },
    "tags": []
   },
   "source": [
    "# Saving Model\n",
    "Let's save our trained model to PATH so that it can be reused."
   ]
  },
  {
   "cell_type": "code",
   "execution_count": 23,
   "id": "a284d866",
   "metadata": {
    "execution": {
     "iopub.execute_input": "2023-04-08T01:20:36.552358Z",
     "iopub.status.busy": "2023-04-08T01:20:36.551867Z",
     "iopub.status.idle": "2023-04-08T01:20:36.568467Z",
     "shell.execute_reply": "2023-04-08T01:20:36.566679Z"
    },
    "papermill": {
     "duration": 0.039811,
     "end_time": "2023-04-08T01:20:36.571046",
     "exception": false,
     "start_time": "2023-04-08T01:20:36.531235",
     "status": "completed"
    },
    "tags": []
   },
   "outputs": [],
   "source": [
    "PATH = './cnn_net.pth'\n",
    "torch.save(net.state_dict(), PATH)"
   ]
  },
  {
   "cell_type": "markdown",
   "id": "7a3cc026",
   "metadata": {
    "papermill": {
     "duration": 0.018191,
     "end_time": "2023-04-08T01:20:36.607958",
     "exception": false,
     "start_time": "2023-04-08T01:20:36.589767",
     "status": "completed"
    },
    "tags": []
   },
   "source": [
    "# Evaluating  Model\n",
    "Reloading Model\n",
    "To evaluate our trained CNN model, we reload our saved model."
   ]
  },
  {
   "cell_type": "code",
   "execution_count": 24,
   "id": "84c211d7",
   "metadata": {
    "execution": {
     "iopub.execute_input": "2023-04-08T01:20:36.648778Z",
     "iopub.status.busy": "2023-04-08T01:20:36.648267Z",
     "iopub.status.idle": "2023-04-08T01:20:36.676809Z",
     "shell.execute_reply": "2023-04-08T01:20:36.675193Z"
    },
    "papermill": {
     "duration": 0.053573,
     "end_time": "2023-04-08T01:20:36.680105",
     "exception": false,
     "start_time": "2023-04-08T01:20:36.626532",
     "status": "completed"
    },
    "tags": []
   },
   "outputs": [
    {
     "data": {
      "text/plain": [
       "<All keys matched successfully>"
      ]
     },
     "execution_count": 24,
     "metadata": {},
     "output_type": "execute_result"
    }
   ],
   "source": [
    "net = Net()\n",
    "net.to(device)\n",
    "net.load_state_dict(torch.load(PATH))"
   ]
  },
  {
   "cell_type": "markdown",
   "id": "c8ce46e0",
   "metadata": {
    "papermill": {
     "duration": 0.018957,
     "end_time": "2023-04-08T01:20:36.718266",
     "exception": false,
     "start_time": "2023-04-08T01:20:36.699309",
     "status": "completed"
    },
    "tags": []
   },
   "source": [
    "# How well our model makes prediction with test data?\n",
    "Now, let us use our test dataset to determine the final accuracy of our trained model."
   ]
  },
  {
   "cell_type": "code",
   "execution_count": 25,
   "id": "414a8bad",
   "metadata": {
    "execution": {
     "iopub.execute_input": "2023-04-08T01:20:36.758544Z",
     "iopub.status.busy": "2023-04-08T01:20:36.758046Z",
     "iopub.status.idle": "2023-04-08T01:20:39.062609Z",
     "shell.execute_reply": "2023-04-08T01:20:39.061047Z"
    },
    "papermill": {
     "duration": 2.328505,
     "end_time": "2023-04-08T01:20:39.065720",
     "exception": false,
     "start_time": "2023-04-08T01:20:36.737215",
     "status": "completed"
    },
    "tags": []
   },
   "outputs": [
    {
     "name": "stdout",
     "output_type": "stream",
     "text": [
      "Accuracy of the network on test images: 99.2%\n"
     ]
    }
   ],
   "source": [
    "correct = 0\n",
    "total = 0\n",
    "\n",
    "with torch.no_grad():\n",
    "    for data in test_loader:\n",
    "        images, labels = data\n",
    "        images = images.to(device)\n",
    "        labels = labels.to(device)\n",
    "        outputs = net(images.float())\n",
    "        _, predicted = torch.max(outputs.data, 1)\n",
    "        label_size = labels.size(0)\n",
    "        total += label_size\n",
    "        correct += (predicted == labels).sum().item()\n",
    "\n",
    "accuracy = 100 * correct / total\n",
    "print(f'Accuracy of the network on test images: {accuracy:.3}%')"
   ]
  },
  {
   "cell_type": "markdown",
   "id": "9c529fcc",
   "metadata": {
    "papermill": {
     "duration": 0.02024,
     "end_time": "2023-04-08T01:20:39.105428",
     "exception": false,
     "start_time": "2023-04-08T01:20:39.085188",
     "status": "completed"
    },
    "tags": []
   },
   "source": [
    "As we observe, our model achieves an accuracy of 99.2% on the test images."
   ]
  },
  {
   "cell_type": "markdown",
   "id": "e2257956",
   "metadata": {
    "papermill": {
     "duration": 0.018578,
     "end_time": "2023-04-08T01:20:39.144352",
     "exception": false,
     "start_time": "2023-04-08T01:20:39.125774",
     "status": "completed"
    },
    "tags": []
   },
   "source": [
    "# Classification Observations\n",
    "Let us also view some of the classifications our model performs on the test data."
   ]
  },
  {
   "cell_type": "code",
   "execution_count": 26,
   "id": "852126dc",
   "metadata": {
    "execution": {
     "iopub.execute_input": "2023-04-08T01:20:39.186286Z",
     "iopub.status.busy": "2023-04-08T01:20:39.184358Z",
     "iopub.status.idle": "2023-04-08T01:20:42.123929Z",
     "shell.execute_reply": "2023-04-08T01:20:42.122794Z"
    },
    "papermill": {
     "duration": 2.964201,
     "end_time": "2023-04-08T01:20:42.127565",
     "exception": false,
     "start_time": "2023-04-08T01:20:39.163364",
     "status": "completed"
    },
    "tags": []
   },
   "outputs": [
    {
     "name": "stdout",
     "output_type": "stream",
     "text": [
      "Actual Label: 6, Predicted Label: 6\n"
     ]
    },
    {
     "data": {
      "image/png": "[encoded data removed]",
      "text/plain": [
       "<Figure size 640x480 with 1 Axes>"
      ]
     },
     "metadata": {},
     "output_type": "display_data"
    },
    {
     "name": "stdout",
     "output_type": "stream",
     "text": [
      "Actual Label: 0, Predicted Label: 0\n"
     ]
    },
    {
     "data": {
      "image/png": "[encoded data removed]",
      "text/plain": [
       "<Figure size 640x480 with 1 Axes>"
      ]
     },
     "metadata": {},
     "output_type": "display_data"
    },
    {
     "name": "stdout",
     "output_type": "stream",
     "text": [
      "Actual Label: 2, Predicted Label: 2\n"
     ]
    },
    {
     "data": {
      "image/png": "[encoded data removed]",
      "text/plain": [
       "<Figure size 640x480 with 1 Axes>"
      ]
     },
     "metadata": {},
     "output_type": "display_data"
    },
    {
     "name": "stdout",
     "output_type": "stream",
     "text": [
      "Actual Label: 0, Predicted Label: 0\n"
     ]
    },
    {
     "data": {
      "image/png": "[encoded data removed]",
      "text/plain": [
       "<Figure size 640x480 with 1 Axes>"
      ]
     },
     "metadata": {},
     "output_type": "display_data"
    },
    {
     "name": "stdout",
     "output_type": "stream",
     "text": [
      "Actual Label: 4, Predicted Label: 4\n"
     ]
    },
    {
     "data": {
      "image/png": "[encoded data removed]",
      "text/plain": [
       "<Figure size 640x480 with 1 Axes>"
      ]
     },
     "metadata": {},
     "output_type": "display_data"
    }
   ],
   "source": [
    "net.eval()\n",
    "num_images = 5\n",
    "\n",
    "with torch.no_grad():\n",
    "    for data in test_loader:\n",
    "        images, labels = data\n",
    "        images = images.to(device)\n",
    "        labels = labels.to(device)\n",
    "\n",
    "        outputs = net(images.float())\n",
    "        predictions = torch.argmax(outputs, dim=1)\n",
    "\n",
    "        for i in range(data[0].shape[0]):\n",
    "            pred = predictions[i].item()\n",
    "            label = labels[i]\n",
    "            if(num_images > 0):\n",
    "                print(f'Actual Label: {pred}, Predicted Label: {label}')       \n",
    "                img = np.reshape(images[i].cpu().numpy(),[1,28,28])\n",
    "                visualize_image(img)\n",
    "                num_images -= 1"
   ]
  },
  {
   "cell_type": "markdown",
   "id": "5d4b5952",
   "metadata": {
    "papermill": {
     "duration": 0.01972,
     "end_time": "2023-04-08T01:20:42.169959",
     "exception": false,
     "start_time": "2023-04-08T01:20:42.150239",
     "status": "completed"
    },
    "tags": []
   },
   "source": [
    "# Plotting training logs\n",
    "To further understand and analyse the training of our model, let us plot the training logs for loss and accuracy."
   ]
  },
  {
   "cell_type": "code",
   "execution_count": 27,
   "id": "9dff9e06",
   "metadata": {
    "execution": {
     "iopub.execute_input": "2023-04-08T01:20:42.214040Z",
     "iopub.status.busy": "2023-04-08T01:20:42.213155Z",
     "iopub.status.idle": "2023-04-08T01:20:42.527676Z",
     "shell.execute_reply": "2023-04-08T01:20:42.526087Z"
    },
    "papermill": {
     "duration": 0.340872,
     "end_time": "2023-04-08T01:20:42.530707",
     "exception": false,
     "start_time": "2023-04-08T01:20:42.189835",
     "status": "completed"
    },
    "tags": []
   },
   "outputs": [
    {
     "data": {
      "image/png": "[encoded data removed]",
      "text/plain": [
       "<Figure size 640x480 with 2 Axes>"
      ]
     },
     "metadata": {},
     "output_type": "display_data"
    }
   ],
   "source": [
    "fig, ax1 = plt.subplots()\n",
    "\n",
    "plt.title(\"Accuracy & Loss vs Epoch\")\n",
    "ax2 = ax1.twinx()\n",
    "\n",
    "ax1.plot(epoch_log, loss_log, 'g-')\n",
    "ax2.plot(epoch_log, accuracy_log, 'b-')\n",
    "\n",
    "ax1.set_xlabel('Epochs')\n",
    "ax1.set_ylabel('Loss', color='g')\n",
    "ax2.set_ylabel('Test Accuracy', color='b')\n",
    "\n",
    "plt.show()"
   ]
  },
  {
   "cell_type": "markdown",
   "id": "639903a4",
   "metadata": {
    "papermill": {
     "duration": 0.020074,
     "end_time": "2023-04-08T01:20:42.571650",
     "exception": false,
     "start_time": "2023-04-08T01:20:42.551576",
     "status": "completed"
    },
    "tags": []
   },
   "source": [
    "Observations: As the Number of Epochs increases i.e number of times you run the dataset through model, test accuracy increases and loss decreases"
   ]
  },
  {
   "cell_type": "markdown",
   "id": "44bd0d2d",
   "metadata": {
    "papermill": {
     "duration": 0.019982,
     "end_time": "2023-04-08T01:20:42.612139",
     "exception": false,
     "start_time": "2023-04-08T01:20:42.592157",
     "status": "completed"
    },
    "tags": []
   },
   "source": [
    "# Plotting Confusion Matrix\n",
    "Lastly, let us plot the confusion matrix to evaluate the classwise performance of our model and understand where it can do better."
   ]
  },
  {
   "cell_type": "code",
   "execution_count": 28,
   "id": "c0e7b8bc",
   "metadata": {
    "execution": {
     "iopub.execute_input": "2023-04-08T01:20:42.656158Z",
     "iopub.status.busy": "2023-04-08T01:20:42.655351Z",
     "iopub.status.idle": "2023-04-08T01:20:42.914522Z",
     "shell.execute_reply": "2023-04-08T01:20:42.913100Z"
    },
    "papermill": {
     "duration": 0.285491,
     "end_time": "2023-04-08T01:20:42.917927",
     "exception": false,
     "start_time": "2023-04-08T01:20:42.632436",
     "status": "completed"
    },
    "tags": []
   },
   "outputs": [],
   "source": [
    "from sklearn.metrics import confusion_matrix\n",
    "from sklearn.metrics import classification_report\n",
    "import seaborn as sns"
   ]
  },
  {
   "cell_type": "code",
   "execution_count": 29,
   "id": "0e9559f5",
   "metadata": {
    "execution": {
     "iopub.execute_input": "2023-04-08T01:20:42.965047Z",
     "iopub.status.busy": "2023-04-08T01:20:42.964461Z",
     "iopub.status.idle": "2023-04-08T01:20:45.809601Z",
     "shell.execute_reply": "2023-04-08T01:20:45.808323Z"
    },
    "papermill": {
     "duration": 2.871925,
     "end_time": "2023-04-08T01:20:45.813127",
     "exception": false,
     "start_time": "2023-04-08T01:20:42.941202",
     "status": "completed"
    },
    "tags": []
   },
   "outputs": [],
   "source": [
    "pred_list = torch.zeros(0, dtype=torch.long, device='cpu')\n",
    "label_list = torch.zeros(0, dtype=torch.long, device='cpu')\n",
    "\n",
    "with torch.no_grad():\n",
    "    for i, (inputs, classes) in enumerate(test_loader):\n",
    "        inputs = inputs.to(device)\n",
    "        classes = classes.to(device)\n",
    "        outputs = net(inputs.float())\n",
    "        _, preds = torch.max(outputs, 1)\n",
    "\n",
    "        pred_list = torch.cat([pred_list, preds.view(-1).cpu()])\n",
    "        label_list = torch.cat([label_list, classes.view(-1).cpu()])"
   ]
  },
  {
   "cell_type": "code",
   "execution_count": 30,
   "id": "4870ab42",
   "metadata": {
    "execution": {
     "iopub.execute_input": "2023-04-08T01:20:45.858557Z",
     "iopub.status.busy": "2023-04-08T01:20:45.857984Z",
     "iopub.status.idle": "2023-04-08T01:20:45.864108Z",
     "shell.execute_reply": "2023-04-08T01:20:45.862735Z"
    },
    "papermill": {
     "duration": 0.031279,
     "end_time": "2023-04-08T01:20:45.866949",
     "exception": false,
     "start_time": "2023-04-08T01:20:45.835670",
     "status": "completed"
    },
    "tags": []
   },
   "outputs": [],
   "source": [
    "# print(classification_report(label_list.numpy(), pred_list.numpy()))\n"
   ]
  },
  {
   "cell_type": "markdown",
   "id": "b2dcff18",
   "metadata": {
    "papermill": {
     "duration": 0.020654,
     "end_time": "2023-04-08T01:20:45.908266",
     "exception": false,
     "start_time": "2023-04-08T01:20:45.887612",
     "status": "completed"
    },
    "tags": []
   },
   "source": [
    "As we observe, the highest F1-Score is reported by the label 4 while the lowest is of label 1. This is due to label 1 having the lowest precision of 0.94. This can be improved by adding more data, using data augmentation techniques, checking for mislabelling and so on.\n",
    "\n",
    "Further, let us visualise this confusion matrix."
   ]
  },
  {
   "cell_type": "code",
   "execution_count": 31,
   "id": "c35bfb05",
   "metadata": {
    "execution": {
     "iopub.execute_input": "2023-04-08T01:20:45.952752Z",
     "iopub.status.busy": "2023-04-08T01:20:45.952211Z",
     "iopub.status.idle": "2023-04-08T01:20:45.963889Z",
     "shell.execute_reply": "2023-04-08T01:20:45.962825Z"
    },
    "papermill": {
     "duration": 0.037918,
     "end_time": "2023-04-08T01:20:45.966874",
     "exception": false,
     "start_time": "2023-04-08T01:20:45.928956",
     "status": "completed"
    },
    "tags": []
   },
   "outputs": [],
   "source": [
    "conf_mat = confusion_matrix(label_list.numpy(), pred_list.numpy())\n",
    "class_names = (0, 1, 2, 3, 4, 5, 6, 7, 8, 9)\n",
    "dataframe = pd.DataFrame(conf_mat, index=class_names, columns=class_names)"
   ]
  },
  {
   "cell_type": "code",
   "execution_count": 32,
   "id": "762b8b01",
   "metadata": {
    "execution": {
     "iopub.execute_input": "2023-04-08T01:20:46.013994Z",
     "iopub.status.busy": "2023-04-08T01:20:46.012831Z",
     "iopub.status.idle": "2023-04-08T01:20:46.723940Z",
     "shell.execute_reply": "2023-04-08T01:20:46.722763Z"
    },
    "papermill": {
     "duration": 0.737892,
     "end_time": "2023-04-08T01:20:46.726820",
     "exception": false,
     "start_time": "2023-04-08T01:20:45.988928",
     "status": "completed"
    },
    "tags": []
   },
   "outputs": [
    {
     "data": {
      "image/png": "[encoded data removed]",
      "text/plain": [
       "<Figure size 800x600 with 1 Axes>"
      ]
     },
     "metadata": {},
     "output_type": "display_data"
    }
   ],
   "source": [
    "plt.figure(figsize=(8, 6))\n",
    "sns.heatmap(dataframe, annot=True, cbar=None,cmap=\"YlGnBu\",fmt=\"d\")\n",
    " \n",
    "plt.title(\"Confusion Matrix\"), plt.tight_layout()\n",
    " \n",
    "plt.ylabel(\"True Class\"), \n",
    "plt.xlabel(\"Predicted Class\")\n",
    "plt.show()"
   ]
  },
  {
   "cell_type": "markdown",
   "id": "eced39cd",
   "metadata": {
    "papermill": {
     "duration": 0.020722,
     "end_time": "2023-04-08T01:20:46.768855",
     "exception": false,
     "start_time": "2023-04-08T01:20:46.748133",
     "status": "completed"
    },
    "tags": []
   },
   "source": [
    "Observations:\n",
    "\n",
    "He we infer that , 558 times the label was 0 and our model predicted it as 0.Similarly 567 times label was 1 and and model predicted 1. Highest value is 4 , which means four times the label was 8 (True class) and our model predicted it 3, which is considered as error. "
   ]
  },
  {
   "cell_type": "markdown",
   "id": "fec5b240",
   "metadata": {
    "papermill": {
     "duration": 0.020635,
     "end_time": "2023-04-08T01:20:46.810397",
     "exception": false,
     "start_time": "2023-04-08T01:20:46.789762",
     "status": "completed"
    },
    "tags": []
   },
   "source": [
    "# Conclusion\n",
    "\n",
    "- The accuracy on test test is 99.2% which is really good for CNN\n",
    "- Now we have successfully created a  CNN model using Pytorch."
   ]
  },
  {
   "cell_type": "markdown",
   "id": "28abc4ac",
   "metadata": {
    "papermill": {
     "duration": 0.020442,
     "end_time": "2023-04-08T01:20:46.852160",
     "exception": false,
     "start_time": "2023-04-08T01:20:46.831718",
     "status": "completed"
    },
    "tags": []
   },
   "source": [
    "# References\n",
    "- https://towardsdatascience.com/convolutional-neural-networks-explained-9cc5188c4939\n",
    "- https://www.youtube.com/watch?v=iqQgED9vV7k\n",
    "- https://stanford.edu/~shervine/blog/pytorch-how-to-generate-data-parallel"
   ]
  }
 ],
 "metadata": {
  "kernelspec": {
   "display_name": "Python 3",
   "language": "python",
   "name": "python3"
  },
  "language_info": {
   "codemirror_mode": {
    "name": "ipython",
    "version": 3
   },
   "file_extension": ".py",
   "mimetype": "text/x-python",
   "name": "python",
   "nbconvert_exporter": "python",
   "pygments_lexer": "ipython3",
   "version": "3.7.12"
  },
  "papermill": {
   "default_parameters": {},
   "duration": 627.000022,
   "end_time": "2023-04-08T01:20:48.504524",
   "environment_variables": {},
   "exception": null,
   "input_path": "__notebook__.ipynb",
   "output_path": "__notebook__.ipynb",
   "parameters": {},
   "start_time": "2023-04-08T01:10:21.504502",
   "version": "2.4.0"
  }
 },
 "nbformat": 4,
 "nbformat_minor": 5
}
