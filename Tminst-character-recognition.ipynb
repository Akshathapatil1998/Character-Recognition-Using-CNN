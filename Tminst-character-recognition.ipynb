{
 "cells": [
  {
   "cell_type": "markdown",
   "id": "b6e4c4e5",
   "metadata": {
    "papermill": {
     "duration": 0.011533,
     "end_time": "2023-04-16T20:29:54.028328",
     "exception": false,
     "start_time": "2023-04-16T20:29:54.016795",
     "status": "completed"
    },
    "tags": []
   },
   "source": []
  },
  {
   "cell_type": "markdown",
   "id": "692264a8",
   "metadata": {
    "papermill": {
     "duration": 0.010342,
     "end_time": "2023-04-16T20:29:54.049344",
     "exception": false,
     "start_time": "2023-04-16T20:29:54.039002",
     "status": "completed"
    },
    "tags": []
   },
   "source": [
    "# What is Handwritten Digit Recognition?\n",
    "Handwritten digit recognition is the ability of computers to recognize human handwritten digits. It is a hard task for the machine because handwritten digits are not perfect and can vary from person to person. Handwritten digit recognition is the solution to this problem which uses the image of a digit and recognizes the digit present in the image."
   ]
  },
  {
   "cell_type": "markdown",
   "id": "2c92fe59",
   "metadata": {
    "papermill": {
     "duration": 0.010338,
     "end_time": "2023-04-16T20:29:54.070218",
     "exception": false,
     "start_time": "2023-04-16T20:29:54.059880",
     "status": "completed"
    },
    "tags": []
   },
   "source": [
    "# About the Dataset\n",
    "\n",
    "This dataset is inspired by the MNIST database for handwritten digits. It consists of images representing digits from 0-9 produced using 2,990 google fonts files.\n",
    "\n",
    "The dataset consists of a single file:\n",
    "\n",
    "TMNIST_Data.csv\n",
    "\n",
    "This file consists of 29,900 examples with labels and font names. Each row contains 786 elements: the first element represents the font name (ex-Chivo-Italic, Sen-Bold), the second element represents the label (a number from 0-9) and the remaining 784 elements represent the grayscale pixel values (from 0-255) for the 28x28 pixel image.\n",
    "\n"
   ]
  },
  {
   "cell_type": "markdown",
   "id": "4046a64b",
   "metadata": {
    "papermill": {
     "duration": 0.010536,
     "end_time": "2023-04-16T20:29:54.092398",
     "exception": false,
     "start_time": "2023-04-16T20:29:54.081862",
     "status": "completed"
    },
    "tags": []
   },
   "source": [
    "# What is Convolutional Neural Network\n",
    "\n",
    "A Convolutional Neural Network (ConvNet/CNN) is a Deep Learning algorithm that can take in an input image, assign importance (learnable weights and biases) to various aspects/objects in the image, and be able to differentiate one from the other. The pre-processing required in a ConvNet is much lower as compared to other classification algorithms. While in primitive methods filters are hand-engineered, with enough training, ConvNets have the ability to learn these filters/characteristics.\n",
    "\n",
    "A ConvNet's architecture is influenced by how the Visual Cortex is organised and is similar to the connectivity network of neurons in the human brain. While there are many complex CNN architectures like Resnet, Inception V3 and so on designed to achieve state-of-the-art performance on real world images, in this tutorial, we will create a custom Convolutional Neural Network Architecture using Pytorch.\n",
    "\n",
    "We will be training and testing our model on the Typeface MNIST Dataset, which consists of over 29,000 samples of images of 0-9 digits in various fonts along with their labels."
   ]
  },
  {
   "cell_type": "markdown",
   "id": "a6cf8b5a",
   "metadata": {
    "papermill": {
     "duration": 0.010044,
     "end_time": "2023-04-16T20:29:54.112929",
     "exception": false,
     "start_time": "2023-04-16T20:29:54.102885",
     "status": "completed"
    },
    "tags": []
   },
   "source": [
    "#                          Architecture of Neural Network\n",
    "\n",
    "<img src= \"https://upload.wikimedia.org/wikipedia/commons/b/b6/Artificial_neural_network.png\" alt =\"Titanic\" style='width: 700px;'>\n",
    "\n"
   ]
  },
  {
   "cell_type": "markdown",
   "id": "105ada34",
   "metadata": {
    "papermill": {
     "duration": 0.01008,
     "end_time": "2023-04-16T20:29:54.133774",
     "exception": false,
     "start_time": "2023-04-16T20:29:54.123694",
     "status": "completed"
    },
    "tags": []
   },
   "source": []
  },
  {
   "cell_type": "markdown",
   "id": "dc2d5198",
   "metadata": {
    "papermill": {
     "duration": 0.010102,
     "end_time": "2023-04-16T20:29:54.154389",
     "exception": false,
     "start_time": "2023-04-16T20:29:54.144287",
     "status": "completed"
    },
    "tags": []
   },
   "source": [
    "This notebook is further divided into the following sections.\n",
    "\n",
    "- Importing required Libraries\n",
    "- Loading the dataset\n",
    "- Creating a CNN Model\n",
    "- Training our model\n",
    "- Evaluating our model"
   ]
  },
  {
   "cell_type": "markdown",
   "id": "7e737802",
   "metadata": {
    "papermill": {
     "duration": 0.010123,
     "end_time": "2023-04-16T20:29:54.175128",
     "exception": false,
     "start_time": "2023-04-16T20:29:54.165005",
     "status": "completed"
    },
    "tags": []
   },
   "source": [
    "# Importing All necessary librarirs"
   ]
  },
  {
   "cell_type": "markdown",
   "id": "927e8a28",
   "metadata": {
    "papermill": {
     "duration": 0.01018,
     "end_time": "2023-04-16T20:29:54.195820",
     "exception": false,
     "start_time": "2023-04-16T20:29:54.185640",
     "status": "completed"
    },
    "tags": []
   },
   "source": []
  },
  {
   "cell_type": "code",
   "execution_count": 1,
   "id": "85e25d3d",
   "metadata": {
    "execution": {
     "iopub.execute_input": "2023-04-16T20:29:54.219146Z",
     "iopub.status.busy": "2023-04-16T20:29:54.218162Z",
     "iopub.status.idle": "2023-04-16T20:29:56.922928Z",
     "shell.execute_reply": "2023-04-16T20:29:56.921785Z"
    },
    "papermill": {
     "duration": 2.719691,
     "end_time": "2023-04-16T20:29:56.925990",
     "exception": false,
     "start_time": "2023-04-16T20:29:54.206299",
     "status": "completed"
    },
    "tags": []
   },
   "outputs": [],
   "source": [
    "\n",
    "#import pytorch\n",
    "import torch\n",
    "\n",
    "# torch functionalities used for building our CNN Model\n",
    "import torch.optim as optim\n",
    "import torch.nn as nn\n",
    "import torch.nn.functional as F\n",
    "\n",
    "import torch.utils.data as data_utils"
   ]
  },
  {
   "cell_type": "code",
   "execution_count": 2,
   "id": "b496310d",
   "metadata": {
    "execution": {
     "iopub.execute_input": "2023-04-16T20:29:56.949100Z",
     "iopub.status.busy": "2023-04-16T20:29:56.948668Z",
     "iopub.status.idle": "2023-04-16T20:29:57.770733Z",
     "shell.execute_reply": "2023-04-16T20:29:57.769717Z"
    },
    "papermill": {
     "duration": 0.836453,
     "end_time": "2023-04-16T20:29:57.773502",
     "exception": false,
     "start_time": "2023-04-16T20:29:56.937049",
     "status": "completed"
    },
    "tags": []
   },
   "outputs": [],
   "source": [
    "import pandas as pd\n",
    "import numpy as np\n",
    "\n",
    "import matplotlib.pyplot as plt\n",
    "\n",
    "from sklearn.model_selection import train_test_split"
   ]
  },
  {
   "cell_type": "markdown",
   "id": "fa8654a5",
   "metadata": {
    "papermill": {
     "duration": 0.010231,
     "end_time": "2023-04-16T20:29:57.794570",
     "exception": false,
     "start_time": "2023-04-16T20:29:57.784339",
     "status": "completed"
    },
    "tags": []
   },
   "source": [
    "# How to train your neural net faster?\n",
    "We saw that the computationally intensive part of neural network is made up of multiple matrix multiplications. So how can we make it faster?"
   ]
  },
  {
   "cell_type": "markdown",
   "id": "d4e9d9dd",
   "metadata": {
    "papermill": {
     "duration": 0.010296,
     "end_time": "2023-04-16T20:29:57.815381",
     "exception": false,
     "start_time": "2023-04-16T20:29:57.805085",
     "status": "completed"
    },
    "tags": []
   },
   "source": [
    "Since we will be building a CNN model, a GPU is required to speed up the training process. Before starting with the implementation, we verify the presence of an active GPU and set the device accordingly."
   ]
  },
  {
   "cell_type": "code",
   "execution_count": 3,
   "id": "a8006142",
   "metadata": {
    "execution": {
     "iopub.execute_input": "2023-04-16T20:29:57.838358Z",
     "iopub.status.busy": "2023-04-16T20:29:57.837398Z",
     "iopub.status.idle": "2023-04-16T20:29:57.905455Z",
     "shell.execute_reply": "2023-04-16T20:29:57.904502Z"
    },
    "papermill": {
     "duration": 0.081952,
     "end_time": "2023-04-16T20:29:57.907824",
     "exception": false,
     "start_time": "2023-04-16T20:29:57.825872",
     "status": "completed"
    },
    "tags": []
   },
   "outputs": [],
   "source": [
    "if torch.cuda.is_available():\n",
    "    device = 'cuda'\n",
    "else:\n",
    "    device = 'cpu'"
   ]
  },
  {
   "cell_type": "code",
   "execution_count": 4,
   "id": "7527828d",
   "metadata": {
    "execution": {
     "iopub.execute_input": "2023-04-16T20:29:57.930068Z",
     "iopub.status.busy": "2023-04-16T20:29:57.929788Z",
     "iopub.status.idle": "2023-04-16T20:30:00.645299Z",
     "shell.execute_reply": "2023-04-16T20:30:00.644268Z"
    },
    "papermill": {
     "duration": 2.729734,
     "end_time": "2023-04-16T20:30:00.648293",
     "exception": false,
     "start_time": "2023-04-16T20:29:57.918559",
     "status": "completed"
    },
    "tags": []
   },
   "outputs": [],
   "source": [
    "\n",
    "#Reading data into pandas dataframe.\n",
    "#data_path = \"/kaggle/input/94-character-tmnist/94_character_TMNIST.csv\"\n",
    "data_path = \"/kaggle/input/tmnist-typeface-mnist/TMNIST_Data.csv\"\n",
    "data = pd.read_csv(data_path)\n"
   ]
  },
  {
   "cell_type": "markdown",
   "id": "a0f9bc0d",
   "metadata": {
    "papermill": {
     "duration": 0.010417,
     "end_time": "2023-04-16T20:30:00.670056",
     "exception": false,
     "start_time": "2023-04-16T20:30:00.659639",
     "status": "completed"
    },
    "tags": []
   },
   "source": [
    "# Performing EDA"
   ]
  },
  {
   "cell_type": "code",
   "execution_count": 5,
   "id": "9f6f4507",
   "metadata": {
    "execution": {
     "iopub.execute_input": "2023-04-16T20:30:00.692937Z",
     "iopub.status.busy": "2023-04-16T20:30:00.692061Z",
     "iopub.status.idle": "2023-04-16T20:30:00.718000Z",
     "shell.execute_reply": "2023-04-16T20:30:00.717119Z"
    },
    "papermill": {
     "duration": 0.039308,
     "end_time": "2023-04-16T20:30:00.720074",
     "exception": false,
     "start_time": "2023-04-16T20:30:00.680766",
     "status": "completed"
    },
    "tags": []
   },
   "outputs": [
    {
     "data": {
      "text/html": [
       "<div>\n",
       "<style scoped>\n",
       "    .dataframe tbody tr th:only-of-type {\n",
       "        vertical-align: middle;\n",
       "    }\n",
       "\n",
       "    .dataframe tbody tr th {\n",
       "        vertical-align: top;\n",
       "    }\n",
       "\n",
       "    .dataframe thead th {\n",
       "        text-align: right;\n",
       "    }\n",
       "</style>\n",
       "<table border=\"1\" class=\"dataframe\">\n",
       "  <thead>\n",
       "    <tr style=\"text-align: right;\">\n",
       "      <th></th>\n",
       "      <th>names</th>\n",
       "      <th>labels</th>\n",
       "      <th>1</th>\n",
       "      <th>2</th>\n",
       "      <th>3</th>\n",
       "      <th>4</th>\n",
       "      <th>5</th>\n",
       "      <th>6</th>\n",
       "      <th>7</th>\n",
       "      <th>8</th>\n",
       "      <th>...</th>\n",
       "      <th>775</th>\n",
       "      <th>776</th>\n",
       "      <th>777</th>\n",
       "      <th>778</th>\n",
       "      <th>779</th>\n",
       "      <th>780</th>\n",
       "      <th>781</th>\n",
       "      <th>782</th>\n",
       "      <th>783</th>\n",
       "      <th>784</th>\n",
       "    </tr>\n",
       "  </thead>\n",
       "  <tbody>\n",
       "    <tr>\n",
       "      <th>0</th>\n",
       "      <td>GrandHotel-Regular</td>\n",
       "      <td>2</td>\n",
       "      <td>0</td>\n",
       "      <td>0</td>\n",
       "      <td>0</td>\n",
       "      <td>0</td>\n",
       "      <td>0</td>\n",
       "      <td>0</td>\n",
       "      <td>0</td>\n",
       "      <td>0</td>\n",
       "      <td>...</td>\n",
       "      <td>0</td>\n",
       "      <td>0</td>\n",
       "      <td>0</td>\n",
       "      <td>0</td>\n",
       "      <td>0</td>\n",
       "      <td>0</td>\n",
       "      <td>0</td>\n",
       "      <td>0</td>\n",
       "      <td>0</td>\n",
       "      <td>0</td>\n",
       "    </tr>\n",
       "    <tr>\n",
       "      <th>1</th>\n",
       "      <td>EncodeSansCondensed-Medium</td>\n",
       "      <td>8</td>\n",
       "      <td>0</td>\n",
       "      <td>0</td>\n",
       "      <td>0</td>\n",
       "      <td>0</td>\n",
       "      <td>0</td>\n",
       "      <td>0</td>\n",
       "      <td>0</td>\n",
       "      <td>0</td>\n",
       "      <td>...</td>\n",
       "      <td>0</td>\n",
       "      <td>0</td>\n",
       "      <td>0</td>\n",
       "      <td>0</td>\n",
       "      <td>0</td>\n",
       "      <td>0</td>\n",
       "      <td>0</td>\n",
       "      <td>0</td>\n",
       "      <td>0</td>\n",
       "      <td>0</td>\n",
       "    </tr>\n",
       "    <tr>\n",
       "      <th>2</th>\n",
       "      <td>Varela-Regular</td>\n",
       "      <td>4</td>\n",
       "      <td>0</td>\n",
       "      <td>0</td>\n",
       "      <td>0</td>\n",
       "      <td>0</td>\n",
       "      <td>0</td>\n",
       "      <td>0</td>\n",
       "      <td>0</td>\n",
       "      <td>0</td>\n",
       "      <td>...</td>\n",
       "      <td>0</td>\n",
       "      <td>0</td>\n",
       "      <td>0</td>\n",
       "      <td>0</td>\n",
       "      <td>0</td>\n",
       "      <td>0</td>\n",
       "      <td>0</td>\n",
       "      <td>0</td>\n",
       "      <td>0</td>\n",
       "      <td>0</td>\n",
       "    </tr>\n",
       "    <tr>\n",
       "      <th>3</th>\n",
       "      <td>ArefRuqaa-Bold</td>\n",
       "      <td>3</td>\n",
       "      <td>0</td>\n",
       "      <td>0</td>\n",
       "      <td>0</td>\n",
       "      <td>0</td>\n",
       "      <td>0</td>\n",
       "      <td>0</td>\n",
       "      <td>0</td>\n",
       "      <td>0</td>\n",
       "      <td>...</td>\n",
       "      <td>0</td>\n",
       "      <td>0</td>\n",
       "      <td>0</td>\n",
       "      <td>0</td>\n",
       "      <td>0</td>\n",
       "      <td>0</td>\n",
       "      <td>0</td>\n",
       "      <td>0</td>\n",
       "      <td>0</td>\n",
       "      <td>0</td>\n",
       "    </tr>\n",
       "    <tr>\n",
       "      <th>4</th>\n",
       "      <td>KulimPark-Regular</td>\n",
       "      <td>1</td>\n",
       "      <td>0</td>\n",
       "      <td>0</td>\n",
       "      <td>0</td>\n",
       "      <td>0</td>\n",
       "      <td>0</td>\n",
       "      <td>0</td>\n",
       "      <td>0</td>\n",
       "      <td>0</td>\n",
       "      <td>...</td>\n",
       "      <td>0</td>\n",
       "      <td>0</td>\n",
       "      <td>0</td>\n",
       "      <td>0</td>\n",
       "      <td>0</td>\n",
       "      <td>0</td>\n",
       "      <td>0</td>\n",
       "      <td>0</td>\n",
       "      <td>0</td>\n",
       "      <td>0</td>\n",
       "    </tr>\n",
       "  </tbody>\n",
       "</table>\n",
       "<p>5 rows × 786 columns</p>\n",
       "</div>"
      ],
      "text/plain": [
       "                        names  labels  1  2  3  4  5  6  7  8  ...  775  776  \\\n",
       "0          GrandHotel-Regular       2  0  0  0  0  0  0  0  0  ...    0    0   \n",
       "1  EncodeSansCondensed-Medium       8  0  0  0  0  0  0  0  0  ...    0    0   \n",
       "2              Varela-Regular       4  0  0  0  0  0  0  0  0  ...    0    0   \n",
       "3              ArefRuqaa-Bold       3  0  0  0  0  0  0  0  0  ...    0    0   \n",
       "4           KulimPark-Regular       1  0  0  0  0  0  0  0  0  ...    0    0   \n",
       "\n",
       "   777  778  779  780  781  782  783  784  \n",
       "0    0    0    0    0    0    0    0    0  \n",
       "1    0    0    0    0    0    0    0    0  \n",
       "2    0    0    0    0    0    0    0    0  \n",
       "3    0    0    0    0    0    0    0    0  \n",
       "4    0    0    0    0    0    0    0    0  \n",
       "\n",
       "[5 rows x 786 columns]"
      ]
     },
     "execution_count": 5,
     "metadata": {},
     "output_type": "execute_result"
    }
   ],
   "source": [
    "#A view of dataset.\n",
    "data.head()"
   ]
  },
  {
   "cell_type": "code",
   "execution_count": 6,
   "id": "f8c386a5",
   "metadata": {
    "execution": {
     "iopub.execute_input": "2023-04-16T20:30:00.744445Z",
     "iopub.status.busy": "2023-04-16T20:30:00.743560Z",
     "iopub.status.idle": "2023-04-16T20:30:00.750697Z",
     "shell.execute_reply": "2023-04-16T20:30:00.749649Z"
    },
    "papermill": {
     "duration": 0.021406,
     "end_time": "2023-04-16T20:30:00.752831",
     "exception": false,
     "start_time": "2023-04-16T20:30:00.731425",
     "status": "completed"
    },
    "tags": []
   },
   "outputs": [
    {
     "name": "stdout",
     "output_type": "stream",
     "text": [
      "The Shape of the Dataframe is: (29900, 786)\n",
      "Number of Samples: 29900\n"
     ]
    }
   ],
   "source": [
    "#Determining Shape and Number of Sample in the Dataset\n",
    "print(f\"The Shape of the Dataframe is: {data.shape}\") #Number of Samples, Number of Pixels(Features)\n",
    "print(f\"Number of Samples: {data.shape[0]}\")"
   ]
  },
  {
   "cell_type": "code",
   "execution_count": 7,
   "id": "a087a988",
   "metadata": {
    "execution": {
     "iopub.execute_input": "2023-04-16T20:30:00.776162Z",
     "iopub.status.busy": "2023-04-16T20:30:00.775228Z",
     "iopub.status.idle": "2023-04-16T20:30:00.786239Z",
     "shell.execute_reply": "2023-04-16T20:30:00.785262Z"
    },
    "papermill": {
     "duration": 0.024696,
     "end_time": "2023-04-16T20:30:00.788448",
     "exception": false,
     "start_time": "2023-04-16T20:30:00.763752",
     "status": "completed"
    },
    "tags": []
   },
   "outputs": [
    {
     "name": "stdout",
     "output_type": "stream",
     "text": [
      "Number of unique character present in the Dataset: 10\n"
     ]
    }
   ],
   "source": [
    "# Number of unique character in the Dataframe\n",
    "print(f\"Number of unique character present in the Dataset: {len(data.labels.unique())}\") #Number of Classes\n"
   ]
  },
  {
   "cell_type": "code",
   "execution_count": 8,
   "id": "823541e8",
   "metadata": {
    "execution": {
     "iopub.execute_input": "2023-04-16T20:30:00.811052Z",
     "iopub.status.busy": "2023-04-16T20:30:00.810785Z",
     "iopub.status.idle": "2023-04-16T20:30:00.819879Z",
     "shell.execute_reply": "2023-04-16T20:30:00.818767Z"
    },
    "papermill": {
     "duration": 0.022698,
     "end_time": "2023-04-16T20:30:00.822025",
     "exception": false,
     "start_time": "2023-04-16T20:30:00.799327",
     "status": "completed"
    },
    "tags": []
   },
   "outputs": [
    {
     "data": {
      "text/plain": [
       "2    2990\n",
       "8    2990\n",
       "4    2990\n",
       "3    2990\n",
       "1    2990\n",
       "6    2990\n",
       "5    2990\n",
       "9    2990\n",
       "7    2990\n",
       "0    2990\n",
       "Name: labels, dtype: int64"
      ]
     },
     "execution_count": 8,
     "metadata": {},
     "output_type": "execute_result"
    }
   ],
   "source": [
    "# Label distribution\n",
    "data.labels.value_counts()"
   ]
  },
  {
   "cell_type": "markdown",
   "id": "3de5dc64",
   "metadata": {
    "papermill": {
     "duration": 0.010894,
     "end_time": "2023-04-16T20:30:00.843728",
     "exception": false,
     "start_time": "2023-04-16T20:30:00.832834",
     "status": "completed"
    },
    "tags": []
   },
   "source": [
    "We observe that the labels are equally distributed with 2990 instances of each class. Hence, our dataset is balanced.\n",
    "\n",
    "Now, let us reshape and modify our data so that it can be used as an input for our model. We normalise the data and reshape it into a 4 dimensional array such that it represents images stacked on to each other. We also reshape our labels into a 1 dimensional array."
   ]
  },
  {
   "cell_type": "code",
   "execution_count": 9,
   "id": "0e7c54c0",
   "metadata": {
    "execution": {
     "iopub.execute_input": "2023-04-16T20:30:00.867073Z",
     "iopub.status.busy": "2023-04-16T20:30:00.866813Z",
     "iopub.status.idle": "2023-04-16T20:30:01.008255Z",
     "shell.execute_reply": "2023-04-16T20:30:01.007218Z"
    },
    "papermill": {
     "duration": 0.155906,
     "end_time": "2023-04-16T20:30:01.010835",
     "exception": false,
     "start_time": "2023-04-16T20:30:00.854929",
     "status": "completed"
    },
    "tags": []
   },
   "outputs": [],
   "source": [
    "#Dropping redundant coloums like names and labels from the training frames and keeping only pixel values\n",
    "X = data.drop(columns = {'names', 'labels'})/255\n",
    "X = X.values.reshape(X.shape[0], 1, 28, 28)\n",
    "y = data[['labels']].values.reshape((-1,))"
   ]
  },
  {
   "cell_type": "markdown",
   "id": "a5a11e77",
   "metadata": {
    "papermill": {
     "duration": 0.01067,
     "end_time": "2023-04-16T20:30:01.032851",
     "exception": false,
     "start_time": "2023-04-16T20:30:01.022181",
     "status": "completed"
    },
    "tags": []
   },
   "source": [
    "Before proceeding, we split our data into training and testing sets using an 80:20 proportion."
   ]
  },
  {
   "cell_type": "code",
   "execution_count": 10,
   "id": "b90fcdb5",
   "metadata": {
    "execution": {
     "iopub.execute_input": "2023-04-16T20:30:01.056038Z",
     "iopub.status.busy": "2023-04-16T20:30:01.055696Z",
     "iopub.status.idle": "2023-04-16T20:30:01.314759Z",
     "shell.execute_reply": "2023-04-16T20:30:01.313704Z"
    },
    "papermill": {
     "duration": 0.273913,
     "end_time": "2023-04-16T20:30:01.317763",
     "exception": false,
     "start_time": "2023-04-16T20:30:01.043850",
     "status": "completed"
    },
    "tags": []
   },
   "outputs": [],
   "source": [
    "#split data into training and testing sets using the train_test_split\n",
    "X_train, X_test, y_train, y_test = train_test_split(X, y, test_size = 0.2, random_state = 42)"
   ]
  },
  {
   "cell_type": "markdown",
   "id": "602af020",
   "metadata": {
    "papermill": {
     "duration": 0.010888,
     "end_time": "2023-04-16T20:30:01.340751",
     "exception": false,
     "start_time": "2023-04-16T20:30:01.329863",
     "status": "completed"
    },
    "tags": []
   },
   "source": [
    "We now convert them to numpy arrays so that they can be further worked with."
   ]
  },
  {
   "cell_type": "code",
   "execution_count": 11,
   "id": "5c0a5d91",
   "metadata": {
    "execution": {
     "iopub.execute_input": "2023-04-16T20:30:01.363901Z",
     "iopub.status.busy": "2023-04-16T20:30:01.363584Z",
     "iopub.status.idle": "2023-04-16T20:30:01.377105Z",
     "shell.execute_reply": "2023-04-16T20:30:01.376146Z"
    },
    "papermill": {
     "duration": 0.027664,
     "end_time": "2023-04-16T20:30:01.379223",
     "exception": false,
     "start_time": "2023-04-16T20:30:01.351559",
     "status": "completed"
    },
    "tags": []
   },
   "outputs": [],
   "source": [
    "# Convert X_train, X_test, y_train, and y_test to PyTorch tensors\n",
    "X_train = torch.from_numpy(X_train)\n",
    "X_test = torch.from_numpy(X_test)\n",
    "y_train = torch.from_numpy(y_train)\n",
    "y_test = torch.from_numpy(y_test)"
   ]
  },
  {
   "cell_type": "markdown",
   "id": "072357e3",
   "metadata": {
    "papermill": {
     "duration": 0.010941,
     "end_time": "2023-04-16T20:30:01.401282",
     "exception": false,
     "start_time": "2023-04-16T20:30:01.390341",
     "status": "completed"
    },
    "tags": []
   },
   "source": [
    "Before proceeding, we split our data into training and testing sets using an 80:20 proportion."
   ]
  },
  {
   "cell_type": "code",
   "execution_count": 12,
   "id": "ff188070",
   "metadata": {
    "execution": {
     "iopub.execute_input": "2023-04-16T20:30:01.424157Z",
     "iopub.status.busy": "2023-04-16T20:30:01.423883Z",
     "iopub.status.idle": "2023-04-16T20:30:01.430885Z",
     "shell.execute_reply": "2023-04-16T20:30:01.429943Z"
    },
    "papermill": {
     "duration": 0.020894,
     "end_time": "2023-04-16T20:30:01.432939",
     "exception": false,
     "start_time": "2023-04-16T20:30:01.412045",
     "status": "completed"
    },
    "tags": []
   },
   "outputs": [
    {
     "name": "stdout",
     "output_type": "stream",
     "text": [
      "torch.Size([23920, 1, 28, 28]) torch.Size([23920])\n"
     ]
    }
   ],
   "source": [
    "#printing shape\n",
    "print(X_train.shape, y_train.shape)"
   ]
  },
  {
   "cell_type": "markdown",
   "id": "73d2529d",
   "metadata": {
    "papermill": {
     "duration": 0.010651,
     "end_time": "2023-04-16T20:30:01.454739",
     "exception": false,
     "start_time": "2023-04-16T20:30:01.444088",
     "status": "completed"
    },
    "tags": []
   },
   "source": [
    "We verify our steps by checking the shape of our newly created torch tensors.\n",
    "\n",
    "Now, let us visualise a sample image from our processed data."
   ]
  },
  {
   "cell_type": "code",
   "execution_count": 13,
   "id": "8e57e7dd",
   "metadata": {
    "execution": {
     "iopub.execute_input": "2023-04-16T20:30:01.478801Z",
     "iopub.status.busy": "2023-04-16T20:30:01.477992Z",
     "iopub.status.idle": "2023-04-16T20:30:01.581752Z",
     "shell.execute_reply": "2023-04-16T20:30:01.580383Z"
    },
    "papermill": {
     "duration": 0.119397,
     "end_time": "2023-04-16T20:30:01.585204",
     "exception": false,
     "start_time": "2023-04-16T20:30:01.465807",
     "status": "completed"
    },
    "tags": []
   },
   "outputs": [
    {
     "data": {
      "image/png": "[encoded data removed]",
      "text/plain": [
       "<Figure size 640x480 with 1 Axes>"
      ]
     },
     "metadata": {},
     "output_type": "display_data"
    }
   ],
   "source": [
    "\n",
    "def visualize_image(data):\n",
    "    # Display the image using matplotlib's imshow() function\n",
    "    plt.imshow(data[0], cmap='gray_r')\n",
    "    # Turn off the axis display in the plot\n",
    "    plt.axis(\"off\")\n",
    "    # Show the plot with the displayed image\n",
    "    plt.show()\n",
    "\n",
    "# Call the visualize_image() function with the first image in X_train dataset\n",
    "visualize_image(X_train[0])\n"
   ]
  },
  {
   "cell_type": "markdown",
   "id": "662c3024",
   "metadata": {
    "papermill": {
     "duration": 0.030365,
     "end_time": "2023-04-16T20:30:01.645466",
     "exception": false,
     "start_time": "2023-04-16T20:30:01.615101",
     "status": "completed"
    },
    "tags": []
   },
   "source": [
    "#  Create a CNN Model\n",
    "Create Data Loader\n",
    "Dataloaders are utilized to feed our input data to our model for training, based on different parameters such as the batch size, if they should be suffled while being fed, and so on.\n",
    "\n",
    "Here, we define our tensordatasets for the dataloader and then input our required parameters to prepare the data loaders."
   ]
  },
  {
   "cell_type": "code",
   "execution_count": 14,
   "id": "37eceb03",
   "metadata": {
    "execution": {
     "iopub.execute_input": "2023-04-16T20:30:01.683058Z",
     "iopub.status.busy": "2023-04-16T20:30:01.682224Z",
     "iopub.status.idle": "2023-04-16T20:30:01.687971Z",
     "shell.execute_reply": "2023-04-16T20:30:01.686905Z"
    },
    "papermill": {
     "duration": 0.020417,
     "end_time": "2023-04-16T20:30:01.690533",
     "exception": false,
     "start_time": "2023-04-16T20:30:01.670116",
     "status": "completed"
    },
    "tags": []
   },
   "outputs": [
    {
     "name": "stdout",
     "output_type": "stream",
     "text": [
      "<class 'torch.Tensor'>\n",
      "<class 'torch.Tensor'>\n"
     ]
    }
   ],
   "source": [
    "print(type(X_train))\n",
    "print(type(y_train))\n"
   ]
  },
  {
   "cell_type": "code",
   "execution_count": 15,
   "id": "bdfd5a69",
   "metadata": {
    "execution": {
     "iopub.execute_input": "2023-04-16T20:30:01.714485Z",
     "iopub.status.busy": "2023-04-16T20:30:01.714196Z",
     "iopub.status.idle": "2023-04-16T20:30:01.719985Z",
     "shell.execute_reply": "2023-04-16T20:30:01.719137Z"
    },
    "papermill": {
     "duration": 0.02039,
     "end_time": "2023-04-16T20:30:01.722174",
     "exception": false,
     "start_time": "2023-04-16T20:30:01.701784",
     "status": "completed"
    },
    "tags": []
   },
   "outputs": [],
   "source": [
    "# Create a training dataset from X_train and y_train\n",
    "train = data_utils.TensorDataset(X_train, y_train)\n",
    "# Create a testing dataset from X_test and y_test\n",
    "test = data_utils.TensorDataset(X_test, y_test)\n"
   ]
  },
  {
   "cell_type": "markdown",
   "id": "05fd033f",
   "metadata": {
    "papermill": {
     "duration": 0.01266,
     "end_time": "2023-04-16T20:30:01.746348",
     "exception": false,
     "start_time": "2023-04-16T20:30:01.733688",
     "status": "completed"
    },
    "tags": []
   },
   "source": [
    "Once you have created your TensorDataset objects, you can pass them to data loaders in PyTorch to efficiently load and preprocess your data during model training or testing. Data loaders allow you to iterate over your dataset in batches, shuffle the data, and apply other data augmentation techniques as needed"
   ]
  },
  {
   "cell_type": "code",
   "execution_count": 16,
   "id": "ffd4d356",
   "metadata": {
    "execution": {
     "iopub.execute_input": "2023-04-16T20:30:01.770822Z",
     "iopub.status.busy": "2023-04-16T20:30:01.770536Z",
     "iopub.status.idle": "2023-04-16T20:30:01.775891Z",
     "shell.execute_reply": "2023-04-16T20:30:01.774689Z"
    },
    "papermill": {
     "duration": 0.019935,
     "end_time": "2023-04-16T20:30:01.778042",
     "exception": false,
     "start_time": "2023-04-16T20:30:01.758107",
     "status": "completed"
    },
    "tags": []
   },
   "outputs": [],
   "source": [
    "\n",
    "# Create a training data loader from the train dataset\n",
    "# with a batch size of 128 and shuffling the data\n",
    "train_loader = data_utils.DataLoader(train, batch_size=128, shuffle=True)\n",
    "\n",
    "# Create a testing data loader from the test dataset\n",
    "# with a batch size of 128 and shuffling the data\n",
    "test_loader = data_utils.DataLoader(test, batch_size=128, shuffle=True)\n"
   ]
  },
  {
   "cell_type": "markdown",
   "id": "83fedb42",
   "metadata": {
    "papermill": {
     "duration": 0.01135,
     "end_time": "2023-04-16T20:30:01.800706",
     "exception": false,
     "start_time": "2023-04-16T20:30:01.789356",
     "status": "completed"
    },
    "tags": []
   },
   "source": [
    "To verify our data loaders, we print the input size of an iteration of training."
   ]
  },
  {
   "cell_type": "code",
   "execution_count": 17,
   "id": "51e5edf8",
   "metadata": {
    "execution": {
     "iopub.execute_input": "2023-04-16T20:30:01.824769Z",
     "iopub.status.busy": "2023-04-16T20:30:01.824495Z",
     "iopub.status.idle": "2023-04-16T20:30:02.040507Z",
     "shell.execute_reply": "2023-04-16T20:30:02.039353Z"
    },
    "papermill": {
     "duration": 0.231705,
     "end_time": "2023-04-16T20:30:02.043854",
     "exception": false,
     "start_time": "2023-04-16T20:30:01.812149",
     "status": "completed"
    },
    "tags": []
   },
   "outputs": [
    {
     "name": "stdout",
     "output_type": "stream",
     "text": [
      "torch.Size([128, 1, 28, 28]) torch.Size([128])\n",
      "torch.Size([128, 1, 28, 28]) torch.Size([128])\n",
      "torch.Size([128, 1, 28, 28]) torch.Size([128])\n",
      "torch.Size([128, 1, 28, 28]) torch.Size([128])\n",
      "torch.Size([128, 1, 28, 28]) torch.Size([128])\n",
      "torch.Size([128, 1, 28, 28]) torch.Size([128])\n",
      "torch.Size([128, 1, 28, 28]) torch.Size([128])\n",
      "torch.Size([128, 1, 28, 28]) torch.Size([128])\n",
      "torch.Size([128, 1, 28, 28]) torch.Size([128])\n",
      "torch.Size([128, 1, 28, 28]) torch.Size([128])\n",
      "torch.Size([128, 1, 28, 28]) torch.Size([128])\n",
      "torch.Size([128, 1, 28, 28]) torch.Size([128])\n",
      "torch.Size([128, 1, 28, 28]) torch.Size([128])\n",
      "torch.Size([128, 1, 28, 28]) torch.Size([128])\n",
      "torch.Size([128, 1, 28, 28]) torch.Size([128])\n",
      "torch.Size([128, 1, 28, 28]) torch.Size([128])\n",
      "torch.Size([128, 1, 28, 28]) torch.Size([128])\n",
      "torch.Size([128, 1, 28, 28]) torch.Size([128])\n",
      "torch.Size([128, 1, 28, 28]) torch.Size([128])\n",
      "torch.Size([128, 1, 28, 28]) torch.Size([128])\n",
      "torch.Size([128, 1, 28, 28]) torch.Size([128])\n",
      "torch.Size([128, 1, 28, 28]) torch.Size([128])\n",
      "torch.Size([128, 1, 28, 28]) torch.Size([128])\n",
      "torch.Size([128, 1, 28, 28]) torch.Size([128])\n",
      "torch.Size([128, 1, 28, 28]) torch.Size([128])\n",
      "torch.Size([128, 1, 28, 28]) torch.Size([128])\n",
      "torch.Size([128, 1, 28, 28]) torch.Size([128])\n",
      "torch.Size([128, 1, 28, 28]) torch.Size([128])\n",
      "torch.Size([128, 1, 28, 28]) torch.Size([128])\n",
      "torch.Size([128, 1, 28, 28]) torch.Size([128])\n",
      "torch.Size([128, 1, 28, 28]) torch.Size([128])\n",
      "torch.Size([128, 1, 28, 28]) torch.Size([128])\n",
      "torch.Size([128, 1, 28, 28]) torch.Size([128])\n",
      "torch.Size([128, 1, 28, 28]) torch.Size([128])\n",
      "torch.Size([128, 1, 28, 28]) torch.Size([128])\n",
      "torch.Size([128, 1, 28, 28]) torch.Size([128])\n",
      "torch.Size([128, 1, 28, 28]) torch.Size([128])\n",
      "torch.Size([128, 1, 28, 28]) torch.Size([128])\n",
      "torch.Size([128, 1, 28, 28]) torch.Size([128])\n",
      "torch.Size([128, 1, 28, 28]) torch.Size([128])\n",
      "torch.Size([128, 1, 28, 28]) torch.Size([128])\n",
      "torch.Size([128, 1, 28, 28]) torch.Size([128])\n",
      "torch.Size([128, 1, 28, 28]) torch.Size([128])\n",
      "torch.Size([128, 1, 28, 28]) torch.Size([128])\n",
      "torch.Size([128, 1, 28, 28]) torch.Size([128])\n",
      "torch.Size([128, 1, 28, 28]) torch.Size([128])\n",
      "torch.Size([128, 1, 28, 28]) torch.Size([128])\n",
      "torch.Size([128, 1, 28, 28]) torch.Size([128])\n",
      "torch.Size([128, 1, 28, 28]) torch.Size([128])\n",
      "torch.Size([128, 1, 28, 28]) torch.Size([128])\n",
      "torch.Size([128, 1, 28, 28]) torch.Size([128])\n",
      "torch.Size([128, 1, 28, 28]) torch.Size([128])\n",
      "torch.Size([128, 1, 28, 28]) torch.Size([128])\n",
      "torch.Size([128, 1, 28, 28]) torch.Size([128])\n",
      "torch.Size([128, 1, 28, 28]) torch.Size([128])\n",
      "torch.Size([128, 1, 28, 28]) torch.Size([128])\n",
      "torch.Size([128, 1, 28, 28]) torch.Size([128])\n",
      "torch.Size([128, 1, 28, 28]) torch.Size([128])\n",
      "torch.Size([128, 1, 28, 28]) torch.Size([128])\n",
      "torch.Size([128, 1, 28, 28]) torch.Size([128])\n",
      "torch.Size([128, 1, 28, 28]) torch.Size([128])\n",
      "torch.Size([128, 1, 28, 28]) torch.Size([128])\n",
      "torch.Size([128, 1, 28, 28]) torch.Size([128])\n",
      "torch.Size([128, 1, 28, 28]) torch.Size([128])\n",
      "torch.Size([128, 1, 28, 28]) torch.Size([128])\n",
      "torch.Size([128, 1, 28, 28]) torch.Size([128])\n",
      "torch.Size([128, 1, 28, 28]) torch.Size([128])\n",
      "torch.Size([128, 1, 28, 28]) torch.Size([128])\n",
      "torch.Size([128, 1, 28, 28]) torch.Size([128])\n",
      "torch.Size([128, 1, 28, 28]) torch.Size([128])\n",
      "torch.Size([128, 1, 28, 28]) torch.Size([128])\n",
      "torch.Size([128, 1, 28, 28]) torch.Size([128])\n",
      "torch.Size([128, 1, 28, 28]) torch.Size([128])\n",
      "torch.Size([128, 1, 28, 28]) torch.Size([128])\n",
      "torch.Size([128, 1, 28, 28]) torch.Size([128])\n",
      "torch.Size([128, 1, 28, 28]) torch.Size([128])\n",
      "torch.Size([128, 1, 28, 28]) torch.Size([128])\n",
      "torch.Size([128, 1, 28, 28]) torch.Size([128])\n",
      "torch.Size([128, 1, 28, 28]) torch.Size([128])\n",
      "torch.Size([128, 1, 28, 28]) torch.Size([128])\n",
      "torch.Size([128, 1, 28, 28]) torch.Size([128])\n",
      "torch.Size([128, 1, 28, 28]) torch.Size([128])\n",
      "torch.Size([128, 1, 28, 28]) torch.Size([128])\n",
      "torch.Size([128, 1, 28, 28]) torch.Size([128])\n",
      "torch.Size([128, 1, 28, 28]) torch.Size([128])\n",
      "torch.Size([128, 1, 28, 28]) torch.Size([128])\n",
      "torch.Size([128, 1, 28, 28]) torch.Size([128])\n",
      "torch.Size([128, 1, 28, 28]) torch.Size([128])\n",
      "torch.Size([128, 1, 28, 28]) torch.Size([128])\n",
      "torch.Size([128, 1, 28, 28]) torch.Size([128])\n",
      "torch.Size([128, 1, 28, 28]) torch.Size([128])\n",
      "torch.Size([128, 1, 28, 28]) torch.Size([128])\n",
      "torch.Size([128, 1, 28, 28]) torch.Size([128])\n",
      "torch.Size([128, 1, 28, 28]) torch.Size([128])\n",
      "torch.Size([128, 1, 28, 28]) torch.Size([128])\n",
      "torch.Size([128, 1, 28, 28]) torch.Size([128])\n",
      "torch.Size([128, 1, 28, 28]) torch.Size([128])\n",
      "torch.Size([128, 1, 28, 28]) torch.Size([128])\n",
      "torch.Size([128, 1, 28, 28]) torch.Size([128])\n",
      "torch.Size([128, 1, 28, 28]) torch.Size([128])\n",
      "torch.Size([128, 1, 28, 28]) torch.Size([128])\n",
      "torch.Size([128, 1, 28, 28]) torch.Size([128])\n",
      "torch.Size([128, 1, 28, 28]) torch.Size([128])\n",
      "torch.Size([128, 1, 28, 28]) torch.Size([128])\n",
      "torch.Size([128, 1, 28, 28]) torch.Size([128])\n",
      "torch.Size([128, 1, 28, 28]) torch.Size([128])\n",
      "torch.Size([128, 1, 28, 28]) torch.Size([128])\n",
      "torch.Size([128, 1, 28, 28]) torch.Size([128])\n",
      "torch.Size([128, 1, 28, 28]) torch.Size([128])\n",
      "torch.Size([128, 1, 28, 28]) torch.Size([128])\n",
      "torch.Size([128, 1, 28, 28]) torch.Size([128])\n",
      "torch.Size([128, 1, 28, 28]) torch.Size([128])\n",
      "torch.Size([128, 1, 28, 28]) torch.Size([128])\n",
      "torch.Size([128, 1, 28, 28]) torch.Size([128])\n",
      "torch.Size([128, 1, 28, 28]) torch.Size([128])\n",
      "torch.Size([128, 1, 28, 28]) torch.Size([128])\n",
      "torch.Size([128, 1, 28, 28]) torch.Size([128])\n",
      "torch.Size([128, 1, 28, 28]) torch.Size([128])\n",
      "torch.Size([128, 1, 28, 28]) torch.Size([128])\n",
      "torch.Size([128, 1, 28, 28]) torch.Size([128])\n",
      "torch.Size([128, 1, 28, 28]) torch.Size([128])\n",
      "torch.Size([128, 1, 28, 28]) torch.Size([128])\n",
      "torch.Size([128, 1, 28, 28]) torch.Size([128])\n",
      "torch.Size([128, 1, 28, 28]) torch.Size([128])\n",
      "torch.Size([128, 1, 28, 28]) torch.Size([128])\n",
      "torch.Size([128, 1, 28, 28]) torch.Size([128])\n",
      "torch.Size([128, 1, 28, 28]) torch.Size([128])\n",
      "torch.Size([128, 1, 28, 28]) torch.Size([128])\n",
      "torch.Size([128, 1, 28, 28]) torch.Size([128])\n",
      "torch.Size([128, 1, 28, 28]) torch.Size([128])\n",
      "torch.Size([128, 1, 28, 28]) torch.Size([128])\n",
      "torch.Size([128, 1, 28, 28]) torch.Size([128])\n",
      "torch.Size([128, 1, 28, 28]) torch.Size([128])\n",
      "torch.Size([128, 1, 28, 28]) torch.Size([128])\n",
      "torch.Size([128, 1, 28, 28]) torch.Size([128])\n",
      "torch.Size([128, 1, 28, 28]) torch.Size([128])\n",
      "torch.Size([128, 1, 28, 28]) torch.Size([128])\n",
      "torch.Size([128, 1, 28, 28]) torch.Size([128])\n",
      "torch.Size([128, 1, 28, 28]) torch.Size([128])\n",
      "torch.Size([128, 1, 28, 28]) torch.Size([128])\n",
      "torch.Size([128, 1, 28, 28]) torch.Size([128])\n",
      "torch.Size([128, 1, 28, 28]) torch.Size([128])\n",
      "torch.Size([128, 1, 28, 28]) torch.Size([128])\n",
      "torch.Size([128, 1, 28, 28]) torch.Size([128])\n",
      "torch.Size([128, 1, 28, 28]) torch.Size([128])\n",
      "torch.Size([128, 1, 28, 28]) torch.Size([128])\n",
      "torch.Size([128, 1, 28, 28]) torch.Size([128])\n",
      "torch.Size([128, 1, 28, 28]) torch.Size([128])\n",
      "torch.Size([128, 1, 28, 28]) torch.Size([128])\n",
      "torch.Size([128, 1, 28, 28]) torch.Size([128])\n",
      "torch.Size([128, 1, 28, 28]) torch.Size([128])\n",
      "torch.Size([128, 1, 28, 28]) torch.Size([128])\n",
      "torch.Size([128, 1, 28, 28]) torch.Size([128])\n",
      "torch.Size([128, 1, 28, 28]) torch.Size([128])\n",
      "torch.Size([128, 1, 28, 28]) torch.Size([128])\n",
      "torch.Size([128, 1, 28, 28]) torch.Size([128])\n",
      "torch.Size([128, 1, 28, 28]) torch.Size([128])\n",
      "torch.Size([128, 1, 28, 28]) torch.Size([128])\n",
      "torch.Size([128, 1, 28, 28]) torch.Size([128])\n",
      "torch.Size([128, 1, 28, 28]) torch.Size([128])\n",
      "torch.Size([128, 1, 28, 28]) torch.Size([128])\n",
      "torch.Size([128, 1, 28, 28]) torch.Size([128])\n",
      "torch.Size([128, 1, 28, 28]) torch.Size([128])\n",
      "torch.Size([128, 1, 28, 28]) torch.Size([128])\n",
      "torch.Size([128, 1, 28, 28]) torch.Size([128])\n",
      "torch.Size([128, 1, 28, 28]) torch.Size([128])\n",
      "torch.Size([128, 1, 28, 28]) torch.Size([128])\n",
      "torch.Size([128, 1, 28, 28]) torch.Size([128])\n",
      "torch.Size([128, 1, 28, 28]) torch.Size([128])\n",
      "torch.Size([128, 1, 28, 28]) torch.Size([128])\n",
      "torch.Size([128, 1, 28, 28]) torch.Size([128])\n",
      "torch.Size([128, 1, 28, 28]) torch.Size([128])\n",
      "torch.Size([128, 1, 28, 28]) torch.Size([128])\n",
      "torch.Size([128, 1, 28, 28]) torch.Size([128])\n",
      "torch.Size([128, 1, 28, 28]) torch.Size([128])\n",
      "torch.Size([128, 1, 28, 28]) torch.Size([128])\n",
      "torch.Size([128, 1, 28, 28]) torch.Size([128])\n",
      "torch.Size([128, 1, 28, 28]) torch.Size([128])\n",
      "torch.Size([128, 1, 28, 28]) torch.Size([128])\n",
      "torch.Size([128, 1, 28, 28]) torch.Size([128])\n",
      "torch.Size([128, 1, 28, 28]) torch.Size([128])\n",
      "torch.Size([128, 1, 28, 28]) torch.Size([128])\n",
      "torch.Size([128, 1, 28, 28]) torch.Size([128])\n",
      "torch.Size([128, 1, 28, 28]) torch.Size([128])\n",
      "torch.Size([128, 1, 28, 28]) torch.Size([128])\n",
      "torch.Size([128, 1, 28, 28]) torch.Size([128])\n",
      "torch.Size([112, 1, 28, 28]) torch.Size([112])\n",
      "torch.Size([128, 1, 28, 28]) torch.Size([128])\n"
     ]
    }
   ],
   "source": [
    "#printing input size of an iteration of training\n",
    "for images, labels in train_loader:\n",
    "    print(images.shape, labels.shape)\n",
    "\n",
    "data_iter = iter(train_loader)\n",
    "images, labels = next(data_iter)\n",
    "print(images.shape, labels.shape)\n",
    "\n"
   ]
  },
  {
   "cell_type": "code",
   "execution_count": 18,
   "id": "77fd5b4c",
   "metadata": {
    "execution": {
     "iopub.execute_input": "2023-04-16T20:30:02.069029Z",
     "iopub.status.busy": "2023-04-16T20:30:02.068734Z",
     "iopub.status.idle": "2023-04-16T20:30:04.832377Z",
     "shell.execute_reply": "2023-04-16T20:30:04.831359Z"
    },
    "papermill": {
     "duration": 2.778478,
     "end_time": "2023-04-16T20:30:04.834597",
     "exception": false,
     "start_time": "2023-04-16T20:30:02.056119",
     "status": "completed"
    },
    "tags": []
   },
   "outputs": [
    {
     "data": {
      "text/plain": [
       "Net(\n",
       "  (conv1): Conv2d(1, 32, kernel_size=(3, 3), stride=(1, 1))\n",
       "  (conv2): Conv2d(32, 64, kernel_size=(3, 3), stride=(1, 1))\n",
       "  (pool): MaxPool2d(kernel_size=2, stride=2, padding=0, dilation=1, ceil_mode=False)\n",
       "  (fc1): Linear(in_features=9216, out_features=128, bias=True)\n",
       "  (fc2): Linear(in_features=128, out_features=10, bias=True)\n",
       ")"
      ]
     },
     "execution_count": 18,
     "metadata": {},
     "output_type": "execute_result"
    }
   ],
   "source": [
    "\n",
    "class Net(nn.Module):\n",
    "    def __init__(self):\n",
    "        super(Net, self).__init__()\n",
    "        self.conv1 = nn.Conv2d(1, 32, 3)     # First convolutional layer with input channels=1, output channels=32, and kernel size=3x3\n",
    "        self.conv2 = nn.Conv2d(32, 64, 3)    # Second convolutional layer with input channels=32, output channels=64, and kernel size=3x3\n",
    "        self.pool = nn.MaxPool2d(2, 2)       # Max pooling layer with kernel size=2x2 and stride=2\n",
    "        self.fc1 = nn.Linear(64 * 12 * 12, 128)  # Fully connected layer with input size of 64x12x12 (output from previous layers) and output size of 128\n",
    "        self.fc2 = nn.Linear(128, 10)        # Fully connected layer with input size of 128 and output size of 10 (for 10 classes)\n",
    "\n",
    "    def forward(self, x):\n",
    "        x = F.relu(self.conv1(x))            # Apply ReLU activation to the output of the first convolutional layer\n",
    "        x = self.pool(F.relu(self.conv2(x))) # Apply ReLU activation to the output of the second convolutional layer, then perform max pooling\n",
    "        x = x.view(-1, 64 * 12 * 12)         # Flatten the tensor to a 1D vector\n",
    "        x = F.relu(self.fc1(x))              # Apply ReLU activation to the output of the first fully connected layer\n",
    "        x = self.fc2(x)                      # Output from the second fully connected layer (logits)\n",
    "        return x\n",
    "\n",
    "net = Net()                               # Create an instance of the neural network model\n",
    "net.to(device)                           # Move the model to the specified device (e.g., GPU or CPU)\n"
   ]
  },
  {
   "cell_type": "markdown",
   "id": "3f83245c",
   "metadata": {
    "papermill": {
     "duration": 0.011373,
     "end_time": "2023-04-16T20:30:04.857966",
     "exception": false,
     "start_time": "2023-04-16T20:30:04.846593",
     "status": "completed"
    },
    "tags": []
   },
   "source": [
    "# Create Model\n",
    "\n",
    "- Convolution layer (CONV)- The convolution layer (CONV) uses filters that perform convolution operations as it is scanning the input I with respect to its dimensions. Its hyperparameters include the filter size F and stride S. The resulting output O is called feature map or activation map.\n",
    "- Pooling (POOL)- The pooling layer (POOL) is a downsampling operation, typically applied after a convolution layer, which does some spatial invariance. In particular, max and average pooling are special kinds of pooling where the maximum and average value is taken, respectively.\n",
    "\n",
    "To create our CNN Model, we utilise the neural network module from pytorch and provide it with our own custom architecture as follows.\n",
    "\n",
    "- Convolutional layer with 32 channels\n",
    "- Convolutional layer with 64 channels\n",
    "- MaxPooling layer to compress information\n",
    "- Dense layer to flatten the information obtained\n",
    "- Dense output layer with relu activation"
   ]
  },
  {
   "cell_type": "markdown",
   "id": "2fe11f7b",
   "metadata": {
    "papermill": {
     "duration": 0.011315,
     "end_time": "2023-04-16T20:30:04.880670",
     "exception": false,
     "start_time": "2023-04-16T20:30:04.869355",
     "status": "completed"
    },
    "tags": []
   },
   "source": [
    "We use Cross Entropy Loss as the loss function and Adam as the optimizer here. You can also try out other optimizers like SGD here "
   ]
  },
  {
   "cell_type": "code",
   "execution_count": 19,
   "id": "82dbecd2",
   "metadata": {
    "execution": {
     "iopub.execute_input": "2023-04-16T20:30:04.905204Z",
     "iopub.status.busy": "2023-04-16T20:30:04.904298Z",
     "iopub.status.idle": "2023-04-16T20:30:04.909755Z",
     "shell.execute_reply": "2023-04-16T20:30:04.908626Z"
    },
    "papermill": {
     "duration": 0.019787,
     "end_time": "2023-04-16T20:30:04.911790",
     "exception": false,
     "start_time": "2023-04-16T20:30:04.892003",
     "status": "completed"
    },
    "tags": []
   },
   "outputs": [],
   "source": [
    "\n",
    "criterion = nn.CrossEntropyLoss()\n",
    "#optimizer = optim.SGD(net.parameters(), lr = 0.001, momentum = 0.9)\n",
    "optimizer = optim.Adam(net.parameters(), lr = 0.001)"
   ]
  },
  {
   "cell_type": "markdown",
   "id": "84c7cd55",
   "metadata": {
    "papermill": {
     "duration": 0.011133,
     "end_time": "2023-04-16T20:30:04.934446",
     "exception": false,
     "start_time": "2023-04-16T20:30:04.923313",
     "status": "completed"
    },
    "tags": []
   },
   "source": [
    "Finally, inorder to deal with input data in the float format, we modify the format of our CNN model net to float."
   ]
  },
  {
   "cell_type": "code",
   "execution_count": 20,
   "id": "c40868ac",
   "metadata": {
    "execution": {
     "iopub.execute_input": "2023-04-16T20:30:04.958277Z",
     "iopub.status.busy": "2023-04-16T20:30:04.957989Z",
     "iopub.status.idle": "2023-04-16T20:30:04.963306Z",
     "shell.execute_reply": "2023-04-16T20:30:04.962395Z"
    },
    "papermill": {
     "duration": 0.019705,
     "end_time": "2023-04-16T20:30:04.965432",
     "exception": false,
     "start_time": "2023-04-16T20:30:04.945727",
     "status": "completed"
    },
    "tags": []
   },
   "outputs": [],
   "source": [
    "net = net.float()"
   ]
  },
  {
   "cell_type": "markdown",
   "id": "b8facec7",
   "metadata": {
    "papermill": {
     "duration": 0.011221,
     "end_time": "2023-04-16T20:30:04.987960",
     "exception": false,
     "start_time": "2023-04-16T20:30:04.976739",
     "status": "completed"
    },
    "tags": []
   },
   "source": [
    "# Train Model\n",
    "\n",
    "Definitions:\n",
    "\n",
    "- Epoch- In the context of training a model, epoch is a term used to refer to one iteration where the  model sees the whole training set to update its weights.\n",
    "\n",
    "\n",
    "- Mini batch gradient descent- During the training phase, updating weights is usually not based on the  whole training set at once due to computation complexities or one data point due to noise issues. Instead, the update step is done on mini-batches, where the number of data points in a batch is a hyperparameter that we can tune.\n",
    "\n",
    "\n",
    "- Loss function -In order to quantify how a given model performs, the loss function .L is usually used   to evaluate to what extent the actual outputs y are correctly predicted by the model outputs z.\n",
    "\n",
    "\n",
    "- Cross-entropy lossIn the context of binary classification in neural networks, the cross-entropy loss \n",
    " L(z,y) is commonly used and is defined as follows:\n",
    "\n",
    "\n",
    "We now train the model for 15 epochs and print its loss and test accuracy for each 50 completed mini batches. I used 15 epochs as it provided a satisfactory learning curve for this dataset, but feel free to explore with other number as well."
   ]
  },
  {
   "cell_type": "code",
   "execution_count": 21,
   "id": "012cd564",
   "metadata": {
    "execution": {
     "iopub.execute_input": "2023-04-16T20:30:05.012361Z",
     "iopub.status.busy": "2023-04-16T20:30:05.011552Z",
     "iopub.status.idle": "2023-04-16T20:30:05.016436Z",
     "shell.execute_reply": "2023-04-16T20:30:05.015513Z"
    },
    "papermill": {
     "duration": 0.018995,
     "end_time": "2023-04-16T20:30:05.018348",
     "exception": false,
     "start_time": "2023-04-16T20:30:04.999353",
     "status": "completed"
    },
    "tags": []
   },
   "outputs": [],
   "source": [
    "epoch_num = 0\n",
    "actual_loss = 0.0\n",
    "accuracy = 0.0"
   ]
  },
  {
   "cell_type": "code",
   "execution_count": 22,
   "id": "4121a903",
   "metadata": {
    "execution": {
     "iopub.execute_input": "2023-04-16T20:30:05.042620Z",
     "iopub.status.busy": "2023-04-16T20:30:05.042356Z",
     "iopub.status.idle": "2023-04-16T20:30:30.800086Z",
     "shell.execute_reply": "2023-04-16T20:30:30.798530Z"
    },
    "papermill": {
     "duration": 25.773166,
     "end_time": "2023-04-16T20:30:30.802878",
     "exception": false,
     "start_time": "2023-04-16T20:30:05.029712",
     "status": "completed"
    },
    "tags": []
   },
   "outputs": [
    {
     "name": "stdout",
     "output_type": "stream",
     "text": [
      "Starting Epoch: 1...\n",
      "Epoch: 1, Mini-Batches Completed: 50, Loss: 0.585, Test Accuracy: 93.629%\n",
      "Epoch: 1, Mini-Batches Completed: 100, Loss: 0.764, Test Accuracy: 96.438%\n",
      "Epoch: 1, Mini-Batches Completed: 150, Loss: 0.889, Test Accuracy: 96.973%\n",
      "Starting Epoch: 2...\n",
      "Epoch: 2, Mini-Batches Completed: 50, Loss: 0.081, Test Accuracy: 98.027%\n",
      "Epoch: 2, Mini-Batches Completed: 100, Loss: 0.141, Test Accuracy: 97.625%\n",
      "Epoch: 2, Mini-Batches Completed: 150, Loss: 0.198, Test Accuracy: 98.127%\n",
      "Starting Epoch: 3...\n",
      "Epoch: 3, Mini-Batches Completed: 50, Loss: 0.033, Test Accuracy: 98.595%\n",
      "Epoch: 3, Mini-Batches Completed: 100, Loss: 0.078, Test Accuracy: 98.779%\n",
      "Epoch: 3, Mini-Batches Completed: 150, Loss: 0.114, Test Accuracy: 98.344%\n",
      "Starting Epoch: 4...\n",
      "Epoch: 4, Mini-Batches Completed: 50, Loss: 0.025, Test Accuracy: 98.679%\n",
      "Epoch: 4, Mini-Batches Completed: 100, Loss: 0.053, Test Accuracy: 98.629%\n",
      "Epoch: 4, Mini-Batches Completed: 150, Loss: 0.082, Test Accuracy: 98.863%\n",
      "Starting Epoch: 5...\n",
      "Epoch: 5, Mini-Batches Completed: 50, Loss: 0.016, Test Accuracy: 99.064%\n",
      "Epoch: 5, Mini-Batches Completed: 100, Loss: 0.034, Test Accuracy: 99.030%\n",
      "Epoch: 5, Mini-Batches Completed: 150, Loss: 0.050, Test Accuracy: 98.846%\n",
      "Starting Epoch: 6...\n",
      "Epoch: 6, Mini-Batches Completed: 50, Loss: 0.015, Test Accuracy: 99.047%\n",
      "Epoch: 6, Mini-Batches Completed: 100, Loss: 0.025, Test Accuracy: 99.030%\n",
      "Epoch: 6, Mini-Batches Completed: 150, Loss: 0.041, Test Accuracy: 98.829%\n",
      "Starting Epoch: 7...\n",
      "Epoch: 7, Mini-Batches Completed: 50, Loss: 0.011, Test Accuracy: 99.114%\n",
      "Epoch: 7, Mini-Batches Completed: 100, Loss: 0.018, Test Accuracy: 99.164%\n",
      "Epoch: 7, Mini-Batches Completed: 150, Loss: 0.028, Test Accuracy: 99.047%\n",
      "Starting Epoch: 8...\n",
      "Epoch: 8, Mini-Batches Completed: 50, Loss: 0.009, Test Accuracy: 99.097%\n",
      "Epoch: 8, Mini-Batches Completed: 100, Loss: 0.016, Test Accuracy: 99.214%\n",
      "Epoch: 8, Mini-Batches Completed: 150, Loss: 0.024, Test Accuracy: 99.281%\n",
      "Starting Epoch: 9...\n",
      "Epoch: 9, Mini-Batches Completed: 50, Loss: 0.005, Test Accuracy: 99.080%\n",
      "Epoch: 9, Mini-Batches Completed: 100, Loss: 0.010, Test Accuracy: 99.214%\n",
      "Epoch: 9, Mini-Batches Completed: 150, Loss: 0.020, Test Accuracy: 99.030%\n",
      "Starting Epoch: 10...\n",
      "Epoch: 10, Mini-Batches Completed: 50, Loss: 0.004, Test Accuracy: 99.030%\n",
      "Epoch: 10, Mini-Batches Completed: 100, Loss: 0.011, Test Accuracy: 98.863%\n",
      "Epoch: 10, Mini-Batches Completed: 150, Loss: 0.025, Test Accuracy: 99.030%\n",
      "Starting Epoch: 11...\n",
      "Epoch: 11, Mini-Batches Completed: 50, Loss: 0.006, Test Accuracy: 99.080%\n",
      "Epoch: 11, Mini-Batches Completed: 100, Loss: 0.010, Test Accuracy: 99.214%\n",
      "Epoch: 11, Mini-Batches Completed: 150, Loss: 0.015, Test Accuracy: 98.796%\n",
      "Starting Epoch: 12...\n",
      "Epoch: 12, Mini-Batches Completed: 50, Loss: 0.009, Test Accuracy: 99.164%\n",
      "Epoch: 12, Mini-Batches Completed: 100, Loss: 0.013, Test Accuracy: 99.231%\n",
      "Epoch: 12, Mini-Batches Completed: 150, Loss: 0.017, Test Accuracy: 99.264%\n",
      "Starting Epoch: 13...\n",
      "Epoch: 13, Mini-Batches Completed: 50, Loss: 0.002, Test Accuracy: 99.231%\n",
      "Epoch: 13, Mini-Batches Completed: 100, Loss: 0.005, Test Accuracy: 99.214%\n",
      "Epoch: 13, Mini-Batches Completed: 150, Loss: 0.009, Test Accuracy: 99.064%\n",
      "Starting Epoch: 14...\n",
      "Epoch: 14, Mini-Batches Completed: 50, Loss: 0.003, Test Accuracy: 99.030%\n",
      "Epoch: 14, Mini-Batches Completed: 100, Loss: 0.005, Test Accuracy: 99.080%\n",
      "Epoch: 14, Mini-Batches Completed: 150, Loss: 0.009, Test Accuracy: 99.164%\n",
      "Starting Epoch: 15...\n",
      "Epoch: 15, Mini-Batches Completed: 50, Loss: 0.003, Test Accuracy: 99.080%\n",
      "Epoch: 15, Mini-Batches Completed: 100, Loss: 0.006, Test Accuracy: 99.231%\n",
      "Epoch: 15, Mini-Batches Completed: 150, Loss: 0.006, Test Accuracy: 99.197%\n",
      "Training Completed.\n"
     ]
    }
   ],
   "source": [
    "#training model with 15 epochs\n",
    "\n",
    "num_epochs = 15\n",
    "\n",
    "# Create lists to store epoch number, loss, and accuracy for each epoch\n",
    "epoch_log = []\n",
    "loss_log = []\n",
    "accuracy_log = []\n",
    "\n",
    "for epoch in range(num_epochs):\n",
    "    print(f'Starting Epoch: {epoch + 1}...')\n",
    "\n",
    "    running_loss = 0.0   # Initialize running loss to 0 for each epoch\n",
    "\n",
    "    for i, data in enumerate(train_loader, 0):\n",
    "        inputs, labels = data\n",
    "        inputs = inputs.to(device)    # Move inputs to the specified device (e.g., GPU or CPU)\n",
    "        labels = labels.to(device)    # Move labels to the specified device\n",
    "\n",
    "        optimizer.zero_grad()        # Zero the gradients of the optimizer\n",
    "\n",
    "        outputs = net(inputs.float())   # Forward pass to get predicted outputs from the model\n",
    "        loss = criterion(outputs,labels)  # Compute the loss between predicted outputs and ground truth labels\n",
    "        loss.backward()                 # Backward pass to compute gradients\n",
    "        optimizer.step()                # Update model weights using the optimizer\n",
    "\n",
    "        running_loss += loss.item()   # Add the current batch loss to the running loss for this epoch\n",
    "        if i % 50 == 49:\n",
    "            correct = 0\n",
    "            total = 0\n",
    "            \n",
    "            with torch.no_grad():\n",
    "                for data in test_loader:\n",
    "                    images, labels = data\n",
    "                    images = images.to(device)    # Move images to the specified device\n",
    "                    labels = labels.to(device)    # Move labels to the specified device\n",
    "                    outputs = net(images.float())  # Forward pass to get predicted outputs from the model\n",
    "                    \n",
    "                    _, predicted = torch.max(outputs.data, dim = 1)   # Get predicted labels with maximum probability\n",
    "                    total += labels.size(0)   # Update total number of images\n",
    "                    correct += (predicted == labels).sum().item()   # Update correct predictions count\n",
    "                \n",
    "                accuracy = 100 * correct / total   # Calculate accuracy for this epoch\n",
    "                actual_loss = running_loss / 50   # Calculate average loss for this epoch\n",
    "                epoch_num = epoch + 1   # Get current epoch number\n",
    "                print(f'Epoch: {epoch_num}, Mini-Batches Completed: {(i + 1)}, Loss: {actual_loss:.3f}, Test Accuracy: {accuracy:.3f}%')\n",
    "                \n",
    "    epoch_log.append(epoch_num)   # Append epoch number to the epoch log\n",
    "    loss_log.append(actual_loss)   # Append average loss to the loss log\n",
    "    accuracy_log.append(accuracy)   # Append accuracy to the accuracy log\n",
    "\n",
    "\n",
    "print('Training Completed.')"
   ]
  },
  {
   "cell_type": "markdown",
   "id": "5339965e",
   "metadata": {
    "papermill": {
     "duration": 0.016942,
     "end_time": "2023-04-16T20:30:30.837486",
     "exception": false,
     "start_time": "2023-04-16T20:30:30.820544",
     "status": "completed"
    },
    "tags": []
   },
   "source": [
    "# Saving Model\n",
    "Let's save our trained model to PATH so that it can be reused."
   ]
  },
  {
   "cell_type": "code",
   "execution_count": 23,
   "id": "5713a69d",
   "metadata": {
    "execution": {
     "iopub.execute_input": "2023-04-16T20:30:30.873139Z",
     "iopub.status.busy": "2023-04-16T20:30:30.872805Z",
     "iopub.status.idle": "2023-04-16T20:30:30.889810Z",
     "shell.execute_reply": "2023-04-16T20:30:30.888739Z"
    },
    "papermill": {
     "duration": 0.037961,
     "end_time": "2023-04-16T20:30:30.892548",
     "exception": false,
     "start_time": "2023-04-16T20:30:30.854587",
     "status": "completed"
    },
    "tags": []
   },
   "outputs": [],
   "source": [
    "PATH = './cnn_net.pth'\n",
    "torch.save(net.state_dict(), PATH)"
   ]
  },
  {
   "cell_type": "markdown",
   "id": "fefac659",
   "metadata": {
    "papermill": {
     "duration": 0.01588,
     "end_time": "2023-04-16T20:30:30.924870",
     "exception": false,
     "start_time": "2023-04-16T20:30:30.908990",
     "status": "completed"
    },
    "tags": []
   },
   "source": [
    "# Evaluating  Model\n",
    "Reloading Model\n",
    "To evaluate our trained CNN model, we reload our saved model."
   ]
  },
  {
   "cell_type": "code",
   "execution_count": 24,
   "id": "043558c0",
   "metadata": {
    "execution": {
     "iopub.execute_input": "2023-04-16T20:30:30.957129Z",
     "iopub.status.busy": "2023-04-16T20:30:30.956822Z",
     "iopub.status.idle": "2023-04-16T20:30:30.978954Z",
     "shell.execute_reply": "2023-04-16T20:30:30.977766Z"
    },
    "papermill": {
     "duration": 0.041176,
     "end_time": "2023-04-16T20:30:30.981544",
     "exception": false,
     "start_time": "2023-04-16T20:30:30.940368",
     "status": "completed"
    },
    "tags": []
   },
   "outputs": [
    {
     "data": {
      "text/plain": [
       "<All keys matched successfully>"
      ]
     },
     "execution_count": 24,
     "metadata": {},
     "output_type": "execute_result"
    }
   ],
   "source": [
    "net = Net()\n",
    "net.to(device)\n",
    "net.load_state_dict(torch.load(PATH))"
   ]
  },
  {
   "cell_type": "markdown",
   "id": "a4f05c99",
   "metadata": {
    "papermill": {
     "duration": 0.014444,
     "end_time": "2023-04-16T20:30:31.011112",
     "exception": false,
     "start_time": "2023-04-16T20:30:30.996668",
     "status": "completed"
    },
    "tags": []
   },
   "source": [
    "# How well our model makes prediction with test data?\n",
    "Now, let us use our test dataset to determine the final accuracy of our trained model."
   ]
  },
  {
   "cell_type": "code",
   "execution_count": 25,
   "id": "e7e02439",
   "metadata": {
    "execution": {
     "iopub.execute_input": "2023-04-16T20:30:31.042076Z",
     "iopub.status.busy": "2023-04-16T20:30:31.041218Z",
     "iopub.status.idle": "2023-04-16T20:30:31.162479Z",
     "shell.execute_reply": "2023-04-16T20:30:31.161339Z"
    },
    "papermill": {
     "duration": 0.138964,
     "end_time": "2023-04-16T20:30:31.164749",
     "exception": false,
     "start_time": "2023-04-16T20:30:31.025785",
     "status": "completed"
    },
    "tags": []
   },
   "outputs": [
    {
     "name": "stdout",
     "output_type": "stream",
     "text": [
      "Accuracy of the network on test images: 99.1%\n"
     ]
    }
   ],
   "source": [
    "correct = 0   # Initialize count of correct predictions to 0\n",
    "total = 0     # Initialize count of total predictions to 0\n",
    "\n",
    "with torch.no_grad():   # Disable gradient computation for efficiency\n",
    "    for data in test_loader:   # Loop through the test dataset\n",
    "        images, labels = data   # Get images and labels from the test dataset\n",
    "        images = images.to(device)   # Move images to the specified device (e.g., GPU or CPU)\n",
    "        labels = labels.to(device)   # Move labels to the specified device\n",
    "        outputs = net(images.float())   # Forward pass to get predicted outputs from the model\n",
    "        _, predicted = torch.max(outputs.data, 1)   # Get predicted labels with maximum probability\n",
    "        label_size = labels.size(0)   # Get the number of labels in the current batch\n",
    "        total += label_size   # Update total count of predictions\n",
    "        correct += (predicted == labels).sum().item()   # Update count of correct predictions by summing up correct predictions in the current batch\n",
    "\n",
    "accuracy = 100 * correct / total   # Calculate accuracy by dividing correct predictions by total predictions and multiplying by 100 to get percentage\n",
    "\n",
    "print(f'Accuracy of the network on test images: {accuracy:.3}%')"
   ]
  },
  {
   "cell_type": "markdown",
   "id": "f3b91e06",
   "metadata": {
    "papermill": {
     "duration": 0.014689,
     "end_time": "2023-04-16T20:30:31.194157",
     "exception": false,
     "start_time": "2023-04-16T20:30:31.179468",
     "status": "completed"
    },
    "tags": []
   },
   "source": [
    "As we observe, our model achieves an accuracy of 99.1% on the test images."
   ]
  },
  {
   "cell_type": "markdown",
   "id": "bd493d4f",
   "metadata": {
    "papermill": {
     "duration": 0.014664,
     "end_time": "2023-04-16T20:30:31.235075",
     "exception": false,
     "start_time": "2023-04-16T20:30:31.220411",
     "status": "completed"
    },
    "tags": []
   },
   "source": [
    "# Classification Observations\n",
    "Let us also view some of the classifications our model performs on the test data."
   ]
  },
  {
   "cell_type": "code",
   "execution_count": 26,
   "id": "ae9862c1",
   "metadata": {
    "execution": {
     "iopub.execute_input": "2023-04-16T20:30:31.265809Z",
     "iopub.status.busy": "2023-04-16T20:30:31.265508Z",
     "iopub.status.idle": "2023-04-16T20:30:31.921026Z",
     "shell.execute_reply": "2023-04-16T20:30:31.920037Z"
    },
    "papermill": {
     "duration": 0.673945,
     "end_time": "2023-04-16T20:30:31.923633",
     "exception": false,
     "start_time": "2023-04-16T20:30:31.249688",
     "status": "completed"
    },
    "tags": []
   },
   "outputs": [
    {
     "name": "stdout",
     "output_type": "stream",
     "text": [
      "Actual Label: 0, Predicted Label: 0\n"
     ]
    },
    {
     "data": {
      "image/png": "[encoded data removed]",
      "text/plain": [
       "<Figure size 640x480 with 1 Axes>"
      ]
     },
     "metadata": {},
     "output_type": "display_data"
    },
    {
     "name": "stdout",
     "output_type": "stream",
     "text": [
      "Actual Label: 7, Predicted Label: 7\n"
     ]
    },
    {
     "data": {
      "image/png": "[encoded data removed]",
      "text/plain": [
       "<Figure size 640x480 with 1 Axes>"
      ]
     },
     "metadata": {},
     "output_type": "display_data"
    },
    {
     "name": "stdout",
     "output_type": "stream",
     "text": [
      "Actual Label: 4, Predicted Label: 4\n"
     ]
    },
    {
     "data": {
      "image/png": "[encoded data removed]",
      "text/plain": [
       "<Figure size 640x480 with 1 Axes>"
      ]
     },
     "metadata": {},
     "output_type": "display_data"
    },
    {
     "name": "stdout",
     "output_type": "stream",
     "text": [
      "Actual Label: 1, Predicted Label: 1\n"
     ]
    },
    {
     "data": {
      "image/png": "[encoded data removed]",
      "text/plain": [
       "<Figure size 640x480 with 1 Axes>"
      ]
     },
     "metadata": {},
     "output_type": "display_data"
    },
    {
     "name": "stdout",
     "output_type": "stream",
     "text": [
      "Actual Label: 1, Predicted Label: 1\n"
     ]
    },
    {
     "data": {
      "image/png": "[encoded data removed]",
      "text/plain": [
       "<Figure size 640x480 with 1 Axes>"
      ]
     },
     "metadata": {},
     "output_type": "display_data"
    }
   ],
   "source": [
    "net.eval()   # Set the model to evaluation mode, which disables dropout and batch normalization\n",
    "\n",
    "num_images = 5   # Number of images to visualize\n",
    "\n",
    "with torch.no_grad():   # Disable gradient computation for efficiency\n",
    "    for data in test_loader:   # Loop through the test dataset\n",
    "        images, labels = data   # Get images and labels from the test dataset\n",
    "        images = images.to(device)   # Move images to the specified device (e.g., GPU or CPU)\n",
    "        labels = labels.to(device)   # Move labels to the specified device\n",
    "\n",
    "        outputs = net(images.float())   # Forward pass to get predicted outputs from the model\n",
    "        predictions = torch.argmax(outputs, dim=1)   # Get predicted labels with maximum probability\n",
    "\n",
    "        for i in range(data[0].shape[0]):   # Loop through the images in the current batch\n",
    "            pred = predictions[i].item()   # Get the predicted label for the current image\n",
    "            label = labels[i]   # Get the actual label for the current image\n",
    "            if(num_images > 0):   # Check if the number of images to visualize is greater than 0\n",
    "                print(f'Actual Label: {pred}, Predicted Label: {label}')   # Print the actual and predicted label for the current image\n",
    "                img = np.reshape(images[i].cpu().numpy(),[1,28,28])   # Convert the image tensor to a NumPy array and reshape it to [1, 28, 28] size\n",
    "                visualize_image(img)   # Visualize the image using a custom function (e.g., visualize_image)\n",
    "                num_images -= 1   # Decrement the number of images to visualize by 1\n"
   ]
  },
  {
   "cell_type": "markdown",
   "id": "315c609d",
   "metadata": {
    "papermill": {
     "duration": 0.015235,
     "end_time": "2023-04-16T20:30:31.954826",
     "exception": false,
     "start_time": "2023-04-16T20:30:31.939591",
     "status": "completed"
    },
    "tags": []
   },
   "source": [
    "# Plotting training logs\n",
    "To further understand and analyse the training of our model, let us plot the training logs for loss and accuracy."
   ]
  },
  {
   "cell_type": "code",
   "execution_count": 27,
   "id": "00268abd",
   "metadata": {
    "execution": {
     "iopub.execute_input": "2023-04-16T20:30:31.987374Z",
     "iopub.status.busy": "2023-04-16T20:30:31.986506Z",
     "iopub.status.idle": "2023-04-16T20:30:32.232373Z",
     "shell.execute_reply": "2023-04-16T20:30:32.231441Z"
    },
    "papermill": {
     "duration": 0.264389,
     "end_time": "2023-04-16T20:30:32.234446",
     "exception": false,
     "start_time": "2023-04-16T20:30:31.970057",
     "status": "completed"
    },
    "tags": []
   },
   "outputs": [
    {
     "data": {
      "image/png": "[encoded data removed]",
      "text/plain": [
       "<Figure size 640x480 with 2 Axes>"
      ]
     },
     "metadata": {},
     "output_type": "display_data"
    }
   ],
   "source": [
    "fig, ax1 = plt.subplots()   # Create a figure with a single subplot and return the figure object and axes object\n",
    "\n",
    "plt.title(\"Accuracy & Loss vs Epoch\")   # Set the title of the plot\n",
    "\n",
    "ax2 = ax1.twinx()   # Create a twin y-axis on the right side of the plot\n",
    "\n",
    "ax1.plot(epoch_log, loss_log, 'g-')   # Plot the epoch vs loss with green color\n",
    "ax2.plot(epoch_log, accuracy_log, 'b-')   # Plot the epoch vs test accuracy with blue color on the twin y-axis\n",
    "\n",
    "ax1.set_xlabel('Epochs')   # Set the x-axis label to 'Epochs'\n",
    "ax1.set_ylabel('Loss', color='g')   # Set the left y-axis label to 'Loss' with green color\n",
    "ax2.set_ylabel('Test Accuracy', color='b')   # Set the right y-axis label to 'Test Accuracy' with blue color\n",
    "\n",
    "plt.show()   # Display the plot\n"
   ]
  },
  {
   "cell_type": "markdown",
   "id": "95b6c9ad",
   "metadata": {
    "papermill": {
     "duration": 0.015685,
     "end_time": "2023-04-16T20:30:32.266311",
     "exception": false,
     "start_time": "2023-04-16T20:30:32.250626",
     "status": "completed"
    },
    "tags": []
   },
   "source": [
    "Observations: As the Number of Epochs increases i.e number of times you run the dataset through model, test accuracy increases and loss decreases"
   ]
  },
  {
   "cell_type": "markdown",
   "id": "8e96a128",
   "metadata": {
    "papermill": {
     "duration": 0.015571,
     "end_time": "2023-04-16T20:30:32.297922",
     "exception": false,
     "start_time": "2023-04-16T20:30:32.282351",
     "status": "completed"
    },
    "tags": []
   },
   "source": [
    "# Plotting Confusion Matrix\n",
    "Lastly, let us plot the confusion matrix to evaluate the classwise performance of our model and understand where it can do better."
   ]
  },
  {
   "cell_type": "code",
   "execution_count": 28,
   "id": "ddd297af",
   "metadata": {
    "execution": {
     "iopub.execute_input": "2023-04-16T20:30:32.331465Z",
     "iopub.status.busy": "2023-04-16T20:30:32.330603Z",
     "iopub.status.idle": "2023-04-16T20:30:32.495597Z",
     "shell.execute_reply": "2023-04-16T20:30:32.494596Z"
    },
    "papermill": {
     "duration": 0.184239,
     "end_time": "2023-04-16T20:30:32.497986",
     "exception": false,
     "start_time": "2023-04-16T20:30:32.313747",
     "status": "completed"
    },
    "tags": []
   },
   "outputs": [],
   "source": [
    "from sklearn.metrics import confusion_matrix\n",
    "from sklearn.metrics import classification_report\n",
    "import seaborn as sns"
   ]
  },
  {
   "cell_type": "code",
   "execution_count": 29,
   "id": "95134f2d",
   "metadata": {
    "execution": {
     "iopub.execute_input": "2023-04-16T20:30:32.532936Z",
     "iopub.status.busy": "2023-04-16T20:30:32.532065Z",
     "iopub.status.idle": "2023-04-16T20:30:32.655695Z",
     "shell.execute_reply": "2023-04-16T20:30:32.654696Z"
    },
    "papermill": {
     "duration": 0.143857,
     "end_time": "2023-04-16T20:30:32.658648",
     "exception": false,
     "start_time": "2023-04-16T20:30:32.514791",
     "status": "completed"
    },
    "tags": []
   },
   "outputs": [],
   "source": [
    "pred_list = torch.zeros(0, dtype=torch.long, device='cpu')   # Create an empty tensor to store predicted labels with dtype long and device CPU\n",
    "label_list = torch.zeros(0, dtype=torch.long, device='cpu')   # Create an empty tensor to store actual labels with dtype long and device CPU\n",
    "\n",
    "with torch.no_grad():   # Turn off gradient computation during inference\n",
    "    for i, (inputs, classes) in enumerate(test_loader):   # Iterate over the test data loader\n",
    "        inputs = inputs.to(device)   # Move inputs to the specified device (e.g., CPU or GPU)\n",
    "        classes = classes.to(device)   # Move actual labels to the specified device\n",
    "        outputs = net(inputs.float())   # Pass inputs through the network to get predicted outputs\n",
    "        _, preds = torch.max(outputs, 1)   # Get the predicted labels by finding the indices of maximum values along the second dimension (class probabilities)\n",
    "\n",
    "        pred_list = torch.cat([pred_list, preds.view(-1).cpu()])   # Concatenate predicted labels to the pred_list tensor, reshaping to 1D and moving to CPU\n",
    "        label_list = torch.cat([label_list, classes.view(-1).cpu()])   # Concatenate actual labels to the label_list tensor, reshaping to 1D and moving to CPU\n"
   ]
  },
  {
   "cell_type": "markdown",
   "id": "3df33a0c",
   "metadata": {
    "papermill": {
     "duration": 0.015663,
     "end_time": "2023-04-16T20:30:32.691267",
     "exception": false,
     "start_time": "2023-04-16T20:30:32.675604",
     "status": "completed"
    },
    "tags": []
   },
   "source": [
    "\n",
    "\n",
    "Further, let us visualise this confusion matrix."
   ]
  },
  {
   "cell_type": "code",
   "execution_count": 30,
   "id": "81659591",
   "metadata": {
    "execution": {
     "iopub.execute_input": "2023-04-16T20:30:32.724235Z",
     "iopub.status.busy": "2023-04-16T20:30:32.723925Z",
     "iopub.status.idle": "2023-04-16T20:30:32.733951Z",
     "shell.execute_reply": "2023-04-16T20:30:32.732942Z"
    },
    "papermill": {
     "duration": 0.029078,
     "end_time": "2023-04-16T20:30:32.736050",
     "exception": false,
     "start_time": "2023-04-16T20:30:32.706972",
     "status": "completed"
    },
    "tags": []
   },
   "outputs": [],
   "source": [
    "conf_mat = confusion_matrix(label_list.numpy(), pred_list.numpy())   # Compute the confusion matrix using predicted and actual labels converted to NumPy arrays\n",
    "class_names = (0, 1, 2, 3, 4, 5, 6, 7, 8, 9)   # Define the class names as a tuple of integers from 0 to 9\n",
    "dataframe = pd.DataFrame(conf_mat, index=class_names, columns=class_names)   # Create a DataFrame from the confusion matrix, with class names as row and column indices\n"
   ]
  },
  {
   "cell_type": "code",
   "execution_count": 31,
   "id": "bc56cbb6",
   "metadata": {
    "execution": {
     "iopub.execute_input": "2023-04-16T20:30:32.768697Z",
     "iopub.status.busy": "2023-04-16T20:30:32.768424Z",
     "iopub.status.idle": "2023-04-16T20:30:33.343217Z",
     "shell.execute_reply": "2023-04-16T20:30:33.342267Z"
    },
    "papermill": {
     "duration": 0.593767,
     "end_time": "2023-04-16T20:30:33.345503",
     "exception": false,
     "start_time": "2023-04-16T20:30:32.751736",
     "status": "completed"
    },
    "tags": []
   },
   "outputs": [
    {
     "data": {
      "image/png": "[encoded data removed]",
      "text/plain": [
       "<Figure size 800x600 with 1 Axes>"
      ]
     },
     "metadata": {},
     "output_type": "display_data"
    }
   ],
   "source": [
    "#plotting confusion matrix\n",
    "plt.figure(figsize=(8, 6))\n",
    "sns.heatmap(dataframe, annot=True, cbar=None,cmap=\"YlGnBu\",fmt=\"d\")\n",
    " \n",
    "plt.title(\"Confusion Matrix\"), plt.tight_layout()\n",
    " \n",
    "plt.ylabel(\"True Class\"), \n",
    "plt.xlabel(\"Predicted Class\")\n",
    "plt.show()"
   ]
  },
  {
   "cell_type": "markdown",
   "id": "17ca93ba",
   "metadata": {
    "papermill": {
     "duration": 0.016371,
     "end_time": "2023-04-16T20:30:33.379123",
     "exception": false,
     "start_time": "2023-04-16T20:30:33.362752",
     "status": "completed"
    },
    "tags": []
   },
   "source": [
    "## Observations:\n",
    "\n",
    "He we infer that , 558 times the label was 0 and our model predicted it as 0.Similarly 567 times label was 1 and and model predicted 1. Highest value is 4 , which means four times the label was 8 (True class) and our model predicted it 3, which is considered as error. "
   ]
  },
  {
   "cell_type": "markdown",
   "id": "869c6375",
   "metadata": {
    "papermill": {
     "duration": 0.017111,
     "end_time": "2023-04-16T20:30:33.415944",
     "exception": false,
     "start_time": "2023-04-16T20:30:33.398833",
     "status": "completed"
    },
    "tags": []
   },
   "source": [
    "# Conclusion\n",
    "\n",
    "- The accuracy on test test is 99.1% which is really good for CNN\n",
    "- CNNs, or Convolutional Neural Networks, are specialized neural networks for processing data with a known grid-like topology, such as images or time-series data.\n",
    "- CNNs consist of convolutional layers, pooling layers, and fully connected layers, and are commonly used in computer vision and other areas of deep learning.\n",
    "- Convolutional layers perform convolution on the input data to extract local patterns or features.\n",
    "- Pooling layers downsample the spatial dimensions of the data while preserving important features.\n",
    "- Activation functions, such as ReLU, sigmoid, and tanh, introduce non-linearity into the network.\n",
    "- We have successfully created a  CNN model using Pytorch."
   ]
  },
  {
   "cell_type": "markdown",
   "id": "78f6e596",
   "metadata": {
    "papermill": {
     "duration": 0.017778,
     "end_time": "2023-04-16T20:30:33.450060",
     "exception": false,
     "start_time": "2023-04-16T20:30:33.432282",
     "status": "completed"
    },
    "tags": []
   },
   "source": [
    "# References\n",
    "- https://towardsdatascience.com/convolutional-neural-networks-explained-9cc5188c4939\n",
    "- https://www.youtube.com/watch?v=iqQgED9vV7k\n",
    "- https://stanford.edu/~shervine/blog/pytorch-how-to-generate-data-parallel"
   ]
  }
 ],
 "metadata": {
  "kernelspec": {
   "display_name": "Python 3",
   "language": "python",
   "name": "python3"
  },
  "language_info": {
   "codemirror_mode": {
    "name": "ipython",
    "version": 3
   },
   "file_extension": ".py",
   "mimetype": "text/x-python",
   "name": "python",
   "nbconvert_exporter": "python",
   "pygments_lexer": "ipython3",
   "version": "3.7.12"
  },
  "papermill": {
   "default_parameters": {},
   "duration": 50.831637,
   "end_time": "2023-04-16T20:30:35.671112",
   "environment_variables": {},
   "exception": null,
   "input_path": "__notebook__.ipynb",
   "output_path": "__notebook__.ipynb",
   "parameters": {},
   "start_time": "2023-04-16T20:29:44.839475",
   "version": "2.4.0"
  }
 },
 "nbformat": 4,
 "nbformat_minor": 5
}
