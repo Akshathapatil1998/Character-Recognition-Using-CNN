{
 "cells": [
  {
   "cell_type": "markdown",
   "id": "195ebc8b",
   "metadata": {
    "papermill": {
     "duration": 0.014565,
     "end_time": "2023-04-16T19:23:54.428402",
     "exception": false,
     "start_time": "2023-04-16T19:23:54.413837",
     "status": "completed"
    },
    "tags": []
   },
   "source": []
  },
  {
   "cell_type": "markdown",
   "id": "8576802d",
   "metadata": {
    "papermill": {
     "duration": 0.012842,
     "end_time": "2023-04-16T19:23:54.455003",
     "exception": false,
     "start_time": "2023-04-16T19:23:54.442161",
     "status": "completed"
    },
    "tags": []
   },
   "source": [
    "# What is Handwritten Digit Recognition?\n",
    "Handwritten digit recognition is the ability of computers to recognize human handwritten digits. It is a hard task for the machine because handwritten digits are not perfect and can vary from person to person. Handwritten digit recognition is the solution to this problem which uses the image of a digit and recognizes the digit present in the image."
   ]
  },
  {
   "cell_type": "markdown",
   "id": "597e128d",
   "metadata": {
    "papermill": {
     "duration": 0.012408,
     "end_time": "2023-04-16T19:23:54.480386",
     "exception": false,
     "start_time": "2023-04-16T19:23:54.467978",
     "status": "completed"
    },
    "tags": []
   },
   "source": [
    "# About the Dataset\n",
    "\n",
    "This dataset is inspired by the MNIST database for handwritten digits. It consists of images representing digits from 0-9 produced using 2,990 google fonts files.\n",
    "\n",
    "The dataset consists of a single file:\n",
    "\n",
    "TMNIST_Data.csv\n",
    "\n",
    "This file consists of 29,900 examples with labels and font names. Each row contains 786 elements: the first element represents the font name (ex-Chivo-Italic, Sen-Bold), the second element represents the label (a number from 0-9) and the remaining 784 elements represent the grayscale pixel values (from 0-255) for the 28x28 pixel image.\n",
    "\n"
   ]
  },
  {
   "cell_type": "markdown",
   "id": "8b1e49d8",
   "metadata": {
    "papermill": {
     "duration": 0.013258,
     "end_time": "2023-04-16T19:23:54.506230",
     "exception": false,
     "start_time": "2023-04-16T19:23:54.492972",
     "status": "completed"
    },
    "tags": []
   },
   "source": [
    "# What is Convolutional Neural Network\n",
    "\n",
    "A Convolutional Neural Network (ConvNet/CNN) is a Deep Learning algorithm that can take in an input image, assign importance (learnable weights and biases) to various aspects/objects in the image, and be able to differentiate one from the other. The pre-processing required in a ConvNet is much lower as compared to other classification algorithms. While in primitive methods filters are hand-engineered, with enough training, ConvNets have the ability to learn these filters/characteristics.\n",
    "\n",
    "A ConvNet's architecture is influenced by how the Visual Cortex is organised and is similar to the connectivity network of neurons in the human brain. While there are many complex CNN architectures like Resnet, Inception V3 and so on designed to achieve state-of-the-art performance on real world images, in this tutorial, we will create a custom Convolutional Neural Network Architecture using Pytorch.\n",
    "\n",
    "We will be training and testing our model on the Typeface MNIST Dataset, which consists of over 29,000 samples of images of 0-9 digits in various fonts along with their labels."
   ]
  },
  {
   "cell_type": "markdown",
   "id": "25e11793",
   "metadata": {
    "papermill": {
     "duration": 0.012299,
     "end_time": "2023-04-16T19:23:54.531174",
     "exception": false,
     "start_time": "2023-04-16T19:23:54.518875",
     "status": "completed"
    },
    "tags": []
   },
   "source": [
    "#                          Architecture of Neural Network\n",
    "\n",
    "<img src= \"https://upload.wikimedia.org/wikipedia/commons/b/b6/Artificial_neural_network.png\" alt =\"Titanic\" style='width: 700px;'>\n",
    "\n"
   ]
  },
  {
   "cell_type": "markdown",
   "id": "c9ad398d",
   "metadata": {
    "papermill": {
     "duration": 0.012307,
     "end_time": "2023-04-16T19:23:54.556123",
     "exception": false,
     "start_time": "2023-04-16T19:23:54.543816",
     "status": "completed"
    },
    "tags": []
   },
   "source": []
  },
  {
   "cell_type": "markdown",
   "id": "fe8afceb",
   "metadata": {
    "papermill": {
     "duration": 0.012312,
     "end_time": "2023-04-16T19:23:54.580986",
     "exception": false,
     "start_time": "2023-04-16T19:23:54.568674",
     "status": "completed"
    },
    "tags": []
   },
   "source": [
    "This notebook is further divided into the following sections.\n",
    "\n",
    "- Importing required Libraries\n",
    "- Loading the dataset\n",
    "- Creating a CNN Model\n",
    "- Training our model\n",
    "- Evaluating our model"
   ]
  },
  {
   "cell_type": "markdown",
   "id": "5c4767de",
   "metadata": {
    "papermill": {
     "duration": 0.012273,
     "end_time": "2023-04-16T19:23:54.605958",
     "exception": false,
     "start_time": "2023-04-16T19:23:54.593685",
     "status": "completed"
    },
    "tags": []
   },
   "source": [
    "# Importing All necessary librarirs"
   ]
  },
  {
   "cell_type": "markdown",
   "id": "858f4512",
   "metadata": {
    "papermill": {
     "duration": 0.012196,
     "end_time": "2023-04-16T19:23:54.630736",
     "exception": false,
     "start_time": "2023-04-16T19:23:54.618540",
     "status": "completed"
    },
    "tags": []
   },
   "source": []
  },
  {
   "cell_type": "code",
   "execution_count": 1,
   "id": "58cb02a8",
   "metadata": {
    "execution": {
     "iopub.execute_input": "2023-04-16T19:23:54.658229Z",
     "iopub.status.busy": "2023-04-16T19:23:54.657802Z",
     "iopub.status.idle": "2023-04-16T19:23:57.062060Z",
     "shell.execute_reply": "2023-04-16T19:23:57.060729Z"
    },
    "papermill": {
     "duration": 2.421607,
     "end_time": "2023-04-16T19:23:57.065068",
     "exception": false,
     "start_time": "2023-04-16T19:23:54.643461",
     "status": "completed"
    },
    "tags": []
   },
   "outputs": [],
   "source": [
    "\n",
    "#import pytorch\n",
    "import torch\n",
    "\n",
    "# torch functionalities used for building our CNN Model\n",
    "import torch.optim as optim\n",
    "import torch.nn as nn\n",
    "import torch.nn.functional as F\n",
    "\n",
    "import torch.utils.data as data_utils"
   ]
  },
  {
   "cell_type": "code",
   "execution_count": 2,
   "id": "198cbe52",
   "metadata": {
    "execution": {
     "iopub.execute_input": "2023-04-16T19:23:57.093287Z",
     "iopub.status.busy": "2023-04-16T19:23:57.092661Z",
     "iopub.status.idle": "2023-04-16T19:23:58.187850Z",
     "shell.execute_reply": "2023-04-16T19:23:58.186457Z"
    },
    "papermill": {
     "duration": 1.112768,
     "end_time": "2023-04-16T19:23:58.190663",
     "exception": false,
     "start_time": "2023-04-16T19:23:57.077895",
     "status": "completed"
    },
    "tags": []
   },
   "outputs": [],
   "source": [
    "import pandas as pd\n",
    "import numpy as np\n",
    "\n",
    "import matplotlib.pyplot as plt\n",
    "\n",
    "from sklearn.model_selection import train_test_split"
   ]
  },
  {
   "cell_type": "markdown",
   "id": "5f166239",
   "metadata": {
    "papermill": {
     "duration": 0.012692,
     "end_time": "2023-04-16T19:23:58.216299",
     "exception": false,
     "start_time": "2023-04-16T19:23:58.203607",
     "status": "completed"
    },
    "tags": []
   },
   "source": [
    "# How to train your neural net faster?\n",
    "We saw that the computationally intensive part of neural network is made up of multiple matrix multiplications. So how can we make it faster?"
   ]
  },
  {
   "cell_type": "markdown",
   "id": "e7706feb",
   "metadata": {
    "papermill": {
     "duration": 0.012508,
     "end_time": "2023-04-16T19:23:58.241542",
     "exception": false,
     "start_time": "2023-04-16T19:23:58.229034",
     "status": "completed"
    },
    "tags": []
   },
   "source": [
    "Since we will be building a CNN model, a GPU is required to speed up the training process. Before starting with the implementation, we verify the presence of an active GPU and set the device accordingly."
   ]
  },
  {
   "cell_type": "code",
   "execution_count": 3,
   "id": "17651c6f",
   "metadata": {
    "execution": {
     "iopub.execute_input": "2023-04-16T19:23:58.269105Z",
     "iopub.status.busy": "2023-04-16T19:23:58.268654Z",
     "iopub.status.idle": "2023-04-16T19:23:58.273865Z",
     "shell.execute_reply": "2023-04-16T19:23:58.272735Z"
    },
    "papermill": {
     "duration": 0.021769,
     "end_time": "2023-04-16T19:23:58.276168",
     "exception": false,
     "start_time": "2023-04-16T19:23:58.254399",
     "status": "completed"
    },
    "tags": []
   },
   "outputs": [],
   "source": [
    "if torch.cuda.is_available():\n",
    "    device = 'cuda'\n",
    "else:\n",
    "    device = 'cpu'"
   ]
  },
  {
   "cell_type": "code",
   "execution_count": 4,
   "id": "cda000bc",
   "metadata": {
    "execution": {
     "iopub.execute_input": "2023-04-16T19:23:58.303900Z",
     "iopub.status.busy": "2023-04-16T19:23:58.303466Z",
     "iopub.status.idle": "2023-04-16T19:24:00.971296Z",
     "shell.execute_reply": "2023-04-16T19:24:00.970150Z"
    },
    "papermill": {
     "duration": 2.684832,
     "end_time": "2023-04-16T19:24:00.973985",
     "exception": false,
     "start_time": "2023-04-16T19:23:58.289153",
     "status": "completed"
    },
    "tags": []
   },
   "outputs": [],
   "source": [
    "\n",
    "#Reading data into pandas dataframe.\n",
    "#data_path = \"/kaggle/input/94-character-tmnist/94_character_TMNIST.csv\"\n",
    "data_path = \"/kaggle/input/tmnist-typeface-mnist/TMNIST_Data.csv\"\n",
    "data = pd.read_csv(data_path)\n"
   ]
  },
  {
   "cell_type": "markdown",
   "id": "1827498f",
   "metadata": {
    "papermill": {
     "duration": 0.012516,
     "end_time": "2023-04-16T19:24:00.999638",
     "exception": false,
     "start_time": "2023-04-16T19:24:00.987122",
     "status": "completed"
    },
    "tags": []
   },
   "source": [
    "# Performing EDA"
   ]
  },
  {
   "cell_type": "code",
   "execution_count": 5,
   "id": "909b4ecf",
   "metadata": {
    "execution": {
     "iopub.execute_input": "2023-04-16T19:24:01.028269Z",
     "iopub.status.busy": "2023-04-16T19:24:01.027842Z",
     "iopub.status.idle": "2023-04-16T19:24:01.064477Z",
     "shell.execute_reply": "2023-04-16T19:24:01.063119Z"
    },
    "papermill": {
     "duration": 0.053698,
     "end_time": "2023-04-16T19:24:01.066952",
     "exception": false,
     "start_time": "2023-04-16T19:24:01.013254",
     "status": "completed"
    },
    "tags": []
   },
   "outputs": [
    {
     "data": {
      "text/html": [
       "<div>\n",
       "<style scoped>\n",
       "    .dataframe tbody tr th:only-of-type {\n",
       "        vertical-align: middle;\n",
       "    }\n",
       "\n",
       "    .dataframe tbody tr th {\n",
       "        vertical-align: top;\n",
       "    }\n",
       "\n",
       "    .dataframe thead th {\n",
       "        text-align: right;\n",
       "    }\n",
       "</style>\n",
       "<table border=\"1\" class=\"dataframe\">\n",
       "  <thead>\n",
       "    <tr style=\"text-align: right;\">\n",
       "      <th></th>\n",
       "      <th>names</th>\n",
       "      <th>labels</th>\n",
       "      <th>1</th>\n",
       "      <th>2</th>\n",
       "      <th>3</th>\n",
       "      <th>4</th>\n",
       "      <th>5</th>\n",
       "      <th>6</th>\n",
       "      <th>7</th>\n",
       "      <th>8</th>\n",
       "      <th>...</th>\n",
       "      <th>775</th>\n",
       "      <th>776</th>\n",
       "      <th>777</th>\n",
       "      <th>778</th>\n",
       "      <th>779</th>\n",
       "      <th>780</th>\n",
       "      <th>781</th>\n",
       "      <th>782</th>\n",
       "      <th>783</th>\n",
       "      <th>784</th>\n",
       "    </tr>\n",
       "  </thead>\n",
       "  <tbody>\n",
       "    <tr>\n",
       "      <th>0</th>\n",
       "      <td>GrandHotel-Regular</td>\n",
       "      <td>2</td>\n",
       "      <td>0</td>\n",
       "      <td>0</td>\n",
       "      <td>0</td>\n",
       "      <td>0</td>\n",
       "      <td>0</td>\n",
       "      <td>0</td>\n",
       "      <td>0</td>\n",
       "      <td>0</td>\n",
       "      <td>...</td>\n",
       "      <td>0</td>\n",
       "      <td>0</td>\n",
       "      <td>0</td>\n",
       "      <td>0</td>\n",
       "      <td>0</td>\n",
       "      <td>0</td>\n",
       "      <td>0</td>\n",
       "      <td>0</td>\n",
       "      <td>0</td>\n",
       "      <td>0</td>\n",
       "    </tr>\n",
       "    <tr>\n",
       "      <th>1</th>\n",
       "      <td>EncodeSansCondensed-Medium</td>\n",
       "      <td>8</td>\n",
       "      <td>0</td>\n",
       "      <td>0</td>\n",
       "      <td>0</td>\n",
       "      <td>0</td>\n",
       "      <td>0</td>\n",
       "      <td>0</td>\n",
       "      <td>0</td>\n",
       "      <td>0</td>\n",
       "      <td>...</td>\n",
       "      <td>0</td>\n",
       "      <td>0</td>\n",
       "      <td>0</td>\n",
       "      <td>0</td>\n",
       "      <td>0</td>\n",
       "      <td>0</td>\n",
       "      <td>0</td>\n",
       "      <td>0</td>\n",
       "      <td>0</td>\n",
       "      <td>0</td>\n",
       "    </tr>\n",
       "    <tr>\n",
       "      <th>2</th>\n",
       "      <td>Varela-Regular</td>\n",
       "      <td>4</td>\n",
       "      <td>0</td>\n",
       "      <td>0</td>\n",
       "      <td>0</td>\n",
       "      <td>0</td>\n",
       "      <td>0</td>\n",
       "      <td>0</td>\n",
       "      <td>0</td>\n",
       "      <td>0</td>\n",
       "      <td>...</td>\n",
       "      <td>0</td>\n",
       "      <td>0</td>\n",
       "      <td>0</td>\n",
       "      <td>0</td>\n",
       "      <td>0</td>\n",
       "      <td>0</td>\n",
       "      <td>0</td>\n",
       "      <td>0</td>\n",
       "      <td>0</td>\n",
       "      <td>0</td>\n",
       "    </tr>\n",
       "    <tr>\n",
       "      <th>3</th>\n",
       "      <td>ArefRuqaa-Bold</td>\n",
       "      <td>3</td>\n",
       "      <td>0</td>\n",
       "      <td>0</td>\n",
       "      <td>0</td>\n",
       "      <td>0</td>\n",
       "      <td>0</td>\n",
       "      <td>0</td>\n",
       "      <td>0</td>\n",
       "      <td>0</td>\n",
       "      <td>...</td>\n",
       "      <td>0</td>\n",
       "      <td>0</td>\n",
       "      <td>0</td>\n",
       "      <td>0</td>\n",
       "      <td>0</td>\n",
       "      <td>0</td>\n",
       "      <td>0</td>\n",
       "      <td>0</td>\n",
       "      <td>0</td>\n",
       "      <td>0</td>\n",
       "    </tr>\n",
       "    <tr>\n",
       "      <th>4</th>\n",
       "      <td>KulimPark-Regular</td>\n",
       "      <td>1</td>\n",
       "      <td>0</td>\n",
       "      <td>0</td>\n",
       "      <td>0</td>\n",
       "      <td>0</td>\n",
       "      <td>0</td>\n",
       "      <td>0</td>\n",
       "      <td>0</td>\n",
       "      <td>0</td>\n",
       "      <td>...</td>\n",
       "      <td>0</td>\n",
       "      <td>0</td>\n",
       "      <td>0</td>\n",
       "      <td>0</td>\n",
       "      <td>0</td>\n",
       "      <td>0</td>\n",
       "      <td>0</td>\n",
       "      <td>0</td>\n",
       "      <td>0</td>\n",
       "      <td>0</td>\n",
       "    </tr>\n",
       "  </tbody>\n",
       "</table>\n",
       "<p>5 rows × 786 columns</p>\n",
       "</div>"
      ],
      "text/plain": [
       "                        names  labels  1  2  3  4  5  6  7  8  ...  775  776  \\\n",
       "0          GrandHotel-Regular       2  0  0  0  0  0  0  0  0  ...    0    0   \n",
       "1  EncodeSansCondensed-Medium       8  0  0  0  0  0  0  0  0  ...    0    0   \n",
       "2              Varela-Regular       4  0  0  0  0  0  0  0  0  ...    0    0   \n",
       "3              ArefRuqaa-Bold       3  0  0  0  0  0  0  0  0  ...    0    0   \n",
       "4           KulimPark-Regular       1  0  0  0  0  0  0  0  0  ...    0    0   \n",
       "\n",
       "   777  778  779  780  781  782  783  784  \n",
       "0    0    0    0    0    0    0    0    0  \n",
       "1    0    0    0    0    0    0    0    0  \n",
       "2    0    0    0    0    0    0    0    0  \n",
       "3    0    0    0    0    0    0    0    0  \n",
       "4    0    0    0    0    0    0    0    0  \n",
       "\n",
       "[5 rows x 786 columns]"
      ]
     },
     "execution_count": 5,
     "metadata": {},
     "output_type": "execute_result"
    }
   ],
   "source": [
    "#A view of dataset.\n",
    "data.head()"
   ]
  },
  {
   "cell_type": "code",
   "execution_count": 6,
   "id": "12d59644",
   "metadata": {
    "execution": {
     "iopub.execute_input": "2023-04-16T19:24:01.095474Z",
     "iopub.status.busy": "2023-04-16T19:24:01.095054Z",
     "iopub.status.idle": "2023-04-16T19:24:01.101393Z",
     "shell.execute_reply": "2023-04-16T19:24:01.100203Z"
    },
    "papermill": {
     "duration": 0.024279,
     "end_time": "2023-04-16T19:24:01.104500",
     "exception": false,
     "start_time": "2023-04-16T19:24:01.080221",
     "status": "completed"
    },
    "tags": []
   },
   "outputs": [
    {
     "name": "stdout",
     "output_type": "stream",
     "text": [
      "The Shape of the Dataframe is: (29900, 786)\n",
      "Number of Samples: 29900\n"
     ]
    }
   ],
   "source": [
    "#Determining Shape and Number of Sample in the Dataset\n",
    "print(f\"The Shape of the Dataframe is: {data.shape}\") #Number of Samples, Number of Pixels(Features)\n",
    "print(f\"Number of Samples: {data.shape[0]}\")"
   ]
  },
  {
   "cell_type": "code",
   "execution_count": 7,
   "id": "44e80d04",
   "metadata": {
    "execution": {
     "iopub.execute_input": "2023-04-16T19:24:01.132670Z",
     "iopub.status.busy": "2023-04-16T19:24:01.132278Z",
     "iopub.status.idle": "2023-04-16T19:24:01.144986Z",
     "shell.execute_reply": "2023-04-16T19:24:01.143601Z"
    },
    "papermill": {
     "duration": 0.029794,
     "end_time": "2023-04-16T19:24:01.147540",
     "exception": false,
     "start_time": "2023-04-16T19:24:01.117746",
     "status": "completed"
    },
    "tags": []
   },
   "outputs": [
    {
     "name": "stdout",
     "output_type": "stream",
     "text": [
      "Number of unique character present in the Dataset: 10\n"
     ]
    }
   ],
   "source": [
    "# Number of unique character in the Dataframe\n",
    "print(f\"Number of unique character present in the Dataset: {len(data.labels.unique())}\") #Number of Classes\n"
   ]
  },
  {
   "cell_type": "code",
   "execution_count": 8,
   "id": "32cb2143",
   "metadata": {
    "execution": {
     "iopub.execute_input": "2023-04-16T19:24:01.175625Z",
     "iopub.status.busy": "2023-04-16T19:24:01.175232Z",
     "iopub.status.idle": "2023-04-16T19:24:01.185360Z",
     "shell.execute_reply": "2023-04-16T19:24:01.184281Z"
    },
    "papermill": {
     "duration": 0.027131,
     "end_time": "2023-04-16T19:24:01.187656",
     "exception": false,
     "start_time": "2023-04-16T19:24:01.160525",
     "status": "completed"
    },
    "tags": []
   },
   "outputs": [
    {
     "data": {
      "text/plain": [
       "2    2990\n",
       "8    2990\n",
       "4    2990\n",
       "3    2990\n",
       "1    2990\n",
       "6    2990\n",
       "5    2990\n",
       "9    2990\n",
       "7    2990\n",
       "0    2990\n",
       "Name: labels, dtype: int64"
      ]
     },
     "execution_count": 8,
     "metadata": {},
     "output_type": "execute_result"
    }
   ],
   "source": [
    "# Label distribution\n",
    "data.labels.value_counts()"
   ]
  },
  {
   "cell_type": "markdown",
   "id": "3e25fd50",
   "metadata": {
    "papermill": {
     "duration": 0.013057,
     "end_time": "2023-04-16T19:24:01.213980",
     "exception": false,
     "start_time": "2023-04-16T19:24:01.200923",
     "status": "completed"
    },
    "tags": []
   },
   "source": [
    "We observe that the labels are equally distributed with 2990 instances of each class. Hence, our dataset is balanced.\n",
    "\n",
    "Now, let us reshape and modify our data so that it can be used as an input for our model. We normalise the data and reshape it into a 4 dimensional array such that it represents images stacked on to each other. We also reshape our labels into a 1 dimensional array."
   ]
  },
  {
   "cell_type": "code",
   "execution_count": 9,
   "id": "3396f6d5",
   "metadata": {
    "execution": {
     "iopub.execute_input": "2023-04-16T19:24:01.243757Z",
     "iopub.status.busy": "2023-04-16T19:24:01.243341Z",
     "iopub.status.idle": "2023-04-16T19:24:01.381854Z",
     "shell.execute_reply": "2023-04-16T19:24:01.380864Z"
    },
    "papermill": {
     "duration": 0.156909,
     "end_time": "2023-04-16T19:24:01.384590",
     "exception": false,
     "start_time": "2023-04-16T19:24:01.227681",
     "status": "completed"
    },
    "tags": []
   },
   "outputs": [],
   "source": [
    "#Dropping redundant coloums like names and labels from the training frames and keeping only pixel values\n",
    "X = data.drop(columns = {'names', 'labels'})/255\n",
    "X = X.values.reshape(X.shape[0], 1, 28, 28)\n",
    "y = data[['labels']].values.reshape((-1,))"
   ]
  },
  {
   "cell_type": "markdown",
   "id": "999ef542",
   "metadata": {
    "papermill": {
     "duration": 0.01304,
     "end_time": "2023-04-16T19:24:01.410916",
     "exception": false,
     "start_time": "2023-04-16T19:24:01.397876",
     "status": "completed"
    },
    "tags": []
   },
   "source": [
    "Before proceeding, we split our data into training and testing sets using an 80:20 proportion."
   ]
  },
  {
   "cell_type": "code",
   "execution_count": 10,
   "id": "e28dc6fa",
   "metadata": {
    "execution": {
     "iopub.execute_input": "2023-04-16T19:24:01.439947Z",
     "iopub.status.busy": "2023-04-16T19:24:01.439216Z",
     "iopub.status.idle": "2023-04-16T19:24:01.724774Z",
     "shell.execute_reply": "2023-04-16T19:24:01.723532Z"
    },
    "papermill": {
     "duration": 0.303659,
     "end_time": "2023-04-16T19:24:01.727863",
     "exception": false,
     "start_time": "2023-04-16T19:24:01.424204",
     "status": "completed"
    },
    "tags": []
   },
   "outputs": [],
   "source": [
    "#split data into training and testing sets using the train_test_split\n",
    "X_train, X_test, y_train, y_test = train_test_split(X, y, test_size = 0.2, random_state = 42)"
   ]
  },
  {
   "cell_type": "markdown",
   "id": "3747e67a",
   "metadata": {
    "papermill": {
     "duration": 0.013182,
     "end_time": "2023-04-16T19:24:01.754737",
     "exception": false,
     "start_time": "2023-04-16T19:24:01.741555",
     "status": "completed"
    },
    "tags": []
   },
   "source": [
    "We now convert them to numpy arrays so that they can be further worked with."
   ]
  },
  {
   "cell_type": "code",
   "execution_count": 11,
   "id": "272ff03a",
   "metadata": {
    "execution": {
     "iopub.execute_input": "2023-04-16T19:24:01.783648Z",
     "iopub.status.busy": "2023-04-16T19:24:01.783193Z",
     "iopub.status.idle": "2023-04-16T19:24:01.799001Z",
     "shell.execute_reply": "2023-04-16T19:24:01.797626Z"
    },
    "papermill": {
     "duration": 0.033374,
     "end_time": "2023-04-16T19:24:01.801658",
     "exception": false,
     "start_time": "2023-04-16T19:24:01.768284",
     "status": "completed"
    },
    "tags": []
   },
   "outputs": [],
   "source": [
    "# Convert X_train, X_test, y_train, and y_test to PyTorch tensors\n",
    "X_train = torch.from_numpy(X_train)\n",
    "X_test = torch.from_numpy(X_test)\n",
    "y_train = torch.from_numpy(y_train)\n",
    "y_test = torch.from_numpy(y_test)"
   ]
  },
  {
   "cell_type": "markdown",
   "id": "a8615764",
   "metadata": {
    "papermill": {
     "duration": 0.013572,
     "end_time": "2023-04-16T19:24:01.829291",
     "exception": false,
     "start_time": "2023-04-16T19:24:01.815719",
     "status": "completed"
    },
    "tags": []
   },
   "source": [
    "Before proceeding, we split our data into training and testing sets using an 80:20 proportion."
   ]
  },
  {
   "cell_type": "code",
   "execution_count": 12,
   "id": "d89ec8a7",
   "metadata": {
    "execution": {
     "iopub.execute_input": "2023-04-16T19:24:01.858145Z",
     "iopub.status.busy": "2023-04-16T19:24:01.857687Z",
     "iopub.status.idle": "2023-04-16T19:24:01.862926Z",
     "shell.execute_reply": "2023-04-16T19:24:01.861977Z"
    },
    "papermill": {
     "duration": 0.022802,
     "end_time": "2023-04-16T19:24:01.865531",
     "exception": false,
     "start_time": "2023-04-16T19:24:01.842729",
     "status": "completed"
    },
    "tags": []
   },
   "outputs": [
    {
     "name": "stdout",
     "output_type": "stream",
     "text": [
      "torch.Size([23920, 1, 28, 28]) torch.Size([23920])\n"
     ]
    }
   ],
   "source": [
    "#printing shape\n",
    "print(X_train.shape, y_train.shape)"
   ]
  },
  {
   "cell_type": "markdown",
   "id": "aebac300",
   "metadata": {
    "papermill": {
     "duration": 0.013126,
     "end_time": "2023-04-16T19:24:01.892288",
     "exception": false,
     "start_time": "2023-04-16T19:24:01.879162",
     "status": "completed"
    },
    "tags": []
   },
   "source": [
    "We verify our steps by checking the shape of our newly created torch tensors.\n",
    "\n",
    "Now, let us visualise a sample image from our processed data."
   ]
  },
  {
   "cell_type": "code",
   "execution_count": 13,
   "id": "44512697",
   "metadata": {
    "execution": {
     "iopub.execute_input": "2023-04-16T19:24:01.920996Z",
     "iopub.status.busy": "2023-04-16T19:24:01.920540Z",
     "iopub.status.idle": "2023-04-16T19:24:02.052818Z",
     "shell.execute_reply": "2023-04-16T19:24:02.050849Z"
    },
    "papermill": {
     "duration": 0.151552,
     "end_time": "2023-04-16T19:24:02.057228",
     "exception": false,
     "start_time": "2023-04-16T19:24:01.905676",
     "status": "completed"
    },
    "tags": []
   },
   "outputs": [
    {
     "data": {
      "image/png": "[encoded data removed]",
      "text/plain": [
       "<Figure size 640x480 with 1 Axes>"
      ]
     },
     "metadata": {},
     "output_type": "display_data"
    }
   ],
   "source": [
    "\n",
    "def visualize_image(data):\n",
    "    # Display the image using matplotlib's imshow() function\n",
    "    plt.imshow(data[0], cmap='gray_r')\n",
    "    # Turn off the axis display in the plot\n",
    "    plt.axis(\"off\")\n",
    "    # Show the plot with the displayed image\n",
    "    plt.show()\n",
    "\n",
    "# Call the visualize_image() function with the first image in X_train dataset\n",
    "visualize_image(X_train[0])\n"
   ]
  },
  {
   "cell_type": "markdown",
   "id": "ffd3851e",
   "metadata": {
    "papermill": {
     "duration": 0.024635,
     "end_time": "2023-04-16T19:24:02.118224",
     "exception": false,
     "start_time": "2023-04-16T19:24:02.093589",
     "status": "completed"
    },
    "tags": []
   },
   "source": [
    "#  Create a CNN Model\n",
    "Create Data Loader\n",
    "Dataloaders are utilized to feed our input data to our model for training, based on different parameters such as the batch size, if they should be suffled while being fed, and so on.\n",
    "\n",
    "Here, we define our tensordatasets for the dataloader and then input our required parameters to prepare the data loaders."
   ]
  },
  {
   "cell_type": "code",
   "execution_count": 14,
   "id": "e7a31d6e",
   "metadata": {
    "execution": {
     "iopub.execute_input": "2023-04-16T19:24:02.147401Z",
     "iopub.status.busy": "2023-04-16T19:24:02.146973Z",
     "iopub.status.idle": "2023-04-16T19:24:02.152776Z",
     "shell.execute_reply": "2023-04-16T19:24:02.151644Z"
    },
    "papermill": {
     "duration": 0.023641,
     "end_time": "2023-04-16T19:24:02.155616",
     "exception": false,
     "start_time": "2023-04-16T19:24:02.131975",
     "status": "completed"
    },
    "tags": []
   },
   "outputs": [
    {
     "name": "stdout",
     "output_type": "stream",
     "text": [
      "<class 'torch.Tensor'>\n",
      "<class 'torch.Tensor'>\n"
     ]
    }
   ],
   "source": [
    "print(type(X_train))\n",
    "print(type(y_train))\n"
   ]
  },
  {
   "cell_type": "code",
   "execution_count": 15,
   "id": "befae205",
   "metadata": {
    "execution": {
     "iopub.execute_input": "2023-04-16T19:24:02.185653Z",
     "iopub.status.busy": "2023-04-16T19:24:02.184377Z",
     "iopub.status.idle": "2023-04-16T19:24:02.192449Z",
     "shell.execute_reply": "2023-04-16T19:24:02.190951Z"
    },
    "papermill": {
     "duration": 0.025608,
     "end_time": "2023-04-16T19:24:02.194954",
     "exception": false,
     "start_time": "2023-04-16T19:24:02.169346",
     "status": "completed"
    },
    "tags": []
   },
   "outputs": [],
   "source": [
    "# Create a training dataset from X_train and y_train\n",
    "train = data_utils.TensorDataset(X_train, y_train)\n",
    "# Create a testing dataset from X_test and y_test\n",
    "test = data_utils.TensorDataset(X_test, y_test)\n"
   ]
  },
  {
   "cell_type": "markdown",
   "id": "e5f9492a",
   "metadata": {
    "papermill": {
     "duration": 0.013221,
     "end_time": "2023-04-16T19:24:02.221945",
     "exception": false,
     "start_time": "2023-04-16T19:24:02.208724",
     "status": "completed"
    },
    "tags": []
   },
   "source": [
    "Once you have created your TensorDataset objects, you can pass them to data loaders in PyTorch to efficiently load and preprocess your data during model training or testing. Data loaders allow you to iterate over your dataset in batches, shuffle the data, and apply other data augmentation techniques as needed"
   ]
  },
  {
   "cell_type": "code",
   "execution_count": 16,
   "id": "e5a87ca3",
   "metadata": {
    "execution": {
     "iopub.execute_input": "2023-04-16T19:24:02.251775Z",
     "iopub.status.busy": "2023-04-16T19:24:02.250921Z",
     "iopub.status.idle": "2023-04-16T19:24:02.256777Z",
     "shell.execute_reply": "2023-04-16T19:24:02.255839Z"
    },
    "papermill": {
     "duration": 0.023424,
     "end_time": "2023-04-16T19:24:02.259049",
     "exception": false,
     "start_time": "2023-04-16T19:24:02.235625",
     "status": "completed"
    },
    "tags": []
   },
   "outputs": [],
   "source": [
    "\n",
    "# Create a training data loader from the train dataset\n",
    "# with a batch size of 128 and shuffling the data\n",
    "train_loader = data_utils.DataLoader(train, batch_size=128, shuffle=True)\n",
    "\n",
    "# Create a testing data loader from the test dataset\n",
    "# with a batch size of 128 and shuffling the data\n",
    "test_loader = data_utils.DataLoader(test, batch_size=128, shuffle=True)\n"
   ]
  },
  {
   "cell_type": "markdown",
   "id": "19a191e3",
   "metadata": {
    "papermill": {
     "duration": 0.013137,
     "end_time": "2023-04-16T19:24:02.286511",
     "exception": false,
     "start_time": "2023-04-16T19:24:02.273374",
     "status": "completed"
    },
    "tags": []
   },
   "source": [
    "To verify our data loaders, we print the input size of an iteration of training."
   ]
  },
  {
   "cell_type": "code",
   "execution_count": 17,
   "id": "3a042463",
   "metadata": {
    "execution": {
     "iopub.execute_input": "2023-04-16T19:24:02.315972Z",
     "iopub.status.busy": "2023-04-16T19:24:02.315024Z",
     "iopub.status.idle": "2023-04-16T19:24:02.561062Z",
     "shell.execute_reply": "2023-04-16T19:24:02.559828Z"
    },
    "papermill": {
     "duration": 0.264041,
     "end_time": "2023-04-16T19:24:02.564208",
     "exception": false,
     "start_time": "2023-04-16T19:24:02.300167",
     "status": "completed"
    },
    "tags": []
   },
   "outputs": [
    {
     "name": "stdout",
     "output_type": "stream",
     "text": [
      "torch.Size([128, 1, 28, 28]) torch.Size([128])\n",
      "torch.Size([128, 1, 28, 28]) torch.Size([128])\n",
      "torch.Size([128, 1, 28, 28]) torch.Size([128])\n",
      "torch.Size([128, 1, 28, 28]) torch.Size([128])\n",
      "torch.Size([128, 1, 28, 28]) torch.Size([128])\n",
      "torch.Size([128, 1, 28, 28]) torch.Size([128])\n",
      "torch.Size([128, 1, 28, 28]) torch.Size([128])\n",
      "torch.Size([128, 1, 28, 28]) torch.Size([128])\n",
      "torch.Size([128, 1, 28, 28]) torch.Size([128])\n",
      "torch.Size([128, 1, 28, 28]) torch.Size([128])\n",
      "torch.Size([128, 1, 28, 28]) torch.Size([128])\n",
      "torch.Size([128, 1, 28, 28]) torch.Size([128])\n",
      "torch.Size([128, 1, 28, 28]) torch.Size([128])\n",
      "torch.Size([128, 1, 28, 28]) torch.Size([128])\n",
      "torch.Size([128, 1, 28, 28]) torch.Size([128])\n",
      "torch.Size([128, 1, 28, 28]) torch.Size([128])\n",
      "torch.Size([128, 1, 28, 28]) torch.Size([128])\n",
      "torch.Size([128, 1, 28, 28]) torch.Size([128])\n",
      "torch.Size([128, 1, 28, 28]) torch.Size([128])\n",
      "torch.Size([128, 1, 28, 28]) torch.Size([128])\n",
      "torch.Size([128, 1, 28, 28]) torch.Size([128])\n",
      "torch.Size([128, 1, 28, 28]) torch.Size([128])\n",
      "torch.Size([128, 1, 28, 28]) torch.Size([128])\n",
      "torch.Size([128, 1, 28, 28]) torch.Size([128])\n",
      "torch.Size([128, 1, 28, 28]) torch.Size([128])\n",
      "torch.Size([128, 1, 28, 28]) torch.Size([128])\n",
      "torch.Size([128, 1, 28, 28]) torch.Size([128])\n",
      "torch.Size([128, 1, 28, 28]) torch.Size([128])\n",
      "torch.Size([128, 1, 28, 28]) torch.Size([128])\n",
      "torch.Size([128, 1, 28, 28]) torch.Size([128])\n",
      "torch.Size([128, 1, 28, 28]) torch.Size([128])\n",
      "torch.Size([128, 1, 28, 28]) torch.Size([128])\n",
      "torch.Size([128, 1, 28, 28]) torch.Size([128])\n",
      "torch.Size([128, 1, 28, 28]) torch.Size([128])\n",
      "torch.Size([128, 1, 28, 28]) torch.Size([128])\n",
      "torch.Size([128, 1, 28, 28]) torch.Size([128])\n",
      "torch.Size([128, 1, 28, 28]) torch.Size([128])\n",
      "torch.Size([128, 1, 28, 28]) torch.Size([128])\n",
      "torch.Size([128, 1, 28, 28]) torch.Size([128])\n",
      "torch.Size([128, 1, 28, 28]) torch.Size([128])\n",
      "torch.Size([128, 1, 28, 28]) torch.Size([128])\n",
      "torch.Size([128, 1, 28, 28]) torch.Size([128])\n",
      "torch.Size([128, 1, 28, 28]) torch.Size([128])\n",
      "torch.Size([128, 1, 28, 28]) torch.Size([128])\n",
      "torch.Size([128, 1, 28, 28]) torch.Size([128])\n",
      "torch.Size([128, 1, 28, 28]) torch.Size([128])\n",
      "torch.Size([128, 1, 28, 28]) torch.Size([128])\n",
      "torch.Size([128, 1, 28, 28]) torch.Size([128])\n",
      "torch.Size([128, 1, 28, 28]) torch.Size([128])\n",
      "torch.Size([128, 1, 28, 28]) torch.Size([128])\n",
      "torch.Size([128, 1, 28, 28]) torch.Size([128])\n",
      "torch.Size([128, 1, 28, 28]) torch.Size([128])\n",
      "torch.Size([128, 1, 28, 28]) torch.Size([128])\n",
      "torch.Size([128, 1, 28, 28]) torch.Size([128])\n",
      "torch.Size([128, 1, 28, 28]) torch.Size([128])\n",
      "torch.Size([128, 1, 28, 28]) torch.Size([128])\n",
      "torch.Size([128, 1, 28, 28]) torch.Size([128])\n",
      "torch.Size([128, 1, 28, 28]) torch.Size([128])\n",
      "torch.Size([128, 1, 28, 28]) torch.Size([128])\n",
      "torch.Size([128, 1, 28, 28]) torch.Size([128])\n",
      "torch.Size([128, 1, 28, 28]) torch.Size([128])\n",
      "torch.Size([128, 1, 28, 28]) torch.Size([128])\n",
      "torch.Size([128, 1, 28, 28]) torch.Size([128])\n",
      "torch.Size([128, 1, 28, 28]) torch.Size([128])\n",
      "torch.Size([128, 1, 28, 28]) torch.Size([128])\n",
      "torch.Size([128, 1, 28, 28]) torch.Size([128])\n",
      "torch.Size([128, 1, 28, 28]) torch.Size([128])\n",
      "torch.Size([128, 1, 28, 28]) torch.Size([128])\n",
      "torch.Size([128, 1, 28, 28]) torch.Size([128])\n",
      "torch.Size([128, 1, 28, 28]) torch.Size([128])\n",
      "torch.Size([128, 1, 28, 28]) torch.Size([128])\n",
      "torch.Size([128, 1, 28, 28]) torch.Size([128])\n",
      "torch.Size([128, 1, 28, 28]) torch.Size([128])\n",
      "torch.Size([128, 1, 28, 28]) torch.Size([128])\n",
      "torch.Size([128, 1, 28, 28]) torch.Size([128])\n",
      "torch.Size([128, 1, 28, 28]) torch.Size([128])\n",
      "torch.Size([128, 1, 28, 28]) torch.Size([128])\n",
      "torch.Size([128, 1, 28, 28]) torch.Size([128])\n",
      "torch.Size([128, 1, 28, 28]) torch.Size([128])\n",
      "torch.Size([128, 1, 28, 28]) torch.Size([128])\n",
      "torch.Size([128, 1, 28, 28]) torch.Size([128])\n",
      "torch.Size([128, 1, 28, 28]) torch.Size([128])\n",
      "torch.Size([128, 1, 28, 28]) torch.Size([128])\n",
      "torch.Size([128, 1, 28, 28]) torch.Size([128])\n",
      "torch.Size([128, 1, 28, 28]) torch.Size([128])\n",
      "torch.Size([128, 1, 28, 28]) torch.Size([128])\n",
      "torch.Size([128, 1, 28, 28]) torch.Size([128])\n",
      "torch.Size([128, 1, 28, 28]) torch.Size([128])\n",
      "torch.Size([128, 1, 28, 28]) torch.Size([128])\n",
      "torch.Size([128, 1, 28, 28]) torch.Size([128])\n",
      "torch.Size([128, 1, 28, 28]) torch.Size([128])\n",
      "torch.Size([128, 1, 28, 28]) torch.Size([128])\n",
      "torch.Size([128, 1, 28, 28]) torch.Size([128])\n",
      "torch.Size([128, 1, 28, 28]) torch.Size([128])\n",
      "torch.Size([128, 1, 28, 28]) torch.Size([128])\n",
      "torch.Size([128, 1, 28, 28]) torch.Size([128])\n",
      "torch.Size([128, 1, 28, 28]) torch.Size([128])\n",
      "torch.Size([128, 1, 28, 28]) torch.Size([128])\n",
      "torch.Size([128, 1, 28, 28]) torch.Size([128])\n",
      "torch.Size([128, 1, 28, 28]) torch.Size([128])\n",
      "torch.Size([128, 1, 28, 28]) torch.Size([128])\n",
      "torch.Size([128, 1, 28, 28]) torch.Size([128])\n",
      "torch.Size([128, 1, 28, 28]) torch.Size([128])\n",
      "torch.Size([128, 1, 28, 28]) torch.Size([128])\n",
      "torch.Size([128, 1, 28, 28]) torch.Size([128])\n",
      "torch.Size([128, 1, 28, 28]) torch.Size([128])\n",
      "torch.Size([128, 1, 28, 28]) torch.Size([128])\n",
      "torch.Size([128, 1, 28, 28]) torch.Size([128])\n",
      "torch.Size([128, 1, 28, 28]) torch.Size([128])\n",
      "torch.Size([128, 1, 28, 28]) torch.Size([128])\n",
      "torch.Size([128, 1, 28, 28]) torch.Size([128])\n",
      "torch.Size([128, 1, 28, 28]) torch.Size([128])\n",
      "torch.Size([128, 1, 28, 28]) torch.Size([128])\n",
      "torch.Size([128, 1, 28, 28]) torch.Size([128])\n",
      "torch.Size([128, 1, 28, 28]) torch.Size([128])\n",
      "torch.Size([128, 1, 28, 28]) torch.Size([128])\n",
      "torch.Size([128, 1, 28, 28]) torch.Size([128])\n",
      "torch.Size([128, 1, 28, 28]) torch.Size([128])\n",
      "torch.Size([128, 1, 28, 28]) torch.Size([128])\n",
      "torch.Size([128, 1, 28, 28]) torch.Size([128])\n",
      "torch.Size([128, 1, 28, 28]) torch.Size([128])\n",
      "torch.Size([128, 1, 28, 28]) torch.Size([128])\n",
      "torch.Size([128, 1, 28, 28]) torch.Size([128])\n",
      "torch.Size([128, 1, 28, 28]) torch.Size([128])\n",
      "torch.Size([128, 1, 28, 28]) torch.Size([128])\n",
      "torch.Size([128, 1, 28, 28]) torch.Size([128])\n",
      "torch.Size([128, 1, 28, 28]) torch.Size([128])\n",
      "torch.Size([128, 1, 28, 28]) torch.Size([128])\n",
      "torch.Size([128, 1, 28, 28]) torch.Size([128])\n",
      "torch.Size([128, 1, 28, 28]) torch.Size([128])\n",
      "torch.Size([128, 1, 28, 28]) torch.Size([128])\n",
      "torch.Size([128, 1, 28, 28]) torch.Size([128])\n",
      "torch.Size([128, 1, 28, 28]) torch.Size([128])\n",
      "torch.Size([128, 1, 28, 28]) torch.Size([128])\n",
      "torch.Size([128, 1, 28, 28]) torch.Size([128])\n",
      "torch.Size([128, 1, 28, 28]) torch.Size([128])\n",
      "torch.Size([128, 1, 28, 28]) torch.Size([128])\n",
      "torch.Size([128, 1, 28, 28]) torch.Size([128])\n",
      "torch.Size([128, 1, 28, 28]) torch.Size([128])\n",
      "torch.Size([128, 1, 28, 28]) torch.Size([128])\n",
      "torch.Size([128, 1, 28, 28]) torch.Size([128])\n",
      "torch.Size([128, 1, 28, 28]) torch.Size([128])\n",
      "torch.Size([128, 1, 28, 28]) torch.Size([128])\n",
      "torch.Size([128, 1, 28, 28]) torch.Size([128])\n",
      "torch.Size([128, 1, 28, 28]) torch.Size([128])\n",
      "torch.Size([128, 1, 28, 28]) torch.Size([128])\n",
      "torch.Size([128, 1, 28, 28]) torch.Size([128])\n",
      "torch.Size([128, 1, 28, 28]) torch.Size([128])\n",
      "torch.Size([128, 1, 28, 28]) torch.Size([128])\n",
      "torch.Size([128, 1, 28, 28]) torch.Size([128])\n",
      "torch.Size([128, 1, 28, 28]) torch.Size([128])\n",
      "torch.Size([128, 1, 28, 28]) torch.Size([128])\n",
      "torch.Size([128, 1, 28, 28]) torch.Size([128])\n",
      "torch.Size([128, 1, 28, 28]) torch.Size([128])\n",
      "torch.Size([128, 1, 28, 28]) torch.Size([128])\n",
      "torch.Size([128, 1, 28, 28]) torch.Size([128])\n",
      "torch.Size([128, 1, 28, 28]) torch.Size([128])\n",
      "torch.Size([128, 1, 28, 28]) torch.Size([128])\n",
      "torch.Size([128, 1, 28, 28]) torch.Size([128])\n",
      "torch.Size([128, 1, 28, 28]) torch.Size([128])\n",
      "torch.Size([128, 1, 28, 28]) torch.Size([128])\n",
      "torch.Size([128, 1, 28, 28]) torch.Size([128])\n",
      "torch.Size([128, 1, 28, 28]) torch.Size([128])\n",
      "torch.Size([128, 1, 28, 28]) torch.Size([128])\n",
      "torch.Size([128, 1, 28, 28]) torch.Size([128])\n",
      "torch.Size([128, 1, 28, 28]) torch.Size([128])\n",
      "torch.Size([128, 1, 28, 28]) torch.Size([128])\n",
      "torch.Size([128, 1, 28, 28]) torch.Size([128])\n",
      "torch.Size([128, 1, 28, 28]) torch.Size([128])\n",
      "torch.Size([128, 1, 28, 28]) torch.Size([128])\n",
      "torch.Size([128, 1, 28, 28]) torch.Size([128])\n",
      "torch.Size([128, 1, 28, 28]) torch.Size([128])\n",
      "torch.Size([128, 1, 28, 28]) torch.Size([128])\n",
      "torch.Size([128, 1, 28, 28]) torch.Size([128])\n",
      "torch.Size([128, 1, 28, 28]) torch.Size([128])\n",
      "torch.Size([128, 1, 28, 28]) torch.Size([128])\n",
      "torch.Size([128, 1, 28, 28]) torch.Size([128])\n",
      "torch.Size([128, 1, 28, 28]) torch.Size([128])\n",
      "torch.Size([128, 1, 28, 28]) torch.Size([128])\n",
      "torch.Size([128, 1, 28, 28]) torch.Size([128])\n",
      "torch.Size([128, 1, 28, 28]) torch.Size([128])\n",
      "torch.Size([128, 1, 28, 28]) torch.Size([128])\n",
      "torch.Size([128, 1, 28, 28]) torch.Size([128])\n",
      "torch.Size([128, 1, 28, 28]) torch.Size([128])\n",
      "torch.Size([128, 1, 28, 28]) torch.Size([128])\n",
      "torch.Size([128, 1, 28, 28]) torch.Size([128])\n",
      "torch.Size([112, 1, 28, 28]) torch.Size([112])\n",
      "torch.Size([128, 1, 28, 28]) torch.Size([128])\n"
     ]
    }
   ],
   "source": [
    "#printing input size of an iteration of training\n",
    "for images, labels in train_loader:\n",
    "    print(images.shape, labels.shape)\n",
    "\n",
    "data_iter = iter(train_loader)\n",
    "images, labels = next(data_iter)\n",
    "print(images.shape, labels.shape)\n",
    "\n"
   ]
  },
  {
   "cell_type": "code",
   "execution_count": 18,
   "id": "b080683c",
   "metadata": {
    "execution": {
     "iopub.execute_input": "2023-04-16T19:24:02.594457Z",
     "iopub.status.busy": "2023-04-16T19:24:02.594052Z",
     "iopub.status.idle": "2023-04-16T19:24:02.622703Z",
     "shell.execute_reply": "2023-04-16T19:24:02.621583Z"
    },
    "papermill": {
     "duration": 0.046778,
     "end_time": "2023-04-16T19:24:02.625182",
     "exception": false,
     "start_time": "2023-04-16T19:24:02.578404",
     "status": "completed"
    },
    "tags": []
   },
   "outputs": [
    {
     "data": {
      "text/plain": [
       "Net(\n",
       "  (conv1): Conv2d(1, 32, kernel_size=(3, 3), stride=(1, 1))\n",
       "  (conv2): Conv2d(32, 64, kernel_size=(3, 3), stride=(1, 1))\n",
       "  (pool): MaxPool2d(kernel_size=2, stride=2, padding=0, dilation=1, ceil_mode=False)\n",
       "  (fc1): Linear(in_features=9216, out_features=128, bias=True)\n",
       "  (fc2): Linear(in_features=128, out_features=10, bias=True)\n",
       ")"
      ]
     },
     "execution_count": 18,
     "metadata": {},
     "output_type": "execute_result"
    }
   ],
   "source": [
    "\n",
    "class Net(nn.Module):\n",
    "    def __init__(self):\n",
    "        super(Net, self).__init__()\n",
    "        self.conv1 = nn.Conv2d(1, 32, 3)     # First convolutional layer with input channels=1, output channels=32, and kernel size=3x3\n",
    "        self.conv2 = nn.Conv2d(32, 64, 3)    # Second convolutional layer with input channels=32, output channels=64, and kernel size=3x3\n",
    "        self.pool = nn.MaxPool2d(2, 2)       # Max pooling layer with kernel size=2x2 and stride=2\n",
    "        self.fc1 = nn.Linear(64 * 12 * 12, 128)  # Fully connected layer with input size of 64x12x12 (output from previous layers) and output size of 128\n",
    "        self.fc2 = nn.Linear(128, 10)        # Fully connected layer with input size of 128 and output size of 10 (for 10 classes)\n",
    "\n",
    "    def forward(self, x):\n",
    "        x = F.relu(self.conv1(x))            # Apply ReLU activation to the output of the first convolutional layer\n",
    "        x = self.pool(F.relu(self.conv2(x))) # Apply ReLU activation to the output of the second convolutional layer, then perform max pooling\n",
    "        x = x.view(-1, 64 * 12 * 12)         # Flatten the tensor to a 1D vector\n",
    "        x = F.relu(self.fc1(x))              # Apply ReLU activation to the output of the first fully connected layer\n",
    "        x = self.fc2(x)                      # Output from the second fully connected layer (logits)\n",
    "        return x\n",
    "\n",
    "net = Net()                               # Create an instance of the neural network model\n",
    "net.to(device)                           # Move the model to the specified device (e.g., GPU or CPU)\n"
   ]
  },
  {
   "cell_type": "markdown",
   "id": "89975d9f",
   "metadata": {
    "papermill": {
     "duration": 0.013857,
     "end_time": "2023-04-16T19:24:02.653015",
     "exception": false,
     "start_time": "2023-04-16T19:24:02.639158",
     "status": "completed"
    },
    "tags": []
   },
   "source": [
    "# Create Model\n",
    "\n",
    "- Convolution layer (CONV)- The convolution layer (CONV) uses filters that perform convolution operations as it is scanning the input I with respect to its dimensions. Its hyperparameters include the filter size F and stride S. The resulting output O is called feature map or activation map.\n",
    "- Pooling (POOL)- The pooling layer (POOL) is a downsampling operation, typically applied after a convolution layer, which does some spatial invariance. In particular, max and average pooling are special kinds of pooling where the maximum and average value is taken, respectively.\n",
    "\n",
    "To create our CNN Model, we utilise the neural network module from pytorch and provide it with our own custom architecture as follows.\n",
    "\n",
    "- Convolutional layer with 32 channels\n",
    "- Convolutional layer with 64 channels\n",
    "- MaxPooling layer to compress information\n",
    "- Dense layer to flatten the information obtained\n",
    "- Dense output layer with relu activation"
   ]
  },
  {
   "cell_type": "markdown",
   "id": "7bc2f395",
   "metadata": {
    "papermill": {
     "duration": 0.013606,
     "end_time": "2023-04-16T19:24:02.681253",
     "exception": false,
     "start_time": "2023-04-16T19:24:02.667647",
     "status": "completed"
    },
    "tags": []
   },
   "source": [
    "We use Cross Entropy Loss as the loss function and Adam as the optimizer here. You can also try out other optimizers like SGD here "
   ]
  },
  {
   "cell_type": "code",
   "execution_count": 19,
   "id": "5500d343",
   "metadata": {
    "execution": {
     "iopub.execute_input": "2023-04-16T19:24:02.712009Z",
     "iopub.status.busy": "2023-04-16T19:24:02.710935Z",
     "iopub.status.idle": "2023-04-16T19:24:02.716749Z",
     "shell.execute_reply": "2023-04-16T19:24:02.715979Z"
    },
    "papermill": {
     "duration": 0.023592,
     "end_time": "2023-04-16T19:24:02.718973",
     "exception": false,
     "start_time": "2023-04-16T19:24:02.695381",
     "status": "completed"
    },
    "tags": []
   },
   "outputs": [],
   "source": [
    "\n",
    "criterion = nn.CrossEntropyLoss()\n",
    "#optimizer = optim.SGD(net.parameters(), lr = 0.001, momentum = 0.9)\n",
    "optimizer = optim.Adam(net.parameters(), lr = 0.001)"
   ]
  },
  {
   "cell_type": "markdown",
   "id": "2efbe596",
   "metadata": {
    "papermill": {
     "duration": 0.013379,
     "end_time": "2023-04-16T19:24:02.746369",
     "exception": false,
     "start_time": "2023-04-16T19:24:02.732990",
     "status": "completed"
    },
    "tags": []
   },
   "source": [
    "Finally, inorder to deal with input data in the float format, we modify the format of our CNN model net to float."
   ]
  },
  {
   "cell_type": "code",
   "execution_count": 20,
   "id": "0b557f1d",
   "metadata": {
    "execution": {
     "iopub.execute_input": "2023-04-16T19:24:02.776680Z",
     "iopub.status.busy": "2023-04-16T19:24:02.775476Z",
     "iopub.status.idle": "2023-04-16T19:24:02.781182Z",
     "shell.execute_reply": "2023-04-16T19:24:02.780331Z"
    },
    "papermill": {
     "duration": 0.023241,
     "end_time": "2023-04-16T19:24:02.783403",
     "exception": false,
     "start_time": "2023-04-16T19:24:02.760162",
     "status": "completed"
    },
    "tags": []
   },
   "outputs": [],
   "source": [
    "net = net.float()"
   ]
  },
  {
   "cell_type": "markdown",
   "id": "10c430d5",
   "metadata": {
    "papermill": {
     "duration": 0.013678,
     "end_time": "2023-04-16T19:24:02.811187",
     "exception": false,
     "start_time": "2023-04-16T19:24:02.797509",
     "status": "completed"
    },
    "tags": []
   },
   "source": [
    "# Train Model\n",
    "\n",
    "Definitions:\n",
    "\n",
    "- Epoch- In the context of training a model, epoch is a term used to refer to one iteration where the  model sees the whole training set to update its weights.\n",
    "\n",
    "\n",
    "- Mini batch gradient descent- During the training phase, updating weights is usually not based on the  whole training set at once due to computation complexities or one data point due to noise issues. Instead, the update step is done on mini-batches, where the number of data points in a batch is a hyperparameter that we can tune.\n",
    "\n",
    "\n",
    "- Loss function -In order to quantify how a given model performs, the loss function .L is usually used   to evaluate to what extent the actual outputs y are correctly predicted by the model outputs z.\n",
    "\n",
    "\n",
    "- Cross-entropy lossIn the context of binary classification in neural networks, the cross-entropy loss \n",
    " L(z,y) is commonly used and is defined as follows:\n",
    "\n",
    "\n",
    "We now train the model for 15 epochs and print its loss and test accuracy for each 50 completed mini batches. I used 15 epochs as it provided a satisfactory learning curve for this dataset, but feel free to explore with other number as well."
   ]
  },
  {
   "cell_type": "code",
   "execution_count": 21,
   "id": "99c4d431",
   "metadata": {
    "execution": {
     "iopub.execute_input": "2023-04-16T19:24:02.841623Z",
     "iopub.status.busy": "2023-04-16T19:24:02.840591Z",
     "iopub.status.idle": "2023-04-16T19:24:02.845417Z",
     "shell.execute_reply": "2023-04-16T19:24:02.844544Z"
    },
    "papermill": {
     "duration": 0.022341,
     "end_time": "2023-04-16T19:24:02.847538",
     "exception": false,
     "start_time": "2023-04-16T19:24:02.825197",
     "status": "completed"
    },
    "tags": []
   },
   "outputs": [],
   "source": [
    "epoch_num = 0\n",
    "actual_loss = 0.0\n",
    "accuracy = 0.0"
   ]
  },
  {
   "cell_type": "code",
   "execution_count": 22,
   "id": "13451021",
   "metadata": {
    "execution": {
     "iopub.execute_input": "2023-04-16T19:24:02.877732Z",
     "iopub.status.busy": "2023-04-16T19:24:02.877008Z",
     "iopub.status.idle": "2023-04-16T19:32:13.022491Z",
     "shell.execute_reply": "2023-04-16T19:32:13.021067Z"
    },
    "papermill": {
     "duration": 490.183005,
     "end_time": "2023-04-16T19:32:13.044420",
     "exception": false,
     "start_time": "2023-04-16T19:24:02.861415",
     "status": "completed"
    },
    "tags": []
   },
   "outputs": [
    {
     "name": "stdout",
     "output_type": "stream",
     "text": [
      "Starting Epoch: 1...\n",
      "Epoch: 1, Mini-Batches Completed: 50, Loss: 0.631, Test Accuracy: 95.017%\n",
      "Epoch: 1, Mini-Batches Completed: 100, Loss: 0.800, Test Accuracy: 96.371%\n",
      "Epoch: 1, Mini-Batches Completed: 150, Loss: 0.924, Test Accuracy: 97.726%\n",
      "Starting Epoch: 2...\n",
      "Epoch: 2, Mini-Batches Completed: 50, Loss: 0.061, Test Accuracy: 98.010%\n",
      "Epoch: 2, Mini-Batches Completed: 100, Loss: 0.125, Test Accuracy: 98.411%\n",
      "Epoch: 2, Mini-Batches Completed: 150, Loss: 0.180, Test Accuracy: 98.629%\n",
      "Starting Epoch: 3...\n",
      "Epoch: 3, Mini-Batches Completed: 50, Loss: 0.037, Test Accuracy: 98.863%\n",
      "Epoch: 3, Mini-Batches Completed: 100, Loss: 0.072, Test Accuracy: 98.378%\n",
      "Epoch: 3, Mini-Batches Completed: 150, Loss: 0.108, Test Accuracy: 98.645%\n",
      "Starting Epoch: 4...\n",
      "Epoch: 4, Mini-Batches Completed: 50, Loss: 0.026, Test Accuracy: 98.779%\n",
      "Epoch: 4, Mini-Batches Completed: 100, Loss: 0.052, Test Accuracy: 99.013%\n",
      "Epoch: 4, Mini-Batches Completed: 150, Loss: 0.073, Test Accuracy: 98.896%\n",
      "Starting Epoch: 5...\n",
      "Epoch: 5, Mini-Batches Completed: 50, Loss: 0.018, Test Accuracy: 98.913%\n",
      "Epoch: 5, Mini-Batches Completed: 100, Loss: 0.034, Test Accuracy: 99.231%\n",
      "Epoch: 5, Mini-Batches Completed: 150, Loss: 0.052, Test Accuracy: 99.114%\n",
      "Starting Epoch: 6...\n",
      "Epoch: 6, Mini-Batches Completed: 50, Loss: 0.011, Test Accuracy: 99.147%\n",
      "Epoch: 6, Mini-Batches Completed: 100, Loss: 0.022, Test Accuracy: 99.214%\n",
      "Epoch: 6, Mini-Batches Completed: 150, Loss: 0.035, Test Accuracy: 99.197%\n",
      "Starting Epoch: 7...\n",
      "Epoch: 7, Mini-Batches Completed: 50, Loss: 0.011, Test Accuracy: 99.130%\n",
      "Epoch: 7, Mini-Batches Completed: 100, Loss: 0.021, Test Accuracy: 99.047%\n",
      "Epoch: 7, Mini-Batches Completed: 150, Loss: 0.032, Test Accuracy: 98.896%\n",
      "Starting Epoch: 8...\n",
      "Epoch: 8, Mini-Batches Completed: 50, Loss: 0.006, Test Accuracy: 99.231%\n",
      "Epoch: 8, Mini-Batches Completed: 100, Loss: 0.013, Test Accuracy: 99.147%\n",
      "Epoch: 8, Mini-Batches Completed: 150, Loss: 0.020, Test Accuracy: 99.197%\n",
      "Starting Epoch: 9...\n",
      "Epoch: 9, Mini-Batches Completed: 50, Loss: 0.004, Test Accuracy: 99.214%\n",
      "Epoch: 9, Mini-Batches Completed: 100, Loss: 0.014, Test Accuracy: 99.047%\n",
      "Epoch: 9, Mini-Batches Completed: 150, Loss: 0.021, Test Accuracy: 99.247%\n",
      "Starting Epoch: 10...\n",
      "Epoch: 10, Mini-Batches Completed: 50, Loss: 0.005, Test Accuracy: 99.247%\n",
      "Epoch: 10, Mini-Batches Completed: 100, Loss: 0.010, Test Accuracy: 99.331%\n",
      "Epoch: 10, Mini-Batches Completed: 150, Loss: 0.015, Test Accuracy: 99.231%\n",
      "Starting Epoch: 11...\n",
      "Epoch: 11, Mini-Batches Completed: 50, Loss: 0.006, Test Accuracy: 99.097%\n",
      "Epoch: 11, Mini-Batches Completed: 100, Loss: 0.009, Test Accuracy: 99.147%\n",
      "Epoch: 11, Mini-Batches Completed: 150, Loss: 0.016, Test Accuracy: 99.164%\n",
      "Starting Epoch: 12...\n",
      "Epoch: 12, Mini-Batches Completed: 50, Loss: 0.004, Test Accuracy: 99.331%\n",
      "Epoch: 12, Mini-Batches Completed: 100, Loss: 0.009, Test Accuracy: 99.281%\n",
      "Epoch: 12, Mini-Batches Completed: 150, Loss: 0.013, Test Accuracy: 98.997%\n",
      "Starting Epoch: 13...\n",
      "Epoch: 13, Mini-Batches Completed: 50, Loss: 0.005, Test Accuracy: 99.097%\n",
      "Epoch: 13, Mini-Batches Completed: 100, Loss: 0.009, Test Accuracy: 99.164%\n",
      "Epoch: 13, Mini-Batches Completed: 150, Loss: 0.016, Test Accuracy: 99.247%\n",
      "Starting Epoch: 14...\n",
      "Epoch: 14, Mini-Batches Completed: 50, Loss: 0.001, Test Accuracy: 99.314%\n",
      "Epoch: 14, Mini-Batches Completed: 100, Loss: 0.004, Test Accuracy: 99.130%\n",
      "Epoch: 14, Mini-Batches Completed: 150, Loss: 0.007, Test Accuracy: 99.214%\n",
      "Starting Epoch: 15...\n",
      "Epoch: 15, Mini-Batches Completed: 50, Loss: 0.001, Test Accuracy: 99.281%\n",
      "Epoch: 15, Mini-Batches Completed: 100, Loss: 0.003, Test Accuracy: 99.281%\n",
      "Epoch: 15, Mini-Batches Completed: 150, Loss: 0.014, Test Accuracy: 98.980%\n",
      "Training Completed.\n"
     ]
    }
   ],
   "source": [
    "#training model with 15 epochs\n",
    "\n",
    "num_epochs = 15\n",
    "\n",
    "# Create lists to store epoch number, loss, and accuracy for each epoch\n",
    "epoch_log = []\n",
    "loss_log = []\n",
    "accuracy_log = []\n",
    "\n",
    "for epoch in range(num_epochs):\n",
    "    print(f'Starting Epoch: {epoch + 1}...')\n",
    "\n",
    "    running_loss = 0.0   # Initialize running loss to 0 for each epoch\n",
    "\n",
    "    for i, data in enumerate(train_loader, 0):\n",
    "        inputs, labels = data\n",
    "        inputs = inputs.to(device)    # Move inputs to the specified device (e.g., GPU or CPU)\n",
    "        labels = labels.to(device)    # Move labels to the specified device\n",
    "\n",
    "        optimizer.zero_grad()        # Zero the gradients of the optimizer\n",
    "\n",
    "        outputs = net(inputs.float())   # Forward pass to get predicted outputs from the model\n",
    "        loss = criterion(outputs,labels)  # Compute the loss between predicted outputs and ground truth labels\n",
    "        loss.backward()                 # Backward pass to compute gradients\n",
    "        optimizer.step()                # Update model weights using the optimizer\n",
    "\n",
    "        running_loss += loss.item()   # Add the current batch loss to the running loss for this epoch\n",
    "        if i % 50 == 49:\n",
    "            correct = 0\n",
    "            total = 0\n",
    "            \n",
    "            with torch.no_grad():\n",
    "                for data in test_loader:\n",
    "                    images, labels = data\n",
    "                    images = images.to(device)    # Move images to the specified device\n",
    "                    labels = labels.to(device)    # Move labels to the specified device\n",
    "                    outputs = net(images.float())  # Forward pass to get predicted outputs from the model\n",
    "                    \n",
    "                    _, predicted = torch.max(outputs.data, dim = 1)   # Get predicted labels with maximum probability\n",
    "                    total += labels.size(0)   # Update total number of images\n",
    "                    correct += (predicted == labels).sum().item()   # Update correct predictions count\n",
    "                \n",
    "                accuracy = 100 * correct / total   # Calculate accuracy for this epoch\n",
    "                actual_loss = running_loss / 50   # Calculate average loss for this epoch\n",
    "                epoch_num = epoch + 1   # Get current epoch number\n",
    "                print(f'Epoch: {epoch_num}, Mini-Batches Completed: {(i + 1)}, Loss: {actual_loss:.3f}, Test Accuracy: {accuracy:.3f}%')\n",
    "                \n",
    "    epoch_log.append(epoch_num)   # Append epoch number to the epoch log\n",
    "    loss_log.append(actual_loss)   # Append average loss to the loss log\n",
    "    accuracy_log.append(accuracy)   # Append accuracy to the accuracy log\n",
    "\n",
    "\n",
    "print('Training Completed.')"
   ]
  },
  {
   "cell_type": "markdown",
   "id": "59e29b7d",
   "metadata": {
    "papermill": {
     "duration": 0.017593,
     "end_time": "2023-04-16T19:32:13.080454",
     "exception": false,
     "start_time": "2023-04-16T19:32:13.062861",
     "status": "completed"
    },
    "tags": []
   },
   "source": [
    "# Saving Model\n",
    "Let's save our trained model to PATH so that it can be reused."
   ]
  },
  {
   "cell_type": "code",
   "execution_count": 23,
   "id": "6e2f34be",
   "metadata": {
    "execution": {
     "iopub.execute_input": "2023-04-16T19:32:13.118859Z",
     "iopub.status.busy": "2023-04-16T19:32:13.118346Z",
     "iopub.status.idle": "2023-04-16T19:32:13.133661Z",
     "shell.execute_reply": "2023-04-16T19:32:13.132087Z"
    },
    "papermill": {
     "duration": 0.038257,
     "end_time": "2023-04-16T19:32:13.136546",
     "exception": false,
     "start_time": "2023-04-16T19:32:13.098289",
     "status": "completed"
    },
    "tags": []
   },
   "outputs": [],
   "source": [
    "PATH = './cnn_net.pth'\n",
    "torch.save(net.state_dict(), PATH)"
   ]
  },
  {
   "cell_type": "markdown",
   "id": "3443b88c",
   "metadata": {
    "papermill": {
     "duration": 0.017787,
     "end_time": "2023-04-16T19:32:13.173150",
     "exception": false,
     "start_time": "2023-04-16T19:32:13.155363",
     "status": "completed"
    },
    "tags": []
   },
   "source": [
    "# Evaluating  Model\n",
    "Reloading Model\n",
    "To evaluate our trained CNN model, we reload our saved model."
   ]
  },
  {
   "cell_type": "code",
   "execution_count": 24,
   "id": "6e594207",
   "metadata": {
    "execution": {
     "iopub.execute_input": "2023-04-16T19:32:13.211831Z",
     "iopub.status.busy": "2023-04-16T19:32:13.211364Z",
     "iopub.status.idle": "2023-04-16T19:32:13.235582Z",
     "shell.execute_reply": "2023-04-16T19:32:13.234589Z"
    },
    "papermill": {
     "duration": 0.04617,
     "end_time": "2023-04-16T19:32:13.238097",
     "exception": false,
     "start_time": "2023-04-16T19:32:13.191927",
     "status": "completed"
    },
    "tags": []
   },
   "outputs": [
    {
     "data": {
      "text/plain": [
       "<All keys matched successfully>"
      ]
     },
     "execution_count": 24,
     "metadata": {},
     "output_type": "execute_result"
    }
   ],
   "source": [
    "net = Net()\n",
    "net.to(device)\n",
    "net.load_state_dict(torch.load(PATH))"
   ]
  },
  {
   "cell_type": "markdown",
   "id": "424f4c1a",
   "metadata": {
    "papermill": {
     "duration": 0.017695,
     "end_time": "2023-04-16T19:32:13.274236",
     "exception": false,
     "start_time": "2023-04-16T19:32:13.256541",
     "status": "completed"
    },
    "tags": []
   },
   "source": [
    "# How well our model makes prediction with test data?\n",
    "Now, let us use our test dataset to determine the final accuracy of our trained model."
   ]
  },
  {
   "cell_type": "code",
   "execution_count": 25,
   "id": "a39744b0",
   "metadata": {
    "execution": {
     "iopub.execute_input": "2023-04-16T19:32:13.313076Z",
     "iopub.status.busy": "2023-04-16T19:32:13.312621Z",
     "iopub.status.idle": "2023-04-16T19:32:15.415248Z",
     "shell.execute_reply": "2023-04-16T19:32:15.413585Z"
    },
    "papermill": {
     "duration": 2.125951,
     "end_time": "2023-04-16T19:32:15.418287",
     "exception": false,
     "start_time": "2023-04-16T19:32:13.292336",
     "status": "completed"
    },
    "tags": []
   },
   "outputs": [
    {
     "name": "stdout",
     "output_type": "stream",
     "text": [
      "Accuracy of the network on test images: 99.1%\n"
     ]
    }
   ],
   "source": [
    "correct = 0   # Initialize count of correct predictions to 0\n",
    "total = 0     # Initialize count of total predictions to 0\n",
    "\n",
    "with torch.no_grad():   # Disable gradient computation for efficiency\n",
    "    for data in test_loader:   # Loop through the test dataset\n",
    "        images, labels = data   # Get images and labels from the test dataset\n",
    "        images = images.to(device)   # Move images to the specified device (e.g., GPU or CPU)\n",
    "        labels = labels.to(device)   # Move labels to the specified device\n",
    "        outputs = net(images.float())   # Forward pass to get predicted outputs from the model\n",
    "        _, predicted = torch.max(outputs.data, 1)   # Get predicted labels with maximum probability\n",
    "        label_size = labels.size(0)   # Get the number of labels in the current batch\n",
    "        total += label_size   # Update total count of predictions\n",
    "        correct += (predicted == labels).sum().item()   # Update count of correct predictions by summing up correct predictions in the current batch\n",
    "\n",
    "accuracy = 100 * correct / total   # Calculate accuracy by dividing correct predictions by total predictions and multiplying by 100 to get percentage\n",
    "\n",
    "print(f'Accuracy of the network on test images: {accuracy:.3}%')"
   ]
  },
  {
   "cell_type": "markdown",
   "id": "807e6e8d",
   "metadata": {
    "papermill": {
     "duration": 0.018237,
     "end_time": "2023-04-16T19:32:15.455004",
     "exception": false,
     "start_time": "2023-04-16T19:32:15.436767",
     "status": "completed"
    },
    "tags": []
   },
   "source": [
    "As we observe, our model achieves an accuracy of 99.2% on the test images."
   ]
  },
  {
   "cell_type": "markdown",
   "id": "2e73dbfc",
   "metadata": {
    "papermill": {
     "duration": 0.017719,
     "end_time": "2023-04-16T19:32:15.490731",
     "exception": false,
     "start_time": "2023-04-16T19:32:15.473012",
     "status": "completed"
    },
    "tags": []
   },
   "source": [
    "# Classification Observations\n",
    "Let us also view some of the classifications our model performs on the test data."
   ]
  },
  {
   "cell_type": "code",
   "execution_count": 26,
   "id": "6dbfd984",
   "metadata": {
    "execution": {
     "iopub.execute_input": "2023-04-16T19:32:15.530442Z",
     "iopub.status.busy": "2023-04-16T19:32:15.529744Z",
     "iopub.status.idle": "2023-04-16T19:32:18.124021Z",
     "shell.execute_reply": "2023-04-16T19:32:18.122741Z"
    },
    "papermill": {
     "duration": 2.617443,
     "end_time": "2023-04-16T19:32:18.127137",
     "exception": false,
     "start_time": "2023-04-16T19:32:15.509694",
     "status": "completed"
    },
    "tags": []
   },
   "outputs": [
    {
     "name": "stdout",
     "output_type": "stream",
     "text": [
      "Actual Label: 5, Predicted Label: 5\n"
     ]
    },
    {
     "data": {
      "image/png": "[encoded data removed]",
      "text/plain": [
       "<Figure size 640x480 with 1 Axes>"
      ]
     },
     "metadata": {},
     "output_type": "display_data"
    },
    {
     "name": "stdout",
     "output_type": "stream",
     "text": [
      "Actual Label: 1, Predicted Label: 1\n"
     ]
    },
    {
     "data": {
      "image/png": "[encoded data removed]",
      "text/plain": [
       "<Figure size 640x480 with 1 Axes>"
      ]
     },
     "metadata": {},
     "output_type": "display_data"
    },
    {
     "name": "stdout",
     "output_type": "stream",
     "text": [
      "Actual Label: 5, Predicted Label: 5\n"
     ]
    },
    {
     "data": {
      "image/png": "[encoded data removed]",
      "text/plain": [
       "<Figure size 640x480 with 1 Axes>"
      ]
     },
     "metadata": {},
     "output_type": "display_data"
    },
    {
     "name": "stdout",
     "output_type": "stream",
     "text": [
      "Actual Label: 4, Predicted Label: 4\n"
     ]
    },
    {
     "data": {
      "image/png": "[encoded data removed]",
      "text/plain": [
       "<Figure size 640x480 with 1 Axes>"
      ]
     },
     "metadata": {},
     "output_type": "display_data"
    },
    {
     "name": "stdout",
     "output_type": "stream",
     "text": [
      "Actual Label: 1, Predicted Label: 1\n"
     ]
    },
    {
     "data": {
      "image/png": "[encoded data removed]",
      "text/plain": [
       "<Figure size 640x480 with 1 Axes>"
      ]
     },
     "metadata": {},
     "output_type": "display_data"
    }
   ],
   "source": [
    "net.eval()   # Set the model to evaluation mode, which disables dropout and batch normalization\n",
    "\n",
    "num_images = 5   # Number of images to visualize\n",
    "\n",
    "with torch.no_grad():   # Disable gradient computation for efficiency\n",
    "    for data in test_loader:   # Loop through the test dataset\n",
    "        images, labels = data   # Get images and labels from the test dataset\n",
    "        images = images.to(device)   # Move images to the specified device (e.g., GPU or CPU)\n",
    "        labels = labels.to(device)   # Move labels to the specified device\n",
    "\n",
    "        outputs = net(images.float())   # Forward pass to get predicted outputs from the model\n",
    "        predictions = torch.argmax(outputs, dim=1)   # Get predicted labels with maximum probability\n",
    "\n",
    "        for i in range(data[0].shape[0]):   # Loop through the images in the current batch\n",
    "            pred = predictions[i].item()   # Get the predicted label for the current image\n",
    "            label = labels[i]   # Get the actual label for the current image\n",
    "            if(num_images > 0):   # Check if the number of images to visualize is greater than 0\n",
    "                print(f'Actual Label: {pred}, Predicted Label: {label}')   # Print the actual and predicted label for the current image\n",
    "                img = np.reshape(images[i].cpu().numpy(),[1,28,28])   # Convert the image tensor to a NumPy array and reshape it to [1, 28, 28] size\n",
    "                visualize_image(img)   # Visualize the image using a custom function (e.g., visualize_image)\n",
    "                num_images -= 1   # Decrement the number of images to visualize by 1\n"
   ]
  },
  {
   "cell_type": "markdown",
   "id": "7b41bdb5",
   "metadata": {
    "papermill": {
     "duration": 0.018944,
     "end_time": "2023-04-16T19:32:18.167208",
     "exception": false,
     "start_time": "2023-04-16T19:32:18.148264",
     "status": "completed"
    },
    "tags": []
   },
   "source": [
    "# Plotting training logs\n",
    "To further understand and analyse the training of our model, let us plot the training logs for loss and accuracy."
   ]
  },
  {
   "cell_type": "code",
   "execution_count": 27,
   "id": "7b9fac2b",
   "metadata": {
    "execution": {
     "iopub.execute_input": "2023-04-16T19:32:18.207536Z",
     "iopub.status.busy": "2023-04-16T19:32:18.207087Z",
     "iopub.status.idle": "2023-04-16T19:32:18.440549Z",
     "shell.execute_reply": "2023-04-16T19:32:18.439367Z"
    },
    "papermill": {
     "duration": 0.256881,
     "end_time": "2023-04-16T19:32:18.443223",
     "exception": false,
     "start_time": "2023-04-16T19:32:18.186342",
     "status": "completed"
    },
    "tags": []
   },
   "outputs": [
    {
     "data": {
      "image/png": "[encoded data removed]",
      "text/plain": [
       "<Figure size 640x480 with 2 Axes>"
      ]
     },
     "metadata": {},
     "output_type": "display_data"
    }
   ],
   "source": [
    "fig, ax1 = plt.subplots()   # Create a figure with a single subplot and return the figure object and axes object\n",
    "\n",
    "plt.title(\"Accuracy & Loss vs Epoch\")   # Set the title of the plot\n",
    "\n",
    "ax2 = ax1.twinx()   # Create a twin y-axis on the right side of the plot\n",
    "\n",
    "ax1.plot(epoch_log, loss_log, 'g-')   # Plot the epoch vs loss with green color\n",
    "ax2.plot(epoch_log, accuracy_log, 'b-')   # Plot the epoch vs test accuracy with blue color on the twin y-axis\n",
    "\n",
    "ax1.set_xlabel('Epochs')   # Set the x-axis label to 'Epochs'\n",
    "ax1.set_ylabel('Loss', color='g')   # Set the left y-axis label to 'Loss' with green color\n",
    "ax2.set_ylabel('Test Accuracy', color='b')   # Set the right y-axis label to 'Test Accuracy' with blue color\n",
    "\n",
    "plt.show()   # Display the plot\n"
   ]
  },
  {
   "cell_type": "markdown",
   "id": "c28d9c58",
   "metadata": {
    "papermill": {
     "duration": 0.019201,
     "end_time": "2023-04-16T19:32:18.482057",
     "exception": false,
     "start_time": "2023-04-16T19:32:18.462856",
     "status": "completed"
    },
    "tags": []
   },
   "source": [
    "Observations: As the Number of Epochs increases i.e number of times you run the dataset through model, test accuracy increases and loss decreases"
   ]
  },
  {
   "cell_type": "markdown",
   "id": "0725146a",
   "metadata": {
    "papermill": {
     "duration": 0.019075,
     "end_time": "2023-04-16T19:32:18.520616",
     "exception": false,
     "start_time": "2023-04-16T19:32:18.501541",
     "status": "completed"
    },
    "tags": []
   },
   "source": [
    "# Plotting Confusion Matrix\n",
    "Lastly, let us plot the confusion matrix to evaluate the classwise performance of our model and understand where it can do better."
   ]
  },
  {
   "cell_type": "code",
   "execution_count": 28,
   "id": "db35ae2d",
   "metadata": {
    "execution": {
     "iopub.execute_input": "2023-04-16T19:32:18.561166Z",
     "iopub.status.busy": "2023-04-16T19:32:18.560712Z",
     "iopub.status.idle": "2023-04-16T19:32:18.792701Z",
     "shell.execute_reply": "2023-04-16T19:32:18.791642Z"
    },
    "papermill": {
     "duration": 0.255758,
     "end_time": "2023-04-16T19:32:18.795652",
     "exception": false,
     "start_time": "2023-04-16T19:32:18.539894",
     "status": "completed"
    },
    "tags": []
   },
   "outputs": [],
   "source": [
    "from sklearn.metrics import confusion_matrix\n",
    "from sklearn.metrics import classification_report\n",
    "import seaborn as sns"
   ]
  },
  {
   "cell_type": "code",
   "execution_count": 29,
   "id": "07d65d50",
   "metadata": {
    "execution": {
     "iopub.execute_input": "2023-04-16T19:32:18.839050Z",
     "iopub.status.busy": "2023-04-16T19:32:18.838017Z",
     "iopub.status.idle": "2023-04-16T19:32:20.878643Z",
     "shell.execute_reply": "2023-04-16T19:32:20.877576Z"
    },
    "papermill": {
     "duration": 2.065534,
     "end_time": "2023-04-16T19:32:20.881575",
     "exception": false,
     "start_time": "2023-04-16T19:32:18.816041",
     "status": "completed"
    },
    "tags": []
   },
   "outputs": [],
   "source": [
    "pred_list = torch.zeros(0, dtype=torch.long, device='cpu')   # Create an empty tensor to store predicted labels with dtype long and device CPU\n",
    "label_list = torch.zeros(0, dtype=torch.long, device='cpu')   # Create an empty tensor to store actual labels with dtype long and device CPU\n",
    "\n",
    "with torch.no_grad():   # Turn off gradient computation during inference\n",
    "    for i, (inputs, classes) in enumerate(test_loader):   # Iterate over the test data loader\n",
    "        inputs = inputs.to(device)   # Move inputs to the specified device (e.g., CPU or GPU)\n",
    "        classes = classes.to(device)   # Move actual labels to the specified device\n",
    "        outputs = net(inputs.float())   # Pass inputs through the network to get predicted outputs\n",
    "        _, preds = torch.max(outputs, 1)   # Get the predicted labels by finding the indices of maximum values along the second dimension (class probabilities)\n",
    "\n",
    "        pred_list = torch.cat([pred_list, preds.view(-1).cpu()])   # Concatenate predicted labels to the pred_list tensor, reshaping to 1D and moving to CPU\n",
    "        label_list = torch.cat([label_list, classes.view(-1).cpu()])   # Concatenate actual labels to the label_list tensor, reshaping to 1D and moving to CPU\n"
   ]
  },
  {
   "cell_type": "markdown",
   "id": "bb3db42b",
   "metadata": {
    "papermill": {
     "duration": 0.019846,
     "end_time": "2023-04-16T19:32:20.921324",
     "exception": false,
     "start_time": "2023-04-16T19:32:20.901478",
     "status": "completed"
    },
    "tags": []
   },
   "source": [
    "\n",
    "\n",
    "Further, let us visualise this confusion matrix."
   ]
  },
  {
   "cell_type": "code",
   "execution_count": 30,
   "id": "66e48825",
   "metadata": {
    "execution": {
     "iopub.execute_input": "2023-04-16T19:32:20.963103Z",
     "iopub.status.busy": "2023-04-16T19:32:20.962371Z",
     "iopub.status.idle": "2023-04-16T19:32:20.973364Z",
     "shell.execute_reply": "2023-04-16T19:32:20.972303Z"
    },
    "papermill": {
     "duration": 0.034794,
     "end_time": "2023-04-16T19:32:20.975758",
     "exception": false,
     "start_time": "2023-04-16T19:32:20.940964",
     "status": "completed"
    },
    "tags": []
   },
   "outputs": [],
   "source": [
    "conf_mat = confusion_matrix(label_list.numpy(), pred_list.numpy())   # Compute the confusion matrix using predicted and actual labels converted to NumPy arrays\n",
    "class_names = (0, 1, 2, 3, 4, 5, 6, 7, 8, 9)   # Define the class names as a tuple of integers from 0 to 9\n",
    "dataframe = pd.DataFrame(conf_mat, index=class_names, columns=class_names)   # Create a DataFrame from the confusion matrix, with class names as row and column indices\n"
   ]
  },
  {
   "cell_type": "code",
   "execution_count": 31,
   "id": "170619fa",
   "metadata": {
    "execution": {
     "iopub.execute_input": "2023-04-16T19:32:21.018938Z",
     "iopub.status.busy": "2023-04-16T19:32:21.018523Z",
     "iopub.status.idle": "2023-04-16T19:32:21.558055Z",
     "shell.execute_reply": "2023-04-16T19:32:21.557034Z"
    },
    "papermill": {
     "duration": 0.564395,
     "end_time": "2023-04-16T19:32:21.560370",
     "exception": false,
     "start_time": "2023-04-16T19:32:20.995975",
     "status": "completed"
    },
    "tags": []
   },
   "outputs": [
    {
     "data": {
      "image/png": "[encoded data removed]",
      "text/plain": [
       "<Figure size 800x600 with 1 Axes>"
      ]
     },
     "metadata": {},
     "output_type": "display_data"
    }
   ],
   "source": [
    "#plotting confusion matrix\n",
    "plt.figure(figsize=(8, 6))\n",
    "sns.heatmap(dataframe, annot=True, cbar=None,cmap=\"YlGnBu\",fmt=\"d\")\n",
    " \n",
    "plt.title(\"Confusion Matrix\"), plt.tight_layout()\n",
    " \n",
    "plt.ylabel(\"True Class\"), \n",
    "plt.xlabel(\"Predicted Class\")\n",
    "plt.show()"
   ]
  },
  {
   "cell_type": "markdown",
   "id": "2747f77a",
   "metadata": {
    "papermill": {
     "duration": 0.019805,
     "end_time": "2023-04-16T19:32:21.600621",
     "exception": false,
     "start_time": "2023-04-16T19:32:21.580816",
     "status": "completed"
    },
    "tags": []
   },
   "source": [
    "## Observations:\n",
    "\n",
    "He we infer that , 558 times the label was 0 and our model predicted it as 0.Similarly 567 times label was 1 and and model predicted 1. Highest value is 4 , which means four times the label was 8 (True class) and our model predicted it 3, which is considered as error. "
   ]
  },
  {
   "cell_type": "markdown",
   "id": "9c23afce",
   "metadata": {
    "papermill": {
     "duration": 0.019892,
     "end_time": "2023-04-16T19:32:21.640637",
     "exception": false,
     "start_time": "2023-04-16T19:32:21.620745",
     "status": "completed"
    },
    "tags": []
   },
   "source": [
    "# Conclusion\n",
    "\n",
    "- The accuracy on test test is 99.2% which is really good for CNN\n",
    "- CNNs, or Convolutional Neural Networks, are specialized neural networks for processing data with a known grid-like topology, such as images or time-series data.\n",
    "- CNNs consist of convolutional layers, pooling layers, and fully connected layers, and are commonly used in computer vision and other areas of deep learning.\n",
    "- Convolutional layers perform convolution on the input data to extract local patterns or features.\n",
    "- Pooling layers downsample the spatial dimensions of the data while preserving important features.\n",
    "- Activation functions, such as ReLU, sigmoid, and tanh, introduce non-linearity into the network.\n",
    "- We have successfully created a  CNN model using Pytorch."
   ]
  },
  {
   "cell_type": "markdown",
   "id": "e1b2019a",
   "metadata": {
    "papermill": {
     "duration": 0.019795,
     "end_time": "2023-04-16T19:32:21.680500",
     "exception": false,
     "start_time": "2023-04-16T19:32:21.660705",
     "status": "completed"
    },
    "tags": []
   },
   "source": [
    "# References\n",
    "- https://towardsdatascience.com/convolutional-neural-networks-explained-9cc5188c4939\n",
    "- https://www.youtube.com/watch?v=iqQgED9vV7k\n",
    "- https://stanford.edu/~shervine/blog/pytorch-how-to-generate-data-parallel"
   ]
  }
 ],
 "metadata": {
  "kernelspec": {
   "display_name": "Python 3",
   "language": "python",
   "name": "python3"
  },
  "language_info": {
   "codemirror_mode": {
    "name": "ipython",
    "version": 3
   },
   "file_extension": ".py",
   "mimetype": "text/x-python",
   "name": "python",
   "nbconvert_exporter": "python",
   "pygments_lexer": "ipython3",
   "version": "3.7.12"
  },
  "papermill": {
   "default_parameters": {},
   "duration": 518.901722,
   "end_time": "2023-04-16T19:32:22.825454",
   "environment_variables": {},
   "exception": null,
   "input_path": "__notebook__.ipynb",
   "output_path": "__notebook__.ipynb",
   "parameters": {},
   "start_time": "2023-04-16T19:23:43.923732",
   "version": "2.4.0"
  }
 },
 "nbformat": 4,
 "nbformat_minor": 5
}
